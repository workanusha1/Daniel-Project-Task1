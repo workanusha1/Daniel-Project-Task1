{
  "cells": [
    {
      "cell_type": "code",
      "execution_count": 1,
      "metadata": {
        "id": "lVH9EeiD1MoW",
        "colab": {
          "base_uri": "https://localhost:8080/"
        },
        "outputId": "85c75554-90f2-4858-8265-425f66f9ff0a"
      },
      "outputs": [
        {
          "output_type": "stream",
          "name": "stdout",
          "text": [
            "Mounted at /content/gdrive\n"
          ]
        }
      ],
      "source": [
        "\n",
        "from google.colab import drive\n",
        "\n",
        "drive.mount('/content/gdrive')"
      ]
    },
    {
      "cell_type": "code",
      "execution_count": 2,
      "metadata": {
        "id": "-Qsxs8bN1C3f",
        "colab": {
          "base_uri": "https://localhost:8080/"
        },
        "outputId": "7ef488fd-21db-4f10-cf65-7d8d4ad10f7f"
      },
      "outputs": [
        {
          "output_type": "stream",
          "name": "stdout",
          "text": [
            "'Colab Notebooks'   goat_data.zip   sheep_data.zip\n"
          ]
        }
      ],
      "source": [
        "\n",
        "!ls '/content/gdrive/My Drive'"
      ]
    },
    {
      "cell_type": "code",
      "execution_count": 3,
      "metadata": {
        "id": "7tkUK_zV1Gba"
      },
      "outputs": [],
      "source": [
        "DATA_DIR = '/content/gdrive/MyDrive/sheep_data.zip'"
      ]
    },
    {
      "cell_type": "code",
      "execution_count": null,
      "metadata": {
        "id": "9h9rHcOS1Gev",
        "colab": {
          "base_uri": "https://localhost:8080/"
        },
        "outputId": "5ae4fdec-520f-4849-cfbf-81f468b681b8"
      },
      "outputs": [
        {
          "output_type": "stream",
          "name": "stdout",
          "text": [
            "Collecting ultralytics\n",
            "  Downloading ultralytics-8.2.13-py3-none-any.whl (756 kB)\n",
            "\u001b[?25l     \u001b[90m━━━━━━━━━━━━━━━━━━━━━━━━━━━━━━━━━━━━━━━━\u001b[0m \u001b[32m0.0/756.4 kB\u001b[0m \u001b[31m?\u001b[0m eta \u001b[36m-:--:--\u001b[0m\r\u001b[2K     \u001b[91m━━━━\u001b[0m\u001b[91m╸\u001b[0m\u001b[90m━━━━━━━━━━━━━━━━━━━━━━━━━━━━━━━━━━━\u001b[0m \u001b[32m92.2/756.4 kB\u001b[0m \u001b[31m2.5 MB/s\u001b[0m eta \u001b[36m0:00:01\u001b[0m\r\u001b[2K     \u001b[91m━━━━━━━━━━━━━━━━━━\u001b[0m\u001b[90m╺\u001b[0m\u001b[90m━━━━━━━━━━━━━━━━━━━━━\u001b[0m \u001b[32m348.2/756.4 kB\u001b[0m \u001b[31m4.9 MB/s\u001b[0m eta \u001b[36m0:00:01\u001b[0m\r\u001b[2K     \u001b[91m━━━━━━━━━━━━━━━━━━━━━━━━━━━━━━━━━━━\u001b[0m\u001b[91m╸\u001b[0m\u001b[90m━━━━\u001b[0m \u001b[32m675.8/756.4 kB\u001b[0m \u001b[31m6.3 MB/s\u001b[0m eta \u001b[36m0:00:01\u001b[0m\r\u001b[2K     \u001b[90m━━━━━━━━━━━━━━━━━━━━━━━━━━━━━━━━━━━━━━━━\u001b[0m \u001b[32m756.4/756.4 kB\u001b[0m \u001b[31m6.0 MB/s\u001b[0m eta \u001b[36m0:00:00\u001b[0m\n",
            "\u001b[?25hRequirement already satisfied: matplotlib>=3.3.0 in /usr/local/lib/python3.10/dist-packages (from ultralytics) (3.7.1)\n",
            "Requirement already satisfied: opencv-python>=4.6.0 in /usr/local/lib/python3.10/dist-packages (from ultralytics) (4.8.0.76)\n",
            "Requirement already satisfied: pillow>=7.1.2 in /usr/local/lib/python3.10/dist-packages (from ultralytics) (9.4.0)\n",
            "Requirement already satisfied: pyyaml>=5.3.1 in /usr/local/lib/python3.10/dist-packages (from ultralytics) (6.0.1)\n",
            "Requirement already satisfied: requests>=2.23.0 in /usr/local/lib/python3.10/dist-packages (from ultralytics) (2.31.0)\n",
            "Requirement already satisfied: scipy>=1.4.1 in /usr/local/lib/python3.10/dist-packages (from ultralytics) (1.11.4)\n",
            "Requirement already satisfied: torch>=1.8.0 in /usr/local/lib/python3.10/dist-packages (from ultralytics) (2.2.1+cu121)\n",
            "Requirement already satisfied: torchvision>=0.9.0 in /usr/local/lib/python3.10/dist-packages (from ultralytics) (0.17.1+cu121)\n",
            "Requirement already satisfied: tqdm>=4.64.0 in /usr/local/lib/python3.10/dist-packages (from ultralytics) (4.66.4)\n",
            "Requirement already satisfied: psutil in /usr/local/lib/python3.10/dist-packages (from ultralytics) (5.9.5)\n",
            "Requirement already satisfied: py-cpuinfo in /usr/local/lib/python3.10/dist-packages (from ultralytics) (9.0.0)\n",
            "Collecting thop>=0.1.1 (from ultralytics)\n",
            "  Downloading thop-0.1.1.post2209072238-py3-none-any.whl (15 kB)\n",
            "Requirement already satisfied: pandas>=1.1.4 in /usr/local/lib/python3.10/dist-packages (from ultralytics) (2.0.3)\n",
            "Requirement already satisfied: seaborn>=0.11.0 in /usr/local/lib/python3.10/dist-packages (from ultralytics) (0.13.1)\n",
            "Requirement already satisfied: contourpy>=1.0.1 in /usr/local/lib/python3.10/dist-packages (from matplotlib>=3.3.0->ultralytics) (1.2.1)\n",
            "Requirement already satisfied: cycler>=0.10 in /usr/local/lib/python3.10/dist-packages (from matplotlib>=3.3.0->ultralytics) (0.12.1)\n",
            "Requirement already satisfied: fonttools>=4.22.0 in /usr/local/lib/python3.10/dist-packages (from matplotlib>=3.3.0->ultralytics) (4.51.0)\n",
            "Requirement already satisfied: kiwisolver>=1.0.1 in /usr/local/lib/python3.10/dist-packages (from matplotlib>=3.3.0->ultralytics) (1.4.5)\n",
            "Requirement already satisfied: numpy>=1.20 in /usr/local/lib/python3.10/dist-packages (from matplotlib>=3.3.0->ultralytics) (1.25.2)\n",
            "Requirement already satisfied: packaging>=20.0 in /usr/local/lib/python3.10/dist-packages (from matplotlib>=3.3.0->ultralytics) (24.0)\n",
            "Requirement already satisfied: pyparsing>=2.3.1 in /usr/local/lib/python3.10/dist-packages (from matplotlib>=3.3.0->ultralytics) (3.1.2)\n",
            "Requirement already satisfied: python-dateutil>=2.7 in /usr/local/lib/python3.10/dist-packages (from matplotlib>=3.3.0->ultralytics) (2.8.2)\n",
            "Requirement already satisfied: pytz>=2020.1 in /usr/local/lib/python3.10/dist-packages (from pandas>=1.1.4->ultralytics) (2023.4)\n",
            "Requirement already satisfied: tzdata>=2022.1 in /usr/local/lib/python3.10/dist-packages (from pandas>=1.1.4->ultralytics) (2024.1)\n",
            "Requirement already satisfied: charset-normalizer<4,>=2 in /usr/local/lib/python3.10/dist-packages (from requests>=2.23.0->ultralytics) (3.3.2)\n",
            "Requirement already satisfied: idna<4,>=2.5 in /usr/local/lib/python3.10/dist-packages (from requests>=2.23.0->ultralytics) (3.7)\n",
            "Requirement already satisfied: urllib3<3,>=1.21.1 in /usr/local/lib/python3.10/dist-packages (from requests>=2.23.0->ultralytics) (2.0.7)\n",
            "Requirement already satisfied: certifi>=2017.4.17 in /usr/local/lib/python3.10/dist-packages (from requests>=2.23.0->ultralytics) (2024.2.2)\n",
            "Requirement already satisfied: filelock in /usr/local/lib/python3.10/dist-packages (from torch>=1.8.0->ultralytics) (3.14.0)\n",
            "Requirement already satisfied: typing-extensions>=4.8.0 in /usr/local/lib/python3.10/dist-packages (from torch>=1.8.0->ultralytics) (4.11.0)\n",
            "Requirement already satisfied: sympy in /usr/local/lib/python3.10/dist-packages (from torch>=1.8.0->ultralytics) (1.12)\n",
            "Requirement already satisfied: networkx in /usr/local/lib/python3.10/dist-packages (from torch>=1.8.0->ultralytics) (3.3)\n",
            "Requirement already satisfied: jinja2 in /usr/local/lib/python3.10/dist-packages (from torch>=1.8.0->ultralytics) (3.1.4)\n",
            "Requirement already satisfied: fsspec in /usr/local/lib/python3.10/dist-packages (from torch>=1.8.0->ultralytics) (2023.6.0)\n",
            "Collecting nvidia-cuda-nvrtc-cu12==12.1.105 (from torch>=1.8.0->ultralytics)\n",
            "  Using cached nvidia_cuda_nvrtc_cu12-12.1.105-py3-none-manylinux1_x86_64.whl (23.7 MB)\n",
            "Collecting nvidia-cuda-runtime-cu12==12.1.105 (from torch>=1.8.0->ultralytics)\n",
            "  Using cached nvidia_cuda_runtime_cu12-12.1.105-py3-none-manylinux1_x86_64.whl (823 kB)\n",
            "Collecting nvidia-cuda-cupti-cu12==12.1.105 (from torch>=1.8.0->ultralytics)\n",
            "  Using cached nvidia_cuda_cupti_cu12-12.1.105-py3-none-manylinux1_x86_64.whl (14.1 MB)\n",
            "Collecting nvidia-cudnn-cu12==8.9.2.26 (from torch>=1.8.0->ultralytics)\n",
            "  Using cached nvidia_cudnn_cu12-8.9.2.26-py3-none-manylinux1_x86_64.whl (731.7 MB)\n",
            "Collecting nvidia-cublas-cu12==12.1.3.1 (from torch>=1.8.0->ultralytics)\n",
            "  Using cached nvidia_cublas_cu12-12.1.3.1-py3-none-manylinux1_x86_64.whl (410.6 MB)\n"
          ]
        }
      ],
      "source": [
        "\n",
        "!pip install ultralytics\n"
      ]
    },
    {
      "cell_type": "code",
      "execution_count": null,
      "metadata": {
        "id": "By8LTgBF305J"
      },
      "outputs": [],
      "source": [
        "!unzip '/content/gdrive/MyDrive/sheep_data.zip'"
      ]
    },
    {
      "cell_type": "code",
      "execution_count": null,
      "metadata": {
        "id": "S6k0O3E2308V"
      },
      "outputs": [],
      "source": [
        "DATA_DIR = '/content/sheep_data/sheep_data'"
      ]
    },
    {
      "cell_type": "code",
      "execution_count": null,
      "metadata": {
        "id": "A9giW12Mssoe"
      },
      "outputs": [],
      "source": [
        "import os\n",
        "\n",
        "from ultralytics import YOLO"
      ]
    },
    {
      "cell_type": "code",
      "execution_count": null,
      "metadata": {
        "id": "ejhfuwOd5GSm"
      },
      "outputs": [],
      "source": [
        "model = YOLO(\"yolov8m-cls.pt\")  # load a pretained model"
      ]
    },
    {
      "cell_type": "code",
      "execution_count": null,
      "metadata": {
        "id": "LkUVSLcF36OV"
      },
      "outputs": [],
      "source": [
        "# results = model.train(data=DATA_DIR, epochs=500, imgsz=64)\n",
        "# !yolo task=classify mode=train model=yolov8n-cls.pt data=/content/goat_data/data.yaml epochs=60 imgsz=640\n",
        "\n",
        "#custom training\n",
        "\n",
        "!yolo task=classify mode=train model=yolov8m-cls.pt data='{DATA_DIR}' epochs=120 imgsz=64 optimizer=Adam dropout=0.2\n",
        "\n"
      ]
    },
    {
      "cell_type": "code",
      "execution_count": null,
      "metadata": {
        "colab": {
          "base_uri": "https://localhost:8080/"
        },
        "id": "76H11uLvFXds",
        "outputId": "8e863247-740b-4787-9728-619042be1ac0"
      },
      "outputs": [
        {
          "output_type": "stream",
          "name": "stdout",
          "text": [
            "Traceback (most recent call last):\n",
            "  File \"/usr/local/bin/yolo\", line 8, in <module>\n",
            "    sys.exit(entrypoint())\n",
            "  File \"/usr/local/lib/python3.10/dist-packages/ultralytics/cfg/__init__.py\", line 556, in entrypoint\n",
            "    model = YOLO(model, task=task)\n",
            "  File \"/usr/local/lib/python3.10/dist-packages/ultralytics/models/yolo/model.py\", line 23, in __init__\n",
            "    super().__init__(model=model, task=task, verbose=verbose)\n",
            "  File \"/usr/local/lib/python3.10/dist-packages/ultralytics/engine/model.py\", line 152, in __init__\n",
            "    self._load(model, task=task)\n",
            "  File \"/usr/local/lib/python3.10/dist-packages/ultralytics/engine/model.py\", line 241, in _load\n",
            "    self.model, self.ckpt = attempt_load_one_weight(weights)\n",
            "  File \"/usr/local/lib/python3.10/dist-packages/ultralytics/nn/tasks.py\", line 806, in attempt_load_one_weight\n",
            "    ckpt, weight = torch_safe_load(weight)  # load ckpt\n",
            "  File \"/usr/local/lib/python3.10/dist-packages/ultralytics/nn/tasks.py\", line 732, in torch_safe_load\n",
            "    ckpt = torch.load(file, map_location=\"cpu\")\n",
            "  File \"/usr/local/lib/python3.10/dist-packages/torch/serialization.py\", line 998, in load\n",
            "    with _open_file_like(f, 'rb') as opened_file:\n",
            "  File \"/usr/local/lib/python3.10/dist-packages/torch/serialization.py\", line 445, in _open_file_like\n",
            "    return _open_file(name_or_buffer, mode)\n",
            "  File \"/usr/local/lib/python3.10/dist-packages/torch/serialization.py\", line 426, in __init__\n",
            "    super().__init__(open(name, mode))\n",
            "FileNotFoundError: [Errno 2] No such file or directory: '/content/runs/classify/train/weights/best.pt'\n"
          ]
        }
      ],
      "source": [
        "#validate\n",
        "# !yolo task=classify mode=val model=\"/content/runs/classify/train/weights/best.pt\" data=\"{DATA_DIR}\""
      ]
    },
    {
      "cell_type": "code",
      "execution_count": null,
      "metadata": {
        "colab": {
          "base_uri": "https://localhost:8080/"
        },
        "id": "6mEHOr5d37TG",
        "outputId": "10bb934a-0431-458c-88be-c2125b69a2c0"
      },
      "outputs": [
        {
          "output_type": "stream",
          "name": "stdout",
          "text": [
            "WARNING ⚠️ Environment does not support cv2.imshow() or PIL Image.show()\n",
            "\n",
            "Ultralytics YOLOv8.2.13 🚀 Python-3.10.12 torch-2.2.0+cpu CPU (Intel Xeon 2.00GHz)\n",
            "YOLOv8m-cls summary (fused): 103 layers, 15765218 parameters, 0 gradients, 41.6 GFLOPs\n",
            "\n",
            "video 1/1 (frame 1/220) /content/istockphoto-1287528093-640_adpp_is.mp4: 64x64 sheep-eating 0.94, sheep-not-eating 0.06, 19.4ms\n",
            "video 1/1 (frame 2/220) /content/istockphoto-1287528093-640_adpp_is.mp4: 64x64 sheep-eating 0.94, sheep-not-eating 0.06, 10.2ms\n",
            "video 1/1 (frame 3/220) /content/istockphoto-1287528093-640_adpp_is.mp4: 64x64 sheep-eating 0.95, sheep-not-eating 0.05, 10.0ms\n",
            "video 1/1 (frame 4/220) /content/istockphoto-1287528093-640_adpp_is.mp4: 64x64 sheep-eating 0.95, sheep-not-eating 0.05, 9.9ms\n",
            "video 1/1 (frame 5/220) /content/istockphoto-1287528093-640_adpp_is.mp4: 64x64 sheep-eating 0.96, sheep-not-eating 0.04, 8.7ms\n",
            "video 1/1 (frame 6/220) /content/istockphoto-1287528093-640_adpp_is.mp4: 64x64 sheep-eating 0.97, sheep-not-eating 0.03, 8.0ms\n",
            "video 1/1 (frame 7/220) /content/istockphoto-1287528093-640_adpp_is.mp4: 64x64 sheep-eating 0.96, sheep-not-eating 0.04, 8.1ms\n",
            "video 1/1 (frame 8/220) /content/istockphoto-1287528093-640_adpp_is.mp4: 64x64 sheep-eating 0.96, sheep-not-eating 0.04, 8.3ms\n",
            "video 1/1 (frame 9/220) /content/istockphoto-1287528093-640_adpp_is.mp4: 64x64 sheep-eating 0.95, sheep-not-eating 0.05, 8.2ms\n",
            "video 1/1 (frame 10/220) /content/istockphoto-1287528093-640_adpp_is.mp4: 64x64 sheep-eating 0.95, sheep-not-eating 0.05, 8.2ms\n",
            "video 1/1 (frame 11/220) /content/istockphoto-1287528093-640_adpp_is.mp4: 64x64 sheep-eating 0.94, sheep-not-eating 0.06, 8.0ms\n",
            "video 1/1 (frame 12/220) /content/istockphoto-1287528093-640_adpp_is.mp4: 64x64 sheep-eating 0.94, sheep-not-eating 0.06, 8.1ms\n",
            "video 1/1 (frame 13/220) /content/istockphoto-1287528093-640_adpp_is.mp4: 64x64 sheep-eating 0.93, sheep-not-eating 0.07, 7.8ms\n",
            "video 1/1 (frame 14/220) /content/istockphoto-1287528093-640_adpp_is.mp4: 64x64 sheep-eating 0.92, sheep-not-eating 0.08, 8.0ms\n",
            "video 1/1 (frame 15/220) /content/istockphoto-1287528093-640_adpp_is.mp4: 64x64 sheep-eating 0.92, sheep-not-eating 0.08, 8.0ms\n",
            "video 1/1 (frame 16/220) /content/istockphoto-1287528093-640_adpp_is.mp4: 64x64 sheep-eating 0.91, sheep-not-eating 0.09, 8.1ms\n",
            "video 1/1 (frame 17/220) /content/istockphoto-1287528093-640_adpp_is.mp4: 64x64 sheep-eating 0.91, sheep-not-eating 0.09, 8.4ms\n",
            "video 1/1 (frame 18/220) /content/istockphoto-1287528093-640_adpp_is.mp4: 64x64 sheep-eating 0.91, sheep-not-eating 0.09, 8.1ms\n",
            "video 1/1 (frame 19/220) /content/istockphoto-1287528093-640_adpp_is.mp4: 64x64 sheep-eating 0.91, sheep-not-eating 0.09, 7.9ms\n",
            "video 1/1 (frame 20/220) /content/istockphoto-1287528093-640_adpp_is.mp4: 64x64 sheep-eating 0.91, sheep-not-eating 0.09, 8.0ms\n",
            "video 1/1 (frame 21/220) /content/istockphoto-1287528093-640_adpp_is.mp4: 64x64 sheep-eating 0.91, sheep-not-eating 0.09, 7.7ms\n",
            "video 1/1 (frame 22/220) /content/istockphoto-1287528093-640_adpp_is.mp4: 64x64 sheep-eating 0.91, sheep-not-eating 0.09, 8.0ms\n",
            "video 1/1 (frame 23/220) /content/istockphoto-1287528093-640_adpp_is.mp4: 64x64 sheep-eating 0.91, sheep-not-eating 0.09, 8.0ms\n",
            "video 1/1 (frame 24/220) /content/istockphoto-1287528093-640_adpp_is.mp4: 64x64 sheep-eating 0.92, sheep-not-eating 0.08, 9.2ms\n",
            "video 1/1 (frame 25/220) /content/istockphoto-1287528093-640_adpp_is.mp4: 64x64 sheep-eating 0.93, sheep-not-eating 0.07, 8.1ms\n",
            "video 1/1 (frame 26/220) /content/istockphoto-1287528093-640_adpp_is.mp4: 64x64 sheep-eating 0.94, sheep-not-eating 0.06, 8.0ms\n",
            "video 1/1 (frame 27/220) /content/istockphoto-1287528093-640_adpp_is.mp4: 64x64 sheep-eating 0.95, sheep-not-eating 0.05, 8.3ms\n",
            "video 1/1 (frame 28/220) /content/istockphoto-1287528093-640_adpp_is.mp4: 64x64 sheep-eating 0.96, sheep-not-eating 0.04, 8.1ms\n",
            "video 1/1 (frame 29/220) /content/istockphoto-1287528093-640_adpp_is.mp4: 64x64 sheep-eating 0.95, sheep-not-eating 0.05, 8.1ms\n",
            "video 1/1 (frame 30/220) /content/istockphoto-1287528093-640_adpp_is.mp4: 64x64 sheep-eating 0.94, sheep-not-eating 0.06, 8.0ms\n",
            "video 1/1 (frame 31/220) /content/istockphoto-1287528093-640_adpp_is.mp4: 64x64 sheep-eating 0.93, sheep-not-eating 0.07, 8.0ms\n",
            "video 1/1 (frame 32/220) /content/istockphoto-1287528093-640_adpp_is.mp4: 64x64 sheep-eating 0.93, sheep-not-eating 0.07, 8.6ms\n",
            "video 1/1 (frame 33/220) /content/istockphoto-1287528093-640_adpp_is.mp4: 64x64 sheep-eating 0.92, sheep-not-eating 0.08, 8.5ms\n",
            "video 1/1 (frame 34/220) /content/istockphoto-1287528093-640_adpp_is.mp4: 64x64 sheep-eating 0.90, sheep-not-eating 0.10, 8.5ms\n",
            "video 1/1 (frame 35/220) /content/istockphoto-1287528093-640_adpp_is.mp4: 64x64 sheep-eating 0.93, sheep-not-eating 0.07, 8.5ms\n",
            "video 1/1 (frame 36/220) /content/istockphoto-1287528093-640_adpp_is.mp4: 64x64 sheep-eating 0.91, sheep-not-eating 0.09, 8.3ms\n",
            "video 1/1 (frame 37/220) /content/istockphoto-1287528093-640_adpp_is.mp4: 64x64 sheep-eating 0.94, sheep-not-eating 0.06, 8.0ms\n",
            "video 1/1 (frame 38/220) /content/istockphoto-1287528093-640_adpp_is.mp4: 64x64 sheep-eating 0.95, sheep-not-eating 0.05, 8.1ms\n",
            "video 1/1 (frame 39/220) /content/istockphoto-1287528093-640_adpp_is.mp4: 64x64 sheep-eating 0.91, sheep-not-eating 0.09, 7.9ms\n",
            "video 1/1 (frame 40/220) /content/istockphoto-1287528093-640_adpp_is.mp4: 64x64 sheep-eating 0.91, sheep-not-eating 0.09, 8.8ms\n",
            "video 1/1 (frame 41/220) /content/istockphoto-1287528093-640_adpp_is.mp4: 64x64 sheep-eating 0.93, sheep-not-eating 0.07, 11.2ms\n",
            "video 1/1 (frame 42/220) /content/istockphoto-1287528093-640_adpp_is.mp4: 64x64 sheep-eating 0.96, sheep-not-eating 0.04, 8.1ms\n",
            "video 1/1 (frame 43/220) /content/istockphoto-1287528093-640_adpp_is.mp4: 64x64 sheep-eating 0.97, sheep-not-eating 0.03, 8.5ms\n",
            "video 1/1 (frame 44/220) /content/istockphoto-1287528093-640_adpp_is.mp4: 64x64 sheep-eating 0.97, sheep-not-eating 0.03, 8.4ms\n",
            "video 1/1 (frame 45/220) /content/istockphoto-1287528093-640_adpp_is.mp4: 64x64 sheep-eating 0.97, sheep-not-eating 0.03, 8.2ms\n",
            "video 1/1 (frame 46/220) /content/istockphoto-1287528093-640_adpp_is.mp4: 64x64 sheep-eating 0.97, sheep-not-eating 0.03, 8.0ms\n",
            "video 1/1 (frame 47/220) /content/istockphoto-1287528093-640_adpp_is.mp4: 64x64 sheep-eating 0.97, sheep-not-eating 0.03, 8.1ms\n",
            "video 1/1 (frame 48/220) /content/istockphoto-1287528093-640_adpp_is.mp4: 64x64 sheep-eating 0.96, sheep-not-eating 0.04, 8.2ms\n",
            "video 1/1 (frame 49/220) /content/istockphoto-1287528093-640_adpp_is.mp4: 64x64 sheep-eating 0.97, sheep-not-eating 0.03, 8.2ms\n",
            "video 1/1 (frame 50/220) /content/istockphoto-1287528093-640_adpp_is.mp4: 64x64 sheep-eating 0.98, sheep-not-eating 0.02, 8.1ms\n",
            "video 1/1 (frame 51/220) /content/istockphoto-1287528093-640_adpp_is.mp4: 64x64 sheep-eating 0.97, sheep-not-eating 0.03, 8.0ms\n",
            "video 1/1 (frame 52/220) /content/istockphoto-1287528093-640_adpp_is.mp4: 64x64 sheep-eating 0.97, sheep-not-eating 0.03, 8.1ms\n",
            "video 1/1 (frame 53/220) /content/istockphoto-1287528093-640_adpp_is.mp4: 64x64 sheep-eating 0.97, sheep-not-eating 0.03, 8.1ms\n",
            "video 1/1 (frame 54/220) /content/istockphoto-1287528093-640_adpp_is.mp4: 64x64 sheep-eating 0.97, sheep-not-eating 0.03, 8.3ms\n",
            "video 1/1 (frame 55/220) /content/istockphoto-1287528093-640_adpp_is.mp4: 64x64 sheep-eating 0.96, sheep-not-eating 0.04, 8.2ms\n",
            "video 1/1 (frame 56/220) /content/istockphoto-1287528093-640_adpp_is.mp4: 64x64 sheep-eating 0.95, sheep-not-eating 0.05, 8.2ms\n",
            "video 1/1 (frame 57/220) /content/istockphoto-1287528093-640_adpp_is.mp4: 64x64 sheep-eating 0.96, sheep-not-eating 0.04, 8.6ms\n",
            "video 1/1 (frame 58/220) /content/istockphoto-1287528093-640_adpp_is.mp4: 64x64 sheep-eating 0.96, sheep-not-eating 0.04, 8.2ms\n",
            "video 1/1 (frame 59/220) /content/istockphoto-1287528093-640_adpp_is.mp4: 64x64 sheep-eating 0.97, sheep-not-eating 0.03, 8.2ms\n",
            "video 1/1 (frame 60/220) /content/istockphoto-1287528093-640_adpp_is.mp4: 64x64 sheep-eating 0.97, sheep-not-eating 0.03, 8.2ms\n",
            "video 1/1 (frame 61/220) /content/istockphoto-1287528093-640_adpp_is.mp4: 64x64 sheep-eating 0.96, sheep-not-eating 0.04, 8.2ms\n",
            "video 1/1 (frame 62/220) /content/istockphoto-1287528093-640_adpp_is.mp4: 64x64 sheep-eating 0.95, sheep-not-eating 0.05, 8.2ms\n",
            "video 1/1 (frame 63/220) /content/istockphoto-1287528093-640_adpp_is.mp4: 64x64 sheep-eating 0.95, sheep-not-eating 0.05, 8.1ms\n",
            "video 1/1 (frame 64/220) /content/istockphoto-1287528093-640_adpp_is.mp4: 64x64 sheep-eating 0.94, sheep-not-eating 0.06, 8.1ms\n",
            "video 1/1 (frame 65/220) /content/istockphoto-1287528093-640_adpp_is.mp4: 64x64 sheep-eating 0.94, sheep-not-eating 0.06, 11.1ms\n",
            "video 1/1 (frame 66/220) /content/istockphoto-1287528093-640_adpp_is.mp4: 64x64 sheep-eating 0.92, sheep-not-eating 0.08, 8.1ms\n",
            "video 1/1 (frame 67/220) /content/istockphoto-1287528093-640_adpp_is.mp4: 64x64 sheep-eating 0.93, sheep-not-eating 0.07, 8.2ms\n",
            "video 1/1 (frame 68/220) /content/istockphoto-1287528093-640_adpp_is.mp4: 64x64 sheep-eating 0.93, sheep-not-eating 0.07, 8.2ms\n",
            "video 1/1 (frame 69/220) /content/istockphoto-1287528093-640_adpp_is.mp4: 64x64 sheep-eating 0.93, sheep-not-eating 0.07, 8.1ms\n",
            "video 1/1 (frame 70/220) /content/istockphoto-1287528093-640_adpp_is.mp4: 64x64 sheep-eating 0.93, sheep-not-eating 0.07, 8.4ms\n",
            "video 1/1 (frame 71/220) /content/istockphoto-1287528093-640_adpp_is.mp4: 64x64 sheep-eating 0.93, sheep-not-eating 0.07, 8.4ms\n",
            "video 1/1 (frame 72/220) /content/istockphoto-1287528093-640_adpp_is.mp4: 64x64 sheep-eating 0.92, sheep-not-eating 0.08, 8.2ms\n",
            "video 1/1 (frame 73/220) /content/istockphoto-1287528093-640_adpp_is.mp4: 64x64 sheep-eating 0.92, sheep-not-eating 0.08, 8.5ms\n",
            "video 1/1 (frame 74/220) /content/istockphoto-1287528093-640_adpp_is.mp4: 64x64 sheep-eating 0.92, sheep-not-eating 0.08, 8.1ms\n",
            "video 1/1 (frame 75/220) /content/istockphoto-1287528093-640_adpp_is.mp4: 64x64 sheep-eating 0.92, sheep-not-eating 0.08, 8.9ms\n",
            "video 1/1 (frame 76/220) /content/istockphoto-1287528093-640_adpp_is.mp4: 64x64 sheep-eating 0.92, sheep-not-eating 0.08, 8.3ms\n",
            "video 1/1 (frame 77/220) /content/istockphoto-1287528093-640_adpp_is.mp4: 64x64 sheep-eating 0.92, sheep-not-eating 0.08, 8.4ms\n",
            "video 1/1 (frame 78/220) /content/istockphoto-1287528093-640_adpp_is.mp4: 64x64 sheep-eating 0.92, sheep-not-eating 0.08, 8.6ms\n",
            "video 1/1 (frame 79/220) /content/istockphoto-1287528093-640_adpp_is.mp4: 64x64 sheep-eating 0.93, sheep-not-eating 0.07, 8.4ms\n",
            "video 1/1 (frame 80/220) /content/istockphoto-1287528093-640_adpp_is.mp4: 64x64 sheep-eating 0.92, sheep-not-eating 0.08, 9.1ms\n",
            "video 1/1 (frame 81/220) /content/istockphoto-1287528093-640_adpp_is.mp4: 64x64 sheep-eating 0.92, sheep-not-eating 0.08, 9.0ms\n",
            "video 1/1 (frame 82/220) /content/istockphoto-1287528093-640_adpp_is.mp4: 64x64 sheep-eating 0.92, sheep-not-eating 0.08, 8.1ms\n",
            "video 1/1 (frame 83/220) /content/istockphoto-1287528093-640_adpp_is.mp4: 64x64 sheep-eating 0.91, sheep-not-eating 0.09, 8.1ms\n",
            "video 1/1 (frame 84/220) /content/istockphoto-1287528093-640_adpp_is.mp4: 64x64 sheep-eating 0.91, sheep-not-eating 0.09, 8.2ms\n",
            "video 1/1 (frame 85/220) /content/istockphoto-1287528093-640_adpp_is.mp4: 64x64 sheep-eating 0.92, sheep-not-eating 0.08, 8.2ms\n",
            "video 1/1 (frame 86/220) /content/istockphoto-1287528093-640_adpp_is.mp4: 64x64 sheep-eating 0.92, sheep-not-eating 0.08, 8.1ms\n",
            "video 1/1 (frame 87/220) /content/istockphoto-1287528093-640_adpp_is.mp4: 64x64 sheep-eating 0.92, sheep-not-eating 0.08, 8.2ms\n",
            "video 1/1 (frame 88/220) /content/istockphoto-1287528093-640_adpp_is.mp4: 64x64 sheep-eating 0.91, sheep-not-eating 0.09, 9.5ms\n",
            "video 1/1 (frame 89/220) /content/istockphoto-1287528093-640_adpp_is.mp4: 64x64 sheep-eating 0.90, sheep-not-eating 0.10, 11.2ms\n",
            "video 1/1 (frame 90/220) /content/istockphoto-1287528093-640_adpp_is.mp4: 64x64 sheep-eating 0.90, sheep-not-eating 0.10, 8.4ms\n",
            "video 1/1 (frame 91/220) /content/istockphoto-1287528093-640_adpp_is.mp4: 64x64 sheep-eating 0.90, sheep-not-eating 0.10, 8.1ms\n",
            "video 1/1 (frame 92/220) /content/istockphoto-1287528093-640_adpp_is.mp4: 64x64 sheep-eating 0.90, sheep-not-eating 0.10, 8.3ms\n",
            "video 1/1 (frame 93/220) /content/istockphoto-1287528093-640_adpp_is.mp4: 64x64 sheep-eating 0.89, sheep-not-eating 0.11, 8.2ms\n",
            "video 1/1 (frame 94/220) /content/istockphoto-1287528093-640_adpp_is.mp4: 64x64 sheep-eating 0.89, sheep-not-eating 0.11, 8.3ms\n",
            "video 1/1 (frame 95/220) /content/istockphoto-1287528093-640_adpp_is.mp4: 64x64 sheep-eating 0.90, sheep-not-eating 0.10, 8.1ms\n",
            "video 1/1 (frame 96/220) /content/istockphoto-1287528093-640_adpp_is.mp4: 64x64 sheep-eating 0.91, sheep-not-eating 0.09, 8.1ms\n",
            "video 1/1 (frame 97/220) /content/istockphoto-1287528093-640_adpp_is.mp4: 64x64 sheep-eating 0.91, sheep-not-eating 0.09, 8.2ms\n",
            "video 1/1 (frame 98/220) /content/istockphoto-1287528093-640_adpp_is.mp4: 64x64 sheep-eating 0.92, sheep-not-eating 0.08, 8.1ms\n",
            "video 1/1 (frame 99/220) /content/istockphoto-1287528093-640_adpp_is.mp4: 64x64 sheep-eating 0.91, sheep-not-eating 0.09, 8.2ms\n",
            "video 1/1 (frame 100/220) /content/istockphoto-1287528093-640_adpp_is.mp4: 64x64 sheep-eating 0.92, sheep-not-eating 0.08, 8.2ms\n",
            "video 1/1 (frame 101/220) /content/istockphoto-1287528093-640_adpp_is.mp4: 64x64 sheep-eating 0.92, sheep-not-eating 0.08, 8.1ms\n",
            "video 1/1 (frame 102/220) /content/istockphoto-1287528093-640_adpp_is.mp4: 64x64 sheep-eating 0.92, sheep-not-eating 0.08, 8.5ms\n",
            "video 1/1 (frame 103/220) /content/istockphoto-1287528093-640_adpp_is.mp4: 64x64 sheep-eating 0.92, sheep-not-eating 0.08, 8.3ms\n",
            "video 1/1 (frame 104/220) /content/istockphoto-1287528093-640_adpp_is.mp4: 64x64 sheep-eating 0.94, sheep-not-eating 0.06, 9.0ms\n",
            "video 1/1 (frame 105/220) /content/istockphoto-1287528093-640_adpp_is.mp4: 64x64 sheep-eating 0.95, sheep-not-eating 0.05, 8.2ms\n",
            "video 1/1 (frame 106/220) /content/istockphoto-1287528093-640_adpp_is.mp4: 64x64 sheep-eating 0.95, sheep-not-eating 0.05, 8.3ms\n",
            "video 1/1 (frame 107/220) /content/istockphoto-1287528093-640_adpp_is.mp4: 64x64 sheep-eating 0.96, sheep-not-eating 0.04, 8.1ms\n",
            "video 1/1 (frame 108/220) /content/istockphoto-1287528093-640_adpp_is.mp4: 64x64 sheep-eating 0.96, sheep-not-eating 0.04, 8.1ms\n",
            "video 1/1 (frame 109/220) /content/istockphoto-1287528093-640_adpp_is.mp4: 64x64 sheep-eating 0.96, sheep-not-eating 0.04, 8.0ms\n",
            "video 1/1 (frame 110/220) /content/istockphoto-1287528093-640_adpp_is.mp4: 64x64 sheep-eating 0.96, sheep-not-eating 0.04, 8.1ms\n",
            "video 1/1 (frame 111/220) /content/istockphoto-1287528093-640_adpp_is.mp4: 64x64 sheep-eating 0.96, sheep-not-eating 0.04, 8.0ms\n",
            "video 1/1 (frame 112/220) /content/istockphoto-1287528093-640_adpp_is.mp4: 64x64 sheep-eating 0.96, sheep-not-eating 0.04, 8.3ms\n",
            "video 1/1 (frame 113/220) /content/istockphoto-1287528093-640_adpp_is.mp4: 64x64 sheep-eating 0.97, sheep-not-eating 0.03, 11.4ms\n",
            "video 1/1 (frame 114/220) /content/istockphoto-1287528093-640_adpp_is.mp4: 64x64 sheep-eating 0.97, sheep-not-eating 0.03, 8.1ms\n",
            "video 1/1 (frame 115/220) /content/istockphoto-1287528093-640_adpp_is.mp4: 64x64 sheep-eating 0.97, sheep-not-eating 0.03, 8.2ms\n",
            "video 1/1 (frame 116/220) /content/istockphoto-1287528093-640_adpp_is.mp4: 64x64 sheep-eating 0.97, sheep-not-eating 0.03, 8.2ms\n",
            "video 1/1 (frame 117/220) /content/istockphoto-1287528093-640_adpp_is.mp4: 64x64 sheep-eating 0.97, sheep-not-eating 0.03, 8.2ms\n",
            "video 1/1 (frame 118/220) /content/istockphoto-1287528093-640_adpp_is.mp4: 64x64 sheep-eating 0.97, sheep-not-eating 0.03, 8.2ms\n",
            "video 1/1 (frame 119/220) /content/istockphoto-1287528093-640_adpp_is.mp4: 64x64 sheep-eating 0.97, sheep-not-eating 0.03, 8.9ms\n",
            "video 1/1 (frame 120/220) /content/istockphoto-1287528093-640_adpp_is.mp4: 64x64 sheep-eating 0.97, sheep-not-eating 0.03, 10.0ms\n",
            "video 1/1 (frame 121/220) /content/istockphoto-1287528093-640_adpp_is.mp4: 64x64 sheep-eating 0.97, sheep-not-eating 0.03, 8.9ms\n",
            "video 1/1 (frame 122/220) /content/istockphoto-1287528093-640_adpp_is.mp4: 64x64 sheep-eating 0.97, sheep-not-eating 0.03, 9.5ms\n",
            "video 1/1 (frame 123/220) /content/istockphoto-1287528093-640_adpp_is.mp4: 64x64 sheep-eating 0.97, sheep-not-eating 0.03, 9.4ms\n",
            "video 1/1 (frame 124/220) /content/istockphoto-1287528093-640_adpp_is.mp4: 64x64 sheep-eating 0.97, sheep-not-eating 0.03, 8.6ms\n",
            "video 1/1 (frame 125/220) /content/istockphoto-1287528093-640_adpp_is.mp4: 64x64 sheep-eating 0.97, sheep-not-eating 0.03, 8.5ms\n",
            "video 1/1 (frame 126/220) /content/istockphoto-1287528093-640_adpp_is.mp4: 64x64 sheep-eating 0.97, sheep-not-eating 0.03, 8.2ms\n",
            "video 1/1 (frame 127/220) /content/istockphoto-1287528093-640_adpp_is.mp4: 64x64 sheep-eating 0.96, sheep-not-eating 0.04, 8.1ms\n",
            "video 1/1 (frame 128/220) /content/istockphoto-1287528093-640_adpp_is.mp4: 64x64 sheep-eating 0.96, sheep-not-eating 0.04, 8.1ms\n",
            "video 1/1 (frame 129/220) /content/istockphoto-1287528093-640_adpp_is.mp4: 64x64 sheep-eating 0.96, sheep-not-eating 0.04, 8.0ms\n",
            "video 1/1 (frame 130/220) /content/istockphoto-1287528093-640_adpp_is.mp4: 64x64 sheep-eating 0.96, sheep-not-eating 0.04, 7.9ms\n",
            "video 1/1 (frame 131/220) /content/istockphoto-1287528093-640_adpp_is.mp4: 64x64 sheep-eating 0.96, sheep-not-eating 0.04, 7.8ms\n",
            "video 1/1 (frame 132/220) /content/istockphoto-1287528093-640_adpp_is.mp4: 64x64 sheep-eating 0.97, sheep-not-eating 0.03, 8.0ms\n",
            "video 1/1 (frame 133/220) /content/istockphoto-1287528093-640_adpp_is.mp4: 64x64 sheep-eating 0.92, sheep-not-eating 0.08, 8.0ms\n",
            "video 1/1 (frame 134/220) /content/istockphoto-1287528093-640_adpp_is.mp4: 64x64 sheep-eating 0.94, sheep-not-eating 0.06, 7.9ms\n",
            "video 1/1 (frame 135/220) /content/istockphoto-1287528093-640_adpp_is.mp4: 64x64 sheep-eating 0.94, sheep-not-eating 0.06, 7.9ms\n",
            "video 1/1 (frame 136/220) /content/istockphoto-1287528093-640_adpp_is.mp4: 64x64 sheep-eating 0.95, sheep-not-eating 0.05, 8.0ms\n",
            "video 1/1 (frame 137/220) /content/istockphoto-1287528093-640_adpp_is.mp4: 64x64 sheep-eating 0.96, sheep-not-eating 0.04, 11.7ms\n",
            "video 1/1 (frame 138/220) /content/istockphoto-1287528093-640_adpp_is.mp4: 64x64 sheep-eating 0.96, sheep-not-eating 0.04, 7.9ms\n",
            "video 1/1 (frame 139/220) /content/istockphoto-1287528093-640_adpp_is.mp4: 64x64 sheep-eating 0.96, sheep-not-eating 0.04, 7.8ms\n",
            "video 1/1 (frame 140/220) /content/istockphoto-1287528093-640_adpp_is.mp4: 64x64 sheep-eating 0.96, sheep-not-eating 0.04, 8.0ms\n",
            "video 1/1 (frame 141/220) /content/istockphoto-1287528093-640_adpp_is.mp4: 64x64 sheep-eating 0.96, sheep-not-eating 0.04, 8.2ms\n",
            "video 1/1 (frame 142/220) /content/istockphoto-1287528093-640_adpp_is.mp4: 64x64 sheep-eating 0.96, sheep-not-eating 0.04, 8.2ms\n",
            "video 1/1 (frame 143/220) /content/istockphoto-1287528093-640_adpp_is.mp4: 64x64 sheep-eating 0.96, sheep-not-eating 0.04, 8.0ms\n",
            "video 1/1 (frame 144/220) /content/istockphoto-1287528093-640_adpp_is.mp4: 64x64 sheep-eating 0.96, sheep-not-eating 0.04, 7.9ms\n",
            "video 1/1 (frame 145/220) /content/istockphoto-1287528093-640_adpp_is.mp4: 64x64 sheep-eating 0.96, sheep-not-eating 0.04, 8.1ms\n",
            "video 1/1 (frame 146/220) /content/istockphoto-1287528093-640_adpp_is.mp4: 64x64 sheep-eating 0.96, sheep-not-eating 0.04, 7.8ms\n",
            "video 1/1 (frame 147/220) /content/istockphoto-1287528093-640_adpp_is.mp4: 64x64 sheep-eating 0.96, sheep-not-eating 0.04, 8.0ms\n",
            "video 1/1 (frame 148/220) /content/istockphoto-1287528093-640_adpp_is.mp4: 64x64 sheep-eating 0.96, sheep-not-eating 0.04, 7.8ms\n",
            "video 1/1 (frame 149/220) /content/istockphoto-1287528093-640_adpp_is.mp4: 64x64 sheep-eating 0.96, sheep-not-eating 0.04, 8.0ms\n",
            "video 1/1 (frame 150/220) /content/istockphoto-1287528093-640_adpp_is.mp4: 64x64 sheep-eating 0.96, sheep-not-eating 0.04, 8.1ms\n",
            "video 1/1 (frame 151/220) /content/istockphoto-1287528093-640_adpp_is.mp4: 64x64 sheep-eating 0.95, sheep-not-eating 0.05, 8.0ms\n",
            "video 1/1 (frame 152/220) /content/istockphoto-1287528093-640_adpp_is.mp4: 64x64 sheep-eating 0.94, sheep-not-eating 0.06, 8.2ms\n",
            "video 1/1 (frame 153/220) /content/istockphoto-1287528093-640_adpp_is.mp4: 64x64 sheep-eating 0.93, sheep-not-eating 0.07, 8.2ms\n",
            "video 1/1 (frame 154/220) /content/istockphoto-1287528093-640_adpp_is.mp4: 64x64 sheep-eating 0.93, sheep-not-eating 0.07, 8.1ms\n",
            "video 1/1 (frame 155/220) /content/istockphoto-1287528093-640_adpp_is.mp4: 64x64 sheep-eating 0.92, sheep-not-eating 0.08, 8.0ms\n",
            "video 1/1 (frame 156/220) /content/istockphoto-1287528093-640_adpp_is.mp4: 64x64 sheep-eating 0.92, sheep-not-eating 0.08, 7.9ms\n",
            "video 1/1 (frame 157/220) /content/istockphoto-1287528093-640_adpp_is.mp4: 64x64 sheep-eating 0.91, sheep-not-eating 0.09, 8.1ms\n",
            "video 1/1 (frame 158/220) /content/istockphoto-1287528093-640_adpp_is.mp4: 64x64 sheep-eating 0.91, sheep-not-eating 0.09, 8.2ms\n",
            "video 1/1 (frame 159/220) /content/istockphoto-1287528093-640_adpp_is.mp4: 64x64 sheep-eating 0.89, sheep-not-eating 0.11, 8.3ms\n",
            "video 1/1 (frame 160/220) /content/istockphoto-1287528093-640_adpp_is.mp4: 64x64 sheep-eating 0.88, sheep-not-eating 0.12, 8.1ms\n",
            "video 1/1 (frame 161/220) /content/istockphoto-1287528093-640_adpp_is.mp4: 64x64 sheep-eating 0.87, sheep-not-eating 0.13, 11.3ms\n",
            "video 1/1 (frame 162/220) /content/istockphoto-1287528093-640_adpp_is.mp4: 64x64 sheep-eating 0.88, sheep-not-eating 0.12, 8.3ms\n",
            "video 1/1 (frame 163/220) /content/istockphoto-1287528093-640_adpp_is.mp4: 64x64 sheep-eating 0.88, sheep-not-eating 0.12, 8.1ms\n",
            "video 1/1 (frame 164/220) /content/istockphoto-1287528093-640_adpp_is.mp4: 64x64 sheep-eating 0.89, sheep-not-eating 0.11, 8.2ms\n",
            "video 1/1 (frame 165/220) /content/istockphoto-1287528093-640_adpp_is.mp4: 64x64 sheep-eating 0.91, sheep-not-eating 0.09, 7.9ms\n",
            "video 1/1 (frame 166/220) /content/istockphoto-1287528093-640_adpp_is.mp4: 64x64 sheep-eating 0.92, sheep-not-eating 0.08, 8.1ms\n",
            "video 1/1 (frame 167/220) /content/istockphoto-1287528093-640_adpp_is.mp4: 64x64 sheep-eating 0.92, sheep-not-eating 0.08, 8.0ms\n",
            "video 1/1 (frame 168/220) /content/istockphoto-1287528093-640_adpp_is.mp4: 64x64 sheep-eating 0.92, sheep-not-eating 0.08, 8.1ms\n",
            "video 1/1 (frame 169/220) /content/istockphoto-1287528093-640_adpp_is.mp4: 64x64 sheep-eating 0.92, sheep-not-eating 0.08, 7.9ms\n",
            "video 1/1 (frame 170/220) /content/istockphoto-1287528093-640_adpp_is.mp4: 64x64 sheep-eating 0.92, sheep-not-eating 0.08, 8.0ms\n",
            "video 1/1 (frame 171/220) /content/istockphoto-1287528093-640_adpp_is.mp4: 64x64 sheep-eating 0.92, sheep-not-eating 0.08, 8.0ms\n",
            "video 1/1 (frame 172/220) /content/istockphoto-1287528093-640_adpp_is.mp4: 64x64 sheep-eating 0.92, sheep-not-eating 0.08, 7.9ms\n",
            "video 1/1 (frame 173/220) /content/istockphoto-1287528093-640_adpp_is.mp4: 64x64 sheep-eating 0.91, sheep-not-eating 0.09, 7.8ms\n",
            "video 1/1 (frame 174/220) /content/istockphoto-1287528093-640_adpp_is.mp4: 64x64 sheep-eating 0.89, sheep-not-eating 0.11, 8.1ms\n",
            "video 1/1 (frame 175/220) /content/istockphoto-1287528093-640_adpp_is.mp4: 64x64 sheep-eating 0.89, sheep-not-eating 0.11, 7.9ms\n",
            "video 1/1 (frame 176/220) /content/istockphoto-1287528093-640_adpp_is.mp4: 64x64 sheep-eating 0.89, sheep-not-eating 0.11, 7.9ms\n",
            "video 1/1 (frame 177/220) /content/istockphoto-1287528093-640_adpp_is.mp4: 64x64 sheep-eating 0.87, sheep-not-eating 0.13, 7.8ms\n",
            "video 1/1 (frame 178/220) /content/istockphoto-1287528093-640_adpp_is.mp4: 64x64 sheep-eating 0.87, sheep-not-eating 0.13, 7.9ms\n",
            "video 1/1 (frame 179/220) /content/istockphoto-1287528093-640_adpp_is.mp4: 64x64 sheep-eating 0.89, sheep-not-eating 0.11, 7.8ms\n",
            "video 1/1 (frame 180/220) /content/istockphoto-1287528093-640_adpp_is.mp4: 64x64 sheep-eating 0.89, sheep-not-eating 0.11, 8.0ms\n",
            "video 1/1 (frame 181/220) /content/istockphoto-1287528093-640_adpp_is.mp4: 64x64 sheep-eating 0.88, sheep-not-eating 0.12, 8.0ms\n",
            "video 1/1 (frame 182/220) /content/istockphoto-1287528093-640_adpp_is.mp4: 64x64 sheep-eating 0.88, sheep-not-eating 0.12, 8.0ms\n",
            "video 1/1 (frame 183/220) /content/istockphoto-1287528093-640_adpp_is.mp4: 64x64 sheep-eating 0.87, sheep-not-eating 0.13, 8.0ms\n",
            "video 1/1 (frame 184/220) /content/istockphoto-1287528093-640_adpp_is.mp4: 64x64 sheep-eating 0.87, sheep-not-eating 0.13, 8.2ms\n",
            "video 1/1 (frame 185/220) /content/istockphoto-1287528093-640_adpp_is.mp4: 64x64 sheep-eating 0.86, sheep-not-eating 0.14, 10.8ms\n",
            "video 1/1 (frame 186/220) /content/istockphoto-1287528093-640_adpp_is.mp4: 64x64 sheep-eating 0.87, sheep-not-eating 0.13, 8.1ms\n",
            "video 1/1 (frame 187/220) /content/istockphoto-1287528093-640_adpp_is.mp4: 64x64 sheep-eating 0.88, sheep-not-eating 0.12, 8.0ms\n",
            "video 1/1 (frame 188/220) /content/istockphoto-1287528093-640_adpp_is.mp4: 64x64 sheep-eating 0.89, sheep-not-eating 0.11, 8.0ms\n",
            "video 1/1 (frame 189/220) /content/istockphoto-1287528093-640_adpp_is.mp4: 64x64 sheep-eating 0.90, sheep-not-eating 0.10, 8.0ms\n",
            "video 1/1 (frame 190/220) /content/istockphoto-1287528093-640_adpp_is.mp4: 64x64 sheep-eating 0.90, sheep-not-eating 0.10, 8.0ms\n",
            "video 1/1 (frame 191/220) /content/istockphoto-1287528093-640_adpp_is.mp4: 64x64 sheep-eating 0.90, sheep-not-eating 0.10, 7.9ms\n",
            "video 1/1 (frame 192/220) /content/istockphoto-1287528093-640_adpp_is.mp4: 64x64 sheep-eating 0.90, sheep-not-eating 0.10, 8.0ms\n",
            "video 1/1 (frame 193/220) /content/istockphoto-1287528093-640_adpp_is.mp4: 64x64 sheep-eating 0.90, sheep-not-eating 0.10, 8.4ms\n",
            "video 1/1 (frame 194/220) /content/istockphoto-1287528093-640_adpp_is.mp4: 64x64 sheep-eating 0.90, sheep-not-eating 0.10, 8.4ms\n",
            "video 1/1 (frame 195/220) /content/istockphoto-1287528093-640_adpp_is.mp4: 64x64 sheep-eating 0.91, sheep-not-eating 0.09, 7.8ms\n",
            "video 1/1 (frame 196/220) /content/istockphoto-1287528093-640_adpp_is.mp4: 64x64 sheep-eating 0.92, sheep-not-eating 0.08, 8.1ms\n",
            "video 1/1 (frame 197/220) /content/istockphoto-1287528093-640_adpp_is.mp4: 64x64 sheep-eating 0.92, sheep-not-eating 0.08, 7.9ms\n",
            "video 1/1 (frame 198/220) /content/istockphoto-1287528093-640_adpp_is.mp4: 64x64 sheep-eating 0.92, sheep-not-eating 0.08, 8.1ms\n",
            "video 1/1 (frame 199/220) /content/istockphoto-1287528093-640_adpp_is.mp4: 64x64 sheep-eating 0.92, sheep-not-eating 0.08, 8.5ms\n",
            "video 1/1 (frame 200/220) /content/istockphoto-1287528093-640_adpp_is.mp4: 64x64 sheep-eating 0.92, sheep-not-eating 0.08, 8.5ms\n",
            "video 1/1 (frame 201/220) /content/istockphoto-1287528093-640_adpp_is.mp4: 64x64 sheep-eating 0.92, sheep-not-eating 0.08, 8.2ms\n",
            "video 1/1 (frame 202/220) /content/istockphoto-1287528093-640_adpp_is.mp4: 64x64 sheep-eating 0.93, sheep-not-eating 0.07, 8.1ms\n",
            "video 1/1 (frame 203/220) /content/istockphoto-1287528093-640_adpp_is.mp4: 64x64 sheep-eating 0.94, sheep-not-eating 0.06, 8.3ms\n",
            "video 1/1 (frame 204/220) /content/istockphoto-1287528093-640_adpp_is.mp4: 64x64 sheep-eating 0.95, sheep-not-eating 0.05, 8.3ms\n",
            "video 1/1 (frame 205/220) /content/istockphoto-1287528093-640_adpp_is.mp4: 64x64 sheep-eating 0.95, sheep-not-eating 0.05, 8.3ms\n",
            "video 1/1 (frame 206/220) /content/istockphoto-1287528093-640_adpp_is.mp4: 64x64 sheep-eating 0.94, sheep-not-eating 0.06, 8.0ms\n",
            "video 1/1 (frame 207/220) /content/istockphoto-1287528093-640_adpp_is.mp4: 64x64 sheep-eating 0.94, sheep-not-eating 0.06, 8.2ms\n",
            "video 1/1 (frame 208/220) /content/istockphoto-1287528093-640_adpp_is.mp4: 64x64 sheep-eating 0.94, sheep-not-eating 0.06, 8.1ms\n",
            "video 1/1 (frame 209/220) /content/istockphoto-1287528093-640_adpp_is.mp4: 64x64 sheep-eating 0.93, sheep-not-eating 0.07, 11.1ms\n",
            "video 1/1 (frame 210/220) /content/istockphoto-1287528093-640_adpp_is.mp4: 64x64 sheep-eating 0.93, sheep-not-eating 0.07, 8.0ms\n",
            "video 1/1 (frame 211/220) /content/istockphoto-1287528093-640_adpp_is.mp4: 64x64 sheep-eating 0.94, sheep-not-eating 0.06, 8.1ms\n",
            "video 1/1 (frame 212/220) /content/istockphoto-1287528093-640_adpp_is.mp4: 64x64 sheep-eating 0.94, sheep-not-eating 0.06, 8.1ms\n",
            "video 1/1 (frame 213/220) /content/istockphoto-1287528093-640_adpp_is.mp4: 64x64 sheep-eating 0.94, sheep-not-eating 0.06, 8.1ms\n",
            "video 1/1 (frame 214/220) /content/istockphoto-1287528093-640_adpp_is.mp4: 64x64 sheep-eating 0.94, sheep-not-eating 0.06, 7.9ms\n",
            "video 1/1 (frame 215/220) /content/istockphoto-1287528093-640_adpp_is.mp4: 64x64 sheep-eating 0.94, sheep-not-eating 0.06, 10.3ms\n",
            "video 1/1 (frame 216/220) /content/istockphoto-1287528093-640_adpp_is.mp4: 64x64 sheep-eating 0.94, sheep-not-eating 0.06, 8.7ms\n",
            "video 1/1 (frame 217/220) /content/istockphoto-1287528093-640_adpp_is.mp4: 64x64 sheep-eating 0.93, sheep-not-eating 0.07, 8.1ms\n",
            "video 1/1 (frame 218/220) /content/istockphoto-1287528093-640_adpp_is.mp4: 64x64 sheep-eating 0.94, sheep-not-eating 0.06, 8.1ms\n",
            "video 1/1 (frame 219/220) /content/istockphoto-1287528093-640_adpp_is.mp4: 64x64 sheep-eating 0.94, sheep-not-eating 0.06, 8.0ms\n",
            "video 1/1 (frame 220/220) /content/istockphoto-1287528093-640_adpp_is.mp4: 64x64 sheep-eating 0.94, sheep-not-eating 0.06, 8.8ms\n",
            "Speed: 2.9ms preprocess, 8.4ms inference, 0.0ms postprocess per image at shape (1, 3, 64, 64)\n",
            "Results saved to \u001b[1mruns/classify/predict3\u001b[0m\n",
            "💡 Learn more at https://docs.ultralytics.com/modes/predict\n"
          ]
        }
      ],
      "source": [
        "\n",
        "#inference with custom model\n",
        "\n",
        "\n",
        "\n",
        "!yolo task=classify mode=predict model=/content/runs/classify/train2/weights/best.pt source='/content/istockphoto-1287528093-640_adpp_is.mp4' show=True\n",
        "\n",
        "# !yolo task=classify mode=predict model=/content/runs/classify/train/weights/best.pt conf=0.5 source=/content/goat.mp4\n",
        "# !yolo classify predict model=/content/runs/classify/train2/weights/best.pt source='/content/1.mp4'  # predict with custom model"
      ]
    },
    {
      "cell_type": "code",
      "execution_count": null,
      "metadata": {
        "id": "I0ouh9W2GVod"
      },
      "outputs": [],
      "source": []
    },
    {
      "cell_type": "code",
      "execution_count": null,
      "metadata": {
        "id": "G1C9yZuL4Ms6"
      },
      "outputs": [],
      "source": []
    },
    {
      "cell_type": "code",
      "execution_count": null,
      "metadata": {
        "id": "UvsNnZ504MwH"
      },
      "outputs": [],
      "source": []
    },
    {
      "cell_type": "code",
      "execution_count": null,
      "metadata": {
        "id": "hrGGJO4o4MzK"
      },
      "outputs": [],
      "source": [
        "# from ultralytics import YOLO\n",
        "\n",
        "# # Load a model\n",
        "# model = YOLO(\"yolov8n-cls.yaml\")  # build a new model from scratch\n",
        "# # model = YOLO(\"yolov8n.pt\")  # load a pretrained model (recommended for training)\n",
        "\n",
        "# # Use the model\n",
        "# model.train(data=\"/content/goat_data/data.yaml\", epochs= 10)  # train the model\n",
        "# metrics = model.val()  # evaluate model performance on the validation set\n",
        "# results = model(\"/content/goat.mp4\")  # predict on an image\n",
        "# path = model.export(format=\"onnx\")  # export the model to ONNX format"
      ]
    },
    {
      "cell_type": "code",
      "execution_count": null,
      "metadata": {
        "id": "CbCSKyueGVsU"
      },
      "outputs": [],
      "source": []
    },
    {
      "cell_type": "code",
      "execution_count": null,
      "metadata": {
        "id": "xUfUYcCrGVwG"
      },
      "outputs": [],
      "source": []
    },
    {
      "cell_type": "code",
      "execution_count": null,
      "metadata": {
        "id": "qTWoB1BbGVzU"
      },
      "outputs": [],
      "source": []
    },
    {
      "cell_type": "code",
      "execution_count": null,
      "metadata": {
        "id": "mqfeIIjSGV6e"
      },
      "outputs": [],
      "source": []
    },
    {
      "cell_type": "code",
      "execution_count": null,
      "metadata": {
        "id": "ACiMDXW-29M2"
      },
      "outputs": [],
      "source": [
        "#Displaying the Confusion Matrix"
      ]
    },
    {
      "cell_type": "code",
      "execution_count": null,
      "metadata": {
        "id": "0y8iDCPS29P1",
        "colab": {
          "base_uri": "https://localhost:8080/",
          "height": 193
        },
        "outputId": "9d9bcdd0-358a-4632-96ee-a249b1e98667"
      },
      "outputs": [
        {
          "output_type": "stream",
          "name": "stdout",
          "text": [
            "[Errno 2] No such file or directory: '{HOME}'\n",
            "/content\n"
          ]
        },
        {
          "output_type": "error",
          "ename": "NameError",
          "evalue": "name 'Image' is not defined",
          "traceback": [
            "\u001b[0;31m---------------------------------------------------------------------------\u001b[0m",
            "\u001b[0;31mNameError\u001b[0m                                 Traceback (most recent call last)",
            "\u001b[0;32m<ipython-input-14-38e34b4cc27b>\u001b[0m in \u001b[0;36m<cell line: 2>\u001b[0;34m()\u001b[0m\n\u001b[1;32m      1\u001b[0m \u001b[0mget_ipython\u001b[0m\u001b[0;34m(\u001b[0m\u001b[0;34m)\u001b[0m\u001b[0;34m.\u001b[0m\u001b[0mrun_line_magic\u001b[0m\u001b[0;34m(\u001b[0m\u001b[0;34m'cd'\u001b[0m\u001b[0;34m,\u001b[0m \u001b[0;34m'{HOME}'\u001b[0m\u001b[0;34m)\u001b[0m\u001b[0;34m\u001b[0m\u001b[0;34m\u001b[0m\u001b[0m\n\u001b[0;32m----> 2\u001b[0;31m \u001b[0mImage\u001b[0m\u001b[0;34m(\u001b[0m\u001b[0mfilename\u001b[0m\u001b[0;34m=\u001b[0m\u001b[0;34mf'{HOME}/runs/detect/train2/confusion_matrix.png'\u001b[0m\u001b[0;34m,\u001b[0m \u001b[0mwidth\u001b[0m\u001b[0;34m=\u001b[0m\u001b[0;36m900\u001b[0m\u001b[0;34m)\u001b[0m\u001b[0;34m\u001b[0m\u001b[0;34m\u001b[0m\u001b[0m\n\u001b[0m",
            "\u001b[0;31mNameError\u001b[0m: name 'Image' is not defined"
          ]
        }
      ],
      "source": [
        "%cd {HOME}\n",
        "Image(filename=f'{HOME}/runs/detect/train2/confusion_matrix.png', width=900)"
      ]
    },
    {
      "cell_type": "code",
      "execution_count": null,
      "metadata": {
        "id": "WAXBkPs828IW"
      },
      "outputs": [],
      "source": [
        "#Training and Validation Loss\n",
        "\n",
        "%cd {HOME}\n",
        "\n",
        "Image(filename=f'{HOME}/runs/detect/train2/results.png', width=600)"
      ]
    },
    {
      "cell_type": "code",
      "execution_count": null,
      "metadata": {
        "id": "VukZ7phz4aPG"
      },
      "outputs": [],
      "source": [
        "#Model Prediction on validation batch. These image are not used strictly for training so it is always better to take a\n",
        "#look and see how model is behaving\n",
        "%cd {HOME}\n",
        "Image(filename=f'{HOME}/runs/detect/train2/val_batch0_pred.jpg', width=600)"
      ]
    },
    {
      "cell_type": "code",
      "execution_count": null,
      "metadata": {
        "id": "Sz6xHfKx4aSj"
      },
      "outputs": [],
      "source": [
        "# Validate Custom Model\n",
        "%cd {HOME}\n",
        "\n",
        "!yolo task=detect mode=val model={HOME}/runs/detect/train2/weights/best.pt data=/content/datasets/EEP_Detection/data.yaml"
      ]
    },
    {
      "cell_type": "code",
      "execution_count": null,
      "metadata": {
        "id": "E6f0yO3G4aWU"
      },
      "outputs": [],
      "source": [
        "#Inference with Custom Model\n",
        "%cd {HOME}\n",
        "!yolo task=detect mode=predict model={HOME}/runs/detect/train2/weights/best.pt conf=0.25 source='/content/datasets/EEP_Detection/test/images'"
      ]
    },
    {
      "cell_type": "code",
      "execution_count": null,
      "metadata": {
        "id": "2Mmzbdpg5J9a"
      },
      "outputs": [],
      "source": [
        "# Downloading the Demo Video"
      ]
    },
    {
      "cell_type": "code",
      "execution_count": null,
      "metadata": {
        "id": "T_cEX7tz4pTc"
      },
      "outputs": [],
      "source": [
        "!gdown \"https://drive.google.com/uc?id=1crFwrpMF1OlaJ0ZCZjBNRo9llLEVR8VQ&confirm=t\""
      ]
    },
    {
      "cell_type": "code",
      "execution_count": null,
      "metadata": {
        "id": "rgVcrQbM4pMM"
      },
      "outputs": [],
      "source": [
        "# Testing on a Demo Video"
      ]
    },
    {
      "cell_type": "code",
      "execution_count": null,
      "metadata": {
        "id": "cu032Udl4ruT"
      },
      "outputs": [],
      "source": [
        "%cd {HOME}\n",
        "!yolo task=detect mode=predict model={HOME}/runs/detect/train2/weights/best.pt conf=0.25 source='/content/demo.mp4'"
      ]
    },
    {
      "cell_type": "code",
      "execution_count": null,
      "metadata": {
        "id": "3lOY75MP4pX2"
      },
      "outputs": [],
      "source": [
        "# Display the Demo Video"
      ]
    },
    {
      "cell_type": "code",
      "execution_count": null,
      "metadata": {
        "id": "NRpAdQkc4-YQ"
      },
      "outputs": [],
      "source": [
        "!rm \"/content/result_compressed.mp4\""
      ]
    },
    {
      "cell_type": "code",
      "execution_count": null,
      "metadata": {
        "id": "5Sw3faaa4-bX"
      },
      "outputs": [],
      "source": [
        "from IPython.display import HTML\n",
        "from base64 import b64encode\n",
        "import os\n",
        "\n",
        "# Input video path\n",
        "save_path = '/content/runs/detect/predict10/demo3.mp4'\n",
        "\n",
        "# Compressed video path\n",
        "compressed_path = \"/content/result_compressed.mp4\"\n",
        "\n",
        "os.system(f\"ffmpeg -i {save_path} -vcodec libx264 {compressed_path}\")\n",
        "\n",
        "# Show video\n",
        "mp4 = open(compressed_path,'rb').read()\n",
        "data_url = \"data:video/mp4;base64,\" + b64encode(mp4).decode()\n",
        "HTML(\"\"\"\n",
        "<video width=400 controls>\n",
        "      <source src=\"%s\" type=\"video/mp4\">\n",
        "</video>\n",
        "\"\"\" % data_url)"
      ]
    }
  ],
  "metadata": {
    "accelerator": "TPU",
    "colab": {
      "gpuType": "V28",
      "provenance": []
    },
    "kernelspec": {
      "display_name": "Python 3",
      "name": "python3"
    },
    "language_info": {
      "name": "python"
    }
  },
  "nbformat": 4,
  "nbformat_minor": 0
}