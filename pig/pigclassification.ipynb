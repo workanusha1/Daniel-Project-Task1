{
  "nbformat": 4,
  "nbformat_minor": 0,
  "metadata": {
    "colab": {
      "provenance": [],
      "gpuType": "T4"
    },
    "kernelspec": {
      "name": "python3",
      "display_name": "Python 3"
    },
    "language_info": {
      "name": "python"
    },
    "accelerator": "GPU"
  },
  "cells": [
    {
      "cell_type": "code",
      "execution_count": 1,
      "metadata": {
        "colab": {
          "base_uri": "https://localhost:8080/"
        },
        "id": "CQIyysUR58T-",
        "outputId": "95abc2bc-b344-4e9d-8da1-f9d6c5e77bc4"
      },
      "outputs": [
        {
          "output_type": "stream",
          "name": "stdout",
          "text": [
            "Mounted at /content/gdrive\n"
          ]
        }
      ],
      "source": [
        "from google.colab import drive\n",
        "drive.mount('/content/gdrive')"
      ]
    },
    {
      "cell_type": "code",
      "source": [
        "!ls \"/content/gdrive/MyDrive\""
      ],
      "metadata": {
        "colab": {
          "base_uri": "https://localhost:8080/"
        },
        "id": "qreFQQFJ7coB",
        "outputId": "c8a1d545-8e33-42e0-cec2-2b8d028a69d2"
      },
      "execution_count": 2,
      "outputs": [
        {
          "output_type": "stream",
          "name": "stdout",
          "text": [
            "'10 jan 2024 data agumentation.ipynb'\n",
            " 11.jpg\n",
            "'13th _jan _2024_data_Agumentation.ipynb'\n",
            " 1_OCR-service-dev-anusha.zip\n",
            " 1.pdf\n",
            " 1.pptx\n",
            " 1.txt\n",
            " 20230118_Nous_API_Doc.docx\n",
            " 29thjuly-ocr.zip\n",
            "'3oth oct.ipynb'\n",
            " 46162173_Anusha.docx\n",
            " 46162173.docx\n",
            " 46162173_EN_Upload.docx\n",
            " 7cd8c36f-7a1b-4070-9f6c-bba201fd4c3c.pdf\n",
            " 8.txt\n",
            "'amazon and twitter hint.txt'\n",
            " Annual_Compensation.pdf\n",
            " Anusha_Projects.txt\n",
            " Application-of-Sentiment-Analysis-and-Character-labelling-main.zip\n",
            " archive.zip\n",
            " certificate.png\n",
            " CODE-1.txt\n",
            " code-Fire-Smoke-Object-Detection-dev-anusha.zip\n",
            " code-fire.txt\n",
            "'Colab Notebooks'\n",
            " cow_data.zip\n",
            " error.png\n",
            " Fire-Smoke-Object-Detection-dev-anusha.zip\n",
            " genai_notes.pdf\n",
            " goat_data.zip\n",
            "'How to get started (1).docx'\n",
            " image_classification.pdf\n",
            " image-segmentation-dev-shiv.zip\n",
            "'IMDB Dataset.zip'\n",
            " IntroToNLP.ppt\n",
            " lec01-overview.PPT\n",
            "'mango-drone-project (1).zip'\n",
            " man.png\n",
            " model_edit.txt\n",
            " notebook_utils.py\n",
            "'Nous AWS EC2.postman_environment.json'\n",
            " Nous.postman_collection.json\n",
            "'Object_Detection_Neural_Network(NN)_Training.pdf'\n",
            "'ocr detection.postman_collection.json'\n",
            " openvino_object_detection.ipynb\n",
            " openvino_object_detection.py\n",
            " pig_data.zip\n",
            " Postman.exe\n",
            "'postman issue.jpg'\n",
            " privatekeyazure.ppk\n",
            " py-flask.zip\n",
            "'query issue.txt'\n",
            " requirements.txt\n",
            " sample-json-face.txt\n",
            " sheep_data.zip\n",
            "'task_nlp (1).pdf'\n",
            "'task_nlp (1).pptx'\n",
            " task_nlp.pdf\n",
            " task_nlp.pptx\n",
            " task.txt\n",
            " trp_nous_document.docx\n",
            "'Tweets Data.zip'\n",
            " twitter_nlp-beginner-text-classification-using-ls-1e84c1.ipynb\n",
            " Untitled.txt\n",
            "'updated json output.txt'\n"
          ]
        }
      ]
    },
    {
      "cell_type": "code",
      "source": [
        "DATA_DIR = \"/content/gdrive/MyDrive/pig_data.zip\""
      ],
      "metadata": {
        "id": "p6EG1G2-7oYE"
      },
      "execution_count": 3,
      "outputs": []
    },
    {
      "cell_type": "code",
      "source": [
        "!pip install ultralytics"
      ],
      "metadata": {
        "colab": {
          "base_uri": "https://localhost:8080/"
        },
        "id": "OD3bnT2X7obc",
        "outputId": "6db929ac-0f54-4e12-d851-90fc2739147b"
      },
      "execution_count": 4,
      "outputs": [
        {
          "output_type": "stream",
          "name": "stdout",
          "text": [
            "Collecting ultralytics\n",
            "  Downloading ultralytics-8.2.7-py3-none-any.whl (755 kB)\n",
            "\u001b[2K     \u001b[90m━━━━━━━━━━━━━━━━━━━━━━━━━━━━━━━━━━━━━━━━\u001b[0m \u001b[32m755.1/755.1 kB\u001b[0m \u001b[31m2.1 MB/s\u001b[0m eta \u001b[36m0:00:00\u001b[0m\n",
            "\u001b[?25hRequirement already satisfied: matplotlib>=3.3.0 in /usr/local/lib/python3.10/dist-packages (from ultralytics) (3.7.1)\n",
            "Requirement already satisfied: opencv-python>=4.6.0 in /usr/local/lib/python3.10/dist-packages (from ultralytics) (4.8.0.76)\n",
            "Requirement already satisfied: pillow>=7.1.2 in /usr/local/lib/python3.10/dist-packages (from ultralytics) (9.4.0)\n",
            "Requirement already satisfied: pyyaml>=5.3.1 in /usr/local/lib/python3.10/dist-packages (from ultralytics) (6.0.1)\n",
            "Requirement already satisfied: requests>=2.23.0 in /usr/local/lib/python3.10/dist-packages (from ultralytics) (2.31.0)\n",
            "Requirement already satisfied: scipy>=1.4.1 in /usr/local/lib/python3.10/dist-packages (from ultralytics) (1.11.4)\n",
            "Requirement already satisfied: torch>=1.8.0 in /usr/local/lib/python3.10/dist-packages (from ultralytics) (2.2.1+cu121)\n",
            "Requirement already satisfied: torchvision>=0.9.0 in /usr/local/lib/python3.10/dist-packages (from ultralytics) (0.17.1+cu121)\n",
            "Requirement already satisfied: tqdm>=4.64.0 in /usr/local/lib/python3.10/dist-packages (from ultralytics) (4.66.2)\n",
            "Requirement already satisfied: psutil in /usr/local/lib/python3.10/dist-packages (from ultralytics) (5.9.5)\n",
            "Requirement already satisfied: py-cpuinfo in /usr/local/lib/python3.10/dist-packages (from ultralytics) (9.0.0)\n",
            "Collecting thop>=0.1.1 (from ultralytics)\n",
            "  Downloading thop-0.1.1.post2209072238-py3-none-any.whl (15 kB)\n",
            "Requirement already satisfied: pandas>=1.1.4 in /usr/local/lib/python3.10/dist-packages (from ultralytics) (2.0.3)\n",
            "Requirement already satisfied: seaborn>=0.11.0 in /usr/local/lib/python3.10/dist-packages (from ultralytics) (0.13.1)\n",
            "Requirement already satisfied: contourpy>=1.0.1 in /usr/local/lib/python3.10/dist-packages (from matplotlib>=3.3.0->ultralytics) (1.2.1)\n",
            "Requirement already satisfied: cycler>=0.10 in /usr/local/lib/python3.10/dist-packages (from matplotlib>=3.3.0->ultralytics) (0.12.1)\n",
            "Requirement already satisfied: fonttools>=4.22.0 in /usr/local/lib/python3.10/dist-packages (from matplotlib>=3.3.0->ultralytics) (4.51.0)\n",
            "Requirement already satisfied: kiwisolver>=1.0.1 in /usr/local/lib/python3.10/dist-packages (from matplotlib>=3.3.0->ultralytics) (1.4.5)\n",
            "Requirement already satisfied: numpy>=1.20 in /usr/local/lib/python3.10/dist-packages (from matplotlib>=3.3.0->ultralytics) (1.25.2)\n",
            "Requirement already satisfied: packaging>=20.0 in /usr/local/lib/python3.10/dist-packages (from matplotlib>=3.3.0->ultralytics) (24.0)\n",
            "Requirement already satisfied: pyparsing>=2.3.1 in /usr/local/lib/python3.10/dist-packages (from matplotlib>=3.3.0->ultralytics) (3.1.2)\n",
            "Requirement already satisfied: python-dateutil>=2.7 in /usr/local/lib/python3.10/dist-packages (from matplotlib>=3.3.0->ultralytics) (2.8.2)\n",
            "Requirement already satisfied: pytz>=2020.1 in /usr/local/lib/python3.10/dist-packages (from pandas>=1.1.4->ultralytics) (2023.4)\n",
            "Requirement already satisfied: tzdata>=2022.1 in /usr/local/lib/python3.10/dist-packages (from pandas>=1.1.4->ultralytics) (2024.1)\n",
            "Requirement already satisfied: charset-normalizer<4,>=2 in /usr/local/lib/python3.10/dist-packages (from requests>=2.23.0->ultralytics) (3.3.2)\n",
            "Requirement already satisfied: idna<4,>=2.5 in /usr/local/lib/python3.10/dist-packages (from requests>=2.23.0->ultralytics) (3.7)\n",
            "Requirement already satisfied: urllib3<3,>=1.21.1 in /usr/local/lib/python3.10/dist-packages (from requests>=2.23.0->ultralytics) (2.0.7)\n",
            "Requirement already satisfied: certifi>=2017.4.17 in /usr/local/lib/python3.10/dist-packages (from requests>=2.23.0->ultralytics) (2024.2.2)\n",
            "Requirement already satisfied: filelock in /usr/local/lib/python3.10/dist-packages (from torch>=1.8.0->ultralytics) (3.14.0)\n",
            "Requirement already satisfied: typing-extensions>=4.8.0 in /usr/local/lib/python3.10/dist-packages (from torch>=1.8.0->ultralytics) (4.11.0)\n",
            "Requirement already satisfied: sympy in /usr/local/lib/python3.10/dist-packages (from torch>=1.8.0->ultralytics) (1.12)\n",
            "Requirement already satisfied: networkx in /usr/local/lib/python3.10/dist-packages (from torch>=1.8.0->ultralytics) (3.3)\n",
            "Requirement already satisfied: jinja2 in /usr/local/lib/python3.10/dist-packages (from torch>=1.8.0->ultralytics) (3.1.3)\n",
            "Requirement already satisfied: fsspec in /usr/local/lib/python3.10/dist-packages (from torch>=1.8.0->ultralytics) (2023.6.0)\n",
            "Collecting nvidia-cuda-nvrtc-cu12==12.1.105 (from torch>=1.8.0->ultralytics)\n",
            "  Using cached nvidia_cuda_nvrtc_cu12-12.1.105-py3-none-manylinux1_x86_64.whl (23.7 MB)\n",
            "Collecting nvidia-cuda-runtime-cu12==12.1.105 (from torch>=1.8.0->ultralytics)\n",
            "  Using cached nvidia_cuda_runtime_cu12-12.1.105-py3-none-manylinux1_x86_64.whl (823 kB)\n",
            "Collecting nvidia-cuda-cupti-cu12==12.1.105 (from torch>=1.8.0->ultralytics)\n",
            "  Using cached nvidia_cuda_cupti_cu12-12.1.105-py3-none-manylinux1_x86_64.whl (14.1 MB)\n",
            "Collecting nvidia-cudnn-cu12==8.9.2.26 (from torch>=1.8.0->ultralytics)\n",
            "  Using cached nvidia_cudnn_cu12-8.9.2.26-py3-none-manylinux1_x86_64.whl (731.7 MB)\n",
            "Collecting nvidia-cublas-cu12==12.1.3.1 (from torch>=1.8.0->ultralytics)\n",
            "  Using cached nvidia_cublas_cu12-12.1.3.1-py3-none-manylinux1_x86_64.whl (410.6 MB)\n",
            "Collecting nvidia-cufft-cu12==11.0.2.54 (from torch>=1.8.0->ultralytics)\n",
            "  Using cached nvidia_cufft_cu12-11.0.2.54-py3-none-manylinux1_x86_64.whl (121.6 MB)\n",
            "Collecting nvidia-curand-cu12==10.3.2.106 (from torch>=1.8.0->ultralytics)\n",
            "  Using cached nvidia_curand_cu12-10.3.2.106-py3-none-manylinux1_x86_64.whl (56.5 MB)\n",
            "Collecting nvidia-cusolver-cu12==11.4.5.107 (from torch>=1.8.0->ultralytics)\n",
            "  Using cached nvidia_cusolver_cu12-11.4.5.107-py3-none-manylinux1_x86_64.whl (124.2 MB)\n",
            "Collecting nvidia-cusparse-cu12==12.1.0.106 (from torch>=1.8.0->ultralytics)\n",
            "  Using cached nvidia_cusparse_cu12-12.1.0.106-py3-none-manylinux1_x86_64.whl (196.0 MB)\n",
            "Collecting nvidia-nccl-cu12==2.19.3 (from torch>=1.8.0->ultralytics)\n",
            "  Using cached nvidia_nccl_cu12-2.19.3-py3-none-manylinux1_x86_64.whl (166.0 MB)\n",
            "Collecting nvidia-nvtx-cu12==12.1.105 (from torch>=1.8.0->ultralytics)\n",
            "  Using cached nvidia_nvtx_cu12-12.1.105-py3-none-manylinux1_x86_64.whl (99 kB)\n",
            "Requirement already satisfied: triton==2.2.0 in /usr/local/lib/python3.10/dist-packages (from torch>=1.8.0->ultralytics) (2.2.0)\n",
            "Collecting nvidia-nvjitlink-cu12 (from nvidia-cusolver-cu12==11.4.5.107->torch>=1.8.0->ultralytics)\n",
            "  Using cached nvidia_nvjitlink_cu12-12.4.127-py3-none-manylinux2014_x86_64.whl (21.1 MB)\n",
            "Requirement already satisfied: six>=1.5 in /usr/local/lib/python3.10/dist-packages (from python-dateutil>=2.7->matplotlib>=3.3.0->ultralytics) (1.16.0)\n",
            "Requirement already satisfied: MarkupSafe>=2.0 in /usr/local/lib/python3.10/dist-packages (from jinja2->torch>=1.8.0->ultralytics) (2.1.5)\n",
            "Requirement already satisfied: mpmath>=0.19 in /usr/local/lib/python3.10/dist-packages (from sympy->torch>=1.8.0->ultralytics) (1.3.0)\n",
            "Installing collected packages: nvidia-nvtx-cu12, nvidia-nvjitlink-cu12, nvidia-nccl-cu12, nvidia-curand-cu12, nvidia-cufft-cu12, nvidia-cuda-runtime-cu12, nvidia-cuda-nvrtc-cu12, nvidia-cuda-cupti-cu12, nvidia-cublas-cu12, nvidia-cusparse-cu12, nvidia-cudnn-cu12, nvidia-cusolver-cu12, thop, ultralytics\n",
            "Successfully installed nvidia-cublas-cu12-12.1.3.1 nvidia-cuda-cupti-cu12-12.1.105 nvidia-cuda-nvrtc-cu12-12.1.105 nvidia-cuda-runtime-cu12-12.1.105 nvidia-cudnn-cu12-8.9.2.26 nvidia-cufft-cu12-11.0.2.54 nvidia-curand-cu12-10.3.2.106 nvidia-cusolver-cu12-11.4.5.107 nvidia-cusparse-cu12-12.1.0.106 nvidia-nccl-cu12-2.19.3 nvidia-nvjitlink-cu12-12.4.127 nvidia-nvtx-cu12-12.1.105 thop-0.1.1.post2209072238 ultralytics-8.2.7\n"
          ]
        }
      ]
    },
    {
      "cell_type": "code",
      "source": [
        "!unzip \"/content/gdrive/MyDrive/pig_data.zip\""
      ],
      "metadata": {
        "colab": {
          "base_uri": "https://localhost:8080/"
        },
        "id": "cNqNwRa57oe8",
        "outputId": "a416ce42-6357-4488-aad2-635b331fc5b8"
      },
      "execution_count": 5,
      "outputs": [
        {
          "output_type": "stream",
          "name": "stdout",
          "text": [
            "\u001b[1;30;43mStreaming output truncated to the last 5000 lines.\u001b[0m\n",
            "  inflating: pig_data/train/eating/pig/00_pig1094.jpg  \n",
            "  inflating: pig_data/train/eating/pig/00_pig1095.jpg  \n",
            "  inflating: pig_data/train/eating/pig/00_pig1096.jpg  \n",
            "  inflating: pig_data/train/eating/pig/00_pig1097.jpg  \n",
            "  inflating: pig_data/train/eating/pig/00_pig1098.jpg  \n",
            "  inflating: pig_data/train/eating/pig/00_pig1099.jpg  \n",
            "  inflating: pig_data/train/eating/pig/00_pig11.jpg  \n",
            "  inflating: pig_data/train/eating/pig/00_pig110.jpg  \n",
            "  inflating: pig_data/train/eating/pig/00_pig1100.jpg  \n",
            "  inflating: pig_data/train/eating/pig/00_pig1101.jpg  \n",
            "  inflating: pig_data/train/eating/pig/00_pig1102.jpg  \n",
            "  inflating: pig_data/train/eating/pig/00_pig1103.jpg  \n",
            "  inflating: pig_data/train/eating/pig/00_pig1104.jpg  \n",
            "  inflating: pig_data/train/eating/pig/00_pig1105.jpg  \n",
            "  inflating: pig_data/train/eating/pig/00_pig1106.jpg  \n",
            "  inflating: pig_data/train/eating/pig/00_pig1107.jpg  \n",
            "  inflating: pig_data/train/eating/pig/00_pig1108.jpg  \n",
            "  inflating: pig_data/train/eating/pig/00_pig1109.jpg  \n",
            "  inflating: pig_data/train/eating/pig/00_pig111.jpg  \n",
            "  inflating: pig_data/train/eating/pig/00_pig1110.jpg  \n",
            "  inflating: pig_data/train/eating/pig/00_pig1111.jpg  \n",
            "  inflating: pig_data/train/eating/pig/00_pig1112.jpg  \n",
            "  inflating: pig_data/train/eating/pig/00_pig1113.jpg  \n",
            "  inflating: pig_data/train/eating/pig/00_pig1114.jpg  \n",
            "  inflating: pig_data/train/eating/pig/00_pig1115.jpg  \n",
            "  inflating: pig_data/train/eating/pig/00_pig1116.jpg  \n",
            "  inflating: pig_data/train/eating/pig/00_pig1117.jpg  \n",
            "  inflating: pig_data/train/eating/pig/00_pig1118.jpg  \n",
            "  inflating: pig_data/train/eating/pig/00_pig1119.jpg  \n",
            "  inflating: pig_data/train/eating/pig/00_pig112.jpg  \n",
            "  inflating: pig_data/train/eating/pig/00_pig1120.jpg  \n",
            "  inflating: pig_data/train/eating/pig/00_pig1121.jpg  \n",
            "  inflating: pig_data/train/eating/pig/00_pig1122.jpg  \n",
            "  inflating: pig_data/train/eating/pig/00_pig1123.jpg  \n",
            "  inflating: pig_data/train/eating/pig/00_pig1124.jpg  \n",
            "  inflating: pig_data/train/eating/pig/00_pig1125.jpg  \n",
            "  inflating: pig_data/train/eating/pig/00_pig1126.jpg  \n",
            "  inflating: pig_data/train/eating/pig/00_pig1127.jpg  \n",
            "  inflating: pig_data/train/eating/pig/00_pig1128.jpg  \n",
            "  inflating: pig_data/train/eating/pig/00_pig1129.jpg  \n",
            "  inflating: pig_data/train/eating/pig/00_pig113.jpg  \n",
            "  inflating: pig_data/train/eating/pig/00_pig1130.jpg  \n",
            "  inflating: pig_data/train/eating/pig/00_pig1131.jpg  \n",
            "  inflating: pig_data/train/eating/pig/00_pig1132.jpg  \n",
            "  inflating: pig_data/train/eating/pig/00_pig1133.jpg  \n",
            "  inflating: pig_data/train/eating/pig/00_pig1134.jpg  \n",
            "  inflating: pig_data/train/eating/pig/00_pig1135.jpg  \n",
            "  inflating: pig_data/train/eating/pig/00_pig1136.jpg  \n",
            "  inflating: pig_data/train/eating/pig/00_pig1137.jpg  \n",
            "  inflating: pig_data/train/eating/pig/00_pig1138.jpg  \n",
            "  inflating: pig_data/train/eating/pig/00_pig1139.jpg  \n",
            "  inflating: pig_data/train/eating/pig/00_pig114.jpg  \n",
            "  inflating: pig_data/train/eating/pig/00_pig1140.jpg  \n",
            "  inflating: pig_data/train/eating/pig/00_pig1141.jpg  \n",
            "  inflating: pig_data/train/eating/pig/00_pig1142.jpg  \n",
            "  inflating: pig_data/train/eating/pig/00_pig1143.jpg  \n",
            "  inflating: pig_data/train/eating/pig/00_pig1144.jpg  \n",
            "  inflating: pig_data/train/eating/pig/00_pig1145.jpg  \n",
            "  inflating: pig_data/train/eating/pig/00_pig1146.jpg  \n",
            "  inflating: pig_data/train/eating/pig/00_pig1147.jpg  \n",
            "  inflating: pig_data/train/eating/pig/00_pig1148.jpg  \n",
            "  inflating: pig_data/train/eating/pig/00_pig1149.jpg  \n",
            "  inflating: pig_data/train/eating/pig/00_pig115.jpg  \n",
            "  inflating: pig_data/train/eating/pig/00_pig1150.jpg  \n",
            "  inflating: pig_data/train/eating/pig/00_pig1151.jpg  \n",
            "  inflating: pig_data/train/eating/pig/00_pig1152.jpg  \n",
            "  inflating: pig_data/train/eating/pig/00_pig1153.jpg  \n",
            "  inflating: pig_data/train/eating/pig/00_pig1154.jpg  \n",
            "  inflating: pig_data/train/eating/pig/00_pig1155.jpg  \n",
            "  inflating: pig_data/train/eating/pig/00_pig1156.jpg  \n",
            "  inflating: pig_data/train/eating/pig/00_pig1157.jpg  \n",
            "  inflating: pig_data/train/eating/pig/00_pig1158.jpg  \n",
            "  inflating: pig_data/train/eating/pig/00_pig1159.jpg  \n",
            "  inflating: pig_data/train/eating/pig/00_pig116.jpg  \n",
            "  inflating: pig_data/train/eating/pig/00_pig1160.jpg  \n",
            "  inflating: pig_data/train/eating/pig/00_pig1161.jpg  \n",
            "  inflating: pig_data/train/eating/pig/00_pig1162.jpg  \n",
            "  inflating: pig_data/train/eating/pig/00_pig1163.jpg  \n",
            "  inflating: pig_data/train/eating/pig/00_pig1164.jpg  \n",
            "  inflating: pig_data/train/eating/pig/00_pig1165.jpg  \n",
            "  inflating: pig_data/train/eating/pig/00_pig1166.jpg  \n",
            "  inflating: pig_data/train/eating/pig/00_pig1167.jpg  \n",
            "  inflating: pig_data/train/eating/pig/00_pig1168.jpg  \n",
            "  inflating: pig_data/train/eating/pig/00_pig1169.jpg  \n",
            "  inflating: pig_data/train/eating/pig/00_pig117.jpg  \n",
            "  inflating: pig_data/train/eating/pig/00_pig1170.jpg  \n",
            "  inflating: pig_data/train/eating/pig/00_pig1171.jpg  \n",
            "  inflating: pig_data/train/eating/pig/00_pig1172.jpg  \n",
            "  inflating: pig_data/train/eating/pig/00_pig1173.jpg  \n",
            "  inflating: pig_data/train/eating/pig/00_pig1174.jpg  \n",
            "  inflating: pig_data/train/eating/pig/00_pig1175.jpg  \n",
            "  inflating: pig_data/train/eating/pig/00_pig1176.jpg  \n",
            "  inflating: pig_data/train/eating/pig/00_pig1177.jpg  \n",
            "  inflating: pig_data/train/eating/pig/00_pig1178.jpg  \n",
            "  inflating: pig_data/train/eating/pig/00_pig1179.jpg  \n",
            "  inflating: pig_data/train/eating/pig/00_pig118.jpg  \n",
            "  inflating: pig_data/train/eating/pig/00_pig1180.jpg  \n",
            "  inflating: pig_data/train/eating/pig/00_pig1181.jpg  \n",
            "  inflating: pig_data/train/eating/pig/00_pig1182.jpg  \n",
            "  inflating: pig_data/train/eating/pig/00_pig1183.jpg  \n",
            "  inflating: pig_data/train/eating/pig/00_pig1184.jpg  \n",
            "  inflating: pig_data/train/eating/pig/00_pig1185.jpg  \n",
            "  inflating: pig_data/train/eating/pig/00_pig1186.jpg  \n",
            "  inflating: pig_data/train/eating/pig/00_pig1187.jpg  \n",
            "  inflating: pig_data/train/eating/pig/00_pig1188.jpg  \n",
            "  inflating: pig_data/train/eating/pig/00_pig1189.jpg  \n",
            "  inflating: pig_data/train/eating/pig/00_pig119.jpg  \n",
            "  inflating: pig_data/train/eating/pig/00_pig1190.jpg  \n",
            "  inflating: pig_data/train/eating/pig/00_pig1191.jpg  \n",
            "  inflating: pig_data/train/eating/pig/00_pig1192.jpg  \n",
            "  inflating: pig_data/train/eating/pig/00_pig1193.jpg  \n",
            "  inflating: pig_data/train/eating/pig/00_pig1194.jpg  \n",
            "  inflating: pig_data/train/eating/pig/00_pig1195.jpg  \n",
            "  inflating: pig_data/train/eating/pig/00_pig1196.jpg  \n",
            "  inflating: pig_data/train/eating/pig/00_pig1197.jpg  \n",
            "  inflating: pig_data/train/eating/pig/00_pig1198.jpg  \n",
            "  inflating: pig_data/train/eating/pig/00_pig1199.jpg  \n",
            "  inflating: pig_data/train/eating/pig/00_pig12.jpg  \n",
            "  inflating: pig_data/train/eating/pig/00_pig120.jpg  \n",
            "  inflating: pig_data/train/eating/pig/00_pig1200.jpg  \n",
            "  inflating: pig_data/train/eating/pig/00_pig1201.jpg  \n",
            "  inflating: pig_data/train/eating/pig/00_pig1202.jpg  \n",
            "  inflating: pig_data/train/eating/pig/00_pig1203.jpg  \n",
            "  inflating: pig_data/train/eating/pig/00_pig1204.jpg  \n",
            "  inflating: pig_data/train/eating/pig/00_pig1205.jpg  \n",
            "  inflating: pig_data/train/eating/pig/00_pig1206.jpg  \n",
            "  inflating: pig_data/train/eating/pig/00_pig1207.jpg  \n",
            "  inflating: pig_data/train/eating/pig/00_pig1208.jpg  \n",
            "  inflating: pig_data/train/eating/pig/00_pig1209.jpg  \n",
            "  inflating: pig_data/train/eating/pig/00_pig121.jpg  \n",
            "  inflating: pig_data/train/eating/pig/00_pig1210.jpg  \n",
            "  inflating: pig_data/train/eating/pig/00_pig1211.jpg  \n",
            "  inflating: pig_data/train/eating/pig/00_pig1212.jpg  \n",
            "  inflating: pig_data/train/eating/pig/00_pig1213.jpg  \n",
            "  inflating: pig_data/train/eating/pig/00_pig1214.jpg  \n",
            "  inflating: pig_data/train/eating/pig/00_pig1215.jpg  \n",
            "  inflating: pig_data/train/eating/pig/00_pig1216.jpg  \n",
            "  inflating: pig_data/train/eating/pig/00_pig1217.jpg  \n",
            "  inflating: pig_data/train/eating/pig/00_pig1218.jpg  \n",
            "  inflating: pig_data/train/eating/pig/00_pig1219.jpg  \n",
            "  inflating: pig_data/train/eating/pig/00_pig122.jpg  \n",
            "  inflating: pig_data/train/eating/pig/00_pig1220.jpg  \n",
            "  inflating: pig_data/train/eating/pig/00_pig1221.jpg  \n",
            "  inflating: pig_data/train/eating/pig/00_pig1222.jpg  \n",
            "  inflating: pig_data/train/eating/pig/00_pig1223.jpg  \n",
            "  inflating: pig_data/train/eating/pig/00_pig1224.jpg  \n",
            "  inflating: pig_data/train/eating/pig/00_pig1225.jpg  \n",
            "  inflating: pig_data/train/eating/pig/00_pig1226.jpg  \n",
            "  inflating: pig_data/train/eating/pig/00_pig1227.jpg  \n",
            "  inflating: pig_data/train/eating/pig/00_pig1228.jpg  \n",
            "  inflating: pig_data/train/eating/pig/00_pig1229.jpg  \n",
            "  inflating: pig_data/train/eating/pig/00_pig123.jpg  \n",
            "  inflating: pig_data/train/eating/pig/00_pig1230.jpg  \n",
            "  inflating: pig_data/train/eating/pig/00_pig1231.jpg  \n",
            "  inflating: pig_data/train/eating/pig/00_pig1232.jpg  \n",
            "  inflating: pig_data/train/eating/pig/00_pig1233.jpg  \n",
            "  inflating: pig_data/train/eating/pig/00_pig1234.jpg  \n",
            "  inflating: pig_data/train/eating/pig/00_pig1235.jpg  \n",
            "  inflating: pig_data/train/eating/pig/00_pig1236.jpg  \n",
            "  inflating: pig_data/train/eating/pig/00_pig1237.jpg  \n",
            "  inflating: pig_data/train/eating/pig/00_pig1238.jpg  \n",
            "  inflating: pig_data/train/eating/pig/00_pig1239.jpg  \n",
            "  inflating: pig_data/train/eating/pig/00_pig124.jpg  \n",
            "  inflating: pig_data/train/eating/pig/00_pig1240.jpg  \n",
            "  inflating: pig_data/train/eating/pig/00_pig1241.jpg  \n",
            "  inflating: pig_data/train/eating/pig/00_pig1242.jpg  \n",
            "  inflating: pig_data/train/eating/pig/00_pig1243.jpg  \n",
            "  inflating: pig_data/train/eating/pig/00_pig1244.jpg  \n",
            "  inflating: pig_data/train/eating/pig/00_pig1245.jpg  \n",
            "  inflating: pig_data/train/eating/pig/00_pig1246.jpg  \n",
            "  inflating: pig_data/train/eating/pig/00_pig1247.jpg  \n",
            "  inflating: pig_data/train/eating/pig/00_pig1248.jpg  \n",
            "  inflating: pig_data/train/eating/pig/00_pig1249.jpg  \n",
            "  inflating: pig_data/train/eating/pig/00_pig125.jpg  \n",
            "  inflating: pig_data/train/eating/pig/00_pig1250.jpg  \n",
            "  inflating: pig_data/train/eating/pig/00_pig1251.jpg  \n",
            "  inflating: pig_data/train/eating/pig/00_pig1252.jpg  \n",
            "  inflating: pig_data/train/eating/pig/00_pig1253.jpg  \n",
            "  inflating: pig_data/train/eating/pig/00_pig1254.jpg  \n",
            "  inflating: pig_data/train/eating/pig/00_pig1255.jpg  \n",
            "  inflating: pig_data/train/eating/pig/00_pig1256.jpg  \n",
            "  inflating: pig_data/train/eating/pig/00_pig1257.jpg  \n",
            "  inflating: pig_data/train/eating/pig/00_pig1258.jpg  \n",
            "  inflating: pig_data/train/eating/pig/00_pig1259.jpg  \n",
            "  inflating: pig_data/train/eating/pig/00_pig126.jpg  \n",
            "  inflating: pig_data/train/eating/pig/00_pig1260.jpg  \n",
            "  inflating: pig_data/train/eating/pig/00_pig1261.jpg  \n",
            "  inflating: pig_data/train/eating/pig/00_pig1262.jpg  \n",
            "  inflating: pig_data/train/eating/pig/00_pig1263.jpg  \n",
            "  inflating: pig_data/train/eating/pig/00_pig1264.jpg  \n",
            "  inflating: pig_data/train/eating/pig/00_pig1265.jpg  \n",
            "  inflating: pig_data/train/eating/pig/00_pig1266.jpg  \n",
            "  inflating: pig_data/train/eating/pig/00_pig1267.jpg  \n",
            "  inflating: pig_data/train/eating/pig/00_pig1268.jpg  \n",
            "  inflating: pig_data/train/eating/pig/00_pig1269.jpg  \n",
            "  inflating: pig_data/train/eating/pig/00_pig127.jpg  \n",
            "  inflating: pig_data/train/eating/pig/00_pig1270.jpg  \n",
            "  inflating: pig_data/train/eating/pig/00_pig1271.jpg  \n",
            "  inflating: pig_data/train/eating/pig/00_pig1272.jpg  \n",
            "  inflating: pig_data/train/eating/pig/00_pig1273.jpg  \n",
            "  inflating: pig_data/train/eating/pig/00_pig1274.jpg  \n",
            "  inflating: pig_data/train/eating/pig/00_pig1275.jpg  \n",
            "  inflating: pig_data/train/eating/pig/00_pig1276.jpg  \n",
            "  inflating: pig_data/train/eating/pig/00_pig1277.jpg  \n",
            "  inflating: pig_data/train/eating/pig/00_pig1278.jpg  \n",
            "  inflating: pig_data/train/eating/pig/00_pig1279.jpg  \n",
            "  inflating: pig_data/train/eating/pig/00_pig128.jpg  \n",
            "  inflating: pig_data/train/eating/pig/00_pig1280.jpg  \n",
            "  inflating: pig_data/train/eating/pig/00_pig1281.jpg  \n",
            "  inflating: pig_data/train/eating/pig/00_pig1282.jpg  \n",
            "  inflating: pig_data/train/eating/pig/00_pig1283.jpg  \n",
            "  inflating: pig_data/train/eating/pig/00_pig1284.jpg  \n",
            "  inflating: pig_data/train/eating/pig/00_pig1285.jpg  \n",
            "  inflating: pig_data/train/eating/pig/00_pig1286.jpg  \n",
            "  inflating: pig_data/train/eating/pig/00_pig1287.jpg  \n",
            "  inflating: pig_data/train/eating/pig/00_pig1288.jpg  \n",
            "  inflating: pig_data/train/eating/pig/00_pig1289.jpg  \n",
            "  inflating: pig_data/train/eating/pig/00_pig129.jpg  \n",
            "  inflating: pig_data/train/eating/pig/00_pig1290.jpg  \n",
            "  inflating: pig_data/train/eating/pig/00_pig1291.jpg  \n",
            "  inflating: pig_data/train/eating/pig/00_pig1292.jpg  \n",
            "  inflating: pig_data/train/eating/pig/00_pig1293.jpg  \n",
            "  inflating: pig_data/train/eating/pig/00_pig1294.jpg  \n",
            "  inflating: pig_data/train/eating/pig/00_pig1295.jpg  \n",
            "  inflating: pig_data/train/eating/pig/00_pig1296.jpg  \n",
            "  inflating: pig_data/train/eating/pig/00_pig1297.jpg  \n",
            "  inflating: pig_data/train/eating/pig/00_pig1298.jpg  \n",
            "  inflating: pig_data/train/eating/pig/00_pig1299.jpg  \n",
            "  inflating: pig_data/train/eating/pig/00_pig13.jpg  \n",
            "  inflating: pig_data/train/eating/pig/00_pig130.jpg  \n",
            "  inflating: pig_data/train/eating/pig/00_pig1300.jpg  \n",
            "  inflating: pig_data/train/eating/pig/00_pig1301.jpg  \n",
            "  inflating: pig_data/train/eating/pig/00_pig1302.jpg  \n",
            "  inflating: pig_data/train/eating/pig/00_pig1303.jpg  \n",
            "  inflating: pig_data/train/eating/pig/00_pig1304.jpg  \n",
            "  inflating: pig_data/train/eating/pig/00_pig1305.jpg  \n",
            "  inflating: pig_data/train/eating/pig/00_pig1306.jpg  \n",
            "  inflating: pig_data/train/eating/pig/00_pig1307.jpg  \n",
            "  inflating: pig_data/train/eating/pig/00_pig1308.jpg  \n",
            "  inflating: pig_data/train/eating/pig/00_pig1309.jpg  \n",
            "  inflating: pig_data/train/eating/pig/00_pig131.jpg  \n",
            "  inflating: pig_data/train/eating/pig/00_pig1310.jpg  \n",
            "  inflating: pig_data/train/eating/pig/00_pig1311.jpg  \n",
            "  inflating: pig_data/train/eating/pig/00_pig1312.jpg  \n",
            "  inflating: pig_data/train/eating/pig/00_pig1313.jpg  \n",
            "  inflating: pig_data/train/eating/pig/00_pig1314.jpg  \n",
            "  inflating: pig_data/train/eating/pig/00_pig1315.jpg  \n",
            "  inflating: pig_data/train/eating/pig/00_pig1316.jpg  \n",
            "  inflating: pig_data/train/eating/pig/00_pig1317.jpg  \n",
            "  inflating: pig_data/train/eating/pig/00_pig1318.jpg  \n",
            "  inflating: pig_data/train/eating/pig/00_pig1319.jpg  \n",
            "  inflating: pig_data/train/eating/pig/00_pig132.jpg  \n",
            "  inflating: pig_data/train/eating/pig/00_pig1320.jpg  \n",
            "  inflating: pig_data/train/eating/pig/00_pig1321.jpg  \n",
            "  inflating: pig_data/train/eating/pig/00_pig1322.jpg  \n",
            "  inflating: pig_data/train/eating/pig/00_pig1323.jpg  \n",
            "  inflating: pig_data/train/eating/pig/00_pig1324.jpg  \n",
            "  inflating: pig_data/train/eating/pig/00_pig1325.jpg  \n",
            "  inflating: pig_data/train/eating/pig/00_pig1326.jpg  \n",
            "  inflating: pig_data/train/eating/pig/00_pig1327.jpg  \n",
            "  inflating: pig_data/train/eating/pig/00_pig1328.jpg  \n",
            "  inflating: pig_data/train/eating/pig/00_pig1329.jpg  \n",
            "  inflating: pig_data/train/eating/pig/00_pig133.jpg  \n",
            "  inflating: pig_data/train/eating/pig/00_pig1330.jpg  \n",
            "  inflating: pig_data/train/eating/pig/00_pig1331.jpg  \n",
            "  inflating: pig_data/train/eating/pig/00_pig1332.jpg  \n",
            "  inflating: pig_data/train/eating/pig/00_pig1333.jpg  \n",
            "  inflating: pig_data/train/eating/pig/00_pig1334.jpg  \n",
            "  inflating: pig_data/train/eating/pig/00_pig1335.jpg  \n",
            "  inflating: pig_data/train/eating/pig/00_pig1336.jpg  \n",
            "  inflating: pig_data/train/eating/pig/00_pig1337.jpg  \n",
            "  inflating: pig_data/train/eating/pig/00_pig1338.jpg  \n",
            "  inflating: pig_data/train/eating/pig/00_pig1339.jpg  \n",
            "  inflating: pig_data/train/eating/pig/00_pig134.jpg  \n",
            "  inflating: pig_data/train/eating/pig/00_pig1340.jpg  \n",
            "  inflating: pig_data/train/eating/pig/00_pig1341.jpg  \n",
            "  inflating: pig_data/train/eating/pig/00_pig1342.jpg  \n",
            "  inflating: pig_data/train/eating/pig/00_pig1343.jpg  \n",
            "  inflating: pig_data/train/eating/pig/00_pig1344.jpg  \n",
            "  inflating: pig_data/train/eating/pig/00_pig1345.jpg  \n",
            "  inflating: pig_data/train/eating/pig/00_pig1346.jpg  \n",
            "  inflating: pig_data/train/eating/pig/00_pig1347.jpg  \n",
            "  inflating: pig_data/train/eating/pig/00_pig1348.jpg  \n",
            "  inflating: pig_data/train/eating/pig/00_pig1349.jpg  \n",
            "  inflating: pig_data/train/eating/pig/00_pig135.jpg  \n",
            "  inflating: pig_data/train/eating/pig/00_pig1350.jpg  \n",
            "  inflating: pig_data/train/eating/pig/00_pig1351.jpg  \n",
            "  inflating: pig_data/train/eating/pig/00_pig1352.jpg  \n",
            "  inflating: pig_data/train/eating/pig/00_pig1353.jpg  \n",
            "  inflating: pig_data/train/eating/pig/00_pig1354.jpg  \n",
            "  inflating: pig_data/train/eating/pig/00_pig1355.jpg  \n",
            "  inflating: pig_data/train/eating/pig/00_pig1356.jpg  \n",
            "  inflating: pig_data/train/eating/pig/00_pig1357.jpg  \n",
            "  inflating: pig_data/train/eating/pig/00_pig1358.jpg  \n",
            "  inflating: pig_data/train/eating/pig/00_pig1359.jpg  \n",
            "  inflating: pig_data/train/eating/pig/00_pig136.jpg  \n",
            "  inflating: pig_data/train/eating/pig/00_pig1360.jpg  \n",
            "  inflating: pig_data/train/eating/pig/00_pig1361.jpg  \n",
            "  inflating: pig_data/train/eating/pig/00_pig1362.jpg  \n",
            "  inflating: pig_data/train/eating/pig/00_pig1363.jpg  \n",
            "  inflating: pig_data/train/eating/pig/00_pig1364.jpg  \n",
            "  inflating: pig_data/train/eating/pig/00_pig1365.jpg  \n",
            "  inflating: pig_data/train/eating/pig/00_pig1366.jpg  \n",
            "  inflating: pig_data/train/eating/pig/00_pig1367.jpg  \n",
            "  inflating: pig_data/train/eating/pig/00_pig1368.jpg  \n",
            "  inflating: pig_data/train/eating/pig/00_pig1369.jpg  \n",
            "  inflating: pig_data/train/eating/pig/00_pig137.jpg  \n",
            "  inflating: pig_data/train/eating/pig/00_pig1370.jpg  \n",
            "  inflating: pig_data/train/eating/pig/00_pig1371.jpg  \n",
            "  inflating: pig_data/train/eating/pig/00_pig1372.jpg  \n",
            "  inflating: pig_data/train/eating/pig/00_pig1373.jpg  \n",
            "  inflating: pig_data/train/eating/pig/00_pig1374.jpg  \n",
            "  inflating: pig_data/train/eating/pig/00_pig1375.jpg  \n",
            "  inflating: pig_data/train/eating/pig/00_pig1376.jpg  \n",
            "  inflating: pig_data/train/eating/pig/00_pig1377.jpg  \n",
            "  inflating: pig_data/train/eating/pig/00_pig1378.jpg  \n",
            "  inflating: pig_data/train/eating/pig/00_pig1379.jpg  \n",
            "  inflating: pig_data/train/eating/pig/00_pig138.jpg  \n",
            "  inflating: pig_data/train/eating/pig/00_pig1380.jpg  \n",
            "  inflating: pig_data/train/eating/pig/00_pig1381.jpg  \n",
            "  inflating: pig_data/train/eating/pig/00_pig1382.jpg  \n",
            "  inflating: pig_data/train/eating/pig/00_pig1383.jpg  \n",
            "  inflating: pig_data/train/eating/pig/00_pig1384.jpg  \n",
            "  inflating: pig_data/train/eating/pig/00_pig1385.jpg  \n",
            "  inflating: pig_data/train/eating/pig/00_pig1386.jpg  \n",
            "  inflating: pig_data/train/eating/pig/00_pig1387.jpg  \n",
            "  inflating: pig_data/train/eating/pig/00_pig1388.jpg  \n",
            "  inflating: pig_data/train/eating/pig/00_pig1389.jpg  \n",
            "  inflating: pig_data/train/eating/pig/00_pig139.jpg  \n",
            "  inflating: pig_data/train/eating/pig/00_pig1390.jpg  \n",
            "  inflating: pig_data/train/eating/pig/00_pig1391.jpg  \n",
            "  inflating: pig_data/train/eating/pig/00_pig1392.jpg  \n",
            "  inflating: pig_data/train/eating/pig/00_pig1393.jpg  \n",
            "  inflating: pig_data/train/eating/pig/00_pig1394.jpg  \n",
            "  inflating: pig_data/train/eating/pig/00_pig1395.jpg  \n",
            "  inflating: pig_data/train/eating/pig/00_pig1396.jpg  \n",
            "  inflating: pig_data/train/eating/pig/00_pig1397.jpg  \n",
            "  inflating: pig_data/train/eating/pig/00_pig1398.jpg  \n",
            "  inflating: pig_data/train/eating/pig/00_pig1399.jpg  \n",
            "  inflating: pig_data/train/eating/pig/00_pig14.jpg  \n",
            "  inflating: pig_data/train/eating/pig/00_pig140.jpg  \n",
            "  inflating: pig_data/train/eating/pig/00_pig1400.jpg  \n",
            "  inflating: pig_data/train/eating/pig/00_pig1401.jpg  \n",
            "  inflating: pig_data/train/eating/pig/00_pig1402.jpg  \n",
            "  inflating: pig_data/train/eating/pig/00_pig1403.jpg  \n",
            "  inflating: pig_data/train/eating/pig/00_pig1404.jpg  \n",
            "  inflating: pig_data/train/eating/pig/00_pig1405.jpg  \n",
            "  inflating: pig_data/train/eating/pig/00_pig1406.jpg  \n",
            "  inflating: pig_data/train/eating/pig/00_pig1407.jpg  \n",
            "  inflating: pig_data/train/eating/pig/00_pig1408.jpg  \n",
            "  inflating: pig_data/train/eating/pig/00_pig1409.jpg  \n",
            "  inflating: pig_data/train/eating/pig/00_pig141.jpg  \n",
            "  inflating: pig_data/train/eating/pig/00_pig1410.jpg  \n",
            "  inflating: pig_data/train/eating/pig/00_pig1411.jpg  \n",
            "  inflating: pig_data/train/eating/pig/00_pig1412.jpg  \n",
            "  inflating: pig_data/train/eating/pig/00_pig1413.jpg  \n",
            "  inflating: pig_data/train/eating/pig/00_pig1414.jpg  \n",
            "  inflating: pig_data/train/eating/pig/00_pig1415.jpg  \n",
            "  inflating: pig_data/train/eating/pig/00_pig1416.jpg  \n",
            "  inflating: pig_data/train/eating/pig/00_pig1417.jpg  \n",
            "  inflating: pig_data/train/eating/pig/00_pig1418.jpg  \n",
            "  inflating: pig_data/train/eating/pig/00_pig1419.jpg  \n",
            "  inflating: pig_data/train/eating/pig/00_pig142.jpg  \n",
            "  inflating: pig_data/train/eating/pig/00_pig1420.jpg  \n",
            "  inflating: pig_data/train/eating/pig/00_pig1421.jpg  \n",
            "  inflating: pig_data/train/eating/pig/00_pig1422.jpg  \n",
            "  inflating: pig_data/train/eating/pig/00_pig1423.jpg  \n",
            "  inflating: pig_data/train/eating/pig/00_pig1424.jpg  \n",
            "  inflating: pig_data/train/eating/pig/00_pig1425.jpg  \n",
            "  inflating: pig_data/train/eating/pig/00_pig1426.jpg  \n",
            "  inflating: pig_data/train/eating/pig/00_pig1427.jpg  \n",
            "  inflating: pig_data/train/eating/pig/00_pig1428.jpg  \n",
            "  inflating: pig_data/train/eating/pig/00_pig1429.jpg  \n",
            "  inflating: pig_data/train/eating/pig/00_pig143.jpg  \n",
            "  inflating: pig_data/train/eating/pig/00_pig1430.jpg  \n",
            "  inflating: pig_data/train/eating/pig/00_pig1431.jpg  \n",
            "  inflating: pig_data/train/eating/pig/00_pig1432.jpg  \n",
            "  inflating: pig_data/train/eating/pig/00_pig1433.jpg  \n",
            "  inflating: pig_data/train/eating/pig/00_pig1434.jpg  \n",
            "  inflating: pig_data/train/eating/pig/00_pig1435.jpg  \n",
            "  inflating: pig_data/train/eating/pig/00_pig1436.jpg  \n",
            "  inflating: pig_data/train/eating/pig/00_pig1437.jpg  \n",
            "  inflating: pig_data/train/eating/pig/00_pig1438.jpg  \n",
            "  inflating: pig_data/train/eating/pig/00_pig1439.jpg  \n",
            "  inflating: pig_data/train/eating/pig/00_pig144.jpg  \n",
            "  inflating: pig_data/train/eating/pig/00_pig1440.jpg  \n",
            "  inflating: pig_data/train/eating/pig/00_pig1441.jpg  \n",
            "  inflating: pig_data/train/eating/pig/00_pig1442.jpg  \n",
            "  inflating: pig_data/train/eating/pig/00_pig1443.jpg  \n",
            "  inflating: pig_data/train/eating/pig/00_pig1444.jpg  \n",
            "  inflating: pig_data/train/eating/pig/00_pig1445.jpg  \n",
            "  inflating: pig_data/train/eating/pig/00_pig1446.jpg  \n",
            "  inflating: pig_data/train/eating/pig/00_pig1447.jpg  \n",
            "  inflating: pig_data/train/eating/pig/00_pig1448.jpg  \n",
            "  inflating: pig_data/train/eating/pig/00_pig1449.jpg  \n",
            "  inflating: pig_data/train/eating/pig/00_pig145.jpg  \n",
            "  inflating: pig_data/train/eating/pig/00_pig1450.jpg  \n",
            "  inflating: pig_data/train/eating/pig/00_pig1451.jpg  \n",
            "  inflating: pig_data/train/eating/pig/00_pig1452.jpg  \n",
            "  inflating: pig_data/train/eating/pig/00_pig1453.jpg  \n",
            "  inflating: pig_data/train/eating/pig/00_pig1454.jpg  \n",
            "  inflating: pig_data/train/eating/pig/00_pig1455.jpg  \n",
            "  inflating: pig_data/train/eating/pig/00_pig1456.jpg  \n",
            "  inflating: pig_data/train/eating/pig/00_pig1457.jpg  \n",
            "  inflating: pig_data/train/eating/pig/00_pig1458.jpg  \n",
            "  inflating: pig_data/train/eating/pig/00_pig1459.jpg  \n",
            "  inflating: pig_data/train/eating/pig/00_pig146.jpg  \n",
            "  inflating: pig_data/train/eating/pig/00_pig1460.jpg  \n",
            "  inflating: pig_data/train/eating/pig/00_pig1461.jpg  \n",
            "  inflating: pig_data/train/eating/pig/00_pig1462.jpg  \n",
            "  inflating: pig_data/train/eating/pig/00_pig1463.jpg  \n",
            "  inflating: pig_data/train/eating/pig/00_pig1464.jpg  \n",
            "  inflating: pig_data/train/eating/pig/00_pig1465.jpg  \n",
            "  inflating: pig_data/train/eating/pig/00_pig1466.jpg  \n",
            "  inflating: pig_data/train/eating/pig/00_pig1467.jpg  \n",
            "  inflating: pig_data/train/eating/pig/00_pig1468.jpg  \n",
            "  inflating: pig_data/train/eating/pig/00_pig1469.jpg  \n",
            "  inflating: pig_data/train/eating/pig/00_pig147.jpg  \n",
            "  inflating: pig_data/train/eating/pig/00_pig1470.jpg  \n",
            "  inflating: pig_data/train/eating/pig/00_pig1471.jpg  \n",
            "  inflating: pig_data/train/eating/pig/00_pig1472.jpg  \n",
            "  inflating: pig_data/train/eating/pig/00_pig1473.jpg  \n",
            "  inflating: pig_data/train/eating/pig/00_pig1474.jpg  \n",
            "  inflating: pig_data/train/eating/pig/00_pig1475.jpg  \n",
            "  inflating: pig_data/train/eating/pig/00_pig1476.jpg  \n",
            "  inflating: pig_data/train/eating/pig/00_pig1477.jpg  \n",
            "  inflating: pig_data/train/eating/pig/00_pig1478.jpg  \n",
            "  inflating: pig_data/train/eating/pig/00_pig1479.jpg  \n",
            "  inflating: pig_data/train/eating/pig/00_pig148.jpg  \n",
            "  inflating: pig_data/train/eating/pig/00_pig1480.jpg  \n",
            "  inflating: pig_data/train/eating/pig/00_pig1481.jpg  \n",
            "  inflating: pig_data/train/eating/pig/00_pig1482.jpg  \n",
            "  inflating: pig_data/train/eating/pig/00_pig1483.jpg  \n",
            "  inflating: pig_data/train/eating/pig/00_pig1484.jpg  \n",
            "  inflating: pig_data/train/eating/pig/00_pig1485.jpg  \n",
            "  inflating: pig_data/train/eating/pig/00_pig1486.jpg  \n",
            "  inflating: pig_data/train/eating/pig/00_pig1487.jpg  \n",
            "  inflating: pig_data/train/eating/pig/00_pig1488.jpg  \n",
            "  inflating: pig_data/train/eating/pig/00_pig1489.jpg  \n",
            "  inflating: pig_data/train/eating/pig/00_pig149.jpg  \n",
            "  inflating: pig_data/train/eating/pig/00_pig1490.jpg  \n",
            "  inflating: pig_data/train/eating/pig/00_pig1491.jpg  \n",
            "  inflating: pig_data/train/eating/pig/00_pig1492.jpg  \n",
            "  inflating: pig_data/train/eating/pig/00_pig1493.jpg  \n",
            "  inflating: pig_data/train/eating/pig/00_pig1494.jpg  \n",
            "  inflating: pig_data/train/eating/pig/00_pig1495.jpg  \n",
            "  inflating: pig_data/train/eating/pig/00_pig1496.jpg  \n",
            "  inflating: pig_data/train/eating/pig/00_pig1497.jpg  \n",
            "  inflating: pig_data/train/eating/pig/00_pig1498.jpg  \n",
            "  inflating: pig_data/train/eating/pig/00_pig1499.jpg  \n",
            "  inflating: pig_data/train/eating/pig/00_pig15.jpg  \n",
            "  inflating: pig_data/train/eating/pig/00_pig150.jpg  \n",
            "  inflating: pig_data/train/eating/pig/00_pig1500.jpg  \n",
            "  inflating: pig_data/train/eating/pig/00_pig1501.jpg  \n",
            "  inflating: pig_data/train/eating/pig/00_pig1502.jpg  \n",
            "  inflating: pig_data/train/eating/pig/00_pig1503.jpg  \n",
            "  inflating: pig_data/train/eating/pig/00_pig1504.jpg  \n",
            "  inflating: pig_data/train/eating/pig/00_pig1505.jpg  \n",
            "  inflating: pig_data/train/eating/pig/00_pig1506.jpg  \n",
            "  inflating: pig_data/train/eating/pig/00_pig1507.jpg  \n",
            "  inflating: pig_data/train/eating/pig/00_pig1508.jpg  \n",
            "  inflating: pig_data/train/eating/pig/00_pig1509.jpg  \n",
            "  inflating: pig_data/train/eating/pig/00_pig151.jpg  \n",
            "  inflating: pig_data/train/eating/pig/00_pig1510.jpg  \n",
            "  inflating: pig_data/train/eating/pig/00_pig1511.jpg  \n",
            "  inflating: pig_data/train/eating/pig/00_pig1512.jpg  \n",
            "  inflating: pig_data/train/eating/pig/00_pig1513.jpg  \n",
            "  inflating: pig_data/train/eating/pig/00_pig1514.jpg  \n",
            "  inflating: pig_data/train/eating/pig/00_pig1515.jpg  \n",
            "  inflating: pig_data/train/eating/pig/00_pig1516.jpg  \n",
            "  inflating: pig_data/train/eating/pig/00_pig1517.jpg  \n",
            "  inflating: pig_data/train/eating/pig/00_pig1518.jpg  \n",
            "  inflating: pig_data/train/eating/pig/00_pig1519.jpg  \n",
            "  inflating: pig_data/train/eating/pig/00_pig152.jpg  \n",
            "  inflating: pig_data/train/eating/pig/00_pig1520.jpg  \n",
            "  inflating: pig_data/train/eating/pig/00_pig1521.jpg  \n",
            "  inflating: pig_data/train/eating/pig/00_pig1522.jpg  \n",
            "  inflating: pig_data/train/eating/pig/00_pig1523.jpg  \n",
            "  inflating: pig_data/train/eating/pig/00_pig1524.jpg  \n",
            "  inflating: pig_data/train/eating/pig/00_pig1525.jpg  \n",
            "  inflating: pig_data/train/eating/pig/00_pig1526.jpg  \n",
            "  inflating: pig_data/train/eating/pig/00_pig1527.jpg  \n",
            "  inflating: pig_data/train/eating/pig/00_pig1528.jpg  \n",
            "  inflating: pig_data/train/eating/pig/00_pig1529.jpg  \n",
            "  inflating: pig_data/train/eating/pig/00_pig153.jpg  \n",
            "  inflating: pig_data/train/eating/pig/00_pig1530.jpg  \n",
            "  inflating: pig_data/train/eating/pig/00_pig1531.jpg  \n",
            "  inflating: pig_data/train/eating/pig/00_pig1532.jpg  \n",
            "  inflating: pig_data/train/eating/pig/00_pig1533.jpg  \n",
            "  inflating: pig_data/train/eating/pig/00_pig1534.jpg  \n",
            "  inflating: pig_data/train/eating/pig/00_pig1535.jpg  \n",
            "  inflating: pig_data/train/eating/pig/00_pig1536.jpg  \n",
            "  inflating: pig_data/train/eating/pig/00_pig1537.jpg  \n",
            "  inflating: pig_data/train/eating/pig/00_pig1538.jpg  \n",
            "  inflating: pig_data/train/eating/pig/00_pig1539.jpg  \n",
            "  inflating: pig_data/train/eating/pig/00_pig154.jpg  \n",
            "  inflating: pig_data/train/eating/pig/00_pig1540.jpg  \n",
            "  inflating: pig_data/train/eating/pig/00_pig1541.jpg  \n",
            "  inflating: pig_data/train/eating/pig/00_pig1542.jpg  \n",
            "  inflating: pig_data/train/eating/pig/00_pig1543.jpg  \n",
            "  inflating: pig_data/train/eating/pig/00_pig1544.jpg  \n",
            "  inflating: pig_data/train/eating/pig/00_pig1545.jpg  \n",
            "  inflating: pig_data/train/eating/pig/00_pig1546.jpg  \n",
            "  inflating: pig_data/train/eating/pig/00_pig1547.jpg  \n",
            "  inflating: pig_data/train/eating/pig/00_pig1548.jpg  \n",
            "  inflating: pig_data/train/eating/pig/00_pig1549.jpg  \n",
            "  inflating: pig_data/train/eating/pig/00_pig155.jpg  \n",
            "  inflating: pig_data/train/eating/pig/00_pig1550.jpg  \n",
            "  inflating: pig_data/train/eating/pig/00_pig1551.jpg  \n",
            "  inflating: pig_data/train/eating/pig/00_pig1552.jpg  \n",
            "  inflating: pig_data/train/eating/pig/00_pig1553.jpg  \n",
            "  inflating: pig_data/train/eating/pig/00_pig1554.jpg  \n",
            "  inflating: pig_data/train/eating/pig/00_pig1555.jpg  \n",
            "  inflating: pig_data/train/eating/pig/00_pig1556.jpg  \n",
            "  inflating: pig_data/train/eating/pig/00_pig1557.jpg  \n",
            "  inflating: pig_data/train/eating/pig/00_pig1558.jpg  \n",
            "  inflating: pig_data/train/eating/pig/00_pig1559.jpg  \n",
            "  inflating: pig_data/train/eating/pig/00_pig156.jpg  \n",
            "  inflating: pig_data/train/eating/pig/00_pig1560.jpg  \n",
            "  inflating: pig_data/train/eating/pig/00_pig1561.jpg  \n",
            "  inflating: pig_data/train/eating/pig/00_pig1562.jpg  \n",
            "  inflating: pig_data/train/eating/pig/00_pig1563.jpg  \n",
            "  inflating: pig_data/train/eating/pig/00_pig1564.jpg  \n",
            "  inflating: pig_data/train/eating/pig/00_pig1565.jpg  \n",
            "  inflating: pig_data/train/eating/pig/00_pig1566.jpg  \n",
            "  inflating: pig_data/train/eating/pig/00_pig1567.jpg  \n",
            "  inflating: pig_data/train/eating/pig/00_pig1568.jpg  \n",
            "  inflating: pig_data/train/eating/pig/00_pig1569.jpg  \n",
            "  inflating: pig_data/train/eating/pig/00_pig157.jpg  \n",
            "  inflating: pig_data/train/eating/pig/00_pig1570.jpg  \n",
            "  inflating: pig_data/train/eating/pig/00_pig1571.jpg  \n",
            "  inflating: pig_data/train/eating/pig/00_pig1572.jpg  \n",
            "  inflating: pig_data/train/eating/pig/00_pig1573.jpg  \n",
            "  inflating: pig_data/train/eating/pig/00_pig1574.jpg  \n",
            "  inflating: pig_data/train/eating/pig/00_pig1575.jpg  \n",
            "  inflating: pig_data/train/eating/pig/00_pig1576.jpg  \n",
            "  inflating: pig_data/train/eating/pig/00_pig1577.jpg  \n",
            "  inflating: pig_data/train/eating/pig/00_pig1578.jpg  \n",
            "  inflating: pig_data/train/eating/pig/00_pig1579.jpg  \n",
            "  inflating: pig_data/train/eating/pig/00_pig158.jpg  \n",
            "  inflating: pig_data/train/eating/pig/00_pig1580.jpg  \n",
            "  inflating: pig_data/train/eating/pig/00_pig1581.jpg  \n",
            "  inflating: pig_data/train/eating/pig/00_pig1582.jpg  \n",
            "  inflating: pig_data/train/eating/pig/00_pig1583.jpg  \n",
            "  inflating: pig_data/train/eating/pig/00_pig1584.jpg  \n",
            "  inflating: pig_data/train/eating/pig/00_pig1585.jpg  \n",
            "  inflating: pig_data/train/eating/pig/00_pig1586.jpg  \n",
            "  inflating: pig_data/train/eating/pig/00_pig1587.jpg  \n",
            "  inflating: pig_data/train/eating/pig/00_pig1588.jpg  \n",
            "  inflating: pig_data/train/eating/pig/00_pig1589.jpg  \n",
            "  inflating: pig_data/train/eating/pig/00_pig159.jpg  \n",
            "  inflating: pig_data/train/eating/pig/00_pig1590.jpg  \n",
            "  inflating: pig_data/train/eating/pig/00_pig1591.jpg  \n",
            "  inflating: pig_data/train/eating/pig/00_pig1592.jpg  \n",
            "  inflating: pig_data/train/eating/pig/00_pig1593.jpg  \n",
            "  inflating: pig_data/train/eating/pig/00_pig1594.jpg  \n",
            "  inflating: pig_data/train/eating/pig/00_pig1595.jpg  \n",
            "  inflating: pig_data/train/eating/pig/00_pig1596.jpg  \n",
            "  inflating: pig_data/train/eating/pig/00_pig1597.jpg  \n",
            "  inflating: pig_data/train/eating/pig/00_pig1598.jpg  \n",
            "  inflating: pig_data/train/eating/pig/00_pig1599.jpg  \n",
            "  inflating: pig_data/train/eating/pig/00_pig16.jpg  \n",
            "  inflating: pig_data/train/eating/pig/00_pig160.jpg  \n",
            "  inflating: pig_data/train/eating/pig/00_pig1600.jpg  \n",
            "  inflating: pig_data/train/eating/pig/00_pig1601.jpg  \n",
            "  inflating: pig_data/train/eating/pig/00_pig1602.jpg  \n",
            "  inflating: pig_data/train/eating/pig/00_pig1603.jpg  \n",
            "  inflating: pig_data/train/eating/pig/00_pig1604.jpg  \n",
            "  inflating: pig_data/train/eating/pig/00_pig1605.jpg  \n",
            "  inflating: pig_data/train/eating/pig/00_pig1606.jpg  \n",
            "  inflating: pig_data/train/eating/pig/00_pig1607.jpg  \n",
            "  inflating: pig_data/train/eating/pig/00_pig1608.jpg  \n",
            "  inflating: pig_data/train/eating/pig/00_pig1609.jpg  \n",
            "  inflating: pig_data/train/eating/pig/00_pig161.jpg  \n",
            "  inflating: pig_data/train/eating/pig/00_pig1610.jpg  \n",
            "  inflating: pig_data/train/eating/pig/00_pig1611.jpg  \n",
            "  inflating: pig_data/train/eating/pig/00_pig1612.jpg  \n",
            "  inflating: pig_data/train/eating/pig/00_pig1613.jpg  \n",
            "  inflating: pig_data/train/eating/pig/00_pig1614.jpg  \n",
            "  inflating: pig_data/train/eating/pig/00_pig1615.jpg  \n",
            "  inflating: pig_data/train/eating/pig/00_pig1616.jpg  \n",
            "  inflating: pig_data/train/eating/pig/00_pig1617.jpg  \n",
            "  inflating: pig_data/train/eating/pig/00_pig1618.jpg  \n",
            "  inflating: pig_data/train/eating/pig/00_pig1619.jpg  \n",
            "  inflating: pig_data/train/eating/pig/00_pig162.jpg  \n",
            "  inflating: pig_data/train/eating/pig/00_pig1620.jpg  \n",
            "  inflating: pig_data/train/eating/pig/00_pig1621.jpg  \n",
            "  inflating: pig_data/train/eating/pig/00_pig1622.jpg  \n",
            "  inflating: pig_data/train/eating/pig/00_pig1623.jpg  \n",
            "  inflating: pig_data/train/eating/pig/00_pig1624.jpg  \n",
            "  inflating: pig_data/train/eating/pig/00_pig1625.jpg  \n",
            "  inflating: pig_data/train/eating/pig/00_pig1626.jpg  \n",
            "  inflating: pig_data/train/eating/pig/00_pig1627.jpg  \n",
            "  inflating: pig_data/train/eating/pig/00_pig1628.jpg  \n",
            "  inflating: pig_data/train/eating/pig/00_pig1629.jpg  \n",
            "  inflating: pig_data/train/eating/pig/00_pig163.jpg  \n",
            "  inflating: pig_data/train/eating/pig/00_pig1630.jpg  \n",
            "  inflating: pig_data/train/eating/pig/00_pig1631.jpg  \n",
            "  inflating: pig_data/train/eating/pig/00_pig1632.jpg  \n",
            "  inflating: pig_data/train/eating/pig/00_pig1633.jpg  \n",
            "  inflating: pig_data/train/eating/pig/00_pig1634.jpg  \n",
            "  inflating: pig_data/train/eating/pig/00_pig1635.jpg  \n",
            "  inflating: pig_data/train/eating/pig/00_pig1636.jpg  \n",
            "  inflating: pig_data/train/eating/pig/00_pig1637.jpg  \n",
            "  inflating: pig_data/train/eating/pig/00_pig1638.jpg  \n",
            "  inflating: pig_data/train/eating/pig/00_pig1639.jpg  \n",
            "  inflating: pig_data/train/eating/pig/00_pig164.jpg  \n",
            "  inflating: pig_data/train/eating/pig/00_pig1640.jpg  \n",
            "  inflating: pig_data/train/eating/pig/00_pig1641.jpg  \n",
            "  inflating: pig_data/train/eating/pig/00_pig1642.jpg  \n",
            "  inflating: pig_data/train/eating/pig/00_pig1643.jpg  \n",
            "  inflating: pig_data/train/eating/pig/00_pig1644.jpg  \n",
            "  inflating: pig_data/train/eating/pig/00_pig1645.jpg  \n",
            "  inflating: pig_data/train/eating/pig/00_pig1646.jpg  \n",
            "  inflating: pig_data/train/eating/pig/00_pig1647.jpg  \n",
            "  inflating: pig_data/train/eating/pig/00_pig1648.jpg  \n",
            "  inflating: pig_data/train/eating/pig/00_pig1649.jpg  \n",
            "  inflating: pig_data/train/eating/pig/00_pig165.jpg  \n",
            "  inflating: pig_data/train/eating/pig/00_pig1650.jpg  \n",
            "  inflating: pig_data/train/eating/pig/00_pig1651.jpg  \n",
            "  inflating: pig_data/train/eating/pig/00_pig1652.jpg  \n",
            "  inflating: pig_data/train/eating/pig/00_pig1653.jpg  \n",
            "  inflating: pig_data/train/eating/pig/00_pig1654.jpg  \n",
            "  inflating: pig_data/train/eating/pig/00_pig1655.jpg  \n",
            "  inflating: pig_data/train/eating/pig/00_pig1656.jpg  \n",
            "  inflating: pig_data/train/eating/pig/00_pig1657.jpg  \n",
            "  inflating: pig_data/train/eating/pig/00_pig1658.jpg  \n",
            "  inflating: pig_data/train/eating/pig/00_pig1659.jpg  \n",
            "  inflating: pig_data/train/eating/pig/00_pig166.jpg  \n",
            "  inflating: pig_data/train/eating/pig/00_pig1660.jpg  \n",
            "  inflating: pig_data/train/eating/pig/00_pig1661.jpg  \n",
            "  inflating: pig_data/train/eating/pig/00_pig1662.jpg  \n",
            "  inflating: pig_data/train/eating/pig/00_pig1663.jpg  \n",
            "  inflating: pig_data/train/eating/pig/00_pig1664.jpg  \n",
            "  inflating: pig_data/train/eating/pig/00_pig1665.jpg  \n",
            "  inflating: pig_data/train/eating/pig/00_pig1666.jpg  \n",
            "  inflating: pig_data/train/eating/pig/00_pig1667.jpg  \n",
            "  inflating: pig_data/train/eating/pig/00_pig1668.jpg  \n",
            "  inflating: pig_data/train/eating/pig/00_pig1669.jpg  \n",
            "  inflating: pig_data/train/eating/pig/00_pig167.jpg  \n",
            "  inflating: pig_data/train/eating/pig/00_pig1670.jpg  \n",
            "  inflating: pig_data/train/eating/pig/00_pig1671.jpg  \n",
            "  inflating: pig_data/train/eating/pig/00_pig1672.jpg  \n",
            "  inflating: pig_data/train/eating/pig/00_pig1673.jpg  \n",
            "  inflating: pig_data/train/eating/pig/00_pig1674.jpg  \n",
            "  inflating: pig_data/train/eating/pig/00_pig1675.jpg  \n",
            "  inflating: pig_data/train/eating/pig/00_pig1676.jpg  \n",
            "  inflating: pig_data/train/eating/pig/00_pig1677.jpg  \n",
            "  inflating: pig_data/train/eating/pig/00_pig1678.jpg  \n",
            "  inflating: pig_data/train/eating/pig/00_pig1679.jpg  \n",
            "  inflating: pig_data/train/eating/pig/00_pig168.jpg  \n",
            "  inflating: pig_data/train/eating/pig/00_pig1680.jpg  \n",
            "  inflating: pig_data/train/eating/pig/00_pig1681.jpg  \n",
            "  inflating: pig_data/train/eating/pig/00_pig1682.jpg  \n",
            "  inflating: pig_data/train/eating/pig/00_pig1683.jpg  \n",
            "  inflating: pig_data/train/eating/pig/00_pig1684.jpg  \n",
            "  inflating: pig_data/train/eating/pig/00_pig1685.jpg  \n",
            "  inflating: pig_data/train/eating/pig/00_pig1686.jpg  \n",
            "  inflating: pig_data/train/eating/pig/00_pig1687.jpg  \n",
            "  inflating: pig_data/train/eating/pig/00_pig1688.jpg  \n",
            "  inflating: pig_data/train/eating/pig/00_pig1689.jpg  \n",
            "  inflating: pig_data/train/eating/pig/00_pig169.jpg  \n",
            "  inflating: pig_data/train/eating/pig/00_pig1690.jpg  \n",
            "  inflating: pig_data/train/eating/pig/00_pig1691.jpg  \n",
            "  inflating: pig_data/train/eating/pig/00_pig1692.jpg  \n",
            "  inflating: pig_data/train/eating/pig/00_pig1693.jpg  \n",
            "  inflating: pig_data/train/eating/pig/00_pig1694.jpg  \n",
            "  inflating: pig_data/train/eating/pig/00_pig1695.jpg  \n",
            "  inflating: pig_data/train/eating/pig/00_pig1696.jpg  \n",
            "  inflating: pig_data/train/eating/pig/00_pig1697.jpg  \n",
            "  inflating: pig_data/train/eating/pig/00_pig1698.jpg  \n",
            "  inflating: pig_data/train/eating/pig/00_pig1699.jpg  \n",
            "  inflating: pig_data/train/eating/pig/00_pig17.jpg  \n",
            "  inflating: pig_data/train/eating/pig/00_pig170.jpg  \n",
            "  inflating: pig_data/train/eating/pig/00_pig1700.jpg  \n",
            "  inflating: pig_data/train/eating/pig/00_pig1701.jpg  \n",
            "  inflating: pig_data/train/eating/pig/00_pig1702.jpg  \n",
            "  inflating: pig_data/train/eating/pig/00_pig1703.jpg  \n",
            "  inflating: pig_data/train/eating/pig/00_pig1704.jpg  \n",
            "  inflating: pig_data/train/eating/pig/00_pig1705.jpg  \n",
            "  inflating: pig_data/train/eating/pig/00_pig1706.jpg  \n",
            "  inflating: pig_data/train/eating/pig/00_pig1707.jpg  \n",
            "  inflating: pig_data/train/eating/pig/00_pig1708.jpg  \n",
            "  inflating: pig_data/train/eating/pig/00_pig1709.jpg  \n",
            "  inflating: pig_data/train/eating/pig/00_pig171.jpg  \n",
            "  inflating: pig_data/train/eating/pig/00_pig1710.jpg  \n",
            "  inflating: pig_data/train/eating/pig/00_pig1711.jpg  \n",
            "  inflating: pig_data/train/eating/pig/00_pig1712.jpg  \n",
            "  inflating: pig_data/train/eating/pig/00_pig1713.jpg  \n",
            "  inflating: pig_data/train/eating/pig/00_pig1714.jpg  \n",
            "  inflating: pig_data/train/eating/pig/00_pig1715.jpg  \n",
            "  inflating: pig_data/train/eating/pig/00_pig1716.jpg  \n",
            "  inflating: pig_data/train/eating/pig/00_pig1717.jpg  \n",
            "  inflating: pig_data/train/eating/pig/00_pig1718.jpg  \n",
            "  inflating: pig_data/train/eating/pig/00_pig1719.jpg  \n",
            "  inflating: pig_data/train/eating/pig/00_pig172.jpg  \n",
            "  inflating: pig_data/train/eating/pig/00_pig1720.jpg  \n",
            "  inflating: pig_data/train/eating/pig/00_pig1721.jpg  \n",
            "  inflating: pig_data/train/eating/pig/00_pig1722.jpg  \n",
            "  inflating: pig_data/train/eating/pig/00_pig1723.jpg  \n",
            "  inflating: pig_data/train/eating/pig/00_pig1724.jpg  \n",
            "  inflating: pig_data/train/eating/pig/00_pig1725.jpg  \n",
            "  inflating: pig_data/train/eating/pig/00_pig1726.jpg  \n",
            "  inflating: pig_data/train/eating/pig/00_pig1727.jpg  \n",
            "  inflating: pig_data/train/eating/pig/00_pig1728.jpg  \n",
            "  inflating: pig_data/train/eating/pig/00_pig1729.jpg  \n",
            "  inflating: pig_data/train/eating/pig/00_pig173.jpg  \n",
            "  inflating: pig_data/train/eating/pig/00_pig1730.jpg  \n",
            "  inflating: pig_data/train/eating/pig/00_pig1731.jpg  \n",
            "  inflating: pig_data/train/eating/pig/00_pig1732.jpg  \n",
            "  inflating: pig_data/train/eating/pig/00_pig1733.jpg  \n",
            "  inflating: pig_data/train/eating/pig/00_pig1734.jpg  \n",
            "  inflating: pig_data/train/eating/pig/00_pig1735.jpg  \n",
            "  inflating: pig_data/train/eating/pig/00_pig1736.jpg  \n",
            "  inflating: pig_data/train/eating/pig/00_pig1737.jpg  \n",
            "  inflating: pig_data/train/eating/pig/00_pig1738.jpg  \n",
            "  inflating: pig_data/train/eating/pig/00_pig1739.jpg  \n",
            "  inflating: pig_data/train/eating/pig/00_pig174.jpg  \n",
            "  inflating: pig_data/train/eating/pig/00_pig1740.jpg  \n",
            "  inflating: pig_data/train/eating/pig/00_pig1741.jpg  \n",
            "  inflating: pig_data/train/eating/pig/00_pig1742.jpg  \n",
            "  inflating: pig_data/train/eating/pig/00_pig1743.jpg  \n",
            "  inflating: pig_data/train/eating/pig/00_pig1744.jpg  \n",
            "  inflating: pig_data/train/eating/pig/00_pig1745.jpg  \n",
            "  inflating: pig_data/train/eating/pig/00_pig1746.jpg  \n",
            "  inflating: pig_data/train/eating/pig/00_pig1747.jpg  \n",
            "  inflating: pig_data/train/eating/pig/00_pig1748.jpg  \n",
            "  inflating: pig_data/train/eating/pig/00_pig1749.jpg  \n",
            "  inflating: pig_data/train/eating/pig/00_pig175.jpg  \n",
            "  inflating: pig_data/train/eating/pig/00_pig1750.jpg  \n",
            "  inflating: pig_data/train/eating/pig/00_pig1751.jpg  \n",
            "  inflating: pig_data/train/eating/pig/00_pig1752.jpg  \n",
            "  inflating: pig_data/train/eating/pig/00_pig1753.jpg  \n",
            "  inflating: pig_data/train/eating/pig/00_pig1754.jpg  \n",
            "  inflating: pig_data/train/eating/pig/00_pig1755.jpg  \n",
            "  inflating: pig_data/train/eating/pig/00_pig1756.jpg  \n",
            "  inflating: pig_data/train/eating/pig/00_pig1757.jpg  \n",
            "  inflating: pig_data/train/eating/pig/00_pig1758.jpg  \n",
            "  inflating: pig_data/train/eating/pig/00_pig1759.jpg  \n",
            "  inflating: pig_data/train/eating/pig/00_pig176.jpg  \n",
            "  inflating: pig_data/train/eating/pig/00_pig1760.jpg  \n",
            "  inflating: pig_data/train/eating/pig/00_pig1761.jpg  \n",
            "  inflating: pig_data/train/eating/pig/00_pig1762.jpg  \n",
            "  inflating: pig_data/train/eating/pig/00_pig1763.jpg  \n",
            "  inflating: pig_data/train/eating/pig/00_pig1764.jpg  \n",
            "  inflating: pig_data/train/eating/pig/00_pig1765.jpg  \n",
            "  inflating: pig_data/train/eating/pig/00_pig1766.jpg  \n",
            "  inflating: pig_data/train/eating/pig/00_pig1767.jpg  \n",
            "  inflating: pig_data/train/eating/pig/00_pig1768.jpg  \n",
            "  inflating: pig_data/train/eating/pig/00_pig1769.jpg  \n",
            "  inflating: pig_data/train/eating/pig/00_pig177.jpg  \n",
            "  inflating: pig_data/train/eating/pig/00_pig1770.jpg  \n",
            "  inflating: pig_data/train/eating/pig/00_pig1771.jpg  \n",
            "  inflating: pig_data/train/eating/pig/00_pig1772.jpg  \n",
            "  inflating: pig_data/train/eating/pig/00_pig1773.jpg  \n",
            "  inflating: pig_data/train/eating/pig/00_pig1774.jpg  \n",
            "  inflating: pig_data/train/eating/pig/00_pig1775.jpg  \n",
            "  inflating: pig_data/train/eating/pig/00_pig1776.jpg  \n",
            "  inflating: pig_data/train/eating/pig/00_pig1777.jpg  \n",
            "  inflating: pig_data/train/eating/pig/00_pig1778.jpg  \n",
            "  inflating: pig_data/train/eating/pig/00_pig1779.jpg  \n",
            "  inflating: pig_data/train/eating/pig/00_pig178.jpg  \n",
            "  inflating: pig_data/train/eating/pig/00_pig1780.jpg  \n",
            "  inflating: pig_data/train/eating/pig/00_pig1781.jpg  \n",
            "  inflating: pig_data/train/eating/pig/00_pig1782.jpg  \n",
            "  inflating: pig_data/train/eating/pig/00_pig1783.jpg  \n",
            "  inflating: pig_data/train/eating/pig/00_pig1784.jpg  \n",
            "  inflating: pig_data/train/eating/pig/00_pig1785.jpg  \n",
            "  inflating: pig_data/train/eating/pig/00_pig1786.jpg  \n",
            "  inflating: pig_data/train/eating/pig/00_pig1787.jpg  \n",
            "  inflating: pig_data/train/eating/pig/00_pig1788.jpg  \n",
            "  inflating: pig_data/train/eating/pig/00_pig1789.jpg  \n",
            "  inflating: pig_data/train/eating/pig/00_pig179.jpg  \n",
            "  inflating: pig_data/train/eating/pig/00_pig1790.jpg  \n",
            "  inflating: pig_data/train/eating/pig/00_pig1791.jpg  \n",
            "  inflating: pig_data/train/eating/pig/00_pig1792.jpg  \n",
            "  inflating: pig_data/train/eating/pig/00_pig1793.jpg  \n",
            "  inflating: pig_data/train/eating/pig/00_pig1794.jpg  \n",
            "  inflating: pig_data/train/eating/pig/00_pig1795.jpg  \n",
            "  inflating: pig_data/train/eating/pig/00_pig1796.jpg  \n",
            "  inflating: pig_data/train/eating/pig/00_pig1797.jpg  \n",
            "  inflating: pig_data/train/eating/pig/00_pig1798.jpg  \n",
            "  inflating: pig_data/train/eating/pig/00_pig1799.jpg  \n",
            "  inflating: pig_data/train/eating/pig/00_pig18.jpg  \n",
            "  inflating: pig_data/train/eating/pig/00_pig180.jpg  \n",
            "  inflating: pig_data/train/eating/pig/00_pig1800.jpg  \n",
            "  inflating: pig_data/train/eating/pig/00_pig1801.jpg  \n",
            "  inflating: pig_data/train/eating/pig/00_pig1802.jpg  \n",
            "  inflating: pig_data/train/eating/pig/00_pig1803.jpg  \n",
            "  inflating: pig_data/train/eating/pig/00_pig1804.jpg  \n",
            "  inflating: pig_data/train/eating/pig/00_pig1805.jpg  \n",
            "  inflating: pig_data/train/eating/pig/00_pig1806.jpg  \n",
            "  inflating: pig_data/train/eating/pig/00_pig1807.jpg  \n",
            "  inflating: pig_data/train/eating/pig/00_pig1808.jpg  \n",
            "  inflating: pig_data/train/eating/pig/00_pig1809.jpg  \n",
            "  inflating: pig_data/train/eating/pig/00_pig181.jpg  \n",
            "  inflating: pig_data/train/eating/pig/00_pig1810.jpg  \n",
            "  inflating: pig_data/train/eating/pig/00_pig1811.jpg  \n",
            "  inflating: pig_data/train/eating/pig/00_pig1812.jpg  \n",
            "  inflating: pig_data/train/eating/pig/00_pig1813.jpg  \n",
            "  inflating: pig_data/train/eating/pig/00_pig1814.jpg  \n",
            "  inflating: pig_data/train/eating/pig/00_pig1815.jpg  \n",
            "  inflating: pig_data/train/eating/pig/00_pig1816.jpg  \n",
            "  inflating: pig_data/train/eating/pig/00_pig1817.jpg  \n",
            "  inflating: pig_data/train/eating/pig/00_pig1818.jpg  \n",
            "  inflating: pig_data/train/eating/pig/00_pig1819.jpg  \n",
            "  inflating: pig_data/train/eating/pig/00_pig182.jpg  \n",
            "  inflating: pig_data/train/eating/pig/00_pig1820.jpg  \n",
            "  inflating: pig_data/train/eating/pig/00_pig1821.jpg  \n",
            "  inflating: pig_data/train/eating/pig/00_pig1822.jpg  \n",
            "  inflating: pig_data/train/eating/pig/00_pig1823.jpg  \n",
            "  inflating: pig_data/train/eating/pig/00_pig1824.jpg  \n",
            "  inflating: pig_data/train/eating/pig/00_pig1825.jpg  \n",
            "  inflating: pig_data/train/eating/pig/00_pig1826.jpg  \n",
            "  inflating: pig_data/train/eating/pig/00_pig1827.jpg  \n",
            "  inflating: pig_data/train/eating/pig/00_pig1828.jpg  \n",
            "  inflating: pig_data/train/eating/pig/00_pig1829.jpg  \n",
            "  inflating: pig_data/train/eating/pig/00_pig183.jpg  \n",
            "  inflating: pig_data/train/eating/pig/00_pig1830.jpg  \n",
            "  inflating: pig_data/train/eating/pig/00_pig1831.jpg  \n",
            "  inflating: pig_data/train/eating/pig/00_pig1832.jpg  \n",
            "  inflating: pig_data/train/eating/pig/00_pig1833.jpg  \n",
            "  inflating: pig_data/train/eating/pig/00_pig1834.jpg  \n",
            "  inflating: pig_data/train/eating/pig/00_pig1835.jpg  \n",
            "  inflating: pig_data/train/eating/pig/00_pig1836.jpg  \n",
            "  inflating: pig_data/train/eating/pig/00_pig1837.jpg  \n",
            "  inflating: pig_data/train/eating/pig/00_pig1838.jpg  \n",
            "  inflating: pig_data/train/eating/pig/00_pig1839.jpg  \n",
            "  inflating: pig_data/train/eating/pig/00_pig184.jpg  \n",
            "  inflating: pig_data/train/eating/pig/00_pig1840.jpg  \n",
            "  inflating: pig_data/train/eating/pig/00_pig1841.jpg  \n",
            "  inflating: pig_data/train/eating/pig/00_pig1842.jpg  \n",
            "  inflating: pig_data/train/eating/pig/00_pig1843.jpg  \n",
            "  inflating: pig_data/train/eating/pig/00_pig1844.jpg  \n",
            "  inflating: pig_data/train/eating/pig/00_pig1845.jpg  \n",
            "  inflating: pig_data/train/eating/pig/00_pig1846.jpg  \n",
            "  inflating: pig_data/train/eating/pig/00_pig1847.jpg  \n",
            "  inflating: pig_data/train/eating/pig/00_pig1848.jpg  \n",
            "  inflating: pig_data/train/eating/pig/00_pig1849.jpg  \n",
            "  inflating: pig_data/train/eating/pig/00_pig185.jpg  \n",
            "  inflating: pig_data/train/eating/pig/00_pig1850.jpg  \n",
            "  inflating: pig_data/train/eating/pig/00_pig1851.jpg  \n",
            "  inflating: pig_data/train/eating/pig/00_pig1852.jpg  \n",
            "  inflating: pig_data/train/eating/pig/00_pig1853.jpg  \n",
            "  inflating: pig_data/train/eating/pig/00_pig1854.jpg  \n",
            "  inflating: pig_data/train/eating/pig/00_pig1855.jpg  \n",
            "  inflating: pig_data/train/eating/pig/00_pig1856.jpg  \n",
            "  inflating: pig_data/train/eating/pig/00_pig1857.jpg  \n",
            "  inflating: pig_data/train/eating/pig/00_pig1858.jpg  \n",
            "  inflating: pig_data/train/eating/pig/00_pig1859.jpg  \n",
            "  inflating: pig_data/train/eating/pig/00_pig186.jpg  \n",
            "  inflating: pig_data/train/eating/pig/00_pig1860.jpg  \n",
            "  inflating: pig_data/train/eating/pig/00_pig1861.jpg  \n",
            "  inflating: pig_data/train/eating/pig/00_pig1862.jpg  \n",
            "  inflating: pig_data/train/eating/pig/00_pig1863.jpg  \n",
            "  inflating: pig_data/train/eating/pig/00_pig1864.jpg  \n",
            "  inflating: pig_data/train/eating/pig/00_pig1865.jpg  \n",
            "  inflating: pig_data/train/eating/pig/00_pig1866.jpg  \n",
            "  inflating: pig_data/train/eating/pig/00_pig1867.jpg  \n",
            "  inflating: pig_data/train/eating/pig/00_pig1868.jpg  \n",
            "  inflating: pig_data/train/eating/pig/00_pig1869.jpg  \n",
            "  inflating: pig_data/train/eating/pig/00_pig187.jpg  \n",
            "  inflating: pig_data/train/eating/pig/00_pig1870.jpg  \n",
            "  inflating: pig_data/train/eating/pig/00_pig1871.jpg  \n",
            "  inflating: pig_data/train/eating/pig/00_pig1872.jpg  \n",
            "  inflating: pig_data/train/eating/pig/00_pig1873.jpg  \n",
            "  inflating: pig_data/train/eating/pig/00_pig1874.jpg  \n",
            "  inflating: pig_data/train/eating/pig/00_pig1875.jpg  \n",
            "  inflating: pig_data/train/eating/pig/00_pig1876.jpg  \n",
            "  inflating: pig_data/train/eating/pig/00_pig1877.jpg  \n",
            "  inflating: pig_data/train/eating/pig/00_pig1878.jpg  \n",
            "  inflating: pig_data/train/eating/pig/00_pig1879.jpg  \n",
            "  inflating: pig_data/train/eating/pig/00_pig188.jpg  \n",
            "  inflating: pig_data/train/eating/pig/00_pig1880.jpg  \n",
            "  inflating: pig_data/train/eating/pig/00_pig1881.jpg  \n",
            "  inflating: pig_data/train/eating/pig/00_pig1882.jpg  \n",
            "  inflating: pig_data/train/eating/pig/00_pig1883.jpg  \n",
            "  inflating: pig_data/train/eating/pig/00_pig1884.jpg  \n",
            "  inflating: pig_data/train/eating/pig/00_pig1885.jpg  \n",
            "  inflating: pig_data/train/eating/pig/00_pig1886.jpg  \n",
            "  inflating: pig_data/train/eating/pig/00_pig1887.jpg  \n",
            "  inflating: pig_data/train/eating/pig/00_pig1888.jpg  \n",
            "  inflating: pig_data/train/eating/pig/00_pig1889.jpg  \n",
            "  inflating: pig_data/train/eating/pig/00_pig189.jpg  \n",
            "  inflating: pig_data/train/eating/pig/00_pig1890.jpg  \n",
            "  inflating: pig_data/train/eating/pig/00_pig1891.jpg  \n",
            "  inflating: pig_data/train/eating/pig/00_pig1892.jpg  \n",
            "  inflating: pig_data/train/eating/pig/00_pig1893.jpg  \n",
            "  inflating: pig_data/train/eating/pig/00_pig1894.jpg  \n",
            "  inflating: pig_data/train/eating/pig/00_pig1895.jpg  \n",
            "  inflating: pig_data/train/eating/pig/00_pig1896.jpg  \n",
            "  inflating: pig_data/train/eating/pig/00_pig1897.jpg  \n",
            "  inflating: pig_data/train/eating/pig/00_pig1898.jpg  \n",
            "  inflating: pig_data/train/eating/pig/00_pig1899.jpg  \n",
            "  inflating: pig_data/train/eating/pig/00_pig19.jpg  \n",
            "  inflating: pig_data/train/eating/pig/00_pig190.jpg  \n",
            "  inflating: pig_data/train/eating/pig/00_pig1900.jpg  \n",
            "  inflating: pig_data/train/eating/pig/00_pig1901.jpg  \n",
            "  inflating: pig_data/train/eating/pig/00_pig1902.jpg  \n",
            "  inflating: pig_data/train/eating/pig/00_pig1903.jpg  \n",
            "  inflating: pig_data/train/eating/pig/00_pig1904.jpg  \n",
            "  inflating: pig_data/train/eating/pig/00_pig1905.jpg  \n",
            "  inflating: pig_data/train/eating/pig/00_pig1906.jpg  \n",
            "  inflating: pig_data/train/eating/pig/00_pig1907.jpg  \n",
            "  inflating: pig_data/train/eating/pig/00_pig1908.jpg  \n",
            "  inflating: pig_data/train/eating/pig/00_pig1909.jpg  \n",
            "  inflating: pig_data/train/eating/pig/00_pig191.jpg  \n",
            "  inflating: pig_data/train/eating/pig/00_pig1910.jpg  \n",
            "  inflating: pig_data/train/eating/pig/00_pig1911.jpg  \n",
            "  inflating: pig_data/train/eating/pig/00_pig1912.jpg  \n",
            "  inflating: pig_data/train/eating/pig/00_pig1913.jpg  \n",
            "  inflating: pig_data/train/eating/pig/00_pig1914.jpg  \n",
            "  inflating: pig_data/train/eating/pig/00_pig1915.jpg  \n",
            "  inflating: pig_data/train/eating/pig/00_pig1916.jpg  \n",
            "  inflating: pig_data/train/eating/pig/00_pig1917.jpg  \n",
            "  inflating: pig_data/train/eating/pig/00_pig1918.jpg  \n",
            "  inflating: pig_data/train/eating/pig/00_pig1919.jpg  \n",
            "  inflating: pig_data/train/eating/pig/00_pig192.jpg  \n",
            "  inflating: pig_data/train/eating/pig/00_pig1920.jpg  \n",
            "  inflating: pig_data/train/eating/pig/00_pig1921.jpg  \n",
            "  inflating: pig_data/train/eating/pig/00_pig1922.jpg  \n",
            "  inflating: pig_data/train/eating/pig/00_pig1923.jpg  \n",
            "  inflating: pig_data/train/eating/pig/00_pig1924.jpg  \n",
            "  inflating: pig_data/train/eating/pig/00_pig1925.jpg  \n",
            "  inflating: pig_data/train/eating/pig/00_pig1926.jpg  \n",
            "  inflating: pig_data/train/eating/pig/00_pig1927.jpg  \n",
            "  inflating: pig_data/train/eating/pig/00_pig1928.jpg  \n",
            "  inflating: pig_data/train/eating/pig/00_pig1929.jpg  \n",
            "  inflating: pig_data/train/eating/pig/00_pig193.jpg  \n",
            "  inflating: pig_data/train/eating/pig/00_pig1930.jpg  \n",
            "  inflating: pig_data/train/eating/pig/00_pig1931.jpg  \n",
            "  inflating: pig_data/train/eating/pig/00_pig1932.jpg  \n",
            "  inflating: pig_data/train/eating/pig/00_pig1933.jpg  \n",
            "  inflating: pig_data/train/eating/pig/00_pig1934.jpg  \n",
            "  inflating: pig_data/train/eating/pig/00_pig1935.jpg  \n",
            "  inflating: pig_data/train/eating/pig/00_pig1936.jpg  \n",
            "  inflating: pig_data/train/eating/pig/00_pig1937.jpg  \n",
            "  inflating: pig_data/train/eating/pig/00_pig1938.jpg  \n",
            "  inflating: pig_data/train/eating/pig/00_pig1939.jpg  \n",
            "  inflating: pig_data/train/eating/pig/00_pig194.jpg  \n",
            "  inflating: pig_data/train/eating/pig/00_pig1940.jpg  \n",
            "  inflating: pig_data/train/eating/pig/00_pig1941.jpg  \n",
            "  inflating: pig_data/train/eating/pig/00_pig1942.jpg  \n",
            "  inflating: pig_data/train/eating/pig/00_pig1943.jpg  \n",
            "  inflating: pig_data/train/eating/pig/00_pig1944.jpg  \n",
            "  inflating: pig_data/train/eating/pig/00_pig1945.jpg  \n",
            "  inflating: pig_data/train/eating/pig/00_pig1946.jpg  \n",
            "  inflating: pig_data/train/eating/pig/00_pig1947.jpg  \n",
            "  inflating: pig_data/train/eating/pig/00_pig1948.jpg  \n",
            "  inflating: pig_data/train/eating/pig/00_pig1949.jpg  \n",
            "  inflating: pig_data/train/eating/pig/00_pig195.jpg  \n",
            "  inflating: pig_data/train/eating/pig/00_pig1950.jpg  \n",
            "  inflating: pig_data/train/eating/pig/00_pig1951.jpg  \n",
            "  inflating: pig_data/train/eating/pig/00_pig1952.jpg  \n",
            "  inflating: pig_data/train/eating/pig/00_pig1953.jpg  \n",
            "  inflating: pig_data/train/eating/pig/00_pig1954.jpg  \n",
            "  inflating: pig_data/train/eating/pig/00_pig1955.jpg  \n",
            "  inflating: pig_data/train/eating/pig/00_pig1956.jpg  \n",
            "  inflating: pig_data/train/eating/pig/00_pig1957.jpg  \n",
            "  inflating: pig_data/train/eating/pig/00_pig1958.jpg  \n",
            "  inflating: pig_data/train/eating/pig/00_pig1959.jpg  \n",
            "  inflating: pig_data/train/eating/pig/00_pig196.jpg  \n",
            "  inflating: pig_data/train/eating/pig/00_pig1960.jpg  \n",
            "  inflating: pig_data/train/eating/pig/00_pig1961.jpg  \n",
            "  inflating: pig_data/train/eating/pig/00_pig1962.jpg  \n",
            "  inflating: pig_data/train/eating/pig/00_pig1963.jpg  \n",
            "  inflating: pig_data/train/eating/pig/00_pig1964.jpg  \n",
            "  inflating: pig_data/train/eating/pig/00_pig1965.jpg  \n",
            "  inflating: pig_data/train/eating/pig/00_pig1966.jpg  \n",
            "  inflating: pig_data/train/eating/pig/00_pig1967.jpg  \n",
            "  inflating: pig_data/train/eating/pig/00_pig1968.jpg  \n",
            "  inflating: pig_data/train/eating/pig/00_pig1969.jpg  \n",
            "  inflating: pig_data/train/eating/pig/00_pig197.jpg  \n",
            "  inflating: pig_data/train/eating/pig/00_pig1970.jpg  \n",
            "  inflating: pig_data/train/eating/pig/00_pig1971.jpg  \n",
            "  inflating: pig_data/train/eating/pig/00_pig1972.jpg  \n",
            "  inflating: pig_data/train/eating/pig/00_pig1973.jpg  \n",
            "  inflating: pig_data/train/eating/pig/00_pig1974.jpg  \n",
            "  inflating: pig_data/train/eating/pig/00_pig1975.jpg  \n",
            "  inflating: pig_data/train/eating/pig/00_pig1976.jpg  \n",
            "  inflating: pig_data/train/eating/pig/00_pig1977.jpg  \n",
            "  inflating: pig_data/train/eating/pig/00_pig1978.jpg  \n",
            "  inflating: pig_data/train/eating/pig/00_pig1979.jpg  \n",
            "  inflating: pig_data/train/eating/pig/00_pig198.jpg  \n",
            "  inflating: pig_data/train/eating/pig/00_pig1980.jpg  \n",
            "  inflating: pig_data/train/eating/pig/00_pig1981.jpg  \n",
            "  inflating: pig_data/train/eating/pig/00_pig1982.jpg  \n",
            "  inflating: pig_data/train/eating/pig/00_pig1983.jpg  \n",
            "  inflating: pig_data/train/eating/pig/00_pig1984.jpg  \n",
            "  inflating: pig_data/train/eating/pig/00_pig1985.jpg  \n",
            "  inflating: pig_data/train/eating/pig/00_pig1986.jpg  \n",
            "  inflating: pig_data/train/eating/pig/00_pig1987.jpg  \n",
            "  inflating: pig_data/train/eating/pig/00_pig1988.jpg  \n",
            "  inflating: pig_data/train/eating/pig/00_pig1989.jpg  \n",
            "  inflating: pig_data/train/eating/pig/00_pig199.jpg  \n",
            "  inflating: pig_data/train/eating/pig/00_pig1990.jpg  \n",
            "  inflating: pig_data/train/eating/pig/00_pig1991.jpg  \n",
            "  inflating: pig_data/train/eating/pig/00_pig1992.jpg  \n",
            "  inflating: pig_data/train/eating/pig/00_pig1993.jpg  \n",
            "  inflating: pig_data/train/eating/pig/00_pig1994.jpg  \n",
            "  inflating: pig_data/train/eating/pig/00_pig1995.jpg  \n",
            "  inflating: pig_data/train/eating/pig/00_pig1996.jpg  \n",
            "  inflating: pig_data/train/eating/pig/00_pig1997.jpg  \n",
            "  inflating: pig_data/train/eating/pig/00_pig1998.jpg  \n",
            "  inflating: pig_data/train/eating/pig/00_pig1999.jpg  \n",
            "  inflating: pig_data/train/eating/pig/00_pig2.jpg  \n",
            "  inflating: pig_data/train/eating/pig/00_pig20.jpg  \n",
            "  inflating: pig_data/train/eating/pig/00_pig200.jpg  \n",
            "  inflating: pig_data/train/eating/pig/00_pig2000.jpg  \n",
            "  inflating: pig_data/train/eating/pig/00_pig2001.jpg  \n",
            "  inflating: pig_data/train/eating/pig/00_pig2002.jpg  \n",
            "  inflating: pig_data/train/eating/pig/00_pig2003.jpg  \n",
            "  inflating: pig_data/train/eating/pig/00_pig2004.jpg  \n",
            "  inflating: pig_data/train/eating/pig/00_pig2005.jpg  \n",
            "  inflating: pig_data/train/eating/pig/00_pig2006.jpg  \n",
            "  inflating: pig_data/train/eating/pig/00_pig2007.jpg  \n",
            "  inflating: pig_data/train/eating/pig/00_pig2008.jpg  \n",
            "  inflating: pig_data/train/eating/pig/00_pig2009.jpg  \n",
            "  inflating: pig_data/train/eating/pig/00_pig201.jpg  \n",
            "  inflating: pig_data/train/eating/pig/00_pig2010.jpg  \n",
            "  inflating: pig_data/train/eating/pig/00_pig2011.jpg  \n",
            "  inflating: pig_data/train/eating/pig/00_pig2012.jpg  \n",
            "  inflating: pig_data/train/eating/pig/00_pig2013.jpg  \n",
            "  inflating: pig_data/train/eating/pig/00_pig2014.jpg  \n",
            "  inflating: pig_data/train/eating/pig/00_pig2015.jpg  \n",
            "  inflating: pig_data/train/eating/pig/00_pig2016.jpg  \n",
            "  inflating: pig_data/train/eating/pig/00_pig2017.jpg  \n",
            "  inflating: pig_data/train/eating/pig/00_pig2018.jpg  \n",
            "  inflating: pig_data/train/eating/pig/00_pig2019.jpg  \n",
            "  inflating: pig_data/train/eating/pig/00_pig202.jpg  \n",
            "  inflating: pig_data/train/eating/pig/00_pig2020.jpg  \n",
            "  inflating: pig_data/train/eating/pig/00_pig2021.jpg  \n",
            "  inflating: pig_data/train/eating/pig/00_pig2022.jpg  \n",
            "  inflating: pig_data/train/eating/pig/00_pig2023.jpg  \n",
            "  inflating: pig_data/train/eating/pig/00_pig2024.jpg  \n",
            "  inflating: pig_data/train/eating/pig/00_pig2025.jpg  \n",
            "  inflating: pig_data/train/eating/pig/00_pig2026.jpg  \n",
            "  inflating: pig_data/train/eating/pig/00_pig2027.jpg  \n",
            "  inflating: pig_data/train/eating/pig/00_pig2028.jpg  \n",
            "  inflating: pig_data/train/eating/pig/00_pig2029.jpg  \n",
            "  inflating: pig_data/train/eating/pig/00_pig203.jpg  \n",
            "  inflating: pig_data/train/eating/pig/00_pig2030.jpg  \n",
            "  inflating: pig_data/train/eating/pig/00_pig2031.jpg  \n",
            "  inflating: pig_data/train/eating/pig/00_pig2032.jpg  \n",
            "  inflating: pig_data/train/eating/pig/00_pig2033.jpg  \n",
            "  inflating: pig_data/train/eating/pig/00_pig2034.jpg  \n",
            "  inflating: pig_data/train/eating/pig/00_pig2035.jpg  \n",
            "  inflating: pig_data/train/eating/pig/00_pig2036.jpg  \n",
            "  inflating: pig_data/train/eating/pig/00_pig2037.jpg  \n",
            "  inflating: pig_data/train/eating/pig/00_pig2038.jpg  \n",
            "  inflating: pig_data/train/eating/pig/00_pig2039.jpg  \n",
            "  inflating: pig_data/train/eating/pig/00_pig204.jpg  \n",
            "  inflating: pig_data/train/eating/pig/00_pig2040.jpg  \n",
            "  inflating: pig_data/train/eating/pig/00_pig2041.jpg  \n",
            "  inflating: pig_data/train/eating/pig/00_pig2042.jpg  \n",
            "  inflating: pig_data/train/eating/pig/00_pig2043.jpg  \n",
            "  inflating: pig_data/train/eating/pig/00_pig2044.jpg  \n",
            "  inflating: pig_data/train/eating/pig/00_pig2045.jpg  \n",
            "  inflating: pig_data/train/eating/pig/00_pig2046.jpg  \n",
            "  inflating: pig_data/train/eating/pig/00_pig2047.jpg  \n",
            "  inflating: pig_data/train/eating/pig/00_pig2048.jpg  \n",
            "  inflating: pig_data/train/eating/pig/00_pig2049.jpg  \n",
            "  inflating: pig_data/train/eating/pig/00_pig205.jpg  \n",
            "  inflating: pig_data/train/eating/pig/00_pig2050.jpg  \n",
            "  inflating: pig_data/train/eating/pig/00_pig2051.jpg  \n",
            "  inflating: pig_data/train/eating/pig/00_pig2052.jpg  \n",
            "  inflating: pig_data/train/eating/pig/00_pig2053.jpg  \n",
            "  inflating: pig_data/train/eating/pig/00_pig2054.jpg  \n",
            "  inflating: pig_data/train/eating/pig/00_pig2055.jpg  \n",
            "  inflating: pig_data/train/eating/pig/00_pig2056.jpg  \n",
            "  inflating: pig_data/train/eating/pig/00_pig2057.jpg  \n",
            "  inflating: pig_data/train/eating/pig/00_pig2058.jpg  \n",
            "  inflating: pig_data/train/eating/pig/00_pig2059.jpg  \n",
            "  inflating: pig_data/train/eating/pig/00_pig206.jpg  \n",
            "  inflating: pig_data/train/eating/pig/00_pig2060.jpg  \n",
            "  inflating: pig_data/train/eating/pig/00_pig2061.jpg  \n",
            "  inflating: pig_data/train/eating/pig/00_pig2062.jpg  \n",
            "  inflating: pig_data/train/eating/pig/00_pig2063.jpg  \n",
            "  inflating: pig_data/train/eating/pig/00_pig2064.jpg  \n",
            "  inflating: pig_data/train/eating/pig/00_pig2065.jpg  \n",
            "  inflating: pig_data/train/eating/pig/00_pig2066.jpg  \n",
            "  inflating: pig_data/train/eating/pig/00_pig2067.jpg  \n",
            "  inflating: pig_data/train/eating/pig/00_pig2068.jpg  \n",
            "  inflating: pig_data/train/eating/pig/00_pig2069.jpg  \n",
            "  inflating: pig_data/train/eating/pig/00_pig207.jpg  \n",
            "  inflating: pig_data/train/eating/pig/00_pig2070.jpg  \n",
            "  inflating: pig_data/train/eating/pig/00_pig2071.jpg  \n",
            "  inflating: pig_data/train/eating/pig/00_pig2072.jpg  \n",
            "  inflating: pig_data/train/eating/pig/00_pig2073.jpg  \n",
            "  inflating: pig_data/train/eating/pig/00_pig2074.jpg  \n",
            "  inflating: pig_data/train/eating/pig/00_pig2075.jpg  \n",
            "  inflating: pig_data/train/eating/pig/00_pig2076.jpg  \n",
            "  inflating: pig_data/train/eating/pig/00_pig2077.jpg  \n",
            "  inflating: pig_data/train/eating/pig/00_pig2078.jpg  \n",
            "  inflating: pig_data/train/eating/pig/00_pig2079.jpg  \n",
            "  inflating: pig_data/train/eating/pig/00_pig208.jpg  \n",
            "  inflating: pig_data/train/eating/pig/00_pig2080.jpg  \n",
            "  inflating: pig_data/train/eating/pig/00_pig2081.jpg  \n",
            "  inflating: pig_data/train/eating/pig/00_pig2082.jpg  \n",
            "  inflating: pig_data/train/eating/pig/00_pig2083.jpg  \n",
            "  inflating: pig_data/train/eating/pig/00_pig2084.jpg  \n",
            "  inflating: pig_data/train/eating/pig/00_pig2085.jpg  \n",
            "  inflating: pig_data/train/eating/pig/00_pig2086.jpg  \n",
            "  inflating: pig_data/train/eating/pig/00_pig2087.jpg  \n",
            "  inflating: pig_data/train/eating/pig/00_pig2088.jpg  \n",
            "  inflating: pig_data/train/eating/pig/00_pig2089.jpg  \n",
            "  inflating: pig_data/train/eating/pig/00_pig209.jpg  \n",
            "  inflating: pig_data/train/eating/pig/00_pig2090.jpg  \n",
            "  inflating: pig_data/train/eating/pig/00_pig2091.jpg  \n",
            "  inflating: pig_data/train/eating/pig/00_pig2092.jpg  \n",
            "  inflating: pig_data/train/eating/pig/00_pig2093.jpg  \n",
            "  inflating: pig_data/train/eating/pig/00_pig2094.jpg  \n",
            "  inflating: pig_data/train/eating/pig/00_pig2095.jpg  \n",
            "  inflating: pig_data/train/eating/pig/00_pig2096.jpg  \n",
            "  inflating: pig_data/train/eating/pig/00_pig2097.jpg  \n",
            "  inflating: pig_data/train/eating/pig/00_pig2098.jpg  \n",
            "  inflating: pig_data/train/eating/pig/00_pig2099.jpg  \n",
            "  inflating: pig_data/train/eating/pig/00_pig21.jpg  \n",
            "  inflating: pig_data/train/eating/pig/00_pig210.jpg  \n",
            "  inflating: pig_data/train/eating/pig/00_pig211.jpg  \n",
            "  inflating: pig_data/train/eating/pig/00_pig212.jpg  \n",
            "  inflating: pig_data/train/eating/pig/00_pig213.jpg  \n",
            "  inflating: pig_data/train/eating/pig/00_pig214.jpg  \n",
            "  inflating: pig_data/train/eating/pig/00_pig215.jpg  \n",
            "  inflating: pig_data/train/eating/pig/00_pig216.jpg  \n",
            "  inflating: pig_data/train/eating/pig/00_pig217.jpg  \n",
            "  inflating: pig_data/train/eating/pig/00_pig218.jpg  \n",
            "  inflating: pig_data/train/eating/pig/00_pig219.jpg  \n",
            "  inflating: pig_data/train/eating/pig/00_pig22.jpg  \n",
            "  inflating: pig_data/train/eating/pig/00_pig220.jpg  \n",
            "  inflating: pig_data/train/eating/pig/00_pig221.jpg  \n",
            "  inflating: pig_data/train/eating/pig/00_pig222.jpg  \n",
            "  inflating: pig_data/train/eating/pig/00_pig223.jpg  \n",
            "  inflating: pig_data/train/eating/pig/00_pig224.jpg  \n",
            "  inflating: pig_data/train/eating/pig/00_pig225.jpg  \n",
            "  inflating: pig_data/train/eating/pig/00_pig226.jpg  \n",
            "  inflating: pig_data/train/eating/pig/00_pig227.jpg  \n",
            "  inflating: pig_data/train/eating/pig/00_pig228.jpg  \n",
            "  inflating: pig_data/train/eating/pig/00_pig229.jpg  \n",
            "  inflating: pig_data/train/eating/pig/00_pig23.jpg  \n",
            "  inflating: pig_data/train/eating/pig/00_pig230.jpg  \n",
            "  inflating: pig_data/train/eating/pig/00_pig231.jpg  \n",
            "  inflating: pig_data/train/eating/pig/00_pig232.jpg  \n",
            "  inflating: pig_data/train/eating/pig/00_pig233.jpg  \n",
            "  inflating: pig_data/train/eating/pig/00_pig234.jpg  \n",
            "  inflating: pig_data/train/eating/pig/00_pig235.jpg  \n",
            "  inflating: pig_data/train/eating/pig/00_pig236.jpg  \n",
            "  inflating: pig_data/train/eating/pig/00_pig237.jpg  \n",
            "  inflating: pig_data/train/eating/pig/00_pig238.jpg  \n",
            "  inflating: pig_data/train/eating/pig/00_pig239.jpg  \n",
            "  inflating: pig_data/train/eating/pig/00_pig24.jpg  \n",
            "  inflating: pig_data/train/eating/pig/00_pig240.jpg  \n",
            "  inflating: pig_data/train/eating/pig/00_pig241.jpg  \n",
            "  inflating: pig_data/train/eating/pig/00_pig242.jpg  \n",
            "  inflating: pig_data/train/eating/pig/00_pig243.jpg  \n",
            "  inflating: pig_data/train/eating/pig/00_pig244.jpg  \n",
            "  inflating: pig_data/train/eating/pig/00_pig245.jpg  \n",
            "  inflating: pig_data/train/eating/pig/00_pig246.jpg  \n",
            "  inflating: pig_data/train/eating/pig/00_pig247.jpg  \n",
            "  inflating: pig_data/train/eating/pig/00_pig248.jpg  \n",
            "  inflating: pig_data/train/eating/pig/00_pig249.jpg  \n",
            "  inflating: pig_data/train/eating/pig/00_pig25.jpg  \n",
            "  inflating: pig_data/train/eating/pig/00_pig250.jpg  \n",
            "  inflating: pig_data/train/eating/pig/00_pig251.jpg  \n",
            "  inflating: pig_data/train/eating/pig/00_pig252.jpg  \n",
            "  inflating: pig_data/train/eating/pig/00_pig253.jpg  \n",
            "  inflating: pig_data/train/eating/pig/00_pig254.jpg  \n",
            "  inflating: pig_data/train/eating/pig/00_pig255.jpg  \n",
            "  inflating: pig_data/train/eating/pig/00_pig256.jpg  \n",
            "  inflating: pig_data/train/eating/pig/00_pig257.jpg  \n",
            "  inflating: pig_data/train/eating/pig/00_pig258.jpg  \n",
            "  inflating: pig_data/train/eating/pig/00_pig259.jpg  \n",
            "  inflating: pig_data/train/eating/pig/00_pig26.jpg  \n",
            "  inflating: pig_data/train/eating/pig/00_pig260.jpg  \n",
            "  inflating: pig_data/train/eating/pig/00_pig261.jpg  \n",
            "  inflating: pig_data/train/eating/pig/00_pig262.jpg  \n",
            "  inflating: pig_data/train/eating/pig/00_pig263.jpg  \n",
            "  inflating: pig_data/train/eating/pig/00_pig264.jpg  \n",
            "  inflating: pig_data/train/eating/pig/00_pig265.jpg  \n",
            "  inflating: pig_data/train/eating/pig/00_pig266.jpg  \n",
            "  inflating: pig_data/train/eating/pig/00_pig267.jpg  \n",
            "  inflating: pig_data/train/eating/pig/00_pig268.jpg  \n",
            "  inflating: pig_data/train/eating/pig/00_pig269.jpg  \n",
            "  inflating: pig_data/train/eating/pig/00_pig27.jpg  \n",
            "  inflating: pig_data/train/eating/pig/00_pig270.jpg  \n",
            "  inflating: pig_data/train/eating/pig/00_pig271.jpg  \n",
            "  inflating: pig_data/train/eating/pig/00_pig272.jpg  \n",
            "  inflating: pig_data/train/eating/pig/00_pig273.jpg  \n",
            "  inflating: pig_data/train/eating/pig/00_pig274.jpg  \n",
            "  inflating: pig_data/train/eating/pig/00_pig275.jpg  \n",
            "  inflating: pig_data/train/eating/pig/00_pig276.jpg  \n",
            "  inflating: pig_data/train/eating/pig/00_pig277.jpg  \n",
            "  inflating: pig_data/train/eating/pig/00_pig278.jpg  \n",
            "  inflating: pig_data/train/eating/pig/00_pig279.jpg  \n",
            "  inflating: pig_data/train/eating/pig/00_pig28.jpg  \n",
            "  inflating: pig_data/train/eating/pig/00_pig280.jpg  \n",
            "  inflating: pig_data/train/eating/pig/00_pig281.jpg  \n",
            "  inflating: pig_data/train/eating/pig/00_pig282.jpg  \n",
            "  inflating: pig_data/train/eating/pig/00_pig283.jpg  \n",
            "  inflating: pig_data/train/eating/pig/00_pig284.jpg  \n",
            "  inflating: pig_data/train/eating/pig/00_pig285.jpg  \n",
            "  inflating: pig_data/train/eating/pig/00_pig286.jpg  \n",
            "  inflating: pig_data/train/eating/pig/00_pig287.jpg  \n",
            "  inflating: pig_data/train/eating/pig/00_pig288.jpg  \n",
            "  inflating: pig_data/train/eating/pig/00_pig289.jpg  \n",
            "  inflating: pig_data/train/eating/pig/00_pig29.jpg  \n",
            "  inflating: pig_data/train/eating/pig/00_pig290.jpg  \n",
            "  inflating: pig_data/train/eating/pig/00_pig291.jpg  \n",
            "  inflating: pig_data/train/eating/pig/00_pig292.jpg  \n",
            "  inflating: pig_data/train/eating/pig/00_pig293.jpg  \n",
            "  inflating: pig_data/train/eating/pig/00_pig294.jpg  \n",
            "  inflating: pig_data/train/eating/pig/00_pig295.jpg  \n",
            "  inflating: pig_data/train/eating/pig/00_pig296.jpg  \n",
            "  inflating: pig_data/train/eating/pig/00_pig297.jpg  \n",
            "  inflating: pig_data/train/eating/pig/00_pig298.jpg  \n",
            "  inflating: pig_data/train/eating/pig/00_pig299.jpg  \n",
            "  inflating: pig_data/train/eating/pig/00_pig3.jpg  \n",
            "  inflating: pig_data/train/eating/pig/00_pig30.jpg  \n",
            "  inflating: pig_data/train/eating/pig/00_pig300.jpg  \n",
            "  inflating: pig_data/train/eating/pig/00_pig301.jpg  \n",
            "  inflating: pig_data/train/eating/pig/00_pig302.jpg  \n",
            "  inflating: pig_data/train/eating/pig/00_pig303.jpg  \n",
            "  inflating: pig_data/train/eating/pig/00_pig304.jpg  \n",
            "  inflating: pig_data/train/eating/pig/00_pig305.jpg  \n",
            "  inflating: pig_data/train/eating/pig/00_pig306.jpg  \n",
            "  inflating: pig_data/train/eating/pig/00_pig307.jpg  \n",
            "  inflating: pig_data/train/eating/pig/00_pig308.jpg  \n",
            "  inflating: pig_data/train/eating/pig/00_pig309.jpg  \n",
            "  inflating: pig_data/train/eating/pig/00_pig31.jpg  \n",
            "  inflating: pig_data/train/eating/pig/00_pig310.jpg  \n",
            "  inflating: pig_data/train/eating/pig/00_pig311.jpg  \n",
            "  inflating: pig_data/train/eating/pig/00_pig312.jpg  \n",
            "  inflating: pig_data/train/eating/pig/00_pig313.jpg  \n",
            "  inflating: pig_data/train/eating/pig/00_pig314.jpg  \n",
            "  inflating: pig_data/train/eating/pig/00_pig315.jpg  \n",
            "  inflating: pig_data/train/eating/pig/00_pig316.jpg  \n",
            "  inflating: pig_data/train/eating/pig/00_pig317.jpg  \n",
            "  inflating: pig_data/train/eating/pig/00_pig318.jpg  \n",
            "  inflating: pig_data/train/eating/pig/00_pig319.jpg  \n",
            "  inflating: pig_data/train/eating/pig/00_pig32.jpg  \n",
            "  inflating: pig_data/train/eating/pig/00_pig320.jpg  \n",
            "  inflating: pig_data/train/eating/pig/00_pig321.jpg  \n",
            "  inflating: pig_data/train/eating/pig/00_pig322.jpg  \n",
            "  inflating: pig_data/train/eating/pig/00_pig323.jpg  \n",
            "  inflating: pig_data/train/eating/pig/00_pig324.jpg  \n",
            "  inflating: pig_data/train/eating/pig/00_pig325.jpg  \n",
            "  inflating: pig_data/train/eating/pig/00_pig326.jpg  \n",
            "  inflating: pig_data/train/eating/pig/00_pig327.jpg  \n",
            "  inflating: pig_data/train/eating/pig/00_pig328.jpg  \n",
            "  inflating: pig_data/train/eating/pig/00_pig329.jpg  \n",
            "  inflating: pig_data/train/eating/pig/00_pig33.jpg  \n",
            "  inflating: pig_data/train/eating/pig/00_pig330.jpg  \n",
            "  inflating: pig_data/train/eating/pig/00_pig331.jpg  \n",
            "  inflating: pig_data/train/eating/pig/00_pig332.jpg  \n",
            "  inflating: pig_data/train/eating/pig/00_pig333.jpg  \n",
            "  inflating: pig_data/train/eating/pig/00_pig334.jpg  \n",
            "  inflating: pig_data/train/eating/pig/00_pig335.jpg  \n",
            "  inflating: pig_data/train/eating/pig/00_pig336.jpg  \n",
            "  inflating: pig_data/train/eating/pig/00_pig337.jpg  \n",
            "  inflating: pig_data/train/eating/pig/00_pig338.jpg  \n",
            "  inflating: pig_data/train/eating/pig/00_pig339.jpg  \n",
            "  inflating: pig_data/train/eating/pig/00_pig34.jpg  \n",
            "  inflating: pig_data/train/eating/pig/00_pig340.jpg  \n",
            "  inflating: pig_data/train/eating/pig/00_pig341.jpg  \n",
            "  inflating: pig_data/train/eating/pig/00_pig342.jpg  \n",
            "  inflating: pig_data/train/eating/pig/00_pig343.jpg  \n",
            "  inflating: pig_data/train/eating/pig/00_pig344.jpg  \n",
            "  inflating: pig_data/train/eating/pig/00_pig345.jpg  \n",
            "  inflating: pig_data/train/eating/pig/00_pig346.jpg  \n",
            "  inflating: pig_data/train/eating/pig/00_pig347.jpg  \n",
            "  inflating: pig_data/train/eating/pig/00_pig348.jpg  \n",
            "  inflating: pig_data/train/eating/pig/00_pig349.jpg  \n",
            "  inflating: pig_data/train/eating/pig/00_pig35.jpg  \n",
            "  inflating: pig_data/train/eating/pig/00_pig350.jpg  \n",
            "  inflating: pig_data/train/eating/pig/00_pig351.jpg  \n",
            "  inflating: pig_data/train/eating/pig/00_pig352.jpg  \n",
            "  inflating: pig_data/train/eating/pig/00_pig353.jpg  \n",
            "  inflating: pig_data/train/eating/pig/00_pig354.jpg  \n",
            "  inflating: pig_data/train/eating/pig/00_pig355.jpg  \n",
            "  inflating: pig_data/train/eating/pig/00_pig356.jpg  \n",
            "  inflating: pig_data/train/eating/pig/00_pig357.jpg  \n",
            "  inflating: pig_data/train/eating/pig/00_pig358.jpg  \n",
            "  inflating: pig_data/train/eating/pig/00_pig359.jpg  \n",
            "  inflating: pig_data/train/eating/pig/00_pig36.jpg  \n",
            "  inflating: pig_data/train/eating/pig/00_pig360.jpg  \n",
            "  inflating: pig_data/train/eating/pig/00_pig361.jpg  \n",
            "  inflating: pig_data/train/eating/pig/00_pig362.jpg  \n",
            "  inflating: pig_data/train/eating/pig/00_pig363.jpg  \n",
            "  inflating: pig_data/train/eating/pig/00_pig364.jpg  \n",
            "  inflating: pig_data/train/eating/pig/00_pig365.jpg  \n",
            "  inflating: pig_data/train/eating/pig/00_pig366.jpg  \n",
            "  inflating: pig_data/train/eating/pig/00_pig367.jpg  \n",
            "  inflating: pig_data/train/eating/pig/00_pig368.jpg  \n",
            "  inflating: pig_data/train/eating/pig/00_pig369.jpg  \n",
            "  inflating: pig_data/train/eating/pig/00_pig37.jpg  \n",
            "  inflating: pig_data/train/eating/pig/00_pig370.jpg  \n",
            "  inflating: pig_data/train/eating/pig/00_pig371.jpg  \n",
            "  inflating: pig_data/train/eating/pig/00_pig372.jpg  \n",
            "  inflating: pig_data/train/eating/pig/00_pig373.jpg  \n",
            "  inflating: pig_data/train/eating/pig/00_pig374.jpg  \n",
            "  inflating: pig_data/train/eating/pig/00_pig375.jpg  \n",
            "  inflating: pig_data/train/eating/pig/00_pig376.jpg  \n",
            "  inflating: pig_data/train/eating/pig/00_pig377.jpg  \n",
            "  inflating: pig_data/train/eating/pig/00_pig378.jpg  \n",
            "  inflating: pig_data/train/eating/pig/00_pig379.jpg  \n",
            "  inflating: pig_data/train/eating/pig/00_pig38.jpg  \n",
            "  inflating: pig_data/train/eating/pig/00_pig380.jpg  \n",
            "  inflating: pig_data/train/eating/pig/00_pig381.jpg  \n",
            "  inflating: pig_data/train/eating/pig/00_pig382.jpg  \n",
            "  inflating: pig_data/train/eating/pig/00_pig383.jpg  \n",
            "  inflating: pig_data/train/eating/pig/00_pig384.jpg  \n",
            "  inflating: pig_data/train/eating/pig/00_pig385.jpg  \n",
            "  inflating: pig_data/train/eating/pig/00_pig386.jpg  \n",
            "  inflating: pig_data/train/eating/pig/00_pig387.jpg  \n",
            "  inflating: pig_data/train/eating/pig/00_pig388.jpg  \n",
            "  inflating: pig_data/train/eating/pig/00_pig389.jpg  \n",
            "  inflating: pig_data/train/eating/pig/00_pig39.jpg  \n",
            "  inflating: pig_data/train/eating/pig/00_pig390.jpg  \n",
            "  inflating: pig_data/train/eating/pig/00_pig391.jpg  \n",
            "  inflating: pig_data/train/eating/pig/00_pig392.jpg  \n",
            "  inflating: pig_data/train/eating/pig/00_pig393.jpg  \n",
            "  inflating: pig_data/train/eating/pig/00_pig394.jpg  \n",
            "  inflating: pig_data/train/eating/pig/00_pig395.jpg  \n",
            "  inflating: pig_data/train/eating/pig/00_pig396.jpg  \n",
            "  inflating: pig_data/train/eating/pig/00_pig397.jpg  \n",
            "  inflating: pig_data/train/eating/pig/00_pig398.jpg  \n",
            "  inflating: pig_data/train/eating/pig/00_pig399.jpg  \n",
            "  inflating: pig_data/train/eating/pig/00_pig4.jpg  \n",
            "  inflating: pig_data/train/eating/pig/00_pig40.jpg  \n",
            "  inflating: pig_data/train/eating/pig/00_pig400.jpg  \n",
            "  inflating: pig_data/train/eating/pig/00_pig401.jpg  \n",
            "  inflating: pig_data/train/eating/pig/00_pig402.jpg  \n",
            "  inflating: pig_data/train/eating/pig/00_pig403.jpg  \n",
            "  inflating: pig_data/train/eating/pig/00_pig404.jpg  \n",
            "  inflating: pig_data/train/eating/pig/00_pig405.jpg  \n",
            "  inflating: pig_data/train/eating/pig/00_pig406.jpg  \n",
            "  inflating: pig_data/train/eating/pig/00_pig407.jpg  \n",
            "  inflating: pig_data/train/eating/pig/00_pig408.jpg  \n",
            "  inflating: pig_data/train/eating/pig/00_pig409.jpg  \n",
            "  inflating: pig_data/train/eating/pig/00_pig41.jpg  \n",
            "  inflating: pig_data/train/eating/pig/00_pig410.jpg  \n",
            "  inflating: pig_data/train/eating/pig/00_pig411.jpg  \n",
            "  inflating: pig_data/train/eating/pig/00_pig412.jpg  \n",
            "  inflating: pig_data/train/eating/pig/00_pig413.jpg  \n",
            "  inflating: pig_data/train/eating/pig/00_pig414.jpg  \n",
            "  inflating: pig_data/train/eating/pig/00_pig415.jpg  \n",
            "  inflating: pig_data/train/eating/pig/00_pig416.jpg  \n",
            "  inflating: pig_data/train/eating/pig/00_pig417.jpg  \n",
            "  inflating: pig_data/train/eating/pig/00_pig418.jpg  \n",
            "  inflating: pig_data/train/eating/pig/00_pig419.jpg  \n",
            "  inflating: pig_data/train/eating/pig/00_pig42.jpg  \n",
            "  inflating: pig_data/train/eating/pig/00_pig420.jpg  \n",
            "  inflating: pig_data/train/eating/pig/00_pig421.jpg  \n",
            "  inflating: pig_data/train/eating/pig/00_pig422.jpg  \n",
            "  inflating: pig_data/train/eating/pig/00_pig423.jpg  \n",
            "  inflating: pig_data/train/eating/pig/00_pig424.jpg  \n",
            "  inflating: pig_data/train/eating/pig/00_pig425.jpg  \n",
            "  inflating: pig_data/train/eating/pig/00_pig426.jpg  \n",
            "  inflating: pig_data/train/eating/pig/00_pig427.jpg  \n",
            "  inflating: pig_data/train/eating/pig/00_pig428.jpg  \n",
            "  inflating: pig_data/train/eating/pig/00_pig429.jpg  \n",
            "  inflating: pig_data/train/eating/pig/00_pig43.jpg  \n",
            "  inflating: pig_data/train/eating/pig/00_pig430.jpg  \n",
            "  inflating: pig_data/train/eating/pig/00_pig431.jpg  \n",
            "  inflating: pig_data/train/eating/pig/00_pig432.jpg  \n",
            "  inflating: pig_data/train/eating/pig/00_pig433.jpg  \n",
            "  inflating: pig_data/train/eating/pig/00_pig434.jpg  \n",
            "  inflating: pig_data/train/eating/pig/00_pig435.jpg  \n",
            "  inflating: pig_data/train/eating/pig/00_pig436.jpg  \n",
            "  inflating: pig_data/train/eating/pig/00_pig437.jpg  \n",
            "  inflating: pig_data/train/eating/pig/00_pig438.jpg  \n",
            "  inflating: pig_data/train/eating/pig/00_pig439.jpg  \n",
            "  inflating: pig_data/train/eating/pig/00_pig44.jpg  \n",
            "  inflating: pig_data/train/eating/pig/00_pig440.jpg  \n",
            "  inflating: pig_data/train/eating/pig/00_pig441.jpg  \n",
            "  inflating: pig_data/train/eating/pig/00_pig442.jpg  \n",
            "  inflating: pig_data/train/eating/pig/00_pig443.jpg  \n",
            "  inflating: pig_data/train/eating/pig/00_pig444.jpg  \n",
            "  inflating: pig_data/train/eating/pig/00_pig445.jpg  \n",
            "  inflating: pig_data/train/eating/pig/00_pig446.jpg  \n",
            "  inflating: pig_data/train/eating/pig/00_pig447.jpg  \n",
            "  inflating: pig_data/train/eating/pig/00_pig448.jpg  \n",
            "  inflating: pig_data/train/eating/pig/00_pig449.jpg  \n",
            "  inflating: pig_data/train/eating/pig/00_pig45.jpg  \n",
            "  inflating: pig_data/train/eating/pig/00_pig450.jpg  \n",
            "  inflating: pig_data/train/eating/pig/00_pig451.jpg  \n",
            "  inflating: pig_data/train/eating/pig/00_pig452.jpg  \n",
            "  inflating: pig_data/train/eating/pig/00_pig453.jpg  \n",
            "  inflating: pig_data/train/eating/pig/00_pig454.jpg  \n",
            "  inflating: pig_data/train/eating/pig/00_pig455.jpg  \n",
            "  inflating: pig_data/train/eating/pig/00_pig456.jpg  \n",
            "  inflating: pig_data/train/eating/pig/00_pig457.jpg  \n",
            "  inflating: pig_data/train/eating/pig/00_pig458.jpg  \n",
            "  inflating: pig_data/train/eating/pig/00_pig459.jpg  \n",
            "  inflating: pig_data/train/eating/pig/00_pig46.jpg  \n",
            "  inflating: pig_data/train/eating/pig/00_pig460.jpg  \n",
            "  inflating: pig_data/train/eating/pig/00_pig461.jpg  \n",
            "  inflating: pig_data/train/eating/pig/00_pig462.jpg  \n",
            "  inflating: pig_data/train/eating/pig/00_pig463.jpg  \n",
            "  inflating: pig_data/train/eating/pig/00_pig464.jpg  \n",
            "  inflating: pig_data/train/eating/pig/00_pig465.jpg  \n",
            "  inflating: pig_data/train/eating/pig/00_pig466.jpg  \n",
            "  inflating: pig_data/train/eating/pig/00_pig467.jpg  \n",
            "  inflating: pig_data/train/eating/pig/00_pig468.jpg  \n",
            "  inflating: pig_data/train/eating/pig/00_pig469.jpg  \n",
            "  inflating: pig_data/train/eating/pig/00_pig47.jpg  \n",
            "  inflating: pig_data/train/eating/pig/00_pig470.jpg  \n",
            "  inflating: pig_data/train/eating/pig/00_pig471.jpg  \n",
            "  inflating: pig_data/train/eating/pig/00_pig472.jpg  \n",
            "  inflating: pig_data/train/eating/pig/00_pig473.jpg  \n",
            "  inflating: pig_data/train/eating/pig/00_pig474.jpg  \n",
            "  inflating: pig_data/train/eating/pig/00_pig475.jpg  \n",
            "  inflating: pig_data/train/eating/pig/00_pig476.jpg  \n",
            "  inflating: pig_data/train/eating/pig/00_pig477.jpg  \n",
            "  inflating: pig_data/train/eating/pig/00_pig478.jpg  \n",
            "  inflating: pig_data/train/eating/pig/00_pig479.jpg  \n",
            "  inflating: pig_data/train/eating/pig/00_pig48.jpg  \n",
            "  inflating: pig_data/train/eating/pig/00_pig480.jpg  \n",
            "  inflating: pig_data/train/eating/pig/00_pig481.jpg  \n",
            "  inflating: pig_data/train/eating/pig/00_pig482.jpg  \n",
            "  inflating: pig_data/train/eating/pig/00_pig483.jpg  \n",
            "  inflating: pig_data/train/eating/pig/00_pig484.jpg  \n",
            "  inflating: pig_data/train/eating/pig/00_pig485.jpg  \n",
            "  inflating: pig_data/train/eating/pig/00_pig486.jpg  \n",
            "  inflating: pig_data/train/eating/pig/00_pig487.jpg  \n",
            "  inflating: pig_data/train/eating/pig/00_pig488.jpg  \n",
            "  inflating: pig_data/train/eating/pig/00_pig489.jpg  \n",
            "  inflating: pig_data/train/eating/pig/00_pig49.jpg  \n",
            "  inflating: pig_data/train/eating/pig/00_pig490.jpg  \n",
            "  inflating: pig_data/train/eating/pig/00_pig491.jpg  \n",
            "  inflating: pig_data/train/eating/pig/00_pig492.jpg  \n",
            "  inflating: pig_data/train/eating/pig/00_pig493.jpg  \n",
            "  inflating: pig_data/train/eating/pig/00_pig494.jpg  \n",
            "  inflating: pig_data/train/eating/pig/00_pig495.jpg  \n",
            "  inflating: pig_data/train/eating/pig/00_pig496.jpg  \n",
            "  inflating: pig_data/train/eating/pig/00_pig497.jpg  \n",
            "  inflating: pig_data/train/eating/pig/00_pig498.jpg  \n",
            "  inflating: pig_data/train/eating/pig/00_pig499.jpg  \n",
            "  inflating: pig_data/train/eating/pig/00_pig5.jpg  \n",
            "  inflating: pig_data/train/eating/pig/00_pig50.jpg  \n",
            "  inflating: pig_data/train/eating/pig/00_pig500.jpg  \n",
            "  inflating: pig_data/train/eating/pig/00_pig501.jpg  \n",
            "  inflating: pig_data/train/eating/pig/00_pig502.jpg  \n",
            "  inflating: pig_data/train/eating/pig/00_pig503.jpg  \n",
            "  inflating: pig_data/train/eating/pig/00_pig504.jpg  \n",
            "  inflating: pig_data/train/eating/pig/00_pig505.jpg  \n",
            "  inflating: pig_data/train/eating/pig/00_pig506.jpg  \n",
            "  inflating: pig_data/train/eating/pig/00_pig507.jpg  \n",
            "  inflating: pig_data/train/eating/pig/00_pig508.jpg  \n",
            "  inflating: pig_data/train/eating/pig/00_pig509.jpg  \n",
            "  inflating: pig_data/train/eating/pig/00_pig51.jpg  \n",
            "  inflating: pig_data/train/eating/pig/00_pig510.jpg  \n",
            "  inflating: pig_data/train/eating/pig/00_pig511.jpg  \n",
            "  inflating: pig_data/train/eating/pig/00_pig512.jpg  \n",
            "  inflating: pig_data/train/eating/pig/00_pig513.jpg  \n",
            "  inflating: pig_data/train/eating/pig/00_pig514.jpg  \n",
            "  inflating: pig_data/train/eating/pig/00_pig515.jpg  \n",
            "  inflating: pig_data/train/eating/pig/00_pig516.jpg  \n",
            "  inflating: pig_data/train/eating/pig/00_pig517.jpg  \n",
            "  inflating: pig_data/train/eating/pig/00_pig518.jpg  \n",
            "  inflating: pig_data/train/eating/pig/00_pig519.jpg  \n",
            "  inflating: pig_data/train/eating/pig/00_pig52.jpg  \n",
            "  inflating: pig_data/train/eating/pig/00_pig520.jpg  \n",
            "  inflating: pig_data/train/eating/pig/00_pig521.jpg  \n",
            "  inflating: pig_data/train/eating/pig/00_pig522.jpg  \n",
            "  inflating: pig_data/train/eating/pig/00_pig523.jpg  \n",
            "  inflating: pig_data/train/eating/pig/00_pig524.jpg  \n",
            "  inflating: pig_data/train/eating/pig/00_pig525.jpg  \n",
            "  inflating: pig_data/train/eating/pig/00_pig526.jpg  \n",
            "  inflating: pig_data/train/eating/pig/00_pig527.jpg  \n",
            "  inflating: pig_data/train/eating/pig/00_pig528.jpg  \n",
            "  inflating: pig_data/train/eating/pig/00_pig529.jpg  \n",
            "  inflating: pig_data/train/eating/pig/00_pig53.jpg  \n",
            "  inflating: pig_data/train/eating/pig/00_pig530.jpg  \n",
            "  inflating: pig_data/train/eating/pig/00_pig531.jpg  \n",
            "  inflating: pig_data/train/eating/pig/00_pig532.jpg  \n",
            "  inflating: pig_data/train/eating/pig/00_pig533.jpg  \n",
            "  inflating: pig_data/train/eating/pig/00_pig534.jpg  \n",
            "  inflating: pig_data/train/eating/pig/00_pig535.jpg  \n",
            "  inflating: pig_data/train/eating/pig/00_pig536.jpg  \n",
            "  inflating: pig_data/train/eating/pig/00_pig537.jpg  \n",
            "  inflating: pig_data/train/eating/pig/00_pig538.jpg  \n",
            "  inflating: pig_data/train/eating/pig/00_pig539.jpg  \n",
            "  inflating: pig_data/train/eating/pig/00_pig54.jpg  \n",
            "  inflating: pig_data/train/eating/pig/00_pig540.jpg  \n",
            "  inflating: pig_data/train/eating/pig/00_pig541.jpg  \n",
            "  inflating: pig_data/train/eating/pig/00_pig542.jpg  \n",
            "  inflating: pig_data/train/eating/pig/00_pig543.jpg  \n",
            "  inflating: pig_data/train/eating/pig/00_pig544.jpg  \n",
            "  inflating: pig_data/train/eating/pig/00_pig545.jpg  \n",
            "  inflating: pig_data/train/eating/pig/00_pig546.jpg  \n",
            "  inflating: pig_data/train/eating/pig/00_pig547.jpg  \n",
            "  inflating: pig_data/train/eating/pig/00_pig548.jpg  \n",
            "  inflating: pig_data/train/eating/pig/00_pig549.jpg  \n",
            "  inflating: pig_data/train/eating/pig/00_pig55.jpg  \n",
            "  inflating: pig_data/train/eating/pig/00_pig550.jpg  \n",
            "  inflating: pig_data/train/eating/pig/00_pig551.jpg  \n",
            "  inflating: pig_data/train/eating/pig/00_pig552.jpg  \n",
            "  inflating: pig_data/train/eating/pig/00_pig553.jpg  \n",
            "  inflating: pig_data/train/eating/pig/00_pig554.jpg  \n",
            "  inflating: pig_data/train/eating/pig/00_pig555.jpg  \n",
            "  inflating: pig_data/train/eating/pig/00_pig556.jpg  \n",
            "  inflating: pig_data/train/eating/pig/00_pig557.jpg  \n",
            "  inflating: pig_data/train/eating/pig/00_pig558.jpg  \n",
            "  inflating: pig_data/train/eating/pig/00_pig559.jpg  \n",
            "  inflating: pig_data/train/eating/pig/00_pig56.jpg  \n",
            "  inflating: pig_data/train/eating/pig/00_pig560.jpg  \n",
            "  inflating: pig_data/train/eating/pig/00_pig561.jpg  \n",
            "  inflating: pig_data/train/eating/pig/00_pig562.jpg  \n",
            "  inflating: pig_data/train/eating/pig/00_pig563.jpg  \n",
            "  inflating: pig_data/train/eating/pig/00_pig564.jpg  \n",
            "  inflating: pig_data/train/eating/pig/00_pig565.jpg  \n",
            "  inflating: pig_data/train/eating/pig/00_pig566.jpg  \n",
            "  inflating: pig_data/train/eating/pig/00_pig567.jpg  \n",
            "  inflating: pig_data/train/eating/pig/00_pig568.jpg  \n",
            "  inflating: pig_data/train/eating/pig/00_pig569.jpg  \n",
            "  inflating: pig_data/train/eating/pig/00_pig57.jpg  \n",
            "  inflating: pig_data/train/eating/pig/00_pig570.jpg  \n",
            "  inflating: pig_data/train/eating/pig/00_pig571.jpg  \n",
            "  inflating: pig_data/train/eating/pig/00_pig572.jpg  \n",
            "  inflating: pig_data/train/eating/pig/00_pig573.jpg  \n",
            "  inflating: pig_data/train/eating/pig/00_pig574.jpg  \n",
            "  inflating: pig_data/train/eating/pig/00_pig575.jpg  \n",
            "  inflating: pig_data/train/eating/pig/00_pig576.jpg  \n",
            "  inflating: pig_data/train/eating/pig/00_pig577.jpg  \n",
            "  inflating: pig_data/train/eating/pig/00_pig578.jpg  \n",
            "  inflating: pig_data/train/eating/pig/00_pig579.jpg  \n",
            "  inflating: pig_data/train/eating/pig/00_pig58.jpg  \n",
            "  inflating: pig_data/train/eating/pig/00_pig580.jpg  \n",
            "  inflating: pig_data/train/eating/pig/00_pig581.jpg  \n",
            "  inflating: pig_data/train/eating/pig/00_pig582.jpg  \n",
            "  inflating: pig_data/train/eating/pig/00_pig583.jpg  \n",
            "  inflating: pig_data/train/eating/pig/00_pig584.jpg  \n",
            "  inflating: pig_data/train/eating/pig/00_pig585.jpg  \n",
            "  inflating: pig_data/train/eating/pig/00_pig586.jpg  \n",
            "  inflating: pig_data/train/eating/pig/00_pig587.jpg  \n",
            "  inflating: pig_data/train/eating/pig/00_pig588.jpg  \n",
            "  inflating: pig_data/train/eating/pig/00_pig589.jpg  \n",
            "  inflating: pig_data/train/eating/pig/00_pig59.jpg  \n",
            "  inflating: pig_data/train/eating/pig/00_pig590.jpg  \n",
            "  inflating: pig_data/train/eating/pig/00_pig591.jpg  \n",
            "  inflating: pig_data/train/eating/pig/00_pig592.jpg  \n",
            "  inflating: pig_data/train/eating/pig/00_pig593.jpg  \n",
            "  inflating: pig_data/train/eating/pig/00_pig594.jpg  \n",
            "  inflating: pig_data/train/eating/pig/00_pig595.jpg  \n",
            "  inflating: pig_data/train/eating/pig/00_pig596.jpg  \n",
            "  inflating: pig_data/train/eating/pig/00_pig597.jpg  \n",
            "  inflating: pig_data/train/eating/pig/00_pig598.jpg  \n",
            "  inflating: pig_data/train/eating/pig/00_pig599.jpg  \n",
            "  inflating: pig_data/train/eating/pig/00_pig6.jpg  \n",
            "  inflating: pig_data/train/eating/pig/00_pig60.jpg  \n",
            "  inflating: pig_data/train/eating/pig/00_pig600.jpg  \n",
            "  inflating: pig_data/train/eating/pig/00_pig601.jpg  \n",
            "  inflating: pig_data/train/eating/pig/00_pig602.jpg  \n",
            "  inflating: pig_data/train/eating/pig/00_pig603.jpg  \n",
            "  inflating: pig_data/train/eating/pig/00_pig604.jpg  \n",
            "  inflating: pig_data/train/eating/pig/00_pig605.jpg  \n",
            "  inflating: pig_data/train/eating/pig/00_pig606.jpg  \n",
            "  inflating: pig_data/train/eating/pig/00_pig607.jpg  \n",
            "  inflating: pig_data/train/eating/pig/00_pig608.jpg  \n",
            "  inflating: pig_data/train/eating/pig/00_pig609.jpg  \n",
            "  inflating: pig_data/train/eating/pig/00_pig61.jpg  \n",
            "  inflating: pig_data/train/eating/pig/00_pig610.jpg  \n",
            "  inflating: pig_data/train/eating/pig/00_pig611.jpg  \n",
            "  inflating: pig_data/train/eating/pig/00_pig612.jpg  \n",
            "  inflating: pig_data/train/eating/pig/00_pig613.jpg  \n",
            "  inflating: pig_data/train/eating/pig/00_pig614.jpg  \n",
            "  inflating: pig_data/train/eating/pig/00_pig615.jpg  \n",
            "  inflating: pig_data/train/eating/pig/00_pig616.jpg  \n",
            "  inflating: pig_data/train/eating/pig/00_pig617.jpg  \n",
            "  inflating: pig_data/train/eating/pig/00_pig618.jpg  \n",
            "  inflating: pig_data/train/eating/pig/00_pig619.jpg  \n",
            "  inflating: pig_data/train/eating/pig/00_pig62.jpg  \n",
            "  inflating: pig_data/train/eating/pig/00_pig620.jpg  \n",
            "  inflating: pig_data/train/eating/pig/00_pig621.jpg  \n",
            "  inflating: pig_data/train/eating/pig/00_pig622.jpg  \n",
            "  inflating: pig_data/train/eating/pig/00_pig623.jpg  \n",
            "  inflating: pig_data/train/eating/pig/00_pig624.jpg  \n",
            "  inflating: pig_data/train/eating/pig/00_pig625.jpg  \n",
            "  inflating: pig_data/train/eating/pig/00_pig626.jpg  \n",
            "  inflating: pig_data/train/eating/pig/00_pig627.jpg  \n",
            "  inflating: pig_data/train/eating/pig/00_pig628.jpg  \n",
            "  inflating: pig_data/train/eating/pig/00_pig629.jpg  \n",
            "  inflating: pig_data/train/eating/pig/00_pig63.jpg  \n",
            "  inflating: pig_data/train/eating/pig/00_pig630.jpg  \n",
            "  inflating: pig_data/train/eating/pig/00_pig631.jpg  \n",
            "  inflating: pig_data/train/eating/pig/00_pig632.jpg  \n",
            "  inflating: pig_data/train/eating/pig/00_pig633.jpg  \n",
            "  inflating: pig_data/train/eating/pig/00_pig634.jpg  \n",
            "  inflating: pig_data/train/eating/pig/00_pig635.jpg  \n",
            "  inflating: pig_data/train/eating/pig/00_pig636.jpg  \n",
            "  inflating: pig_data/train/eating/pig/00_pig637.jpg  \n",
            "  inflating: pig_data/train/eating/pig/00_pig638.jpg  \n",
            "  inflating: pig_data/train/eating/pig/00_pig639.jpg  \n",
            "  inflating: pig_data/train/eating/pig/00_pig64.jpg  \n",
            "  inflating: pig_data/train/eating/pig/00_pig640.jpg  \n",
            "  inflating: pig_data/train/eating/pig/00_pig641.jpg  \n",
            "  inflating: pig_data/train/eating/pig/00_pig642.jpg  \n",
            "  inflating: pig_data/train/eating/pig/00_pig643.jpg  \n",
            "  inflating: pig_data/train/eating/pig/00_pig644.jpg  \n",
            "  inflating: pig_data/train/eating/pig/00_pig645.jpg  \n",
            "  inflating: pig_data/train/eating/pig/00_pig646.jpg  \n",
            "  inflating: pig_data/train/eating/pig/00_pig647.jpg  \n",
            "  inflating: pig_data/train/eating/pig/00_pig648.jpg  \n",
            "  inflating: pig_data/train/eating/pig/00_pig649.jpg  \n",
            "  inflating: pig_data/train/eating/pig/00_pig65.jpg  \n",
            "  inflating: pig_data/train/eating/pig/00_pig650.jpg  \n",
            "  inflating: pig_data/train/eating/pig/00_pig651.jpg  \n",
            "  inflating: pig_data/train/eating/pig/00_pig652.jpg  \n",
            "  inflating: pig_data/train/eating/pig/00_pig653.jpg  \n",
            "  inflating: pig_data/train/eating/pig/00_pig654.jpg  \n",
            "  inflating: pig_data/train/eating/pig/00_pig655.jpg  \n",
            "  inflating: pig_data/train/eating/pig/00_pig656.jpg  \n",
            "  inflating: pig_data/train/eating/pig/00_pig657.jpg  \n",
            "  inflating: pig_data/train/eating/pig/00_pig658.jpg  \n",
            "  inflating: pig_data/train/eating/pig/00_pig659.jpg  \n",
            "  inflating: pig_data/train/eating/pig/00_pig66.jpg  \n",
            "  inflating: pig_data/train/eating/pig/00_pig660.jpg  \n",
            "  inflating: pig_data/train/eating/pig/00_pig661.jpg  \n",
            "  inflating: pig_data/train/eating/pig/00_pig662.jpg  \n",
            "  inflating: pig_data/train/eating/pig/00_pig663.jpg  \n",
            "  inflating: pig_data/train/eating/pig/00_pig664.jpg  \n",
            "  inflating: pig_data/train/eating/pig/00_pig665.jpg  \n",
            "  inflating: pig_data/train/eating/pig/00_pig666.jpg  \n",
            "  inflating: pig_data/train/eating/pig/00_pig667.jpg  \n",
            "  inflating: pig_data/train/eating/pig/00_pig668.jpg  \n",
            "  inflating: pig_data/train/eating/pig/00_pig669.jpg  \n",
            "  inflating: pig_data/train/eating/pig/00_pig67.jpg  \n",
            "  inflating: pig_data/train/eating/pig/00_pig670.jpg  \n",
            "  inflating: pig_data/train/eating/pig/00_pig671.jpg  \n",
            "  inflating: pig_data/train/eating/pig/00_pig672.jpg  \n",
            "  inflating: pig_data/train/eating/pig/00_pig673.jpg  \n",
            "  inflating: pig_data/train/eating/pig/00_pig674.jpg  \n",
            "  inflating: pig_data/train/eating/pig/00_pig675.jpg  \n",
            "  inflating: pig_data/train/eating/pig/00_pig676.jpg  \n",
            "  inflating: pig_data/train/eating/pig/00_pig677.jpg  \n",
            "  inflating: pig_data/train/eating/pig/00_pig678.jpg  \n",
            "  inflating: pig_data/train/eating/pig/00_pig679.jpg  \n",
            "  inflating: pig_data/train/eating/pig/00_pig68.jpg  \n",
            "  inflating: pig_data/train/eating/pig/00_pig680.jpg  \n",
            "  inflating: pig_data/train/eating/pig/00_pig681.jpg  \n",
            "  inflating: pig_data/train/eating/pig/00_pig682.jpg  \n",
            "  inflating: pig_data/train/eating/pig/00_pig683.jpg  \n",
            "  inflating: pig_data/train/eating/pig/00_pig684.jpg  \n",
            "  inflating: pig_data/train/eating/pig/00_pig685.jpg  \n",
            "  inflating: pig_data/train/eating/pig/00_pig686.jpg  \n",
            "  inflating: pig_data/train/eating/pig/00_pig687.jpg  \n",
            "  inflating: pig_data/train/eating/pig/00_pig688.jpg  \n",
            "  inflating: pig_data/train/eating/pig/00_pig689.jpg  \n",
            "  inflating: pig_data/train/eating/pig/00_pig69.jpg  \n",
            "  inflating: pig_data/train/eating/pig/00_pig690.jpg  \n",
            "  inflating: pig_data/train/eating/pig/00_pig691.jpg  \n",
            "  inflating: pig_data/train/eating/pig/00_pig692.jpg  \n",
            "  inflating: pig_data/train/eating/pig/00_pig693.jpg  \n",
            "  inflating: pig_data/train/eating/pig/00_pig694.jpg  \n",
            "  inflating: pig_data/train/eating/pig/00_pig695.jpg  \n",
            "  inflating: pig_data/train/eating/pig/00_pig696.jpg  \n",
            "  inflating: pig_data/train/eating/pig/00_pig697.jpg  \n",
            "  inflating: pig_data/train/eating/pig/00_pig698.jpg  \n",
            "  inflating: pig_data/train/eating/pig/00_pig699.jpg  \n",
            "  inflating: pig_data/train/eating/pig/00_pig7.jpg  \n",
            "  inflating: pig_data/train/eating/pig/00_pig70.jpg  \n",
            "  inflating: pig_data/train/eating/pig/00_pig700.jpg  \n",
            "  inflating: pig_data/train/eating/pig/00_pig701.jpg  \n",
            "  inflating: pig_data/train/eating/pig/00_pig702.jpg  \n",
            "  inflating: pig_data/train/eating/pig/00_pig703.jpg  \n",
            "  inflating: pig_data/train/eating/pig/00_pig704.jpg  \n",
            "  inflating: pig_data/train/eating/pig/00_pig705.jpg  \n",
            "  inflating: pig_data/train/eating/pig/00_pig706.jpg  \n",
            "  inflating: pig_data/train/eating/pig/00_pig707.jpg  \n",
            "  inflating: pig_data/train/eating/pig/00_pig708.jpg  \n",
            "  inflating: pig_data/train/eating/pig/00_pig709.jpg  \n",
            "  inflating: pig_data/train/eating/pig/00_pig71.jpg  \n",
            "  inflating: pig_data/train/eating/pig/00_pig710.jpg  \n",
            "  inflating: pig_data/train/eating/pig/00_pig711.jpg  \n",
            "  inflating: pig_data/train/eating/pig/00_pig712.jpg  \n",
            "  inflating: pig_data/train/eating/pig/00_pig713.jpg  \n",
            "  inflating: pig_data/train/eating/pig/00_pig714.jpg  \n",
            "  inflating: pig_data/train/eating/pig/00_pig715.jpg  \n",
            "  inflating: pig_data/train/eating/pig/00_pig716.jpg  \n",
            "  inflating: pig_data/train/eating/pig/00_pig717.jpg  \n",
            "  inflating: pig_data/train/eating/pig/00_pig718.jpg  \n",
            "  inflating: pig_data/train/eating/pig/00_pig719.jpg  \n",
            "  inflating: pig_data/train/eating/pig/00_pig72.jpg  \n",
            "  inflating: pig_data/train/eating/pig/00_pig720.jpg  \n",
            "  inflating: pig_data/train/eating/pig/00_pig721.jpg  \n",
            "  inflating: pig_data/train/eating/pig/00_pig722.jpg  \n",
            "  inflating: pig_data/train/eating/pig/00_pig723.jpg  \n",
            "  inflating: pig_data/train/eating/pig/00_pig724.jpg  \n",
            "  inflating: pig_data/train/eating/pig/00_pig725.jpg  \n",
            "  inflating: pig_data/train/eating/pig/00_pig726.jpg  \n",
            "  inflating: pig_data/train/eating/pig/00_pig727.jpg  \n",
            "  inflating: pig_data/train/eating/pig/00_pig728.jpg  \n",
            "  inflating: pig_data/train/eating/pig/00_pig729.jpg  \n",
            "  inflating: pig_data/train/eating/pig/00_pig73.jpg  \n",
            "  inflating: pig_data/train/eating/pig/00_pig730.jpg  \n",
            "  inflating: pig_data/train/eating/pig/00_pig731.jpg  \n",
            "  inflating: pig_data/train/eating/pig/00_pig732.jpg  \n",
            "  inflating: pig_data/train/eating/pig/00_pig733.jpg  \n",
            "  inflating: pig_data/train/eating/pig/00_pig734.jpg  \n",
            "  inflating: pig_data/train/eating/pig/00_pig735.jpg  \n",
            "  inflating: pig_data/train/eating/pig/00_pig736.jpg  \n",
            "  inflating: pig_data/train/eating/pig/00_pig737.jpg  \n",
            "  inflating: pig_data/train/eating/pig/00_pig738.jpg  \n",
            "  inflating: pig_data/train/eating/pig/00_pig739.jpg  \n",
            "  inflating: pig_data/train/eating/pig/00_pig74.jpg  \n",
            "  inflating: pig_data/train/eating/pig/00_pig740.jpg  \n",
            "  inflating: pig_data/train/eating/pig/00_pig741.jpg  \n",
            "  inflating: pig_data/train/eating/pig/00_pig742.jpg  \n",
            "  inflating: pig_data/train/eating/pig/00_pig743.jpg  \n",
            "  inflating: pig_data/train/eating/pig/00_pig744.jpg  \n",
            "  inflating: pig_data/train/eating/pig/00_pig745.jpg  \n",
            "  inflating: pig_data/train/eating/pig/00_pig746.jpg  \n",
            "  inflating: pig_data/train/eating/pig/00_pig747.jpg  \n",
            "  inflating: pig_data/train/eating/pig/00_pig748.jpg  \n",
            "  inflating: pig_data/train/eating/pig/00_pig749.jpg  \n",
            "  inflating: pig_data/train/eating/pig/00_pig75.jpg  \n",
            "  inflating: pig_data/train/eating/pig/00_pig750.jpg  \n",
            "  inflating: pig_data/train/eating/pig/00_pig751.jpg  \n",
            "  inflating: pig_data/train/eating/pig/00_pig752.jpg  \n",
            "  inflating: pig_data/train/eating/pig/00_pig753.jpg  \n",
            "  inflating: pig_data/train/eating/pig/00_pig754.jpg  \n",
            "  inflating: pig_data/train/eating/pig/00_pig755.jpg  \n",
            "  inflating: pig_data/train/eating/pig/00_pig756.jpg  \n",
            "  inflating: pig_data/train/eating/pig/00_pig757.jpg  \n",
            "  inflating: pig_data/train/eating/pig/00_pig758.jpg  \n",
            "  inflating: pig_data/train/eating/pig/00_pig759.jpg  \n",
            "  inflating: pig_data/train/eating/pig/00_pig76.jpg  \n",
            "  inflating: pig_data/train/eating/pig/00_pig760.jpg  \n",
            "  inflating: pig_data/train/eating/pig/00_pig761.jpg  \n",
            "  inflating: pig_data/train/eating/pig/00_pig762.jpg  \n",
            "  inflating: pig_data/train/eating/pig/00_pig763.jpg  \n",
            "  inflating: pig_data/train/eating/pig/00_pig764.jpg  \n",
            "  inflating: pig_data/train/eating/pig/00_pig765.jpg  \n",
            "  inflating: pig_data/train/eating/pig/00_pig766.jpg  \n",
            "  inflating: pig_data/train/eating/pig/00_pig767.jpg  \n",
            "  inflating: pig_data/train/eating/pig/00_pig768.jpg  \n",
            "  inflating: pig_data/train/eating/pig/00_pig769.jpg  \n",
            "  inflating: pig_data/train/eating/pig/00_pig77.jpg  \n",
            "  inflating: pig_data/train/eating/pig/00_pig770.jpg  \n",
            "  inflating: pig_data/train/eating/pig/00_pig771.jpg  \n",
            "  inflating: pig_data/train/eating/pig/00_pig772.jpg  \n",
            "  inflating: pig_data/train/eating/pig/00_pig773.jpg  \n",
            "  inflating: pig_data/train/eating/pig/00_pig774.jpg  \n",
            "  inflating: pig_data/train/eating/pig/00_pig775.jpg  \n",
            "  inflating: pig_data/train/eating/pig/00_pig776.jpg  \n",
            "  inflating: pig_data/train/eating/pig/00_pig777.jpg  \n",
            "  inflating: pig_data/train/eating/pig/00_pig778.jpg  \n",
            "  inflating: pig_data/train/eating/pig/00_pig779.jpg  \n",
            "  inflating: pig_data/train/eating/pig/00_pig78.jpg  \n",
            "  inflating: pig_data/train/eating/pig/00_pig780.jpg  \n",
            "  inflating: pig_data/train/eating/pig/00_pig781.jpg  \n",
            "  inflating: pig_data/train/eating/pig/00_pig782.jpg  \n",
            "  inflating: pig_data/train/eating/pig/00_pig783.jpg  \n",
            "  inflating: pig_data/train/eating/pig/00_pig784.jpg  \n",
            "  inflating: pig_data/train/eating/pig/00_pig785.jpg  \n",
            "  inflating: pig_data/train/eating/pig/00_pig786.jpg  \n",
            "  inflating: pig_data/train/eating/pig/00_pig787.jpg  \n",
            "  inflating: pig_data/train/eating/pig/00_pig788.jpg  \n",
            "  inflating: pig_data/train/eating/pig/00_pig789.jpg  \n",
            "  inflating: pig_data/train/eating/pig/00_pig79.jpg  \n",
            "  inflating: pig_data/train/eating/pig/00_pig790.jpg  \n",
            "  inflating: pig_data/train/eating/pig/00_pig791.jpg  \n",
            "  inflating: pig_data/train/eating/pig/00_pig792.jpg  \n",
            "  inflating: pig_data/train/eating/pig/00_pig793.jpg  \n",
            "  inflating: pig_data/train/eating/pig/00_pig794.jpg  \n",
            "  inflating: pig_data/train/eating/pig/00_pig795.jpg  \n",
            "  inflating: pig_data/train/eating/pig/00_pig796.jpg  \n",
            "  inflating: pig_data/train/eating/pig/00_pig797.jpg  \n",
            "  inflating: pig_data/train/eating/pig/00_pig798.jpg  \n",
            "  inflating: pig_data/train/eating/pig/00_pig799.jpg  \n",
            "  inflating: pig_data/train/eating/pig/00_pig8.jpg  \n",
            "  inflating: pig_data/train/eating/pig/00_pig80.jpg  \n",
            "  inflating: pig_data/train/eating/pig/00_pig800.jpg  \n",
            "  inflating: pig_data/train/eating/pig/00_pig801.jpg  \n",
            "  inflating: pig_data/train/eating/pig/00_pig802.jpg  \n",
            "  inflating: pig_data/train/eating/pig/00_pig803.jpg  \n",
            "  inflating: pig_data/train/eating/pig/00_pig804.jpg  \n",
            "  inflating: pig_data/train/eating/pig/00_pig805.jpg  \n",
            "  inflating: pig_data/train/eating/pig/00_pig806.jpg  \n",
            "  inflating: pig_data/train/eating/pig/00_pig807.jpg  \n",
            "  inflating: pig_data/train/eating/pig/00_pig808.jpg  \n",
            "  inflating: pig_data/train/eating/pig/00_pig809.jpg  \n",
            "  inflating: pig_data/train/eating/pig/00_pig81.jpg  \n",
            "  inflating: pig_data/train/eating/pig/00_pig810.jpg  \n",
            "  inflating: pig_data/train/eating/pig/00_pig811.jpg  \n",
            "  inflating: pig_data/train/eating/pig/00_pig812.jpg  \n",
            "  inflating: pig_data/train/eating/pig/00_pig813.jpg  \n",
            "  inflating: pig_data/train/eating/pig/00_pig814.jpg  \n",
            "  inflating: pig_data/train/eating/pig/00_pig815.jpg  \n",
            "  inflating: pig_data/train/eating/pig/00_pig816.jpg  \n",
            "  inflating: pig_data/train/eating/pig/00_pig817.jpg  \n",
            "  inflating: pig_data/train/eating/pig/00_pig818.jpg  \n",
            "  inflating: pig_data/train/eating/pig/00_pig819.jpg  \n",
            "  inflating: pig_data/train/eating/pig/00_pig82.jpg  \n",
            "  inflating: pig_data/train/eating/pig/00_pig820.jpg  \n",
            "  inflating: pig_data/train/eating/pig/00_pig821.jpg  \n",
            "  inflating: pig_data/train/eating/pig/00_pig822.jpg  \n",
            "  inflating: pig_data/train/eating/pig/00_pig823.jpg  \n",
            "  inflating: pig_data/train/eating/pig/00_pig824.jpg  \n",
            "  inflating: pig_data/train/eating/pig/00_pig825.jpg  \n",
            "  inflating: pig_data/train/eating/pig/00_pig826.jpg  \n",
            "  inflating: pig_data/train/eating/pig/00_pig827.jpg  \n",
            "  inflating: pig_data/train/eating/pig/00_pig828.jpg  \n",
            "  inflating: pig_data/train/eating/pig/00_pig829.jpg  \n",
            "  inflating: pig_data/train/eating/pig/00_pig83.jpg  \n",
            "  inflating: pig_data/train/eating/pig/00_pig830.jpg  \n",
            "  inflating: pig_data/train/eating/pig/00_pig831.jpg  \n",
            "  inflating: pig_data/train/eating/pig/00_pig832.jpg  \n",
            "  inflating: pig_data/train/eating/pig/00_pig833.jpg  \n",
            "  inflating: pig_data/train/eating/pig/00_pig834.jpg  \n",
            "  inflating: pig_data/train/eating/pig/00_pig835.jpg  \n",
            "  inflating: pig_data/train/eating/pig/00_pig836.jpg  \n",
            "  inflating: pig_data/train/eating/pig/00_pig837.jpg  \n",
            "  inflating: pig_data/train/eating/pig/00_pig838.jpg  \n",
            "  inflating: pig_data/train/eating/pig/00_pig839.jpg  \n",
            "  inflating: pig_data/train/eating/pig/00_pig84.jpg  \n",
            "  inflating: pig_data/train/eating/pig/00_pig840.jpg  \n",
            "  inflating: pig_data/train/eating/pig/00_pig841.jpg  \n",
            "  inflating: pig_data/train/eating/pig/00_pig842.jpg  \n",
            "  inflating: pig_data/train/eating/pig/00_pig843.jpg  \n",
            "  inflating: pig_data/train/eating/pig/00_pig844.jpg  \n",
            "  inflating: pig_data/train/eating/pig/00_pig845.jpg  \n",
            "  inflating: pig_data/train/eating/pig/00_pig846.jpg  \n",
            "  inflating: pig_data/train/eating/pig/00_pig847.jpg  \n",
            "  inflating: pig_data/train/eating/pig/00_pig848.jpg  \n",
            "  inflating: pig_data/train/eating/pig/00_pig849.jpg  \n",
            "  inflating: pig_data/train/eating/pig/00_pig85.jpg  \n",
            "  inflating: pig_data/train/eating/pig/00_pig850.jpg  \n",
            "  inflating: pig_data/train/eating/pig/00_pig851.jpg  \n",
            "  inflating: pig_data/train/eating/pig/00_pig852.jpg  \n",
            "  inflating: pig_data/train/eating/pig/00_pig853.jpg  \n",
            "  inflating: pig_data/train/eating/pig/00_pig854.jpg  \n",
            "  inflating: pig_data/train/eating/pig/00_pig855.jpg  \n",
            "  inflating: pig_data/train/eating/pig/00_pig856.jpg  \n",
            "  inflating: pig_data/train/eating/pig/00_pig857.jpg  \n",
            "  inflating: pig_data/train/eating/pig/00_pig858.jpg  \n",
            "  inflating: pig_data/train/eating/pig/00_pig859.jpg  \n",
            "  inflating: pig_data/train/eating/pig/00_pig86.jpg  \n",
            "  inflating: pig_data/train/eating/pig/00_pig860.jpg  \n",
            "  inflating: pig_data/train/eating/pig/00_pig861.jpg  \n",
            "  inflating: pig_data/train/eating/pig/00_pig862.jpg  \n",
            "  inflating: pig_data/train/eating/pig/00_pig863.jpg  \n",
            "  inflating: pig_data/train/eating/pig/00_pig864.jpg  \n",
            "  inflating: pig_data/train/eating/pig/00_pig865.jpg  \n",
            "  inflating: pig_data/train/eating/pig/00_pig866.jpg  \n",
            "  inflating: pig_data/train/eating/pig/00_pig867.jpg  \n",
            "  inflating: pig_data/train/eating/pig/00_pig868.jpg  \n",
            "  inflating: pig_data/train/eating/pig/00_pig869.jpg  \n",
            "  inflating: pig_data/train/eating/pig/00_pig87.jpg  \n",
            "  inflating: pig_data/train/eating/pig/00_pig870.jpg  \n",
            "  inflating: pig_data/train/eating/pig/00_pig871.jpg  \n",
            "  inflating: pig_data/train/eating/pig/00_pig872.jpg  \n",
            "  inflating: pig_data/train/eating/pig/00_pig873.jpg  \n",
            "  inflating: pig_data/train/eating/pig/00_pig874.jpg  \n",
            "  inflating: pig_data/train/eating/pig/00_pig875.jpg  \n",
            "  inflating: pig_data/train/eating/pig/00_pig876.jpg  \n",
            "  inflating: pig_data/train/eating/pig/00_pig877.jpg  \n",
            "  inflating: pig_data/train/eating/pig/00_pig878.jpg  \n",
            "  inflating: pig_data/train/eating/pig/00_pig879.jpg  \n",
            "  inflating: pig_data/train/eating/pig/00_pig88.jpg  \n",
            "  inflating: pig_data/train/eating/pig/00_pig880.jpg  \n",
            "  inflating: pig_data/train/eating/pig/00_pig881.jpg  \n",
            "  inflating: pig_data/train/eating/pig/00_pig882.jpg  \n",
            "  inflating: pig_data/train/eating/pig/00_pig883.jpg  \n",
            "  inflating: pig_data/train/eating/pig/00_pig884.jpg  \n",
            "  inflating: pig_data/train/eating/pig/00_pig885.jpg  \n",
            "  inflating: pig_data/train/eating/pig/00_pig886.jpg  \n",
            "  inflating: pig_data/train/eating/pig/00_pig887.jpg  \n",
            "  inflating: pig_data/train/eating/pig/00_pig888.jpg  \n",
            "  inflating: pig_data/train/eating/pig/00_pig889.jpg  \n",
            "  inflating: pig_data/train/eating/pig/00_pig89.jpg  \n",
            "  inflating: pig_data/train/eating/pig/00_pig890.jpg  \n",
            "  inflating: pig_data/train/eating/pig/00_pig891.jpg  \n",
            "  inflating: pig_data/train/eating/pig/00_pig892.jpg  \n",
            "  inflating: pig_data/train/eating/pig/00_pig893.jpg  \n",
            "  inflating: pig_data/train/eating/pig/00_pig894.jpg  \n",
            "  inflating: pig_data/train/eating/pig/00_pig895.jpg  \n",
            "  inflating: pig_data/train/eating/pig/00_pig896.jpg  \n",
            "  inflating: pig_data/train/eating/pig/00_pig897.jpg  \n",
            "  inflating: pig_data/train/eating/pig/00_pig898.jpg  \n",
            "  inflating: pig_data/train/eating/pig/00_pig899.jpg  \n",
            "  inflating: pig_data/train/eating/pig/00_pig9.jpg  \n",
            "  inflating: pig_data/train/eating/pig/00_pig90.jpg  \n",
            "  inflating: pig_data/train/eating/pig/00_pig900.jpg  \n",
            "  inflating: pig_data/train/eating/pig/00_pig901.jpg  \n",
            "  inflating: pig_data/train/eating/pig/00_pig902.jpg  \n",
            "  inflating: pig_data/train/eating/pig/00_pig903.jpg  \n",
            "  inflating: pig_data/train/eating/pig/00_pig904.jpg  \n",
            "  inflating: pig_data/train/eating/pig/00_pig905.jpg  \n",
            "  inflating: pig_data/train/eating/pig/00_pig906.jpg  \n",
            "  inflating: pig_data/train/eating/pig/00_pig907.jpg  \n",
            "  inflating: pig_data/train/eating/pig/00_pig908.jpg  \n",
            "  inflating: pig_data/train/eating/pig/00_pig909.jpg  \n",
            "  inflating: pig_data/train/eating/pig/00_pig91.jpg  \n",
            "  inflating: pig_data/train/eating/pig/00_pig910.jpg  \n",
            "  inflating: pig_data/train/eating/pig/00_pig911.jpg  \n",
            "  inflating: pig_data/train/eating/pig/00_pig912.jpg  \n",
            "  inflating: pig_data/train/eating/pig/00_pig913.jpg  \n",
            "  inflating: pig_data/train/eating/pig/00_pig914.jpg  \n",
            "  inflating: pig_data/train/eating/pig/00_pig915.jpg  \n",
            "  inflating: pig_data/train/eating/pig/00_pig916.jpg  \n",
            "  inflating: pig_data/train/eating/pig/00_pig917.jpg  \n",
            "  inflating: pig_data/train/eating/pig/00_pig918.jpg  \n",
            "  inflating: pig_data/train/eating/pig/00_pig919.jpg  \n",
            "  inflating: pig_data/train/eating/pig/00_pig92.jpg  \n",
            "  inflating: pig_data/train/eating/pig/00_pig920.jpg  \n",
            "  inflating: pig_data/train/eating/pig/00_pig921.jpg  \n",
            "  inflating: pig_data/train/eating/pig/00_pig922.jpg  \n",
            "  inflating: pig_data/train/eating/pig/00_pig923.jpg  \n",
            "  inflating: pig_data/train/eating/pig/00_pig924.jpg  \n",
            "  inflating: pig_data/train/eating/pig/00_pig925.jpg  \n",
            "  inflating: pig_data/train/eating/pig/00_pig926.jpg  \n",
            "  inflating: pig_data/train/eating/pig/00_pig927.jpg  \n",
            "  inflating: pig_data/train/eating/pig/00_pig928.jpg  \n",
            "  inflating: pig_data/train/eating/pig/00_pig929.jpg  \n",
            "  inflating: pig_data/train/eating/pig/00_pig93.jpg  \n",
            "  inflating: pig_data/train/eating/pig/00_pig930.jpg  \n",
            "  inflating: pig_data/train/eating/pig/00_pig931.jpg  \n",
            "  inflating: pig_data/train/eating/pig/00_pig932.jpg  \n",
            "  inflating: pig_data/train/eating/pig/00_pig933.jpg  \n",
            "  inflating: pig_data/train/eating/pig/00_pig934.jpg  \n",
            "  inflating: pig_data/train/eating/pig/00_pig935.jpg  \n",
            "  inflating: pig_data/train/eating/pig/00_pig936.jpg  \n",
            "  inflating: pig_data/train/eating/pig/00_pig937.jpg  \n",
            "  inflating: pig_data/train/eating/pig/00_pig938.jpg  \n",
            "  inflating: pig_data/train/eating/pig/00_pig939.jpg  \n",
            "  inflating: pig_data/train/eating/pig/00_pig94.jpg  \n",
            "  inflating: pig_data/train/eating/pig/00_pig940.jpg  \n",
            "  inflating: pig_data/train/eating/pig/00_pig941.jpg  \n",
            "  inflating: pig_data/train/eating/pig/00_pig942.jpg  \n",
            "  inflating: pig_data/train/eating/pig/00_pig943.jpg  \n",
            "  inflating: pig_data/train/eating/pig/00_pig944.jpg  \n",
            "  inflating: pig_data/train/eating/pig/00_pig945.jpg  \n",
            "  inflating: pig_data/train/eating/pig/00_pig946.jpg  \n",
            "  inflating: pig_data/train/eating/pig/00_pig947.jpg  \n",
            "  inflating: pig_data/train/eating/pig/00_pig948.jpg  \n",
            "  inflating: pig_data/train/eating/pig/00_pig949.jpg  \n",
            "  inflating: pig_data/train/eating/pig/00_pig95.jpg  \n",
            "  inflating: pig_data/train/eating/pig/00_pig950.jpg  \n",
            "  inflating: pig_data/train/eating/pig/00_pig951.jpg  \n",
            "  inflating: pig_data/train/eating/pig/00_pig952.jpg  \n",
            "  inflating: pig_data/train/eating/pig/00_pig953.jpg  \n",
            "  inflating: pig_data/train/eating/pig/00_pig954.jpg  \n",
            "  inflating: pig_data/train/eating/pig/00_pig955.jpg  \n",
            "  inflating: pig_data/train/eating/pig/00_pig956.jpg  \n",
            "  inflating: pig_data/train/eating/pig/00_pig957.jpg  \n",
            "  inflating: pig_data/train/eating/pig/00_pig958.jpg  \n",
            "  inflating: pig_data/train/eating/pig/00_pig959.jpg  \n",
            "  inflating: pig_data/train/eating/pig/00_pig96.jpg  \n",
            "  inflating: pig_data/train/eating/pig/00_pig960.jpg  \n",
            "  inflating: pig_data/train/eating/pig/00_pig961.jpg  \n",
            "  inflating: pig_data/train/eating/pig/00_pig962.jpg  \n",
            "  inflating: pig_data/train/eating/pig/00_pig963.jpg  \n",
            "  inflating: pig_data/train/eating/pig/00_pig964.jpg  \n",
            "  inflating: pig_data/train/eating/pig/00_pig965.jpg  \n",
            "  inflating: pig_data/train/eating/pig/00_pig966.jpg  \n",
            "  inflating: pig_data/train/eating/pig/00_pig967.jpg  \n",
            "  inflating: pig_data/train/eating/pig/00_pig968.jpg  \n",
            "  inflating: pig_data/train/eating/pig/00_pig969.jpg  \n",
            "  inflating: pig_data/train/eating/pig/00_pig97.jpg  \n",
            "  inflating: pig_data/train/eating/pig/00_pig970.jpg  \n",
            "  inflating: pig_data/train/eating/pig/00_pig971.jpg  \n",
            "  inflating: pig_data/train/eating/pig/00_pig972.jpg  \n",
            "  inflating: pig_data/train/eating/pig/00_pig973.jpg  \n",
            "  inflating: pig_data/train/eating/pig/00_pig974.jpg  \n",
            "  inflating: pig_data/train/eating/pig/00_pig975.jpg  \n",
            "  inflating: pig_data/train/eating/pig/00_pig976.jpg  \n",
            "  inflating: pig_data/train/eating/pig/00_pig977.jpg  \n",
            "  inflating: pig_data/train/eating/pig/00_pig978.jpg  \n",
            "  inflating: pig_data/train/eating/pig/00_pig979.jpg  \n",
            "  inflating: pig_data/train/eating/pig/00_pig98.jpg  \n",
            "  inflating: pig_data/train/eating/pig/00_pig980.jpg  \n",
            "  inflating: pig_data/train/eating/pig/00_pig981.jpg  \n",
            "  inflating: pig_data/train/eating/pig/00_pig982.jpg  \n",
            "  inflating: pig_data/train/eating/pig/00_pig983.jpg  \n",
            "  inflating: pig_data/train/eating/pig/00_pig984.jpg  \n",
            "  inflating: pig_data/train/eating/pig/00_pig985.jpg  \n",
            "  inflating: pig_data/train/eating/pig/00_pig986.jpg  \n",
            "  inflating: pig_data/train/eating/pig/00_pig987.jpg  \n",
            "  inflating: pig_data/train/eating/pig/00_pig988.jpg  \n",
            "  inflating: pig_data/train/eating/pig/00_pig989.jpg  \n",
            "  inflating: pig_data/train/eating/pig/00_pig99.jpg  \n",
            "  inflating: pig_data/train/eating/pig/00_pig990.jpg  \n",
            "  inflating: pig_data/train/eating/pig/00_pig991.jpg  \n",
            "  inflating: pig_data/train/eating/pig/00_pig992.jpg  \n",
            "  inflating: pig_data/train/eating/pig/00_pig993.jpg  \n",
            "  inflating: pig_data/train/eating/pig/00_pig994.jpg  \n",
            "  inflating: pig_data/train/eating/pig/00_pig995.jpg  \n",
            "  inflating: pig_data/train/eating/pig/00_pig996.jpg  \n",
            "  inflating: pig_data/train/eating/pig/00_pig997.jpg  \n",
            "  inflating: pig_data/train/eating/pig/00_pig998.jpg  \n",
            "  inflating: pig_data/train/eating/pig/00_pig999.jpg  \n",
            "   creating: pig_data/train/not-eating/\n",
            "   creating: pig_data/train/not-eating/pig/\n",
            "  inflating: pig_data/train/not-eating/pig/00_pig0.jpg  \n",
            "  inflating: pig_data/train/not-eating/pig/00_pig1.jpg  \n",
            "  inflating: pig_data/train/not-eating/pig/00_pig10.jpg  \n",
            "  inflating: pig_data/train/not-eating/pig/00_pig100.jpg  \n",
            "  inflating: pig_data/train/not-eating/pig/00_pig1000.jpg  \n",
            "  inflating: pig_data/train/not-eating/pig/00_pig1001.jpg  \n",
            "  inflating: pig_data/train/not-eating/pig/00_pig1002.jpg  \n",
            "  inflating: pig_data/train/not-eating/pig/00_pig1003.jpg  \n",
            "  inflating: pig_data/train/not-eating/pig/00_pig1004.jpg  \n",
            "  inflating: pig_data/train/not-eating/pig/00_pig1005.jpg  \n",
            "  inflating: pig_data/train/not-eating/pig/00_pig1006.jpg  \n",
            "  inflating: pig_data/train/not-eating/pig/00_pig1007.jpg  \n",
            "  inflating: pig_data/train/not-eating/pig/00_pig1008.jpg  \n",
            "  inflating: pig_data/train/not-eating/pig/00_pig1009.jpg  \n",
            "  inflating: pig_data/train/not-eating/pig/00_pig101.jpg  \n",
            "  inflating: pig_data/train/not-eating/pig/00_pig1010.jpg  \n",
            "  inflating: pig_data/train/not-eating/pig/00_pig1011.jpg  \n",
            "  inflating: pig_data/train/not-eating/pig/00_pig1012.jpg  \n",
            "  inflating: pig_data/train/not-eating/pig/00_pig1013.jpg  \n",
            "  inflating: pig_data/train/not-eating/pig/00_pig1014.jpg  \n",
            "  inflating: pig_data/train/not-eating/pig/00_pig1015.jpg  \n",
            "  inflating: pig_data/train/not-eating/pig/00_pig1016.jpg  \n",
            "  inflating: pig_data/train/not-eating/pig/00_pig1017.jpg  \n",
            "  inflating: pig_data/train/not-eating/pig/00_pig1018.jpg  \n",
            "  inflating: pig_data/train/not-eating/pig/00_pig1019.jpg  \n",
            "  inflating: pig_data/train/not-eating/pig/00_pig102.jpg  \n",
            "  inflating: pig_data/train/not-eating/pig/00_pig1020.jpg  \n",
            "  inflating: pig_data/train/not-eating/pig/00_pig1021.jpg  \n",
            "  inflating: pig_data/train/not-eating/pig/00_pig1022.jpg  \n",
            "  inflating: pig_data/train/not-eating/pig/00_pig1023.jpg  \n",
            "  inflating: pig_data/train/not-eating/pig/00_pig1024.jpg  \n",
            "  inflating: pig_data/train/not-eating/pig/00_pig1025.jpg  \n",
            "  inflating: pig_data/train/not-eating/pig/00_pig1026.jpg  \n",
            "  inflating: pig_data/train/not-eating/pig/00_pig1027.jpg  \n",
            "  inflating: pig_data/train/not-eating/pig/00_pig1028.jpg  \n",
            "  inflating: pig_data/train/not-eating/pig/00_pig1029.jpg  \n",
            "  inflating: pig_data/train/not-eating/pig/00_pig103.jpg  \n",
            "  inflating: pig_data/train/not-eating/pig/00_pig1030.jpg  \n",
            "  inflating: pig_data/train/not-eating/pig/00_pig1031.jpg  \n",
            "  inflating: pig_data/train/not-eating/pig/00_pig1032.jpg  \n",
            "  inflating: pig_data/train/not-eating/pig/00_pig1033.jpg  \n",
            "  inflating: pig_data/train/not-eating/pig/00_pig1034.jpg  \n",
            "  inflating: pig_data/train/not-eating/pig/00_pig1035.jpg  \n",
            "  inflating: pig_data/train/not-eating/pig/00_pig1036.jpg  \n",
            "  inflating: pig_data/train/not-eating/pig/00_pig1037.jpg  \n",
            "  inflating: pig_data/train/not-eating/pig/00_pig1038.jpg  \n",
            "  inflating: pig_data/train/not-eating/pig/00_pig1039.jpg  \n",
            "  inflating: pig_data/train/not-eating/pig/00_pig104.jpg  \n",
            "  inflating: pig_data/train/not-eating/pig/00_pig1040.jpg  \n",
            "  inflating: pig_data/train/not-eating/pig/00_pig1041.jpg  \n",
            "  inflating: pig_data/train/not-eating/pig/00_pig1042.jpg  \n",
            "  inflating: pig_data/train/not-eating/pig/00_pig1043.jpg  \n",
            "  inflating: pig_data/train/not-eating/pig/00_pig1044.jpg  \n",
            "  inflating: pig_data/train/not-eating/pig/00_pig1045.jpg  \n",
            "  inflating: pig_data/train/not-eating/pig/00_pig1046.jpg  \n",
            "  inflating: pig_data/train/not-eating/pig/00_pig1047.jpg  \n",
            "  inflating: pig_data/train/not-eating/pig/00_pig1048.jpg  \n",
            "  inflating: pig_data/train/not-eating/pig/00_pig1049.jpg  \n",
            "  inflating: pig_data/train/not-eating/pig/00_pig105.jpg  \n",
            "  inflating: pig_data/train/not-eating/pig/00_pig1050.jpg  \n",
            "  inflating: pig_data/train/not-eating/pig/00_pig1051.jpg  \n",
            "  inflating: pig_data/train/not-eating/pig/00_pig1052.jpg  \n",
            "  inflating: pig_data/train/not-eating/pig/00_pig1053.jpg  \n",
            "  inflating: pig_data/train/not-eating/pig/00_pig1054.jpg  \n",
            "  inflating: pig_data/train/not-eating/pig/00_pig1055.jpg  \n",
            "  inflating: pig_data/train/not-eating/pig/00_pig1056.jpg  \n",
            "  inflating: pig_data/train/not-eating/pig/00_pig1057.jpg  \n",
            "  inflating: pig_data/train/not-eating/pig/00_pig1058.jpg  \n",
            "  inflating: pig_data/train/not-eating/pig/00_pig1059.jpg  \n",
            "  inflating: pig_data/train/not-eating/pig/00_pig106.jpg  \n",
            "  inflating: pig_data/train/not-eating/pig/00_pig1060.jpg  \n",
            "  inflating: pig_data/train/not-eating/pig/00_pig1061.jpg  \n",
            "  inflating: pig_data/train/not-eating/pig/00_pig1062.jpg  \n",
            "  inflating: pig_data/train/not-eating/pig/00_pig1063.jpg  \n",
            "  inflating: pig_data/train/not-eating/pig/00_pig1064.jpg  \n",
            "  inflating: pig_data/train/not-eating/pig/00_pig1065.jpg  \n",
            "  inflating: pig_data/train/not-eating/pig/00_pig1066.jpg  \n",
            "  inflating: pig_data/train/not-eating/pig/00_pig1067.jpg  \n",
            "  inflating: pig_data/train/not-eating/pig/00_pig1068.jpg  \n",
            "  inflating: pig_data/train/not-eating/pig/00_pig1069.jpg  \n",
            "  inflating: pig_data/train/not-eating/pig/00_pig107.jpg  \n",
            "  inflating: pig_data/train/not-eating/pig/00_pig1070.jpg  \n",
            "  inflating: pig_data/train/not-eating/pig/00_pig1071.jpg  \n",
            "  inflating: pig_data/train/not-eating/pig/00_pig1072.jpg  \n",
            "  inflating: pig_data/train/not-eating/pig/00_pig1073.jpg  \n",
            "  inflating: pig_data/train/not-eating/pig/00_pig1074.jpg  \n",
            "  inflating: pig_data/train/not-eating/pig/00_pig1075.jpg  \n",
            "  inflating: pig_data/train/not-eating/pig/00_pig1076.jpg  \n",
            "  inflating: pig_data/train/not-eating/pig/00_pig1077.jpg  \n",
            "  inflating: pig_data/train/not-eating/pig/00_pig1078.jpg  \n",
            "  inflating: pig_data/train/not-eating/pig/00_pig1079.jpg  \n",
            "  inflating: pig_data/train/not-eating/pig/00_pig108.jpg  \n",
            "  inflating: pig_data/train/not-eating/pig/00_pig1080.jpg  \n",
            "  inflating: pig_data/train/not-eating/pig/00_pig1081.jpg  \n",
            "  inflating: pig_data/train/not-eating/pig/00_pig1082.jpg  \n",
            "  inflating: pig_data/train/not-eating/pig/00_pig1083.jpg  \n",
            "  inflating: pig_data/train/not-eating/pig/00_pig1084.jpg  \n",
            "  inflating: pig_data/train/not-eating/pig/00_pig1085.jpg  \n",
            "  inflating: pig_data/train/not-eating/pig/00_pig1086.jpg  \n",
            "  inflating: pig_data/train/not-eating/pig/00_pig1087.jpg  \n",
            "  inflating: pig_data/train/not-eating/pig/00_pig1088.jpg  \n",
            "  inflating: pig_data/train/not-eating/pig/00_pig1089.jpg  \n",
            "  inflating: pig_data/train/not-eating/pig/00_pig109.jpg  \n",
            "  inflating: pig_data/train/not-eating/pig/00_pig1090.jpg  \n",
            "  inflating: pig_data/train/not-eating/pig/00_pig1091.jpg  \n",
            "  inflating: pig_data/train/not-eating/pig/00_pig1092.jpg  \n",
            "  inflating: pig_data/train/not-eating/pig/00_pig1093.jpg  \n",
            "  inflating: pig_data/train/not-eating/pig/00_pig1094.jpg  \n",
            "  inflating: pig_data/train/not-eating/pig/00_pig1095.jpg  \n",
            "  inflating: pig_data/train/not-eating/pig/00_pig1096.jpg  \n",
            "  inflating: pig_data/train/not-eating/pig/00_pig1097.jpg  \n",
            "  inflating: pig_data/train/not-eating/pig/00_pig1098.jpg  \n",
            "  inflating: pig_data/train/not-eating/pig/00_pig1099.jpg  \n",
            "  inflating: pig_data/train/not-eating/pig/00_pig11.jpg  \n",
            "  inflating: pig_data/train/not-eating/pig/00_pig110.jpg  \n",
            "  inflating: pig_data/train/not-eating/pig/00_pig1100.jpg  \n",
            "  inflating: pig_data/train/not-eating/pig/00_pig1101.jpg  \n",
            "  inflating: pig_data/train/not-eating/pig/00_pig1102.jpg  \n",
            "  inflating: pig_data/train/not-eating/pig/00_pig1103.jpg  \n",
            "  inflating: pig_data/train/not-eating/pig/00_pig1104.jpg  \n",
            "  inflating: pig_data/train/not-eating/pig/00_pig1105.jpg  \n",
            "  inflating: pig_data/train/not-eating/pig/00_pig1106.jpg  \n",
            "  inflating: pig_data/train/not-eating/pig/00_pig1107.jpg  \n",
            "  inflating: pig_data/train/not-eating/pig/00_pig1108.jpg  \n",
            "  inflating: pig_data/train/not-eating/pig/00_pig1109.jpg  \n",
            "  inflating: pig_data/train/not-eating/pig/00_pig111.jpg  \n",
            "  inflating: pig_data/train/not-eating/pig/00_pig1110.jpg  \n",
            "  inflating: pig_data/train/not-eating/pig/00_pig1111.jpg  \n",
            "  inflating: pig_data/train/not-eating/pig/00_pig1112.jpg  \n",
            "  inflating: pig_data/train/not-eating/pig/00_pig1113.jpg  \n",
            "  inflating: pig_data/train/not-eating/pig/00_pig1114.jpg  \n",
            "  inflating: pig_data/train/not-eating/pig/00_pig1115.jpg  \n",
            "  inflating: pig_data/train/not-eating/pig/00_pig1116.jpg  \n",
            "  inflating: pig_data/train/not-eating/pig/00_pig1117.jpg  \n",
            "  inflating: pig_data/train/not-eating/pig/00_pig1118.jpg  \n",
            "  inflating: pig_data/train/not-eating/pig/00_pig1119.jpg  \n",
            "  inflating: pig_data/train/not-eating/pig/00_pig112.jpg  \n",
            "  inflating: pig_data/train/not-eating/pig/00_pig1120.jpg  \n",
            "  inflating: pig_data/train/not-eating/pig/00_pig1121.jpg  \n",
            "  inflating: pig_data/train/not-eating/pig/00_pig1122.jpg  \n",
            "  inflating: pig_data/train/not-eating/pig/00_pig1123.jpg  \n",
            "  inflating: pig_data/train/not-eating/pig/00_pig1124.jpg  \n",
            "  inflating: pig_data/train/not-eating/pig/00_pig1125.jpg  \n",
            "  inflating: pig_data/train/not-eating/pig/00_pig1126.jpg  \n",
            "  inflating: pig_data/train/not-eating/pig/00_pig1127.jpg  \n",
            "  inflating: pig_data/train/not-eating/pig/00_pig1128.jpg  \n",
            "  inflating: pig_data/train/not-eating/pig/00_pig1129.jpg  \n",
            "  inflating: pig_data/train/not-eating/pig/00_pig113.jpg  \n",
            "  inflating: pig_data/train/not-eating/pig/00_pig1130.jpg  \n",
            "  inflating: pig_data/train/not-eating/pig/00_pig1131.jpg  \n",
            "  inflating: pig_data/train/not-eating/pig/00_pig1132.jpg  \n",
            "  inflating: pig_data/train/not-eating/pig/00_pig1133.jpg  \n",
            "  inflating: pig_data/train/not-eating/pig/00_pig1134.jpg  \n",
            "  inflating: pig_data/train/not-eating/pig/00_pig1135.jpg  \n",
            "  inflating: pig_data/train/not-eating/pig/00_pig1136.jpg  \n",
            "  inflating: pig_data/train/not-eating/pig/00_pig1137.jpg  \n",
            "  inflating: pig_data/train/not-eating/pig/00_pig1138.jpg  \n",
            "  inflating: pig_data/train/not-eating/pig/00_pig1139.jpg  \n",
            "  inflating: pig_data/train/not-eating/pig/00_pig114.jpg  \n",
            "  inflating: pig_data/train/not-eating/pig/00_pig1140.jpg  \n",
            "  inflating: pig_data/train/not-eating/pig/00_pig1141.jpg  \n",
            "  inflating: pig_data/train/not-eating/pig/00_pig1142.jpg  \n",
            "  inflating: pig_data/train/not-eating/pig/00_pig1143.jpg  \n",
            "  inflating: pig_data/train/not-eating/pig/00_pig1144.jpg  \n",
            "  inflating: pig_data/train/not-eating/pig/00_pig1145.jpg  \n",
            "  inflating: pig_data/train/not-eating/pig/00_pig1146.jpg  \n",
            "  inflating: pig_data/train/not-eating/pig/00_pig1147.jpg  \n",
            "  inflating: pig_data/train/not-eating/pig/00_pig1148.jpg  \n",
            "  inflating: pig_data/train/not-eating/pig/00_pig1149.jpg  \n",
            "  inflating: pig_data/train/not-eating/pig/00_pig115.jpg  \n",
            "  inflating: pig_data/train/not-eating/pig/00_pig1150.jpg  \n",
            "  inflating: pig_data/train/not-eating/pig/00_pig1151.jpg  \n",
            "  inflating: pig_data/train/not-eating/pig/00_pig1152.jpg  \n",
            "  inflating: pig_data/train/not-eating/pig/00_pig1153.jpg  \n",
            "  inflating: pig_data/train/not-eating/pig/00_pig1154.jpg  \n",
            "  inflating: pig_data/train/not-eating/pig/00_pig1155.jpg  \n",
            "  inflating: pig_data/train/not-eating/pig/00_pig1156.jpg  \n",
            "  inflating: pig_data/train/not-eating/pig/00_pig1157.jpg  \n",
            "  inflating: pig_data/train/not-eating/pig/00_pig1158.jpg  \n",
            "  inflating: pig_data/train/not-eating/pig/00_pig1159.jpg  \n",
            "  inflating: pig_data/train/not-eating/pig/00_pig116.jpg  \n",
            "  inflating: pig_data/train/not-eating/pig/00_pig1160.jpg  \n",
            "  inflating: pig_data/train/not-eating/pig/00_pig1161.jpg  \n",
            "  inflating: pig_data/train/not-eating/pig/00_pig1162.jpg  \n",
            "  inflating: pig_data/train/not-eating/pig/00_pig1163.jpg  \n",
            "  inflating: pig_data/train/not-eating/pig/00_pig1164.jpg  \n",
            "  inflating: pig_data/train/not-eating/pig/00_pig1165.jpg  \n",
            "  inflating: pig_data/train/not-eating/pig/00_pig1166.jpg  \n",
            "  inflating: pig_data/train/not-eating/pig/00_pig1167.jpg  \n",
            "  inflating: pig_data/train/not-eating/pig/00_pig1168.jpg  \n",
            "  inflating: pig_data/train/not-eating/pig/00_pig1169.jpg  \n",
            "  inflating: pig_data/train/not-eating/pig/00_pig117.jpg  \n",
            "  inflating: pig_data/train/not-eating/pig/00_pig1170.jpg  \n",
            "  inflating: pig_data/train/not-eating/pig/00_pig1171.jpg  \n",
            "  inflating: pig_data/train/not-eating/pig/00_pig1172.jpg  \n",
            "  inflating: pig_data/train/not-eating/pig/00_pig1173.jpg  \n",
            "  inflating: pig_data/train/not-eating/pig/00_pig1174.jpg  \n",
            "  inflating: pig_data/train/not-eating/pig/00_pig1175.jpg  \n",
            "  inflating: pig_data/train/not-eating/pig/00_pig1176.jpg  \n",
            "  inflating: pig_data/train/not-eating/pig/00_pig1177.jpg  \n",
            "  inflating: pig_data/train/not-eating/pig/00_pig1178.jpg  \n",
            "  inflating: pig_data/train/not-eating/pig/00_pig1179.jpg  \n",
            "  inflating: pig_data/train/not-eating/pig/00_pig118.jpg  \n",
            "  inflating: pig_data/train/not-eating/pig/00_pig1180.jpg  \n",
            "  inflating: pig_data/train/not-eating/pig/00_pig1181.jpg  \n",
            "  inflating: pig_data/train/not-eating/pig/00_pig1182.jpg  \n",
            "  inflating: pig_data/train/not-eating/pig/00_pig1183.jpg  \n",
            "  inflating: pig_data/train/not-eating/pig/00_pig1184.jpg  \n",
            "  inflating: pig_data/train/not-eating/pig/00_pig1185.jpg  \n",
            "  inflating: pig_data/train/not-eating/pig/00_pig1186.jpg  \n",
            "  inflating: pig_data/train/not-eating/pig/00_pig1187.jpg  \n",
            "  inflating: pig_data/train/not-eating/pig/00_pig1188.jpg  \n",
            "  inflating: pig_data/train/not-eating/pig/00_pig1189.jpg  \n",
            "  inflating: pig_data/train/not-eating/pig/00_pig119.jpg  \n",
            "  inflating: pig_data/train/not-eating/pig/00_pig1190.jpg  \n",
            "  inflating: pig_data/train/not-eating/pig/00_pig1191.jpg  \n",
            "  inflating: pig_data/train/not-eating/pig/00_pig1192.jpg  \n",
            "  inflating: pig_data/train/not-eating/pig/00_pig1193.jpg  \n",
            "  inflating: pig_data/train/not-eating/pig/00_pig1194.jpg  \n",
            "  inflating: pig_data/train/not-eating/pig/00_pig1195.jpg  \n",
            "  inflating: pig_data/train/not-eating/pig/00_pig1196.jpg  \n",
            "  inflating: pig_data/train/not-eating/pig/00_pig1197.jpg  \n",
            "  inflating: pig_data/train/not-eating/pig/00_pig1198.jpg  \n",
            "  inflating: pig_data/train/not-eating/pig/00_pig1199.jpg  \n",
            "  inflating: pig_data/train/not-eating/pig/00_pig12.jpg  \n",
            "  inflating: pig_data/train/not-eating/pig/00_pig120.jpg  \n",
            "  inflating: pig_data/train/not-eating/pig/00_pig1200.jpg  \n",
            "  inflating: pig_data/train/not-eating/pig/00_pig1201.jpg  \n",
            "  inflating: pig_data/train/not-eating/pig/00_pig1202.jpg  \n",
            "  inflating: pig_data/train/not-eating/pig/00_pig1203.jpg  \n",
            "  inflating: pig_data/train/not-eating/pig/00_pig1204.jpg  \n",
            "  inflating: pig_data/train/not-eating/pig/00_pig1205.jpg  \n",
            "  inflating: pig_data/train/not-eating/pig/00_pig1206.jpg  \n",
            "  inflating: pig_data/train/not-eating/pig/00_pig1207.jpg  \n",
            "  inflating: pig_data/train/not-eating/pig/00_pig1208.jpg  \n",
            "  inflating: pig_data/train/not-eating/pig/00_pig1209.jpg  \n",
            "  inflating: pig_data/train/not-eating/pig/00_pig121.jpg  \n",
            "  inflating: pig_data/train/not-eating/pig/00_pig1210.jpg  \n",
            "  inflating: pig_data/train/not-eating/pig/00_pig1211.jpg  \n",
            "  inflating: pig_data/train/not-eating/pig/00_pig1212.jpg  \n",
            "  inflating: pig_data/train/not-eating/pig/00_pig1213.jpg  \n",
            "  inflating: pig_data/train/not-eating/pig/00_pig1214.jpg  \n",
            "  inflating: pig_data/train/not-eating/pig/00_pig1215.jpg  \n",
            "  inflating: pig_data/train/not-eating/pig/00_pig1216.jpg  \n",
            "  inflating: pig_data/train/not-eating/pig/00_pig1217.jpg  \n",
            "  inflating: pig_data/train/not-eating/pig/00_pig1218.jpg  \n",
            "  inflating: pig_data/train/not-eating/pig/00_pig1219.jpg  \n",
            "  inflating: pig_data/train/not-eating/pig/00_pig122.jpg  \n",
            "  inflating: pig_data/train/not-eating/pig/00_pig1220.jpg  \n",
            "  inflating: pig_data/train/not-eating/pig/00_pig1221.jpg  \n",
            "  inflating: pig_data/train/not-eating/pig/00_pig1222.jpg  \n",
            "  inflating: pig_data/train/not-eating/pig/00_pig1223.jpg  \n",
            "  inflating: pig_data/train/not-eating/pig/00_pig1224.jpg  \n",
            "  inflating: pig_data/train/not-eating/pig/00_pig1225.jpg  \n",
            "  inflating: pig_data/train/not-eating/pig/00_pig1226.jpg  \n",
            "  inflating: pig_data/train/not-eating/pig/00_pig1227.jpg  \n",
            "  inflating: pig_data/train/not-eating/pig/00_pig1228.jpg  \n",
            "  inflating: pig_data/train/not-eating/pig/00_pig1229.jpg  \n",
            "  inflating: pig_data/train/not-eating/pig/00_pig123.jpg  \n",
            "  inflating: pig_data/train/not-eating/pig/00_pig1230.jpg  \n",
            "  inflating: pig_data/train/not-eating/pig/00_pig1231.jpg  \n",
            "  inflating: pig_data/train/not-eating/pig/00_pig1232.jpg  \n",
            "  inflating: pig_data/train/not-eating/pig/00_pig1233.jpg  \n",
            "  inflating: pig_data/train/not-eating/pig/00_pig1234.jpg  \n",
            "  inflating: pig_data/train/not-eating/pig/00_pig1235.jpg  \n",
            "  inflating: pig_data/train/not-eating/pig/00_pig1236.jpg  \n",
            "  inflating: pig_data/train/not-eating/pig/00_pig1237.jpg  \n",
            "  inflating: pig_data/train/not-eating/pig/00_pig1238.jpg  \n",
            "  inflating: pig_data/train/not-eating/pig/00_pig1239.jpg  \n",
            "  inflating: pig_data/train/not-eating/pig/00_pig124.jpg  \n",
            "  inflating: pig_data/train/not-eating/pig/00_pig1240.jpg  \n",
            "  inflating: pig_data/train/not-eating/pig/00_pig1241.jpg  \n",
            "  inflating: pig_data/train/not-eating/pig/00_pig1242.jpg  \n",
            "  inflating: pig_data/train/not-eating/pig/00_pig1243.jpg  \n",
            "  inflating: pig_data/train/not-eating/pig/00_pig1244.jpg  \n",
            "  inflating: pig_data/train/not-eating/pig/00_pig1245.jpg  \n",
            "  inflating: pig_data/train/not-eating/pig/00_pig1246.jpg  \n",
            "  inflating: pig_data/train/not-eating/pig/00_pig1247.jpg  \n",
            "  inflating: pig_data/train/not-eating/pig/00_pig1248.jpg  \n",
            "  inflating: pig_data/train/not-eating/pig/00_pig1249.jpg  \n",
            "  inflating: pig_data/train/not-eating/pig/00_pig125.jpg  \n",
            "  inflating: pig_data/train/not-eating/pig/00_pig1250.jpg  \n",
            "  inflating: pig_data/train/not-eating/pig/00_pig1251.jpg  \n",
            "  inflating: pig_data/train/not-eating/pig/00_pig1252.jpg  \n",
            "  inflating: pig_data/train/not-eating/pig/00_pig1253.jpg  \n",
            "  inflating: pig_data/train/not-eating/pig/00_pig1254.jpg  \n",
            "  inflating: pig_data/train/not-eating/pig/00_pig1255.jpg  \n",
            "  inflating: pig_data/train/not-eating/pig/00_pig1256.jpg  \n",
            "  inflating: pig_data/train/not-eating/pig/00_pig1257.jpg  \n",
            "  inflating: pig_data/train/not-eating/pig/00_pig1258.jpg  \n",
            "  inflating: pig_data/train/not-eating/pig/00_pig1259.jpg  \n",
            "  inflating: pig_data/train/not-eating/pig/00_pig126.jpg  \n",
            "  inflating: pig_data/train/not-eating/pig/00_pig1260.jpg  \n",
            "  inflating: pig_data/train/not-eating/pig/00_pig1261.jpg  \n",
            "  inflating: pig_data/train/not-eating/pig/00_pig1262.jpg  \n",
            "  inflating: pig_data/train/not-eating/pig/00_pig1263.jpg  \n",
            "  inflating: pig_data/train/not-eating/pig/00_pig1264.jpg  \n",
            "  inflating: pig_data/train/not-eating/pig/00_pig1265.jpg  \n",
            "  inflating: pig_data/train/not-eating/pig/00_pig1266.jpg  \n",
            "  inflating: pig_data/train/not-eating/pig/00_pig1267.jpg  \n",
            "  inflating: pig_data/train/not-eating/pig/00_pig1268.jpg  \n",
            "  inflating: pig_data/train/not-eating/pig/00_pig1269.jpg  \n",
            "  inflating: pig_data/train/not-eating/pig/00_pig127.jpg  \n",
            "  inflating: pig_data/train/not-eating/pig/00_pig1270.jpg  \n",
            "  inflating: pig_data/train/not-eating/pig/00_pig1271.jpg  \n",
            "  inflating: pig_data/train/not-eating/pig/00_pig1272.jpg  \n",
            "  inflating: pig_data/train/not-eating/pig/00_pig1273.jpg  \n",
            "  inflating: pig_data/train/not-eating/pig/00_pig1274.jpg  \n",
            "  inflating: pig_data/train/not-eating/pig/00_pig1275.jpg  \n",
            "  inflating: pig_data/train/not-eating/pig/00_pig1276.jpg  \n",
            "  inflating: pig_data/train/not-eating/pig/00_pig1277.jpg  \n",
            "  inflating: pig_data/train/not-eating/pig/00_pig1278.jpg  \n",
            "  inflating: pig_data/train/not-eating/pig/00_pig1279.jpg  \n",
            "  inflating: pig_data/train/not-eating/pig/00_pig128.jpg  \n",
            "  inflating: pig_data/train/not-eating/pig/00_pig1280.jpg  \n",
            "  inflating: pig_data/train/not-eating/pig/00_pig1281.jpg  \n",
            "  inflating: pig_data/train/not-eating/pig/00_pig1282.jpg  \n",
            "  inflating: pig_data/train/not-eating/pig/00_pig1283.jpg  \n",
            "  inflating: pig_data/train/not-eating/pig/00_pig1284.jpg  \n",
            "  inflating: pig_data/train/not-eating/pig/00_pig1285.jpg  \n",
            "  inflating: pig_data/train/not-eating/pig/00_pig1286.jpg  \n",
            "  inflating: pig_data/train/not-eating/pig/00_pig1287.jpg  \n",
            "  inflating: pig_data/train/not-eating/pig/00_pig1288.jpg  \n",
            "  inflating: pig_data/train/not-eating/pig/00_pig1289.jpg  \n",
            "  inflating: pig_data/train/not-eating/pig/00_pig129.jpg  \n",
            "  inflating: pig_data/train/not-eating/pig/00_pig1290.jpg  \n",
            "  inflating: pig_data/train/not-eating/pig/00_pig1291.jpg  \n",
            "  inflating: pig_data/train/not-eating/pig/00_pig1292.jpg  \n",
            "  inflating: pig_data/train/not-eating/pig/00_pig1293.jpg  \n",
            "  inflating: pig_data/train/not-eating/pig/00_pig1294.jpg  \n",
            "  inflating: pig_data/train/not-eating/pig/00_pig1295.jpg  \n",
            "  inflating: pig_data/train/not-eating/pig/00_pig1296.jpg  \n",
            "  inflating: pig_data/train/not-eating/pig/00_pig1297.jpg  \n",
            "  inflating: pig_data/train/not-eating/pig/00_pig1298.jpg  \n",
            "  inflating: pig_data/train/not-eating/pig/00_pig1299.jpg  \n",
            "  inflating: pig_data/train/not-eating/pig/00_pig13.jpg  \n",
            "  inflating: pig_data/train/not-eating/pig/00_pig130.jpg  \n",
            "  inflating: pig_data/train/not-eating/pig/00_pig1300.jpg  \n",
            "  inflating: pig_data/train/not-eating/pig/00_pig1301.jpg  \n",
            "  inflating: pig_data/train/not-eating/pig/00_pig1302.jpg  \n",
            "  inflating: pig_data/train/not-eating/pig/00_pig1303.jpg  \n",
            "  inflating: pig_data/train/not-eating/pig/00_pig1304.jpg  \n",
            "  inflating: pig_data/train/not-eating/pig/00_pig1305.jpg  \n",
            "  inflating: pig_data/train/not-eating/pig/00_pig1306.jpg  \n",
            "  inflating: pig_data/train/not-eating/pig/00_pig1307.jpg  \n",
            "  inflating: pig_data/train/not-eating/pig/00_pig1308.jpg  \n",
            "  inflating: pig_data/train/not-eating/pig/00_pig1309.jpg  \n",
            "  inflating: pig_data/train/not-eating/pig/00_pig131.jpg  \n",
            "  inflating: pig_data/train/not-eating/pig/00_pig1310.jpg  \n",
            "  inflating: pig_data/train/not-eating/pig/00_pig1311.jpg  \n",
            "  inflating: pig_data/train/not-eating/pig/00_pig1312.jpg  \n",
            "  inflating: pig_data/train/not-eating/pig/00_pig1313.jpg  \n",
            "  inflating: pig_data/train/not-eating/pig/00_pig1314.jpg  \n",
            "  inflating: pig_data/train/not-eating/pig/00_pig1315.jpg  \n",
            "  inflating: pig_data/train/not-eating/pig/00_pig1316.jpg  \n",
            "  inflating: pig_data/train/not-eating/pig/00_pig1317.jpg  \n",
            "  inflating: pig_data/train/not-eating/pig/00_pig1318.jpg  \n",
            "  inflating: pig_data/train/not-eating/pig/00_pig1319.jpg  \n",
            "  inflating: pig_data/train/not-eating/pig/00_pig132.jpg  \n",
            "  inflating: pig_data/train/not-eating/pig/00_pig1320.jpg  \n",
            "  inflating: pig_data/train/not-eating/pig/00_pig1321.jpg  \n",
            "  inflating: pig_data/train/not-eating/pig/00_pig1322.jpg  \n",
            "  inflating: pig_data/train/not-eating/pig/00_pig1323.jpg  \n",
            "  inflating: pig_data/train/not-eating/pig/00_pig1324.jpg  \n",
            "  inflating: pig_data/train/not-eating/pig/00_pig1325.jpg  \n",
            "  inflating: pig_data/train/not-eating/pig/00_pig1326.jpg  \n",
            "  inflating: pig_data/train/not-eating/pig/00_pig1327.jpg  \n",
            "  inflating: pig_data/train/not-eating/pig/00_pig1328.jpg  \n",
            "  inflating: pig_data/train/not-eating/pig/00_pig1329.jpg  \n",
            "  inflating: pig_data/train/not-eating/pig/00_pig133.jpg  \n",
            "  inflating: pig_data/train/not-eating/pig/00_pig1330.jpg  \n",
            "  inflating: pig_data/train/not-eating/pig/00_pig1331.jpg  \n",
            "  inflating: pig_data/train/not-eating/pig/00_pig1332.jpg  \n",
            "  inflating: pig_data/train/not-eating/pig/00_pig1333.jpg  \n",
            "  inflating: pig_data/train/not-eating/pig/00_pig1334.jpg  \n",
            "  inflating: pig_data/train/not-eating/pig/00_pig1335.jpg  \n",
            "  inflating: pig_data/train/not-eating/pig/00_pig1336.jpg  \n",
            "  inflating: pig_data/train/not-eating/pig/00_pig1337.jpg  \n",
            "  inflating: pig_data/train/not-eating/pig/00_pig1338.jpg  \n",
            "  inflating: pig_data/train/not-eating/pig/00_pig1339.jpg  \n",
            "  inflating: pig_data/train/not-eating/pig/00_pig134.jpg  \n",
            "  inflating: pig_data/train/not-eating/pig/00_pig1340.jpg  \n",
            "  inflating: pig_data/train/not-eating/pig/00_pig1341.jpg  \n",
            "  inflating: pig_data/train/not-eating/pig/00_pig1342.jpg  \n",
            "  inflating: pig_data/train/not-eating/pig/00_pig1343.jpg  \n",
            "  inflating: pig_data/train/not-eating/pig/00_pig1344.jpg  \n",
            "  inflating: pig_data/train/not-eating/pig/00_pig1345.jpg  \n",
            "  inflating: pig_data/train/not-eating/pig/00_pig1346.jpg  \n",
            "  inflating: pig_data/train/not-eating/pig/00_pig1347.jpg  \n",
            "  inflating: pig_data/train/not-eating/pig/00_pig1348.jpg  \n",
            "  inflating: pig_data/train/not-eating/pig/00_pig1349.jpg  \n",
            "  inflating: pig_data/train/not-eating/pig/00_pig135.jpg  \n",
            "  inflating: pig_data/train/not-eating/pig/00_pig1350.jpg  \n",
            "  inflating: pig_data/train/not-eating/pig/00_pig1351.jpg  \n",
            "  inflating: pig_data/train/not-eating/pig/00_pig1352.jpg  \n",
            "  inflating: pig_data/train/not-eating/pig/00_pig1353.jpg  \n",
            "  inflating: pig_data/train/not-eating/pig/00_pig1354.jpg  \n",
            "  inflating: pig_data/train/not-eating/pig/00_pig1355.jpg  \n",
            "  inflating: pig_data/train/not-eating/pig/00_pig1356.jpg  \n",
            "  inflating: pig_data/train/not-eating/pig/00_pig1357.jpg  \n",
            "  inflating: pig_data/train/not-eating/pig/00_pig1358.jpg  \n",
            "  inflating: pig_data/train/not-eating/pig/00_pig1359.jpg  \n",
            "  inflating: pig_data/train/not-eating/pig/00_pig136.jpg  \n",
            "  inflating: pig_data/train/not-eating/pig/00_pig1360.jpg  \n",
            "  inflating: pig_data/train/not-eating/pig/00_pig1361.jpg  \n",
            "  inflating: pig_data/train/not-eating/pig/00_pig1362.jpg  \n",
            "  inflating: pig_data/train/not-eating/pig/00_pig1363.jpg  \n",
            "  inflating: pig_data/train/not-eating/pig/00_pig1364.jpg  \n",
            "  inflating: pig_data/train/not-eating/pig/00_pig1365.jpg  \n",
            "  inflating: pig_data/train/not-eating/pig/00_pig1366.jpg  \n",
            "  inflating: pig_data/train/not-eating/pig/00_pig1367.jpg  \n",
            "  inflating: pig_data/train/not-eating/pig/00_pig1368.jpg  \n",
            "  inflating: pig_data/train/not-eating/pig/00_pig1369.jpg  \n",
            "  inflating: pig_data/train/not-eating/pig/00_pig137.jpg  \n",
            "  inflating: pig_data/train/not-eating/pig/00_pig1370.jpg  \n",
            "  inflating: pig_data/train/not-eating/pig/00_pig1371.jpg  \n",
            "  inflating: pig_data/train/not-eating/pig/00_pig1372.jpg  \n",
            "  inflating: pig_data/train/not-eating/pig/00_pig1373.jpg  \n",
            "  inflating: pig_data/train/not-eating/pig/00_pig1374.jpg  \n",
            "  inflating: pig_data/train/not-eating/pig/00_pig1375.jpg  \n",
            "  inflating: pig_data/train/not-eating/pig/00_pig1376.jpg  \n",
            "  inflating: pig_data/train/not-eating/pig/00_pig1377.jpg  \n",
            "  inflating: pig_data/train/not-eating/pig/00_pig1378.jpg  \n",
            "  inflating: pig_data/train/not-eating/pig/00_pig1379.jpg  \n",
            "  inflating: pig_data/train/not-eating/pig/00_pig138.jpg  \n",
            "  inflating: pig_data/train/not-eating/pig/00_pig1380.jpg  \n",
            "  inflating: pig_data/train/not-eating/pig/00_pig1381.jpg  \n",
            "  inflating: pig_data/train/not-eating/pig/00_pig1382.jpg  \n",
            "  inflating: pig_data/train/not-eating/pig/00_pig1383.jpg  \n",
            "  inflating: pig_data/train/not-eating/pig/00_pig1384.jpg  \n",
            "  inflating: pig_data/train/not-eating/pig/00_pig1385.jpg  \n",
            "  inflating: pig_data/train/not-eating/pig/00_pig1386.jpg  \n",
            "  inflating: pig_data/train/not-eating/pig/00_pig1387.jpg  \n",
            "  inflating: pig_data/train/not-eating/pig/00_pig1388.jpg  \n",
            "  inflating: pig_data/train/not-eating/pig/00_pig1389.jpg  \n",
            "  inflating: pig_data/train/not-eating/pig/00_pig139.jpg  \n",
            "  inflating: pig_data/train/not-eating/pig/00_pig1390.jpg  \n",
            "  inflating: pig_data/train/not-eating/pig/00_pig1391.jpg  \n",
            "  inflating: pig_data/train/not-eating/pig/00_pig1392.jpg  \n",
            "  inflating: pig_data/train/not-eating/pig/00_pig1393.jpg  \n",
            "  inflating: pig_data/train/not-eating/pig/00_pig1394.jpg  \n",
            "  inflating: pig_data/train/not-eating/pig/00_pig1395.jpg  \n",
            "  inflating: pig_data/train/not-eating/pig/00_pig1396.jpg  \n",
            "  inflating: pig_data/train/not-eating/pig/00_pig1397.jpg  \n",
            "  inflating: pig_data/train/not-eating/pig/00_pig1398.jpg  \n",
            "  inflating: pig_data/train/not-eating/pig/00_pig1399.jpg  \n",
            "  inflating: pig_data/train/not-eating/pig/00_pig14.jpg  \n",
            "  inflating: pig_data/train/not-eating/pig/00_pig140.jpg  \n",
            "  inflating: pig_data/train/not-eating/pig/00_pig1400.jpg  \n",
            "  inflating: pig_data/train/not-eating/pig/00_pig1401.jpg  \n",
            "  inflating: pig_data/train/not-eating/pig/00_pig1402.jpg  \n",
            "  inflating: pig_data/train/not-eating/pig/00_pig1403.jpg  \n",
            "  inflating: pig_data/train/not-eating/pig/00_pig1404.jpg  \n",
            "  inflating: pig_data/train/not-eating/pig/00_pig1405.jpg  \n",
            "  inflating: pig_data/train/not-eating/pig/00_pig1406.jpg  \n",
            "  inflating: pig_data/train/not-eating/pig/00_pig1407.jpg  \n",
            "  inflating: pig_data/train/not-eating/pig/00_pig1408.jpg  \n",
            "  inflating: pig_data/train/not-eating/pig/00_pig1409.jpg  \n",
            "  inflating: pig_data/train/not-eating/pig/00_pig141.jpg  \n",
            "  inflating: pig_data/train/not-eating/pig/00_pig1410.jpg  \n",
            "  inflating: pig_data/train/not-eating/pig/00_pig1411.jpg  \n",
            "  inflating: pig_data/train/not-eating/pig/00_pig1412.jpg  \n",
            "  inflating: pig_data/train/not-eating/pig/00_pig1413.jpg  \n",
            "  inflating: pig_data/train/not-eating/pig/00_pig1414.jpg  \n",
            "  inflating: pig_data/train/not-eating/pig/00_pig1415.jpg  \n",
            "  inflating: pig_data/train/not-eating/pig/00_pig1416.jpg  \n",
            "  inflating: pig_data/train/not-eating/pig/00_pig1417.jpg  \n",
            "  inflating: pig_data/train/not-eating/pig/00_pig1418.jpg  \n",
            "  inflating: pig_data/train/not-eating/pig/00_pig1419.jpg  \n",
            "  inflating: pig_data/train/not-eating/pig/00_pig142.jpg  \n",
            "  inflating: pig_data/train/not-eating/pig/00_pig1420.jpg  \n",
            "  inflating: pig_data/train/not-eating/pig/00_pig1421.jpg  \n",
            "  inflating: pig_data/train/not-eating/pig/00_pig1422.jpg  \n",
            "  inflating: pig_data/train/not-eating/pig/00_pig1423.jpg  \n",
            "  inflating: pig_data/train/not-eating/pig/00_pig1424.jpg  \n",
            "  inflating: pig_data/train/not-eating/pig/00_pig1425.jpg  \n",
            "  inflating: pig_data/train/not-eating/pig/00_pig1426.jpg  \n",
            "  inflating: pig_data/train/not-eating/pig/00_pig1427.jpg  \n",
            "  inflating: pig_data/train/not-eating/pig/00_pig1428.jpg  \n",
            "  inflating: pig_data/train/not-eating/pig/00_pig1429.jpg  \n",
            "  inflating: pig_data/train/not-eating/pig/00_pig143.jpg  \n",
            "  inflating: pig_data/train/not-eating/pig/00_pig1430.jpg  \n",
            "  inflating: pig_data/train/not-eating/pig/00_pig1431.jpg  \n",
            "  inflating: pig_data/train/not-eating/pig/00_pig1432.jpg  \n",
            "  inflating: pig_data/train/not-eating/pig/00_pig1433.jpg  \n",
            "  inflating: pig_data/train/not-eating/pig/00_pig1434.jpg  \n",
            "  inflating: pig_data/train/not-eating/pig/00_pig1435.jpg  \n",
            "  inflating: pig_data/train/not-eating/pig/00_pig1436.jpg  \n",
            "  inflating: pig_data/train/not-eating/pig/00_pig1437.jpg  \n",
            "  inflating: pig_data/train/not-eating/pig/00_pig1438.jpg  \n",
            "  inflating: pig_data/train/not-eating/pig/00_pig1439.jpg  \n",
            "  inflating: pig_data/train/not-eating/pig/00_pig144.jpg  \n",
            "  inflating: pig_data/train/not-eating/pig/00_pig1440.jpg  \n",
            "  inflating: pig_data/train/not-eating/pig/00_pig1441.jpg  \n",
            "  inflating: pig_data/train/not-eating/pig/00_pig1442.jpg  \n",
            "  inflating: pig_data/train/not-eating/pig/00_pig1443.jpg  \n",
            "  inflating: pig_data/train/not-eating/pig/00_pig1444.jpg  \n",
            "  inflating: pig_data/train/not-eating/pig/00_pig1445.jpg  \n",
            "  inflating: pig_data/train/not-eating/pig/00_pig1446.jpg  \n",
            "  inflating: pig_data/train/not-eating/pig/00_pig1447.jpg  \n",
            "  inflating: pig_data/train/not-eating/pig/00_pig1448.jpg  \n",
            "  inflating: pig_data/train/not-eating/pig/00_pig1449.jpg  \n",
            "  inflating: pig_data/train/not-eating/pig/00_pig145.jpg  \n",
            "  inflating: pig_data/train/not-eating/pig/00_pig1450.jpg  \n",
            "  inflating: pig_data/train/not-eating/pig/00_pig1451.jpg  \n",
            "  inflating: pig_data/train/not-eating/pig/00_pig1452.jpg  \n",
            "  inflating: pig_data/train/not-eating/pig/00_pig1453.jpg  \n",
            "  inflating: pig_data/train/not-eating/pig/00_pig1454.jpg  \n",
            "  inflating: pig_data/train/not-eating/pig/00_pig1455.jpg  \n",
            "  inflating: pig_data/train/not-eating/pig/00_pig1456.jpg  \n",
            "  inflating: pig_data/train/not-eating/pig/00_pig1457.jpg  \n",
            "  inflating: pig_data/train/not-eating/pig/00_pig1458.jpg  \n",
            "  inflating: pig_data/train/not-eating/pig/00_pig1459.jpg  \n",
            "  inflating: pig_data/train/not-eating/pig/00_pig146.jpg  \n",
            "  inflating: pig_data/train/not-eating/pig/00_pig1460.jpg  \n",
            "  inflating: pig_data/train/not-eating/pig/00_pig1461.jpg  \n",
            "  inflating: pig_data/train/not-eating/pig/00_pig1462.jpg  \n",
            "  inflating: pig_data/train/not-eating/pig/00_pig1463.jpg  \n",
            "  inflating: pig_data/train/not-eating/pig/00_pig1464.jpg  \n",
            "  inflating: pig_data/train/not-eating/pig/00_pig1465.jpg  \n",
            "  inflating: pig_data/train/not-eating/pig/00_pig1466.jpg  \n",
            "  inflating: pig_data/train/not-eating/pig/00_pig1467.jpg  \n",
            "  inflating: pig_data/train/not-eating/pig/00_pig1468.jpg  \n",
            "  inflating: pig_data/train/not-eating/pig/00_pig1469.jpg  \n",
            "  inflating: pig_data/train/not-eating/pig/00_pig147.jpg  \n",
            "  inflating: pig_data/train/not-eating/pig/00_pig1470.jpg  \n",
            "  inflating: pig_data/train/not-eating/pig/00_pig1471.jpg  \n",
            "  inflating: pig_data/train/not-eating/pig/00_pig1472.jpg  \n",
            "  inflating: pig_data/train/not-eating/pig/00_pig1473.jpg  \n",
            "  inflating: pig_data/train/not-eating/pig/00_pig1474.jpg  \n",
            "  inflating: pig_data/train/not-eating/pig/00_pig1475.jpg  \n",
            "  inflating: pig_data/train/not-eating/pig/00_pig1476.jpg  \n",
            "  inflating: pig_data/train/not-eating/pig/00_pig1477.jpg  \n",
            "  inflating: pig_data/train/not-eating/pig/00_pig1478.jpg  \n",
            "  inflating: pig_data/train/not-eating/pig/00_pig1479.jpg  \n",
            "  inflating: pig_data/train/not-eating/pig/00_pig148.jpg  \n",
            "  inflating: pig_data/train/not-eating/pig/00_pig1480.jpg  \n",
            "  inflating: pig_data/train/not-eating/pig/00_pig1481.jpg  \n",
            "  inflating: pig_data/train/not-eating/pig/00_pig1482.jpg  \n",
            "  inflating: pig_data/train/not-eating/pig/00_pig1483.jpg  \n",
            "  inflating: pig_data/train/not-eating/pig/00_pig1484.jpg  \n",
            "  inflating: pig_data/train/not-eating/pig/00_pig1485.jpg  \n",
            "  inflating: pig_data/train/not-eating/pig/00_pig1486.jpg  \n",
            "  inflating: pig_data/train/not-eating/pig/00_pig1487.jpg  \n",
            "  inflating: pig_data/train/not-eating/pig/00_pig1488.jpg  \n",
            "  inflating: pig_data/train/not-eating/pig/00_pig1489.jpg  \n",
            "  inflating: pig_data/train/not-eating/pig/00_pig149.jpg  \n",
            "  inflating: pig_data/train/not-eating/pig/00_pig1490.jpg  \n",
            "  inflating: pig_data/train/not-eating/pig/00_pig1491.jpg  \n",
            "  inflating: pig_data/train/not-eating/pig/00_pig1492.jpg  \n",
            "  inflating: pig_data/train/not-eating/pig/00_pig1493.jpg  \n",
            "  inflating: pig_data/train/not-eating/pig/00_pig1494.jpg  \n",
            "  inflating: pig_data/train/not-eating/pig/00_pig1495.jpg  \n",
            "  inflating: pig_data/train/not-eating/pig/00_pig1496.jpg  \n",
            "  inflating: pig_data/train/not-eating/pig/00_pig1497.jpg  \n",
            "  inflating: pig_data/train/not-eating/pig/00_pig1498.jpg  \n",
            "  inflating: pig_data/train/not-eating/pig/00_pig1499.jpg  \n",
            "  inflating: pig_data/train/not-eating/pig/00_pig15.jpg  \n",
            "  inflating: pig_data/train/not-eating/pig/00_pig150.jpg  \n",
            "  inflating: pig_data/train/not-eating/pig/00_pig1500.jpg  \n",
            "  inflating: pig_data/train/not-eating/pig/00_pig1501.jpg  \n",
            "  inflating: pig_data/train/not-eating/pig/00_pig1502.jpg  \n",
            "  inflating: pig_data/train/not-eating/pig/00_pig1503.jpg  \n",
            "  inflating: pig_data/train/not-eating/pig/00_pig1504.jpg  \n",
            "  inflating: pig_data/train/not-eating/pig/00_pig1505.jpg  \n",
            "  inflating: pig_data/train/not-eating/pig/00_pig1506.jpg  \n",
            "  inflating: pig_data/train/not-eating/pig/00_pig1507.jpg  \n",
            "  inflating: pig_data/train/not-eating/pig/00_pig1508.jpg  \n",
            "  inflating: pig_data/train/not-eating/pig/00_pig1509.jpg  \n",
            "  inflating: pig_data/train/not-eating/pig/00_pig151.jpg  \n",
            "  inflating: pig_data/train/not-eating/pig/00_pig1510.jpg  \n",
            "  inflating: pig_data/train/not-eating/pig/00_pig1511.jpg  \n",
            "  inflating: pig_data/train/not-eating/pig/00_pig1512.jpg  \n",
            "  inflating: pig_data/train/not-eating/pig/00_pig1513.jpg  \n",
            "  inflating: pig_data/train/not-eating/pig/00_pig1514.jpg  \n",
            "  inflating: pig_data/train/not-eating/pig/00_pig1515.jpg  \n",
            "  inflating: pig_data/train/not-eating/pig/00_pig1516.jpg  \n",
            "  inflating: pig_data/train/not-eating/pig/00_pig1517.jpg  \n",
            "  inflating: pig_data/train/not-eating/pig/00_pig1518.jpg  \n",
            "  inflating: pig_data/train/not-eating/pig/00_pig1519.jpg  \n",
            "  inflating: pig_data/train/not-eating/pig/00_pig152.jpg  \n",
            "  inflating: pig_data/train/not-eating/pig/00_pig1520.jpg  \n",
            "  inflating: pig_data/train/not-eating/pig/00_pig1521.jpg  \n",
            "  inflating: pig_data/train/not-eating/pig/00_pig1522.jpg  \n",
            "  inflating: pig_data/train/not-eating/pig/00_pig1523.jpg  \n",
            "  inflating: pig_data/train/not-eating/pig/00_pig1524.jpg  \n",
            "  inflating: pig_data/train/not-eating/pig/00_pig1525.jpg  \n",
            "  inflating: pig_data/train/not-eating/pig/00_pig1526.jpg  \n",
            "  inflating: pig_data/train/not-eating/pig/00_pig1527.jpg  \n",
            "  inflating: pig_data/train/not-eating/pig/00_pig1528.jpg  \n",
            "  inflating: pig_data/train/not-eating/pig/00_pig1529.jpg  \n",
            "  inflating: pig_data/train/not-eating/pig/00_pig153.jpg  \n",
            "  inflating: pig_data/train/not-eating/pig/00_pig1530.jpg  \n",
            "  inflating: pig_data/train/not-eating/pig/00_pig1531.jpg  \n",
            "  inflating: pig_data/train/not-eating/pig/00_pig1532.jpg  \n",
            "  inflating: pig_data/train/not-eating/pig/00_pig1533.jpg  \n",
            "  inflating: pig_data/train/not-eating/pig/00_pig1534.jpg  \n",
            "  inflating: pig_data/train/not-eating/pig/00_pig1535.jpg  \n",
            "  inflating: pig_data/train/not-eating/pig/00_pig1536.jpg  \n",
            "  inflating: pig_data/train/not-eating/pig/00_pig1537.jpg  \n",
            "  inflating: pig_data/train/not-eating/pig/00_pig1538.jpg  \n",
            "  inflating: pig_data/train/not-eating/pig/00_pig1539.jpg  \n",
            "  inflating: pig_data/train/not-eating/pig/00_pig154.jpg  \n",
            "  inflating: pig_data/train/not-eating/pig/00_pig1540.jpg  \n",
            "  inflating: pig_data/train/not-eating/pig/00_pig1541.jpg  \n",
            "  inflating: pig_data/train/not-eating/pig/00_pig1542.jpg  \n",
            "  inflating: pig_data/train/not-eating/pig/00_pig1543.jpg  \n",
            "  inflating: pig_data/train/not-eating/pig/00_pig1544.jpg  \n",
            "  inflating: pig_data/train/not-eating/pig/00_pig1545.jpg  \n",
            "  inflating: pig_data/train/not-eating/pig/00_pig1546.jpg  \n",
            "  inflating: pig_data/train/not-eating/pig/00_pig1547.jpg  \n",
            "  inflating: pig_data/train/not-eating/pig/00_pig1548.jpg  \n",
            "  inflating: pig_data/train/not-eating/pig/00_pig1549.jpg  \n",
            "  inflating: pig_data/train/not-eating/pig/00_pig155.jpg  \n",
            "  inflating: pig_data/train/not-eating/pig/00_pig1550.jpg  \n",
            "  inflating: pig_data/train/not-eating/pig/00_pig1551.jpg  \n",
            "  inflating: pig_data/train/not-eating/pig/00_pig1552.jpg  \n",
            "  inflating: pig_data/train/not-eating/pig/00_pig1553.jpg  \n",
            "  inflating: pig_data/train/not-eating/pig/00_pig1554.jpg  \n",
            "  inflating: pig_data/train/not-eating/pig/00_pig1555.jpg  \n",
            "  inflating: pig_data/train/not-eating/pig/00_pig1556.jpg  \n",
            "  inflating: pig_data/train/not-eating/pig/00_pig1557.jpg  \n",
            "  inflating: pig_data/train/not-eating/pig/00_pig1558.jpg  \n",
            "  inflating: pig_data/train/not-eating/pig/00_pig1559.jpg  \n",
            "  inflating: pig_data/train/not-eating/pig/00_pig156.jpg  \n",
            "  inflating: pig_data/train/not-eating/pig/00_pig1560.jpg  \n",
            "  inflating: pig_data/train/not-eating/pig/00_pig1561.jpg  \n",
            "  inflating: pig_data/train/not-eating/pig/00_pig1562.jpg  \n",
            "  inflating: pig_data/train/not-eating/pig/00_pig1563.jpg  \n",
            "  inflating: pig_data/train/not-eating/pig/00_pig1564.jpg  \n",
            "  inflating: pig_data/train/not-eating/pig/00_pig1565.jpg  \n",
            "  inflating: pig_data/train/not-eating/pig/00_pig1566.jpg  \n",
            "  inflating: pig_data/train/not-eating/pig/00_pig1567.jpg  \n",
            "  inflating: pig_data/train/not-eating/pig/00_pig1568.jpg  \n",
            "  inflating: pig_data/train/not-eating/pig/00_pig1569.jpg  \n",
            "  inflating: pig_data/train/not-eating/pig/00_pig157.jpg  \n",
            "  inflating: pig_data/train/not-eating/pig/00_pig1570.jpg  \n",
            "  inflating: pig_data/train/not-eating/pig/00_pig1571.jpg  \n",
            "  inflating: pig_data/train/not-eating/pig/00_pig1572.jpg  \n",
            "  inflating: pig_data/train/not-eating/pig/00_pig1573.jpg  \n",
            "  inflating: pig_data/train/not-eating/pig/00_pig1574.jpg  \n",
            "  inflating: pig_data/train/not-eating/pig/00_pig1575.jpg  \n",
            "  inflating: pig_data/train/not-eating/pig/00_pig1576.jpg  \n",
            "  inflating: pig_data/train/not-eating/pig/00_pig1577.jpg  \n",
            "  inflating: pig_data/train/not-eating/pig/00_pig1578.jpg  \n",
            "  inflating: pig_data/train/not-eating/pig/00_pig1579.jpg  \n",
            "  inflating: pig_data/train/not-eating/pig/00_pig158.jpg  \n",
            "  inflating: pig_data/train/not-eating/pig/00_pig1580.jpg  \n",
            "  inflating: pig_data/train/not-eating/pig/00_pig1581.jpg  \n",
            "  inflating: pig_data/train/not-eating/pig/00_pig1582.jpg  \n",
            "  inflating: pig_data/train/not-eating/pig/00_pig1583.jpg  \n",
            "  inflating: pig_data/train/not-eating/pig/00_pig1584.jpg  \n",
            "  inflating: pig_data/train/not-eating/pig/00_pig1585.jpg  \n",
            "  inflating: pig_data/train/not-eating/pig/00_pig1586.jpg  \n",
            "  inflating: pig_data/train/not-eating/pig/00_pig1587.jpg  \n",
            "  inflating: pig_data/train/not-eating/pig/00_pig1588.jpg  \n",
            "  inflating: pig_data/train/not-eating/pig/00_pig1589.jpg  \n",
            "  inflating: pig_data/train/not-eating/pig/00_pig159.jpg  \n",
            "  inflating: pig_data/train/not-eating/pig/00_pig1590.jpg  \n",
            "  inflating: pig_data/train/not-eating/pig/00_pig1591.jpg  \n",
            "  inflating: pig_data/train/not-eating/pig/00_pig1592.jpg  \n",
            "  inflating: pig_data/train/not-eating/pig/00_pig1593.jpg  \n",
            "  inflating: pig_data/train/not-eating/pig/00_pig1594.jpg  \n",
            "  inflating: pig_data/train/not-eating/pig/00_pig1595.jpg  \n",
            "  inflating: pig_data/train/not-eating/pig/00_pig1596.jpg  \n",
            "  inflating: pig_data/train/not-eating/pig/00_pig1597.jpg  \n",
            "  inflating: pig_data/train/not-eating/pig/00_pig1598.jpg  \n",
            "  inflating: pig_data/train/not-eating/pig/00_pig1599.jpg  \n",
            "  inflating: pig_data/train/not-eating/pig/00_pig16.jpg  \n",
            "  inflating: pig_data/train/not-eating/pig/00_pig160.jpg  \n",
            "  inflating: pig_data/train/not-eating/pig/00_pig1600.jpg  \n",
            "  inflating: pig_data/train/not-eating/pig/00_pig1601.jpg  \n",
            "  inflating: pig_data/train/not-eating/pig/00_pig1602.jpg  \n",
            "  inflating: pig_data/train/not-eating/pig/00_pig1603.jpg  \n",
            "  inflating: pig_data/train/not-eating/pig/00_pig1604.jpg  \n",
            "  inflating: pig_data/train/not-eating/pig/00_pig1605.jpg  \n",
            "  inflating: pig_data/train/not-eating/pig/00_pig1606.jpg  \n",
            "  inflating: pig_data/train/not-eating/pig/00_pig1607.jpg  \n",
            "  inflating: pig_data/train/not-eating/pig/00_pig1608.jpg  \n",
            "  inflating: pig_data/train/not-eating/pig/00_pig1609.jpg  \n",
            "  inflating: pig_data/train/not-eating/pig/00_pig161.jpg  \n",
            "  inflating: pig_data/train/not-eating/pig/00_pig1610.jpg  \n",
            "  inflating: pig_data/train/not-eating/pig/00_pig1611.jpg  \n",
            "  inflating: pig_data/train/not-eating/pig/00_pig1612.jpg  \n",
            "  inflating: pig_data/train/not-eating/pig/00_pig1613.jpg  \n",
            "  inflating: pig_data/train/not-eating/pig/00_pig1614.jpg  \n",
            "  inflating: pig_data/train/not-eating/pig/00_pig1615.jpg  \n",
            "  inflating: pig_data/train/not-eating/pig/00_pig1616.jpg  \n",
            "  inflating: pig_data/train/not-eating/pig/00_pig1617.jpg  \n",
            "  inflating: pig_data/train/not-eating/pig/00_pig1618.jpg  \n",
            "  inflating: pig_data/train/not-eating/pig/00_pig1619.jpg  \n",
            "  inflating: pig_data/train/not-eating/pig/00_pig162.jpg  \n",
            "  inflating: pig_data/train/not-eating/pig/00_pig1620.jpg  \n",
            "  inflating: pig_data/train/not-eating/pig/00_pig1621.jpg  \n",
            "  inflating: pig_data/train/not-eating/pig/00_pig1622.jpg  \n",
            "  inflating: pig_data/train/not-eating/pig/00_pig1623.jpg  \n",
            "  inflating: pig_data/train/not-eating/pig/00_pig1624.jpg  \n",
            "  inflating: pig_data/train/not-eating/pig/00_pig1625.jpg  \n",
            "  inflating: pig_data/train/not-eating/pig/00_pig1626.jpg  \n",
            "  inflating: pig_data/train/not-eating/pig/00_pig1627.jpg  \n",
            "  inflating: pig_data/train/not-eating/pig/00_pig1628.jpg  \n",
            "  inflating: pig_data/train/not-eating/pig/00_pig1629.jpg  \n",
            "  inflating: pig_data/train/not-eating/pig/00_pig163.jpg  \n",
            "  inflating: pig_data/train/not-eating/pig/00_pig1630.jpg  \n",
            "  inflating: pig_data/train/not-eating/pig/00_pig1631.jpg  \n",
            "  inflating: pig_data/train/not-eating/pig/00_pig1632.jpg  \n",
            "  inflating: pig_data/train/not-eating/pig/00_pig1633.jpg  \n",
            "  inflating: pig_data/train/not-eating/pig/00_pig1634.jpg  \n",
            "  inflating: pig_data/train/not-eating/pig/00_pig1635.jpg  \n",
            "  inflating: pig_data/train/not-eating/pig/00_pig1636.jpg  \n",
            "  inflating: pig_data/train/not-eating/pig/00_pig1637.jpg  \n",
            "  inflating: pig_data/train/not-eating/pig/00_pig1638.jpg  \n",
            "  inflating: pig_data/train/not-eating/pig/00_pig1639.jpg  \n",
            "  inflating: pig_data/train/not-eating/pig/00_pig164.jpg  \n",
            "  inflating: pig_data/train/not-eating/pig/00_pig1640.jpg  \n",
            "  inflating: pig_data/train/not-eating/pig/00_pig1641.jpg  \n",
            "  inflating: pig_data/train/not-eating/pig/00_pig1642.jpg  \n",
            "  inflating: pig_data/train/not-eating/pig/00_pig1643.jpg  \n",
            "  inflating: pig_data/train/not-eating/pig/00_pig1644.jpg  \n",
            "  inflating: pig_data/train/not-eating/pig/00_pig1645.jpg  \n",
            "  inflating: pig_data/train/not-eating/pig/00_pig1646.jpg  \n",
            "  inflating: pig_data/train/not-eating/pig/00_pig1647.jpg  \n",
            "  inflating: pig_data/train/not-eating/pig/00_pig1648.jpg  \n",
            "  inflating: pig_data/train/not-eating/pig/00_pig1649.jpg  \n",
            "  inflating: pig_data/train/not-eating/pig/00_pig165.jpg  \n",
            "  inflating: pig_data/train/not-eating/pig/00_pig1650.jpg  \n",
            "  inflating: pig_data/train/not-eating/pig/00_pig1651.jpg  \n",
            "  inflating: pig_data/train/not-eating/pig/00_pig1652.jpg  \n",
            "  inflating: pig_data/train/not-eating/pig/00_pig1653.jpg  \n",
            "  inflating: pig_data/train/not-eating/pig/00_pig1654.jpg  \n",
            "  inflating: pig_data/train/not-eating/pig/00_pig1655.jpg  \n",
            "  inflating: pig_data/train/not-eating/pig/00_pig1656.jpg  \n",
            "  inflating: pig_data/train/not-eating/pig/00_pig1657.jpg  \n",
            "  inflating: pig_data/train/not-eating/pig/00_pig1658.jpg  \n",
            "  inflating: pig_data/train/not-eating/pig/00_pig1659.jpg  \n",
            "  inflating: pig_data/train/not-eating/pig/00_pig166.jpg  \n",
            "  inflating: pig_data/train/not-eating/pig/00_pig1660.jpg  \n",
            "  inflating: pig_data/train/not-eating/pig/00_pig1661.jpg  \n",
            "  inflating: pig_data/train/not-eating/pig/00_pig1662.jpg  \n",
            "  inflating: pig_data/train/not-eating/pig/00_pig1663.jpg  \n",
            "  inflating: pig_data/train/not-eating/pig/00_pig1664.jpg  \n",
            "  inflating: pig_data/train/not-eating/pig/00_pig1665.jpg  \n",
            "  inflating: pig_data/train/not-eating/pig/00_pig1666.jpg  \n",
            "  inflating: pig_data/train/not-eating/pig/00_pig1667.jpg  \n",
            "  inflating: pig_data/train/not-eating/pig/00_pig1668.jpg  \n",
            "  inflating: pig_data/train/not-eating/pig/00_pig1669.jpg  \n",
            "  inflating: pig_data/train/not-eating/pig/00_pig167.jpg  \n",
            "  inflating: pig_data/train/not-eating/pig/00_pig1670.jpg  \n",
            "  inflating: pig_data/train/not-eating/pig/00_pig1671.jpg  \n",
            "  inflating: pig_data/train/not-eating/pig/00_pig1672.jpg  \n",
            "  inflating: pig_data/train/not-eating/pig/00_pig1673.jpg  \n",
            "  inflating: pig_data/train/not-eating/pig/00_pig1674.jpg  \n",
            "  inflating: pig_data/train/not-eating/pig/00_pig1675.jpg  \n",
            "  inflating: pig_data/train/not-eating/pig/00_pig1676.jpg  \n",
            "  inflating: pig_data/train/not-eating/pig/00_pig1677.jpg  \n",
            "  inflating: pig_data/train/not-eating/pig/00_pig1678.jpg  \n",
            "  inflating: pig_data/train/not-eating/pig/00_pig1679.jpg  \n",
            "  inflating: pig_data/train/not-eating/pig/00_pig168.jpg  \n",
            "  inflating: pig_data/train/not-eating/pig/00_pig1680.jpg  \n",
            "  inflating: pig_data/train/not-eating/pig/00_pig1681.jpg  \n",
            "  inflating: pig_data/train/not-eating/pig/00_pig1682.jpg  \n",
            "  inflating: pig_data/train/not-eating/pig/00_pig1683.jpg  \n",
            "  inflating: pig_data/train/not-eating/pig/00_pig1684.jpg  \n",
            "  inflating: pig_data/train/not-eating/pig/00_pig1685.jpg  \n",
            "  inflating: pig_data/train/not-eating/pig/00_pig1686.jpg  \n",
            "  inflating: pig_data/train/not-eating/pig/00_pig1687.jpg  \n",
            "  inflating: pig_data/train/not-eating/pig/00_pig1688.jpg  \n",
            "  inflating: pig_data/train/not-eating/pig/00_pig1689.jpg  \n",
            "  inflating: pig_data/train/not-eating/pig/00_pig169.jpg  \n",
            "  inflating: pig_data/train/not-eating/pig/00_pig1690.jpg  \n",
            "  inflating: pig_data/train/not-eating/pig/00_pig1691.jpg  \n",
            "  inflating: pig_data/train/not-eating/pig/00_pig1692.jpg  \n",
            "  inflating: pig_data/train/not-eating/pig/00_pig1693.jpg  \n",
            "  inflating: pig_data/train/not-eating/pig/00_pig1694.jpg  \n",
            "  inflating: pig_data/train/not-eating/pig/00_pig1695.jpg  \n",
            "  inflating: pig_data/train/not-eating/pig/00_pig1696.jpg  \n",
            "  inflating: pig_data/train/not-eating/pig/00_pig1697.jpg  \n",
            "  inflating: pig_data/train/not-eating/pig/00_pig1698.jpg  \n",
            "  inflating: pig_data/train/not-eating/pig/00_pig1699.jpg  \n",
            "  inflating: pig_data/train/not-eating/pig/00_pig17.jpg  \n",
            "  inflating: pig_data/train/not-eating/pig/00_pig170.jpg  \n",
            "  inflating: pig_data/train/not-eating/pig/00_pig1700.jpg  \n",
            "  inflating: pig_data/train/not-eating/pig/00_pig1701.jpg  \n",
            "  inflating: pig_data/train/not-eating/pig/00_pig1702.jpg  \n",
            "  inflating: pig_data/train/not-eating/pig/00_pig1703.jpg  \n",
            "  inflating: pig_data/train/not-eating/pig/00_pig1704.jpg  \n",
            "  inflating: pig_data/train/not-eating/pig/00_pig1705.jpg  \n",
            "  inflating: pig_data/train/not-eating/pig/00_pig1706.jpg  \n",
            "  inflating: pig_data/train/not-eating/pig/00_pig1707.jpg  \n",
            "  inflating: pig_data/train/not-eating/pig/00_pig1708.jpg  \n",
            "  inflating: pig_data/train/not-eating/pig/00_pig1709.jpg  \n",
            "  inflating: pig_data/train/not-eating/pig/00_pig171.jpg  \n",
            "  inflating: pig_data/train/not-eating/pig/00_pig1710.jpg  \n",
            "  inflating: pig_data/train/not-eating/pig/00_pig1711.jpg  \n",
            "  inflating: pig_data/train/not-eating/pig/00_pig1712.jpg  \n",
            "  inflating: pig_data/train/not-eating/pig/00_pig1713.jpg  \n",
            "  inflating: pig_data/train/not-eating/pig/00_pig1714.jpg  \n",
            "  inflating: pig_data/train/not-eating/pig/00_pig1715.jpg  \n",
            "  inflating: pig_data/train/not-eating/pig/00_pig1716.jpg  \n",
            "  inflating: pig_data/train/not-eating/pig/00_pig1717.jpg  \n",
            "  inflating: pig_data/train/not-eating/pig/00_pig1718.jpg  \n",
            "  inflating: pig_data/train/not-eating/pig/00_pig1719.jpg  \n",
            "  inflating: pig_data/train/not-eating/pig/00_pig172.jpg  \n",
            "  inflating: pig_data/train/not-eating/pig/00_pig1720.jpg  \n",
            "  inflating: pig_data/train/not-eating/pig/00_pig1721.jpg  \n",
            "  inflating: pig_data/train/not-eating/pig/00_pig1722.jpg  \n",
            "  inflating: pig_data/train/not-eating/pig/00_pig1723.jpg  \n",
            "  inflating: pig_data/train/not-eating/pig/00_pig1724.jpg  \n",
            "  inflating: pig_data/train/not-eating/pig/00_pig1725.jpg  \n",
            "  inflating: pig_data/train/not-eating/pig/00_pig1726.jpg  \n",
            "  inflating: pig_data/train/not-eating/pig/00_pig1727.jpg  \n",
            "  inflating: pig_data/train/not-eating/pig/00_pig1728.jpg  \n",
            "  inflating: pig_data/train/not-eating/pig/00_pig1729.jpg  \n",
            "  inflating: pig_data/train/not-eating/pig/00_pig173.jpg  \n",
            "  inflating: pig_data/train/not-eating/pig/00_pig1730.jpg  \n",
            "  inflating: pig_data/train/not-eating/pig/00_pig1731.jpg  \n",
            "  inflating: pig_data/train/not-eating/pig/00_pig1732.jpg  \n",
            "  inflating: pig_data/train/not-eating/pig/00_pig1733.jpg  \n",
            "  inflating: pig_data/train/not-eating/pig/00_pig1734.jpg  \n",
            "  inflating: pig_data/train/not-eating/pig/00_pig1735.jpg  \n",
            "  inflating: pig_data/train/not-eating/pig/00_pig1736.jpg  \n",
            "  inflating: pig_data/train/not-eating/pig/00_pig1737.jpg  \n",
            "  inflating: pig_data/train/not-eating/pig/00_pig1738.jpg  \n",
            "  inflating: pig_data/train/not-eating/pig/00_pig1739.jpg  \n",
            "  inflating: pig_data/train/not-eating/pig/00_pig174.jpg  \n",
            "  inflating: pig_data/train/not-eating/pig/00_pig1740.jpg  \n",
            "  inflating: pig_data/train/not-eating/pig/00_pig1741.jpg  \n",
            "  inflating: pig_data/train/not-eating/pig/00_pig1742.jpg  \n",
            "  inflating: pig_data/train/not-eating/pig/00_pig1743.jpg  \n",
            "  inflating: pig_data/train/not-eating/pig/00_pig1744.jpg  \n",
            "  inflating: pig_data/train/not-eating/pig/00_pig1745.jpg  \n",
            "  inflating: pig_data/train/not-eating/pig/00_pig1746.jpg  \n",
            "  inflating: pig_data/train/not-eating/pig/00_pig1747.jpg  \n",
            "  inflating: pig_data/train/not-eating/pig/00_pig1748.jpg  \n",
            "  inflating: pig_data/train/not-eating/pig/00_pig1749.jpg  \n",
            "  inflating: pig_data/train/not-eating/pig/00_pig175.jpg  \n",
            "  inflating: pig_data/train/not-eating/pig/00_pig1750.jpg  \n",
            "  inflating: pig_data/train/not-eating/pig/00_pig1751.jpg  \n",
            "  inflating: pig_data/train/not-eating/pig/00_pig1752.jpg  \n",
            "  inflating: pig_data/train/not-eating/pig/00_pig1753.jpg  \n",
            "  inflating: pig_data/train/not-eating/pig/00_pig1754.jpg  \n",
            "  inflating: pig_data/train/not-eating/pig/00_pig1755.jpg  \n",
            "  inflating: pig_data/train/not-eating/pig/00_pig1756.jpg  \n",
            "  inflating: pig_data/train/not-eating/pig/00_pig1757.jpg  \n",
            "  inflating: pig_data/train/not-eating/pig/00_pig1758.jpg  \n",
            "  inflating: pig_data/train/not-eating/pig/00_pig1759.jpg  \n",
            "  inflating: pig_data/train/not-eating/pig/00_pig176.jpg  \n",
            "  inflating: pig_data/train/not-eating/pig/00_pig1760.jpg  \n",
            "  inflating: pig_data/train/not-eating/pig/00_pig1761.jpg  \n",
            "  inflating: pig_data/train/not-eating/pig/00_pig1762.jpg  \n",
            "  inflating: pig_data/train/not-eating/pig/00_pig1763.jpg  \n",
            "  inflating: pig_data/train/not-eating/pig/00_pig1764.jpg  \n",
            "  inflating: pig_data/train/not-eating/pig/00_pig1765.jpg  \n",
            "  inflating: pig_data/train/not-eating/pig/00_pig1766.jpg  \n",
            "  inflating: pig_data/train/not-eating/pig/00_pig1767.jpg  \n",
            "  inflating: pig_data/train/not-eating/pig/00_pig1768.jpg  \n",
            "  inflating: pig_data/train/not-eating/pig/00_pig1769.jpg  \n",
            "  inflating: pig_data/train/not-eating/pig/00_pig177.jpg  \n",
            "  inflating: pig_data/train/not-eating/pig/00_pig1770.jpg  \n",
            "  inflating: pig_data/train/not-eating/pig/00_pig1771.jpg  \n",
            "  inflating: pig_data/train/not-eating/pig/00_pig1772.jpg  \n",
            "  inflating: pig_data/train/not-eating/pig/00_pig1773.jpg  \n",
            "  inflating: pig_data/train/not-eating/pig/00_pig1774.jpg  \n",
            "  inflating: pig_data/train/not-eating/pig/00_pig1775.jpg  \n",
            "  inflating: pig_data/train/not-eating/pig/00_pig1776.jpg  \n",
            "  inflating: pig_data/train/not-eating/pig/00_pig1777.jpg  \n",
            "  inflating: pig_data/train/not-eating/pig/00_pig1778.jpg  \n",
            "  inflating: pig_data/train/not-eating/pig/00_pig1779.jpg  \n",
            "  inflating: pig_data/train/not-eating/pig/00_pig178.jpg  \n",
            "  inflating: pig_data/train/not-eating/pig/00_pig1780.jpg  \n",
            "  inflating: pig_data/train/not-eating/pig/00_pig1781.jpg  \n",
            "  inflating: pig_data/train/not-eating/pig/00_pig1782.jpg  \n",
            "  inflating: pig_data/train/not-eating/pig/00_pig1783.jpg  \n",
            "  inflating: pig_data/train/not-eating/pig/00_pig1784.jpg  \n",
            "  inflating: pig_data/train/not-eating/pig/00_pig1785.jpg  \n",
            "  inflating: pig_data/train/not-eating/pig/00_pig1786.jpg  \n",
            "  inflating: pig_data/train/not-eating/pig/00_pig1787.jpg  \n",
            "  inflating: pig_data/train/not-eating/pig/00_pig1788.jpg  \n",
            "  inflating: pig_data/train/not-eating/pig/00_pig1789.jpg  \n",
            "  inflating: pig_data/train/not-eating/pig/00_pig179.jpg  \n",
            "  inflating: pig_data/train/not-eating/pig/00_pig1790.jpg  \n",
            "  inflating: pig_data/train/not-eating/pig/00_pig1791.jpg  \n",
            "  inflating: pig_data/train/not-eating/pig/00_pig1792.jpg  \n",
            "  inflating: pig_data/train/not-eating/pig/00_pig1793.jpg  \n",
            "  inflating: pig_data/train/not-eating/pig/00_pig1794.jpg  \n",
            "  inflating: pig_data/train/not-eating/pig/00_pig1795.jpg  \n",
            "  inflating: pig_data/train/not-eating/pig/00_pig1796.jpg  \n",
            "  inflating: pig_data/train/not-eating/pig/00_pig1797.jpg  \n",
            "  inflating: pig_data/train/not-eating/pig/00_pig1798.jpg  \n",
            "  inflating: pig_data/train/not-eating/pig/00_pig1799.jpg  \n",
            "  inflating: pig_data/train/not-eating/pig/00_pig18.jpg  \n",
            "  inflating: pig_data/train/not-eating/pig/00_pig180.jpg  \n",
            "  inflating: pig_data/train/not-eating/pig/00_pig1800.jpg  \n",
            "  inflating: pig_data/train/not-eating/pig/00_pig1801.jpg  \n",
            "  inflating: pig_data/train/not-eating/pig/00_pig1802.jpg  \n",
            "  inflating: pig_data/train/not-eating/pig/00_pig1803.jpg  \n",
            "  inflating: pig_data/train/not-eating/pig/00_pig1804.jpg  \n",
            "  inflating: pig_data/train/not-eating/pig/00_pig1805.jpg  \n",
            "  inflating: pig_data/train/not-eating/pig/00_pig1806.jpg  \n",
            "  inflating: pig_data/train/not-eating/pig/00_pig1807.jpg  \n",
            "  inflating: pig_data/train/not-eating/pig/00_pig1808.jpg  \n",
            "  inflating: pig_data/train/not-eating/pig/00_pig1809.jpg  \n",
            "  inflating: pig_data/train/not-eating/pig/00_pig181.jpg  \n",
            "  inflating: pig_data/train/not-eating/pig/00_pig1810.jpg  \n",
            "  inflating: pig_data/train/not-eating/pig/00_pig1811.jpg  \n",
            "  inflating: pig_data/train/not-eating/pig/00_pig1812.jpg  \n",
            "  inflating: pig_data/train/not-eating/pig/00_pig1813.jpg  \n",
            "  inflating: pig_data/train/not-eating/pig/00_pig1814.jpg  \n",
            "  inflating: pig_data/train/not-eating/pig/00_pig1815.jpg  \n",
            "  inflating: pig_data/train/not-eating/pig/00_pig1816.jpg  \n",
            "  inflating: pig_data/train/not-eating/pig/00_pig1817.jpg  \n",
            "  inflating: pig_data/train/not-eating/pig/00_pig1818.jpg  \n",
            "  inflating: pig_data/train/not-eating/pig/00_pig1819.jpg  \n",
            "  inflating: pig_data/train/not-eating/pig/00_pig182.jpg  \n",
            "  inflating: pig_data/train/not-eating/pig/00_pig1820.jpg  \n",
            "  inflating: pig_data/train/not-eating/pig/00_pig1821.jpg  \n",
            "  inflating: pig_data/train/not-eating/pig/00_pig1822.jpg  \n",
            "  inflating: pig_data/train/not-eating/pig/00_pig1823.jpg  \n",
            "  inflating: pig_data/train/not-eating/pig/00_pig1824.jpg  \n",
            "  inflating: pig_data/train/not-eating/pig/00_pig1825.jpg  \n",
            "  inflating: pig_data/train/not-eating/pig/00_pig1826.jpg  \n",
            "  inflating: pig_data/train/not-eating/pig/00_pig1827.jpg  \n",
            "  inflating: pig_data/train/not-eating/pig/00_pig1828.jpg  \n",
            "  inflating: pig_data/train/not-eating/pig/00_pig1829.jpg  \n",
            "  inflating: pig_data/train/not-eating/pig/00_pig183.jpg  \n",
            "  inflating: pig_data/train/not-eating/pig/00_pig1830.jpg  \n",
            "  inflating: pig_data/train/not-eating/pig/00_pig1831.jpg  \n",
            "  inflating: pig_data/train/not-eating/pig/00_pig1832.jpg  \n",
            "  inflating: pig_data/train/not-eating/pig/00_pig1833.jpg  \n",
            "  inflating: pig_data/train/not-eating/pig/00_pig1834.jpg  \n",
            "  inflating: pig_data/train/not-eating/pig/00_pig1835.jpg  \n",
            "  inflating: pig_data/train/not-eating/pig/00_pig1836.jpg  \n",
            "  inflating: pig_data/train/not-eating/pig/00_pig1837.jpg  \n",
            "  inflating: pig_data/train/not-eating/pig/00_pig1838.jpg  \n",
            "  inflating: pig_data/train/not-eating/pig/00_pig1839.jpg  \n",
            "  inflating: pig_data/train/not-eating/pig/00_pig184.jpg  \n",
            "  inflating: pig_data/train/not-eating/pig/00_pig1840.jpg  \n",
            "  inflating: pig_data/train/not-eating/pig/00_pig1841.jpg  \n",
            "  inflating: pig_data/train/not-eating/pig/00_pig1842.jpg  \n",
            "  inflating: pig_data/train/not-eating/pig/00_pig1843.jpg  \n",
            "  inflating: pig_data/train/not-eating/pig/00_pig1844.jpg  \n",
            "  inflating: pig_data/train/not-eating/pig/00_pig1845.jpg  \n",
            "  inflating: pig_data/train/not-eating/pig/00_pig1846.jpg  \n",
            "  inflating: pig_data/train/not-eating/pig/00_pig1847.jpg  \n",
            "  inflating: pig_data/train/not-eating/pig/00_pig1848.jpg  \n",
            "  inflating: pig_data/train/not-eating/pig/00_pig1849.jpg  \n",
            "  inflating: pig_data/train/not-eating/pig/00_pig185.jpg  \n",
            "  inflating: pig_data/train/not-eating/pig/00_pig1850.jpg  \n",
            "  inflating: pig_data/train/not-eating/pig/00_pig1851.jpg  \n",
            "  inflating: pig_data/train/not-eating/pig/00_pig1852.jpg  \n",
            "  inflating: pig_data/train/not-eating/pig/00_pig1853.jpg  \n",
            "  inflating: pig_data/train/not-eating/pig/00_pig1854.jpg  \n",
            "  inflating: pig_data/train/not-eating/pig/00_pig1855.jpg  \n",
            "  inflating: pig_data/train/not-eating/pig/00_pig1856.jpg  \n",
            "  inflating: pig_data/train/not-eating/pig/00_pig1857.jpg  \n",
            "  inflating: pig_data/train/not-eating/pig/00_pig1858.jpg  \n",
            "  inflating: pig_data/train/not-eating/pig/00_pig1859.jpg  \n",
            "  inflating: pig_data/train/not-eating/pig/00_pig186.jpg  \n",
            "  inflating: pig_data/train/not-eating/pig/00_pig1860.jpg  \n",
            "  inflating: pig_data/train/not-eating/pig/00_pig1861.jpg  \n",
            "  inflating: pig_data/train/not-eating/pig/00_pig1862.jpg  \n",
            "  inflating: pig_data/train/not-eating/pig/00_pig1863.jpg  \n",
            "  inflating: pig_data/train/not-eating/pig/00_pig1864.jpg  \n",
            "  inflating: pig_data/train/not-eating/pig/00_pig1865.jpg  \n",
            "  inflating: pig_data/train/not-eating/pig/00_pig1866.jpg  \n",
            "  inflating: pig_data/train/not-eating/pig/00_pig1867.jpg  \n",
            "  inflating: pig_data/train/not-eating/pig/00_pig1868.jpg  \n",
            "  inflating: pig_data/train/not-eating/pig/00_pig1869.jpg  \n",
            "  inflating: pig_data/train/not-eating/pig/00_pig187.jpg  \n",
            "  inflating: pig_data/train/not-eating/pig/00_pig1870.jpg  \n",
            "  inflating: pig_data/train/not-eating/pig/00_pig1871.jpg  \n",
            "  inflating: pig_data/train/not-eating/pig/00_pig1872.jpg  \n",
            "  inflating: pig_data/train/not-eating/pig/00_pig1873.jpg  \n",
            "  inflating: pig_data/train/not-eating/pig/00_pig1874.jpg  \n",
            "  inflating: pig_data/train/not-eating/pig/00_pig1875.jpg  \n",
            "  inflating: pig_data/train/not-eating/pig/00_pig1876.jpg  \n",
            "  inflating: pig_data/train/not-eating/pig/00_pig1877.jpg  \n",
            "  inflating: pig_data/train/not-eating/pig/00_pig1878.jpg  \n",
            "  inflating: pig_data/train/not-eating/pig/00_pig1879.jpg  \n",
            "  inflating: pig_data/train/not-eating/pig/00_pig188.jpg  \n",
            "  inflating: pig_data/train/not-eating/pig/00_pig1880.jpg  \n",
            "  inflating: pig_data/train/not-eating/pig/00_pig1881.jpg  \n",
            "  inflating: pig_data/train/not-eating/pig/00_pig1882.jpg  \n",
            "  inflating: pig_data/train/not-eating/pig/00_pig1883.jpg  \n",
            "  inflating: pig_data/train/not-eating/pig/00_pig1884.jpg  \n",
            "  inflating: pig_data/train/not-eating/pig/00_pig1885.jpg  \n",
            "  inflating: pig_data/train/not-eating/pig/00_pig1886.jpg  \n",
            "  inflating: pig_data/train/not-eating/pig/00_pig1887.jpg  \n",
            "  inflating: pig_data/train/not-eating/pig/00_pig1888.jpg  \n",
            "  inflating: pig_data/train/not-eating/pig/00_pig1889.jpg  \n",
            "  inflating: pig_data/train/not-eating/pig/00_pig189.jpg  \n",
            "  inflating: pig_data/train/not-eating/pig/00_pig1890.jpg  \n",
            "  inflating: pig_data/train/not-eating/pig/00_pig1891.jpg  \n",
            "  inflating: pig_data/train/not-eating/pig/00_pig1892.jpg  \n",
            "  inflating: pig_data/train/not-eating/pig/00_pig1893.jpg  \n",
            "  inflating: pig_data/train/not-eating/pig/00_pig1894.jpg  \n",
            "  inflating: pig_data/train/not-eating/pig/00_pig1895.jpg  \n",
            "  inflating: pig_data/train/not-eating/pig/00_pig1896.jpg  \n",
            "  inflating: pig_data/train/not-eating/pig/00_pig1897.jpg  \n",
            "  inflating: pig_data/train/not-eating/pig/00_pig1898.jpg  \n",
            "  inflating: pig_data/train/not-eating/pig/00_pig1899.jpg  \n",
            "  inflating: pig_data/train/not-eating/pig/00_pig19.jpg  \n",
            "  inflating: pig_data/train/not-eating/pig/00_pig190.jpg  \n",
            "  inflating: pig_data/train/not-eating/pig/00_pig1900.jpg  \n",
            "  inflating: pig_data/train/not-eating/pig/00_pig1901.jpg  \n",
            "  inflating: pig_data/train/not-eating/pig/00_pig1902.jpg  \n",
            "  inflating: pig_data/train/not-eating/pig/00_pig1903.jpg  \n",
            "  inflating: pig_data/train/not-eating/pig/00_pig1904.jpg  \n",
            "  inflating: pig_data/train/not-eating/pig/00_pig1905.jpg  \n",
            "  inflating: pig_data/train/not-eating/pig/00_pig1906.jpg  \n",
            "  inflating: pig_data/train/not-eating/pig/00_pig1907.jpg  \n",
            "  inflating: pig_data/train/not-eating/pig/00_pig1908.jpg  \n",
            "  inflating: pig_data/train/not-eating/pig/00_pig1909.jpg  \n",
            "  inflating: pig_data/train/not-eating/pig/00_pig191.jpg  \n",
            "  inflating: pig_data/train/not-eating/pig/00_pig1910.jpg  \n",
            "  inflating: pig_data/train/not-eating/pig/00_pig1911.jpg  \n",
            "  inflating: pig_data/train/not-eating/pig/00_pig1912.jpg  \n",
            "  inflating: pig_data/train/not-eating/pig/00_pig1913.jpg  \n",
            "  inflating: pig_data/train/not-eating/pig/00_pig1914.jpg  \n",
            "  inflating: pig_data/train/not-eating/pig/00_pig1915.jpg  \n",
            "  inflating: pig_data/train/not-eating/pig/00_pig1916.jpg  \n",
            "  inflating: pig_data/train/not-eating/pig/00_pig1917.jpg  \n",
            "  inflating: pig_data/train/not-eating/pig/00_pig1918.jpg  \n",
            "  inflating: pig_data/train/not-eating/pig/00_pig1919.jpg  \n",
            "  inflating: pig_data/train/not-eating/pig/00_pig192.jpg  \n",
            "  inflating: pig_data/train/not-eating/pig/00_pig1920.jpg  \n",
            "  inflating: pig_data/train/not-eating/pig/00_pig1921.jpg  \n",
            "  inflating: pig_data/train/not-eating/pig/00_pig1922.jpg  \n",
            "  inflating: pig_data/train/not-eating/pig/00_pig1923.jpg  \n",
            "  inflating: pig_data/train/not-eating/pig/00_pig1924.jpg  \n",
            "  inflating: pig_data/train/not-eating/pig/00_pig1925.jpg  \n",
            "  inflating: pig_data/train/not-eating/pig/00_pig1926.jpg  \n",
            "  inflating: pig_data/train/not-eating/pig/00_pig1927.jpg  \n",
            "  inflating: pig_data/train/not-eating/pig/00_pig1928.jpg  \n",
            "  inflating: pig_data/train/not-eating/pig/00_pig1929.jpg  \n",
            "  inflating: pig_data/train/not-eating/pig/00_pig193.jpg  \n",
            "  inflating: pig_data/train/not-eating/pig/00_pig1930.jpg  \n",
            "  inflating: pig_data/train/not-eating/pig/00_pig1931.jpg  \n",
            "  inflating: pig_data/train/not-eating/pig/00_pig1932.jpg  \n",
            "  inflating: pig_data/train/not-eating/pig/00_pig1933.jpg  \n",
            "  inflating: pig_data/train/not-eating/pig/00_pig1934.jpg  \n",
            "  inflating: pig_data/train/not-eating/pig/00_pig1935.jpg  \n",
            "  inflating: pig_data/train/not-eating/pig/00_pig1936.jpg  \n",
            "  inflating: pig_data/train/not-eating/pig/00_pig1937.jpg  \n",
            "  inflating: pig_data/train/not-eating/pig/00_pig1938.jpg  \n",
            "  inflating: pig_data/train/not-eating/pig/00_pig1939.jpg  \n",
            "  inflating: pig_data/train/not-eating/pig/00_pig194.jpg  \n",
            "  inflating: pig_data/train/not-eating/pig/00_pig1940.jpg  \n",
            "  inflating: pig_data/train/not-eating/pig/00_pig1941.jpg  \n",
            "  inflating: pig_data/train/not-eating/pig/00_pig1942.jpg  \n",
            "  inflating: pig_data/train/not-eating/pig/00_pig1943.jpg  \n",
            "  inflating: pig_data/train/not-eating/pig/00_pig1944.jpg  \n",
            "  inflating: pig_data/train/not-eating/pig/00_pig1945.jpg  \n",
            "  inflating: pig_data/train/not-eating/pig/00_pig1946.jpg  \n",
            "  inflating: pig_data/train/not-eating/pig/00_pig1947.jpg  \n",
            "  inflating: pig_data/train/not-eating/pig/00_pig1948.jpg  \n",
            "  inflating: pig_data/train/not-eating/pig/00_pig1949.jpg  \n",
            "  inflating: pig_data/train/not-eating/pig/00_pig195.jpg  \n",
            "  inflating: pig_data/train/not-eating/pig/00_pig1950.jpg  \n",
            "  inflating: pig_data/train/not-eating/pig/00_pig1951.jpg  \n",
            "  inflating: pig_data/train/not-eating/pig/00_pig1952.jpg  \n",
            "  inflating: pig_data/train/not-eating/pig/00_pig1953.jpg  \n",
            "  inflating: pig_data/train/not-eating/pig/00_pig1954.jpg  \n",
            "  inflating: pig_data/train/not-eating/pig/00_pig1955.jpg  \n",
            "  inflating: pig_data/train/not-eating/pig/00_pig1956.jpg  \n",
            "  inflating: pig_data/train/not-eating/pig/00_pig1957.jpg  \n",
            "  inflating: pig_data/train/not-eating/pig/00_pig1958.jpg  \n",
            "  inflating: pig_data/train/not-eating/pig/00_pig1959.jpg  \n",
            "  inflating: pig_data/train/not-eating/pig/00_pig196.jpg  \n",
            "  inflating: pig_data/train/not-eating/pig/00_pig1960.jpg  \n",
            "  inflating: pig_data/train/not-eating/pig/00_pig1961.jpg  \n",
            "  inflating: pig_data/train/not-eating/pig/00_pig1962.jpg  \n",
            "  inflating: pig_data/train/not-eating/pig/00_pig1963.jpg  \n",
            "  inflating: pig_data/train/not-eating/pig/00_pig1964.jpg  \n",
            "  inflating: pig_data/train/not-eating/pig/00_pig1965.jpg  \n",
            "  inflating: pig_data/train/not-eating/pig/00_pig1966.jpg  \n",
            "  inflating: pig_data/train/not-eating/pig/00_pig1967.jpg  \n",
            "  inflating: pig_data/train/not-eating/pig/00_pig1968.jpg  \n",
            "  inflating: pig_data/train/not-eating/pig/00_pig1969.jpg  \n",
            "  inflating: pig_data/train/not-eating/pig/00_pig197.jpg  \n",
            "  inflating: pig_data/train/not-eating/pig/00_pig1970.jpg  \n",
            "  inflating: pig_data/train/not-eating/pig/00_pig1971.jpg  \n",
            "  inflating: pig_data/train/not-eating/pig/00_pig1972.jpg  \n",
            "  inflating: pig_data/train/not-eating/pig/00_pig1973.jpg  \n",
            "  inflating: pig_data/train/not-eating/pig/00_pig1974.jpg  \n",
            "  inflating: pig_data/train/not-eating/pig/00_pig1975.jpg  \n",
            "  inflating: pig_data/train/not-eating/pig/00_pig1976.jpg  \n",
            "  inflating: pig_data/train/not-eating/pig/00_pig1977.jpg  \n",
            "  inflating: pig_data/train/not-eating/pig/00_pig1978.jpg  \n",
            "  inflating: pig_data/train/not-eating/pig/00_pig1979.jpg  \n",
            "  inflating: pig_data/train/not-eating/pig/00_pig198.jpg  \n",
            "  inflating: pig_data/train/not-eating/pig/00_pig1980.jpg  \n",
            "  inflating: pig_data/train/not-eating/pig/00_pig1981.jpg  \n",
            "  inflating: pig_data/train/not-eating/pig/00_pig1982.jpg  \n",
            "  inflating: pig_data/train/not-eating/pig/00_pig1983.jpg  \n",
            "  inflating: pig_data/train/not-eating/pig/00_pig1984.jpg  \n",
            "  inflating: pig_data/train/not-eating/pig/00_pig1985.jpg  \n",
            "  inflating: pig_data/train/not-eating/pig/00_pig1986.jpg  \n",
            "  inflating: pig_data/train/not-eating/pig/00_pig1987.jpg  \n",
            "  inflating: pig_data/train/not-eating/pig/00_pig1988.jpg  \n",
            "  inflating: pig_data/train/not-eating/pig/00_pig1989.jpg  \n",
            "  inflating: pig_data/train/not-eating/pig/00_pig199.jpg  \n",
            "  inflating: pig_data/train/not-eating/pig/00_pig1990.jpg  \n",
            "  inflating: pig_data/train/not-eating/pig/00_pig1991.jpg  \n",
            "  inflating: pig_data/train/not-eating/pig/00_pig1992.jpg  \n",
            "  inflating: pig_data/train/not-eating/pig/00_pig1993.jpg  \n",
            "  inflating: pig_data/train/not-eating/pig/00_pig1994.jpg  \n",
            "  inflating: pig_data/train/not-eating/pig/00_pig1995.jpg  \n",
            "  inflating: pig_data/train/not-eating/pig/00_pig1996.jpg  \n",
            "  inflating: pig_data/train/not-eating/pig/00_pig1997.jpg  \n",
            "  inflating: pig_data/train/not-eating/pig/00_pig1998.jpg  \n",
            "  inflating: pig_data/train/not-eating/pig/00_pig1999.jpg  \n",
            "  inflating: pig_data/train/not-eating/pig/00_pig2.jpg  \n",
            "  inflating: pig_data/train/not-eating/pig/00_pig20.jpg  \n",
            "  inflating: pig_data/train/not-eating/pig/00_pig200.jpg  \n",
            "  inflating: pig_data/train/not-eating/pig/00_pig2000.jpg  \n",
            "  inflating: pig_data/train/not-eating/pig/00_pig2001.jpg  \n",
            "  inflating: pig_data/train/not-eating/pig/00_pig2002.jpg  \n",
            "  inflating: pig_data/train/not-eating/pig/00_pig2003.jpg  \n",
            "  inflating: pig_data/train/not-eating/pig/00_pig2004.jpg  \n",
            "  inflating: pig_data/train/not-eating/pig/00_pig2005.jpg  \n",
            "  inflating: pig_data/train/not-eating/pig/00_pig2006.jpg  \n",
            "  inflating: pig_data/train/not-eating/pig/00_pig2007.jpg  \n",
            "  inflating: pig_data/train/not-eating/pig/00_pig2008.jpg  \n",
            "  inflating: pig_data/train/not-eating/pig/00_pig2009.jpg  \n",
            "  inflating: pig_data/train/not-eating/pig/00_pig201.jpg  \n",
            "  inflating: pig_data/train/not-eating/pig/00_pig2010.jpg  \n",
            "  inflating: pig_data/train/not-eating/pig/00_pig2011.jpg  \n",
            "  inflating: pig_data/train/not-eating/pig/00_pig2012.jpg  \n",
            "  inflating: pig_data/train/not-eating/pig/00_pig2013.jpg  \n",
            "  inflating: pig_data/train/not-eating/pig/00_pig2014.jpg  \n",
            "  inflating: pig_data/train/not-eating/pig/00_pig2015.jpg  \n",
            "  inflating: pig_data/train/not-eating/pig/00_pig2016.jpg  \n",
            "  inflating: pig_data/train/not-eating/pig/00_pig2017.jpg  \n",
            "  inflating: pig_data/train/not-eating/pig/00_pig2018.jpg  \n",
            "  inflating: pig_data/train/not-eating/pig/00_pig2019.jpg  \n",
            "  inflating: pig_data/train/not-eating/pig/00_pig202.jpg  \n",
            "  inflating: pig_data/train/not-eating/pig/00_pig2020.jpg  \n",
            "  inflating: pig_data/train/not-eating/pig/00_pig2021.jpg  \n",
            "  inflating: pig_data/train/not-eating/pig/00_pig2022.jpg  \n",
            "  inflating: pig_data/train/not-eating/pig/00_pig2023.jpg  \n",
            "  inflating: pig_data/train/not-eating/pig/00_pig2024.jpg  \n",
            "  inflating: pig_data/train/not-eating/pig/00_pig2025.jpg  \n",
            "  inflating: pig_data/train/not-eating/pig/00_pig2026.jpg  \n",
            "  inflating: pig_data/train/not-eating/pig/00_pig2027.jpg  \n",
            "  inflating: pig_data/train/not-eating/pig/00_pig2028.jpg  \n",
            "  inflating: pig_data/train/not-eating/pig/00_pig2029.jpg  \n",
            "  inflating: pig_data/train/not-eating/pig/00_pig203.jpg  \n",
            "  inflating: pig_data/train/not-eating/pig/00_pig2030.jpg  \n",
            "  inflating: pig_data/train/not-eating/pig/00_pig2031.jpg  \n",
            "  inflating: pig_data/train/not-eating/pig/00_pig2032.jpg  \n",
            "  inflating: pig_data/train/not-eating/pig/00_pig2033.jpg  \n",
            "  inflating: pig_data/train/not-eating/pig/00_pig2034.jpg  \n",
            "  inflating: pig_data/train/not-eating/pig/00_pig2035.jpg  \n",
            "  inflating: pig_data/train/not-eating/pig/00_pig2036.jpg  \n",
            "  inflating: pig_data/train/not-eating/pig/00_pig2037.jpg  \n",
            "  inflating: pig_data/train/not-eating/pig/00_pig2038.jpg  \n",
            "  inflating: pig_data/train/not-eating/pig/00_pig2039.jpg  \n",
            "  inflating: pig_data/train/not-eating/pig/00_pig204.jpg  \n",
            "  inflating: pig_data/train/not-eating/pig/00_pig2040.jpg  \n",
            "  inflating: pig_data/train/not-eating/pig/00_pig2041.jpg  \n",
            "  inflating: pig_data/train/not-eating/pig/00_pig2042.jpg  \n",
            "  inflating: pig_data/train/not-eating/pig/00_pig2043.jpg  \n",
            "  inflating: pig_data/train/not-eating/pig/00_pig2044.jpg  \n",
            "  inflating: pig_data/train/not-eating/pig/00_pig2045.jpg  \n",
            "  inflating: pig_data/train/not-eating/pig/00_pig2046.jpg  \n",
            "  inflating: pig_data/train/not-eating/pig/00_pig2047.jpg  \n",
            "  inflating: pig_data/train/not-eating/pig/00_pig2048.jpg  \n",
            "  inflating: pig_data/train/not-eating/pig/00_pig2049.jpg  \n",
            "  inflating: pig_data/train/not-eating/pig/00_pig205.jpg  \n",
            "  inflating: pig_data/train/not-eating/pig/00_pig2050.jpg  \n",
            "  inflating: pig_data/train/not-eating/pig/00_pig2051.jpg  \n",
            "  inflating: pig_data/train/not-eating/pig/00_pig2052.jpg  \n",
            "  inflating: pig_data/train/not-eating/pig/00_pig2053.jpg  \n",
            "  inflating: pig_data/train/not-eating/pig/00_pig2054.jpg  \n",
            "  inflating: pig_data/train/not-eating/pig/00_pig2055.jpg  \n",
            "  inflating: pig_data/train/not-eating/pig/00_pig2056.jpg  \n",
            "  inflating: pig_data/train/not-eating/pig/00_pig2057.jpg  \n",
            "  inflating: pig_data/train/not-eating/pig/00_pig2058.jpg  \n",
            "  inflating: pig_data/train/not-eating/pig/00_pig2059.jpg  \n",
            "  inflating: pig_data/train/not-eating/pig/00_pig206.jpg  \n",
            "  inflating: pig_data/train/not-eating/pig/00_pig2060.jpg  \n",
            "  inflating: pig_data/train/not-eating/pig/00_pig2061.jpg  \n",
            "  inflating: pig_data/train/not-eating/pig/00_pig2062.jpg  \n",
            "  inflating: pig_data/train/not-eating/pig/00_pig2063.jpg  \n",
            "  inflating: pig_data/train/not-eating/pig/00_pig2064.jpg  \n",
            "  inflating: pig_data/train/not-eating/pig/00_pig2065.jpg  \n",
            "  inflating: pig_data/train/not-eating/pig/00_pig2066.jpg  \n",
            "  inflating: pig_data/train/not-eating/pig/00_pig2067.jpg  \n",
            "  inflating: pig_data/train/not-eating/pig/00_pig2068.jpg  \n",
            "  inflating: pig_data/train/not-eating/pig/00_pig2069.jpg  \n",
            "  inflating: pig_data/train/not-eating/pig/00_pig207.jpg  \n",
            "  inflating: pig_data/train/not-eating/pig/00_pig2070.jpg  \n",
            "  inflating: pig_data/train/not-eating/pig/00_pig2071.jpg  \n",
            "  inflating: pig_data/train/not-eating/pig/00_pig2072.jpg  \n",
            "  inflating: pig_data/train/not-eating/pig/00_pig2073.jpg  \n",
            "  inflating: pig_data/train/not-eating/pig/00_pig2074.jpg  \n",
            "  inflating: pig_data/train/not-eating/pig/00_pig2075.jpg  \n",
            "  inflating: pig_data/train/not-eating/pig/00_pig2076.jpg  \n",
            "  inflating: pig_data/train/not-eating/pig/00_pig2077.jpg  \n",
            "  inflating: pig_data/train/not-eating/pig/00_pig2078.jpg  \n",
            "  inflating: pig_data/train/not-eating/pig/00_pig2079.jpg  \n",
            "  inflating: pig_data/train/not-eating/pig/00_pig208.jpg  \n",
            "  inflating: pig_data/train/not-eating/pig/00_pig2080.jpg  \n",
            "  inflating: pig_data/train/not-eating/pig/00_pig2081.jpg  \n",
            "  inflating: pig_data/train/not-eating/pig/00_pig2082.jpg  \n",
            "  inflating: pig_data/train/not-eating/pig/00_pig2083.jpg  \n",
            "  inflating: pig_data/train/not-eating/pig/00_pig2084.jpg  \n",
            "  inflating: pig_data/train/not-eating/pig/00_pig2085.jpg  \n",
            "  inflating: pig_data/train/not-eating/pig/00_pig2086.jpg  \n",
            "  inflating: pig_data/train/not-eating/pig/00_pig2087.jpg  \n",
            "  inflating: pig_data/train/not-eating/pig/00_pig2088.jpg  \n",
            "  inflating: pig_data/train/not-eating/pig/00_pig2089.jpg  \n",
            "  inflating: pig_data/train/not-eating/pig/00_pig209.jpg  \n",
            "  inflating: pig_data/train/not-eating/pig/00_pig2090.jpg  \n",
            "  inflating: pig_data/train/not-eating/pig/00_pig2091.jpg  \n",
            "  inflating: pig_data/train/not-eating/pig/00_pig2092.jpg  \n",
            "  inflating: pig_data/train/not-eating/pig/00_pig2093.jpg  \n",
            "  inflating: pig_data/train/not-eating/pig/00_pig2094.jpg  \n",
            "  inflating: pig_data/train/not-eating/pig/00_pig2095.jpg  \n",
            "  inflating: pig_data/train/not-eating/pig/00_pig2096.jpg  \n",
            "  inflating: pig_data/train/not-eating/pig/00_pig2097.jpg  \n",
            "  inflating: pig_data/train/not-eating/pig/00_pig2098.jpg  \n",
            "  inflating: pig_data/train/not-eating/pig/00_pig2099.jpg  \n",
            "  inflating: pig_data/train/not-eating/pig/00_pig21.jpg  \n",
            "  inflating: pig_data/train/not-eating/pig/00_pig210.jpg  \n",
            "  inflating: pig_data/train/not-eating/pig/00_pig211.jpg  \n",
            "  inflating: pig_data/train/not-eating/pig/00_pig212.jpg  \n",
            "  inflating: pig_data/train/not-eating/pig/00_pig213.jpg  \n",
            "  inflating: pig_data/train/not-eating/pig/00_pig214.jpg  \n",
            "  inflating: pig_data/train/not-eating/pig/00_pig215.jpg  \n",
            "  inflating: pig_data/train/not-eating/pig/00_pig216.jpg  \n",
            "  inflating: pig_data/train/not-eating/pig/00_pig217.jpg  \n",
            "  inflating: pig_data/train/not-eating/pig/00_pig218.jpg  \n",
            "  inflating: pig_data/train/not-eating/pig/00_pig219.jpg  \n",
            "  inflating: pig_data/train/not-eating/pig/00_pig22.jpg  \n",
            "  inflating: pig_data/train/not-eating/pig/00_pig220.jpg  \n",
            "  inflating: pig_data/train/not-eating/pig/00_pig221.jpg  \n",
            "  inflating: pig_data/train/not-eating/pig/00_pig222.jpg  \n",
            "  inflating: pig_data/train/not-eating/pig/00_pig223.jpg  \n",
            "  inflating: pig_data/train/not-eating/pig/00_pig224.jpg  \n",
            "  inflating: pig_data/train/not-eating/pig/00_pig225.jpg  \n",
            "  inflating: pig_data/train/not-eating/pig/00_pig226.jpg  \n",
            "  inflating: pig_data/train/not-eating/pig/00_pig227.jpg  \n",
            "  inflating: pig_data/train/not-eating/pig/00_pig228.jpg  \n",
            "  inflating: pig_data/train/not-eating/pig/00_pig229.jpg  \n",
            "  inflating: pig_data/train/not-eating/pig/00_pig23.jpg  \n",
            "  inflating: pig_data/train/not-eating/pig/00_pig230.jpg  \n",
            "  inflating: pig_data/train/not-eating/pig/00_pig231.jpg  \n",
            "  inflating: pig_data/train/not-eating/pig/00_pig232.jpg  \n",
            "  inflating: pig_data/train/not-eating/pig/00_pig233.jpg  \n",
            "  inflating: pig_data/train/not-eating/pig/00_pig234.jpg  \n",
            "  inflating: pig_data/train/not-eating/pig/00_pig235.jpg  \n",
            "  inflating: pig_data/train/not-eating/pig/00_pig236.jpg  \n",
            "  inflating: pig_data/train/not-eating/pig/00_pig237.jpg  \n",
            "  inflating: pig_data/train/not-eating/pig/00_pig238.jpg  \n",
            "  inflating: pig_data/train/not-eating/pig/00_pig239.jpg  \n",
            "  inflating: pig_data/train/not-eating/pig/00_pig24.jpg  \n",
            "  inflating: pig_data/train/not-eating/pig/00_pig240.jpg  \n",
            "  inflating: pig_data/train/not-eating/pig/00_pig241.jpg  \n",
            "  inflating: pig_data/train/not-eating/pig/00_pig242.jpg  \n",
            "  inflating: pig_data/train/not-eating/pig/00_pig243.jpg  \n",
            "  inflating: pig_data/train/not-eating/pig/00_pig244.jpg  \n",
            "  inflating: pig_data/train/not-eating/pig/00_pig245.jpg  \n",
            "  inflating: pig_data/train/not-eating/pig/00_pig246.jpg  \n",
            "  inflating: pig_data/train/not-eating/pig/00_pig247.jpg  \n",
            "  inflating: pig_data/train/not-eating/pig/00_pig248.jpg  \n",
            "  inflating: pig_data/train/not-eating/pig/00_pig249.jpg  \n",
            "  inflating: pig_data/train/not-eating/pig/00_pig25.jpg  \n",
            "  inflating: pig_data/train/not-eating/pig/00_pig250.jpg  \n",
            "  inflating: pig_data/train/not-eating/pig/00_pig251.jpg  \n",
            "  inflating: pig_data/train/not-eating/pig/00_pig252.jpg  \n",
            "  inflating: pig_data/train/not-eating/pig/00_pig253.jpg  \n",
            "  inflating: pig_data/train/not-eating/pig/00_pig254.jpg  \n",
            "  inflating: pig_data/train/not-eating/pig/00_pig255.jpg  \n",
            "  inflating: pig_data/train/not-eating/pig/00_pig256.jpg  \n",
            "  inflating: pig_data/train/not-eating/pig/00_pig257.jpg  \n",
            "  inflating: pig_data/train/not-eating/pig/00_pig258.jpg  \n",
            "  inflating: pig_data/train/not-eating/pig/00_pig259.jpg  \n",
            "  inflating: pig_data/train/not-eating/pig/00_pig26.jpg  \n",
            "  inflating: pig_data/train/not-eating/pig/00_pig260.jpg  \n",
            "  inflating: pig_data/train/not-eating/pig/00_pig261.jpg  \n",
            "  inflating: pig_data/train/not-eating/pig/00_pig262.jpg  \n",
            "  inflating: pig_data/train/not-eating/pig/00_pig263.jpg  \n",
            "  inflating: pig_data/train/not-eating/pig/00_pig264.jpg  \n",
            "  inflating: pig_data/train/not-eating/pig/00_pig265.jpg  \n",
            "  inflating: pig_data/train/not-eating/pig/00_pig266.jpg  \n",
            "  inflating: pig_data/train/not-eating/pig/00_pig267.jpg  \n",
            "  inflating: pig_data/train/not-eating/pig/00_pig268.jpg  \n",
            "  inflating: pig_data/train/not-eating/pig/00_pig269.jpg  \n",
            "  inflating: pig_data/train/not-eating/pig/00_pig27.jpg  \n",
            "  inflating: pig_data/train/not-eating/pig/00_pig270.jpg  \n",
            "  inflating: pig_data/train/not-eating/pig/00_pig271.jpg  \n",
            "  inflating: pig_data/train/not-eating/pig/00_pig272.jpg  \n",
            "  inflating: pig_data/train/not-eating/pig/00_pig273.jpg  \n",
            "  inflating: pig_data/train/not-eating/pig/00_pig274.jpg  \n",
            "  inflating: pig_data/train/not-eating/pig/00_pig275.jpg  \n",
            "  inflating: pig_data/train/not-eating/pig/00_pig276.jpg  \n",
            "  inflating: pig_data/train/not-eating/pig/00_pig277.jpg  \n",
            "  inflating: pig_data/train/not-eating/pig/00_pig278.jpg  \n",
            "  inflating: pig_data/train/not-eating/pig/00_pig279.jpg  \n",
            "  inflating: pig_data/train/not-eating/pig/00_pig28.jpg  \n",
            "  inflating: pig_data/train/not-eating/pig/00_pig280.jpg  \n",
            "  inflating: pig_data/train/not-eating/pig/00_pig281.jpg  \n",
            "  inflating: pig_data/train/not-eating/pig/00_pig282.jpg  \n",
            "  inflating: pig_data/train/not-eating/pig/00_pig283.jpg  \n",
            "  inflating: pig_data/train/not-eating/pig/00_pig284.jpg  \n",
            "  inflating: pig_data/train/not-eating/pig/00_pig285.jpg  \n",
            "  inflating: pig_data/train/not-eating/pig/00_pig286.jpg  \n",
            "  inflating: pig_data/train/not-eating/pig/00_pig287.jpg  \n",
            "  inflating: pig_data/train/not-eating/pig/00_pig288.jpg  \n",
            "  inflating: pig_data/train/not-eating/pig/00_pig289.jpg  \n",
            "  inflating: pig_data/train/not-eating/pig/00_pig29.jpg  \n",
            "  inflating: pig_data/train/not-eating/pig/00_pig290.jpg  \n",
            "  inflating: pig_data/train/not-eating/pig/00_pig291.jpg  \n",
            "  inflating: pig_data/train/not-eating/pig/00_pig292.jpg  \n",
            "  inflating: pig_data/train/not-eating/pig/00_pig293.jpg  \n",
            "  inflating: pig_data/train/not-eating/pig/00_pig294.jpg  \n",
            "  inflating: pig_data/train/not-eating/pig/00_pig295.jpg  \n",
            "  inflating: pig_data/train/not-eating/pig/00_pig296.jpg  \n",
            "  inflating: pig_data/train/not-eating/pig/00_pig297.jpg  \n",
            "  inflating: pig_data/train/not-eating/pig/00_pig298.jpg  \n",
            "  inflating: pig_data/train/not-eating/pig/00_pig299.jpg  \n",
            "  inflating: pig_data/train/not-eating/pig/00_pig3.jpg  \n",
            "  inflating: pig_data/train/not-eating/pig/00_pig30.jpg  \n",
            "  inflating: pig_data/train/not-eating/pig/00_pig300.jpg  \n",
            "  inflating: pig_data/train/not-eating/pig/00_pig301.jpg  \n",
            "  inflating: pig_data/train/not-eating/pig/00_pig302.jpg  \n",
            "  inflating: pig_data/train/not-eating/pig/00_pig303.jpg  \n",
            "  inflating: pig_data/train/not-eating/pig/00_pig304.jpg  \n",
            "  inflating: pig_data/train/not-eating/pig/00_pig305.jpg  \n",
            "  inflating: pig_data/train/not-eating/pig/00_pig306.jpg  \n",
            "  inflating: pig_data/train/not-eating/pig/00_pig307.jpg  \n",
            "  inflating: pig_data/train/not-eating/pig/00_pig308.jpg  \n",
            "  inflating: pig_data/train/not-eating/pig/00_pig309.jpg  \n",
            "  inflating: pig_data/train/not-eating/pig/00_pig31.jpg  \n",
            "  inflating: pig_data/train/not-eating/pig/00_pig310.jpg  \n",
            "  inflating: pig_data/train/not-eating/pig/00_pig311.jpg  \n",
            "  inflating: pig_data/train/not-eating/pig/00_pig312.jpg  \n",
            "  inflating: pig_data/train/not-eating/pig/00_pig313.jpg  \n",
            "  inflating: pig_data/train/not-eating/pig/00_pig314.jpg  \n",
            "  inflating: pig_data/train/not-eating/pig/00_pig315.jpg  \n",
            "  inflating: pig_data/train/not-eating/pig/00_pig316.jpg  \n",
            "  inflating: pig_data/train/not-eating/pig/00_pig317.jpg  \n",
            "  inflating: pig_data/train/not-eating/pig/00_pig318.jpg  \n",
            "  inflating: pig_data/train/not-eating/pig/00_pig319.jpg  \n",
            "  inflating: pig_data/train/not-eating/pig/00_pig32.jpg  \n",
            "  inflating: pig_data/train/not-eating/pig/00_pig320.jpg  \n",
            "  inflating: pig_data/train/not-eating/pig/00_pig321.jpg  \n",
            "  inflating: pig_data/train/not-eating/pig/00_pig322.jpg  \n",
            "  inflating: pig_data/train/not-eating/pig/00_pig323.jpg  \n",
            "  inflating: pig_data/train/not-eating/pig/00_pig324.jpg  \n",
            "  inflating: pig_data/train/not-eating/pig/00_pig325.jpg  \n",
            "  inflating: pig_data/train/not-eating/pig/00_pig326.jpg  \n",
            "  inflating: pig_data/train/not-eating/pig/00_pig327.jpg  \n",
            "  inflating: pig_data/train/not-eating/pig/00_pig328.jpg  \n",
            "  inflating: pig_data/train/not-eating/pig/00_pig329.jpg  \n",
            "  inflating: pig_data/train/not-eating/pig/00_pig33.jpg  \n",
            "  inflating: pig_data/train/not-eating/pig/00_pig330.jpg  \n",
            "  inflating: pig_data/train/not-eating/pig/00_pig331.jpg  \n",
            "  inflating: pig_data/train/not-eating/pig/00_pig332.jpg  \n",
            "  inflating: pig_data/train/not-eating/pig/00_pig333.jpg  \n",
            "  inflating: pig_data/train/not-eating/pig/00_pig334.jpg  \n",
            "  inflating: pig_data/train/not-eating/pig/00_pig335.jpg  \n",
            "  inflating: pig_data/train/not-eating/pig/00_pig336.jpg  \n",
            "  inflating: pig_data/train/not-eating/pig/00_pig337.jpg  \n",
            "  inflating: pig_data/train/not-eating/pig/00_pig338.jpg  \n",
            "  inflating: pig_data/train/not-eating/pig/00_pig339.jpg  \n",
            "  inflating: pig_data/train/not-eating/pig/00_pig34.jpg  \n",
            "  inflating: pig_data/train/not-eating/pig/00_pig340.jpg  \n",
            "  inflating: pig_data/train/not-eating/pig/00_pig341.jpg  \n",
            "  inflating: pig_data/train/not-eating/pig/00_pig342.jpg  \n",
            "  inflating: pig_data/train/not-eating/pig/00_pig343.jpg  \n",
            "  inflating: pig_data/train/not-eating/pig/00_pig344.jpg  \n",
            "  inflating: pig_data/train/not-eating/pig/00_pig345.jpg  \n",
            "  inflating: pig_data/train/not-eating/pig/00_pig346.jpg  \n",
            "  inflating: pig_data/train/not-eating/pig/00_pig347.jpg  \n",
            "  inflating: pig_data/train/not-eating/pig/00_pig348.jpg  \n",
            "  inflating: pig_data/train/not-eating/pig/00_pig349.jpg  \n",
            "  inflating: pig_data/train/not-eating/pig/00_pig35.jpg  \n",
            "  inflating: pig_data/train/not-eating/pig/00_pig350.jpg  \n",
            "  inflating: pig_data/train/not-eating/pig/00_pig351.jpg  \n",
            "  inflating: pig_data/train/not-eating/pig/00_pig352.jpg  \n",
            "  inflating: pig_data/train/not-eating/pig/00_pig353.jpg  \n",
            "  inflating: pig_data/train/not-eating/pig/00_pig354.jpg  \n",
            "  inflating: pig_data/train/not-eating/pig/00_pig355.jpg  \n",
            "  inflating: pig_data/train/not-eating/pig/00_pig356.jpg  \n",
            "  inflating: pig_data/train/not-eating/pig/00_pig357.jpg  \n",
            "  inflating: pig_data/train/not-eating/pig/00_pig358.jpg  \n",
            "  inflating: pig_data/train/not-eating/pig/00_pig359.jpg  \n",
            "  inflating: pig_data/train/not-eating/pig/00_pig36.jpg  \n",
            "  inflating: pig_data/train/not-eating/pig/00_pig360.jpg  \n",
            "  inflating: pig_data/train/not-eating/pig/00_pig361.jpg  \n",
            "  inflating: pig_data/train/not-eating/pig/00_pig362.jpg  \n",
            "  inflating: pig_data/train/not-eating/pig/00_pig363.jpg  \n",
            "  inflating: pig_data/train/not-eating/pig/00_pig364.jpg  \n",
            "  inflating: pig_data/train/not-eating/pig/00_pig365.jpg  \n",
            "  inflating: pig_data/train/not-eating/pig/00_pig366.jpg  \n",
            "  inflating: pig_data/train/not-eating/pig/00_pig367.jpg  \n",
            "  inflating: pig_data/train/not-eating/pig/00_pig368.jpg  \n",
            "  inflating: pig_data/train/not-eating/pig/00_pig369.jpg  \n",
            "  inflating: pig_data/train/not-eating/pig/00_pig37.jpg  \n",
            "  inflating: pig_data/train/not-eating/pig/00_pig370.jpg  \n",
            "  inflating: pig_data/train/not-eating/pig/00_pig371.jpg  \n",
            "  inflating: pig_data/train/not-eating/pig/00_pig372.jpg  \n",
            "  inflating: pig_data/train/not-eating/pig/00_pig373.jpg  \n",
            "  inflating: pig_data/train/not-eating/pig/00_pig374.jpg  \n",
            "  inflating: pig_data/train/not-eating/pig/00_pig375.jpg  \n",
            "  inflating: pig_data/train/not-eating/pig/00_pig376.jpg  \n",
            "  inflating: pig_data/train/not-eating/pig/00_pig377.jpg  \n",
            "  inflating: pig_data/train/not-eating/pig/00_pig378.jpg  \n",
            "  inflating: pig_data/train/not-eating/pig/00_pig379.jpg  \n",
            "  inflating: pig_data/train/not-eating/pig/00_pig38.jpg  \n",
            "  inflating: pig_data/train/not-eating/pig/00_pig380.jpg  \n",
            "  inflating: pig_data/train/not-eating/pig/00_pig381.jpg  \n",
            "  inflating: pig_data/train/not-eating/pig/00_pig382.jpg  \n",
            "  inflating: pig_data/train/not-eating/pig/00_pig383.jpg  \n",
            "  inflating: pig_data/train/not-eating/pig/00_pig384.jpg  \n",
            "  inflating: pig_data/train/not-eating/pig/00_pig385.jpg  \n",
            "  inflating: pig_data/train/not-eating/pig/00_pig386.jpg  \n",
            "  inflating: pig_data/train/not-eating/pig/00_pig387.jpg  \n",
            "  inflating: pig_data/train/not-eating/pig/00_pig388.jpg  \n",
            "  inflating: pig_data/train/not-eating/pig/00_pig389.jpg  \n",
            "  inflating: pig_data/train/not-eating/pig/00_pig39.jpg  \n",
            "  inflating: pig_data/train/not-eating/pig/00_pig390.jpg  \n",
            "  inflating: pig_data/train/not-eating/pig/00_pig391.jpg  \n",
            "  inflating: pig_data/train/not-eating/pig/00_pig392.jpg  \n",
            "  inflating: pig_data/train/not-eating/pig/00_pig393.jpg  \n",
            "  inflating: pig_data/train/not-eating/pig/00_pig394.jpg  \n",
            "  inflating: pig_data/train/not-eating/pig/00_pig395.jpg  \n",
            "  inflating: pig_data/train/not-eating/pig/00_pig396.jpg  \n",
            "  inflating: pig_data/train/not-eating/pig/00_pig397.jpg  \n",
            "  inflating: pig_data/train/not-eating/pig/00_pig398.jpg  \n",
            "  inflating: pig_data/train/not-eating/pig/00_pig399.jpg  \n",
            "  inflating: pig_data/train/not-eating/pig/00_pig4.jpg  \n",
            "  inflating: pig_data/train/not-eating/pig/00_pig40.jpg  \n",
            "  inflating: pig_data/train/not-eating/pig/00_pig400.jpg  \n",
            "  inflating: pig_data/train/not-eating/pig/00_pig401.jpg  \n",
            "  inflating: pig_data/train/not-eating/pig/00_pig402.jpg  \n",
            "  inflating: pig_data/train/not-eating/pig/00_pig403.jpg  \n",
            "  inflating: pig_data/train/not-eating/pig/00_pig404.jpg  \n",
            "  inflating: pig_data/train/not-eating/pig/00_pig405.jpg  \n",
            "  inflating: pig_data/train/not-eating/pig/00_pig406.jpg  \n",
            "  inflating: pig_data/train/not-eating/pig/00_pig407.jpg  \n",
            "  inflating: pig_data/train/not-eating/pig/00_pig408.jpg  \n",
            "  inflating: pig_data/train/not-eating/pig/00_pig409.jpg  \n",
            "  inflating: pig_data/train/not-eating/pig/00_pig41.jpg  \n",
            "  inflating: pig_data/train/not-eating/pig/00_pig410.jpg  \n",
            "  inflating: pig_data/train/not-eating/pig/00_pig411.jpg  \n",
            "  inflating: pig_data/train/not-eating/pig/00_pig412.jpg  \n",
            "  inflating: pig_data/train/not-eating/pig/00_pig413.jpg  \n",
            "  inflating: pig_data/train/not-eating/pig/00_pig414.jpg  \n",
            "  inflating: pig_data/train/not-eating/pig/00_pig415.jpg  \n",
            "  inflating: pig_data/train/not-eating/pig/00_pig416.jpg  \n",
            "  inflating: pig_data/train/not-eating/pig/00_pig417.jpg  \n",
            "  inflating: pig_data/train/not-eating/pig/00_pig418.jpg  \n",
            "  inflating: pig_data/train/not-eating/pig/00_pig419.jpg  \n",
            "  inflating: pig_data/train/not-eating/pig/00_pig42.jpg  \n",
            "  inflating: pig_data/train/not-eating/pig/00_pig420.jpg  \n",
            "  inflating: pig_data/train/not-eating/pig/00_pig421.jpg  \n",
            "  inflating: pig_data/train/not-eating/pig/00_pig422.jpg  \n",
            "  inflating: pig_data/train/not-eating/pig/00_pig423.jpg  \n",
            "  inflating: pig_data/train/not-eating/pig/00_pig424.jpg  \n",
            "  inflating: pig_data/train/not-eating/pig/00_pig425.jpg  \n",
            "  inflating: pig_data/train/not-eating/pig/00_pig426.jpg  \n",
            "  inflating: pig_data/train/not-eating/pig/00_pig427.jpg  \n",
            "  inflating: pig_data/train/not-eating/pig/00_pig428.jpg  \n",
            "  inflating: pig_data/train/not-eating/pig/00_pig429.jpg  \n",
            "  inflating: pig_data/train/not-eating/pig/00_pig43.jpg  \n",
            "  inflating: pig_data/train/not-eating/pig/00_pig430.jpg  \n",
            "  inflating: pig_data/train/not-eating/pig/00_pig431.jpg  \n",
            "  inflating: pig_data/train/not-eating/pig/00_pig432.jpg  \n",
            "  inflating: pig_data/train/not-eating/pig/00_pig433.jpg  \n",
            "  inflating: pig_data/train/not-eating/pig/00_pig434.jpg  \n",
            "  inflating: pig_data/train/not-eating/pig/00_pig435.jpg  \n",
            "  inflating: pig_data/train/not-eating/pig/00_pig436.jpg  \n",
            "  inflating: pig_data/train/not-eating/pig/00_pig437.jpg  \n",
            "  inflating: pig_data/train/not-eating/pig/00_pig438.jpg  \n",
            "  inflating: pig_data/train/not-eating/pig/00_pig439.jpg  \n",
            "  inflating: pig_data/train/not-eating/pig/00_pig44.jpg  \n",
            "  inflating: pig_data/train/not-eating/pig/00_pig440.jpg  \n",
            "  inflating: pig_data/train/not-eating/pig/00_pig441.jpg  \n",
            "  inflating: pig_data/train/not-eating/pig/00_pig442.jpg  \n",
            "  inflating: pig_data/train/not-eating/pig/00_pig443.jpg  \n",
            "  inflating: pig_data/train/not-eating/pig/00_pig444.jpg  \n",
            "  inflating: pig_data/train/not-eating/pig/00_pig445.jpg  \n",
            "  inflating: pig_data/train/not-eating/pig/00_pig446.jpg  \n",
            "  inflating: pig_data/train/not-eating/pig/00_pig447.jpg  \n",
            "  inflating: pig_data/train/not-eating/pig/00_pig448.jpg  \n",
            "  inflating: pig_data/train/not-eating/pig/00_pig449.jpg  \n",
            "  inflating: pig_data/train/not-eating/pig/00_pig45.jpg  \n",
            "  inflating: pig_data/train/not-eating/pig/00_pig450.jpg  \n",
            "  inflating: pig_data/train/not-eating/pig/00_pig451.jpg  \n",
            "  inflating: pig_data/train/not-eating/pig/00_pig452.jpg  \n",
            "  inflating: pig_data/train/not-eating/pig/00_pig453.jpg  \n",
            "  inflating: pig_data/train/not-eating/pig/00_pig454.jpg  \n",
            "  inflating: pig_data/train/not-eating/pig/00_pig455.jpg  \n",
            "  inflating: pig_data/train/not-eating/pig/00_pig456.jpg  \n",
            "  inflating: pig_data/train/not-eating/pig/00_pig457.jpg  \n",
            "  inflating: pig_data/train/not-eating/pig/00_pig458.jpg  \n",
            "  inflating: pig_data/train/not-eating/pig/00_pig459.jpg  \n",
            "  inflating: pig_data/train/not-eating/pig/00_pig46.jpg  \n",
            "  inflating: pig_data/train/not-eating/pig/00_pig460.jpg  \n",
            "  inflating: pig_data/train/not-eating/pig/00_pig461.jpg  \n",
            "  inflating: pig_data/train/not-eating/pig/00_pig462.jpg  \n",
            "  inflating: pig_data/train/not-eating/pig/00_pig463.jpg  \n",
            "  inflating: pig_data/train/not-eating/pig/00_pig464.jpg  \n",
            "  inflating: pig_data/train/not-eating/pig/00_pig465.jpg  \n",
            "  inflating: pig_data/train/not-eating/pig/00_pig466.jpg  \n",
            "  inflating: pig_data/train/not-eating/pig/00_pig467.jpg  \n",
            "  inflating: pig_data/train/not-eating/pig/00_pig468.jpg  \n",
            "  inflating: pig_data/train/not-eating/pig/00_pig469.jpg  \n",
            "  inflating: pig_data/train/not-eating/pig/00_pig47.jpg  \n",
            "  inflating: pig_data/train/not-eating/pig/00_pig470.jpg  \n",
            "  inflating: pig_data/train/not-eating/pig/00_pig471.jpg  \n",
            "  inflating: pig_data/train/not-eating/pig/00_pig472.jpg  \n",
            "  inflating: pig_data/train/not-eating/pig/00_pig473.jpg  \n",
            "  inflating: pig_data/train/not-eating/pig/00_pig474.jpg  \n",
            "  inflating: pig_data/train/not-eating/pig/00_pig475.jpg  \n",
            "  inflating: pig_data/train/not-eating/pig/00_pig476.jpg  \n",
            "  inflating: pig_data/train/not-eating/pig/00_pig477.jpg  \n",
            "  inflating: pig_data/train/not-eating/pig/00_pig478.jpg  \n",
            "  inflating: pig_data/train/not-eating/pig/00_pig479.jpg  \n",
            "  inflating: pig_data/train/not-eating/pig/00_pig48.jpg  \n",
            "  inflating: pig_data/train/not-eating/pig/00_pig480.jpg  \n",
            "  inflating: pig_data/train/not-eating/pig/00_pig481.jpg  \n",
            "  inflating: pig_data/train/not-eating/pig/00_pig482.jpg  \n",
            "  inflating: pig_data/train/not-eating/pig/00_pig483.jpg  \n",
            "  inflating: pig_data/train/not-eating/pig/00_pig484.jpg  \n",
            "  inflating: pig_data/train/not-eating/pig/00_pig485.jpg  \n",
            "  inflating: pig_data/train/not-eating/pig/00_pig486.jpg  \n",
            "  inflating: pig_data/train/not-eating/pig/00_pig487.jpg  \n",
            "  inflating: pig_data/train/not-eating/pig/00_pig488.jpg  \n",
            "  inflating: pig_data/train/not-eating/pig/00_pig489.jpg  \n",
            "  inflating: pig_data/train/not-eating/pig/00_pig49.jpg  \n",
            "  inflating: pig_data/train/not-eating/pig/00_pig490.jpg  \n",
            "  inflating: pig_data/train/not-eating/pig/00_pig491.jpg  \n",
            "  inflating: pig_data/train/not-eating/pig/00_pig492.jpg  \n",
            "  inflating: pig_data/train/not-eating/pig/00_pig493.jpg  \n",
            "  inflating: pig_data/train/not-eating/pig/00_pig494.jpg  \n",
            "  inflating: pig_data/train/not-eating/pig/00_pig495.jpg  \n",
            "  inflating: pig_data/train/not-eating/pig/00_pig496.jpg  \n",
            "  inflating: pig_data/train/not-eating/pig/00_pig497.jpg  \n",
            "  inflating: pig_data/train/not-eating/pig/00_pig498.jpg  \n",
            "  inflating: pig_data/train/not-eating/pig/00_pig499.jpg  \n",
            "  inflating: pig_data/train/not-eating/pig/00_pig5.jpg  \n",
            "  inflating: pig_data/train/not-eating/pig/00_pig50.jpg  \n",
            "  inflating: pig_data/train/not-eating/pig/00_pig500.jpg  \n",
            "  inflating: pig_data/train/not-eating/pig/00_pig501.jpg  \n",
            "  inflating: pig_data/train/not-eating/pig/00_pig502.jpg  \n",
            "  inflating: pig_data/train/not-eating/pig/00_pig503.jpg  \n",
            "  inflating: pig_data/train/not-eating/pig/00_pig504.jpg  \n",
            "  inflating: pig_data/train/not-eating/pig/00_pig505.jpg  \n",
            "  inflating: pig_data/train/not-eating/pig/00_pig506.jpg  \n",
            "  inflating: pig_data/train/not-eating/pig/00_pig507.jpg  \n",
            "  inflating: pig_data/train/not-eating/pig/00_pig508.jpg  \n",
            "  inflating: pig_data/train/not-eating/pig/00_pig509.jpg  \n",
            "  inflating: pig_data/train/not-eating/pig/00_pig51.jpg  \n",
            "  inflating: pig_data/train/not-eating/pig/00_pig510.jpg  \n",
            "  inflating: pig_data/train/not-eating/pig/00_pig511.jpg  \n",
            "  inflating: pig_data/train/not-eating/pig/00_pig512.jpg  \n",
            "  inflating: pig_data/train/not-eating/pig/00_pig513.jpg  \n",
            "  inflating: pig_data/train/not-eating/pig/00_pig514.jpg  \n",
            "  inflating: pig_data/train/not-eating/pig/00_pig515.jpg  \n",
            "  inflating: pig_data/train/not-eating/pig/00_pig516.jpg  \n",
            "  inflating: pig_data/train/not-eating/pig/00_pig517.jpg  \n",
            "  inflating: pig_data/train/not-eating/pig/00_pig518.jpg  \n",
            "  inflating: pig_data/train/not-eating/pig/00_pig519.jpg  \n",
            "  inflating: pig_data/train/not-eating/pig/00_pig52.jpg  \n",
            "  inflating: pig_data/train/not-eating/pig/00_pig520.jpg  \n",
            "  inflating: pig_data/train/not-eating/pig/00_pig521.jpg  \n",
            "  inflating: pig_data/train/not-eating/pig/00_pig522.jpg  \n",
            "  inflating: pig_data/train/not-eating/pig/00_pig523.jpg  \n",
            "  inflating: pig_data/train/not-eating/pig/00_pig524.jpg  \n",
            "  inflating: pig_data/train/not-eating/pig/00_pig525.jpg  \n",
            "  inflating: pig_data/train/not-eating/pig/00_pig526.jpg  \n",
            "  inflating: pig_data/train/not-eating/pig/00_pig527.jpg  \n",
            "  inflating: pig_data/train/not-eating/pig/00_pig528.jpg  \n",
            "  inflating: pig_data/train/not-eating/pig/00_pig529.jpg  \n",
            "  inflating: pig_data/train/not-eating/pig/00_pig53.jpg  \n",
            "  inflating: pig_data/train/not-eating/pig/00_pig530.jpg  \n",
            "  inflating: pig_data/train/not-eating/pig/00_pig531.jpg  \n",
            "  inflating: pig_data/train/not-eating/pig/00_pig532.jpg  \n",
            "  inflating: pig_data/train/not-eating/pig/00_pig533.jpg  \n",
            "  inflating: pig_data/train/not-eating/pig/00_pig534.jpg  \n",
            "  inflating: pig_data/train/not-eating/pig/00_pig535.jpg  \n",
            "  inflating: pig_data/train/not-eating/pig/00_pig536.jpg  \n",
            "  inflating: pig_data/train/not-eating/pig/00_pig537.jpg  \n",
            "  inflating: pig_data/train/not-eating/pig/00_pig538.jpg  \n",
            "  inflating: pig_data/train/not-eating/pig/00_pig539.jpg  \n",
            "  inflating: pig_data/train/not-eating/pig/00_pig54.jpg  \n",
            "  inflating: pig_data/train/not-eating/pig/00_pig540.jpg  \n",
            "  inflating: pig_data/train/not-eating/pig/00_pig541.jpg  \n",
            "  inflating: pig_data/train/not-eating/pig/00_pig542.jpg  \n",
            "  inflating: pig_data/train/not-eating/pig/00_pig543.jpg  \n",
            "  inflating: pig_data/train/not-eating/pig/00_pig544.jpg  \n",
            "  inflating: pig_data/train/not-eating/pig/00_pig545.jpg  \n",
            "  inflating: pig_data/train/not-eating/pig/00_pig546.jpg  \n",
            "  inflating: pig_data/train/not-eating/pig/00_pig547.jpg  \n",
            "  inflating: pig_data/train/not-eating/pig/00_pig548.jpg  \n",
            "  inflating: pig_data/train/not-eating/pig/00_pig549.jpg  \n",
            "  inflating: pig_data/train/not-eating/pig/00_pig55.jpg  \n",
            "  inflating: pig_data/train/not-eating/pig/00_pig550.jpg  \n",
            "  inflating: pig_data/train/not-eating/pig/00_pig551.jpg  \n",
            "  inflating: pig_data/train/not-eating/pig/00_pig552.jpg  \n",
            "  inflating: pig_data/train/not-eating/pig/00_pig553.jpg  \n",
            "  inflating: pig_data/train/not-eating/pig/00_pig554.jpg  \n",
            "  inflating: pig_data/train/not-eating/pig/00_pig555.jpg  \n",
            "  inflating: pig_data/train/not-eating/pig/00_pig556.jpg  \n",
            "  inflating: pig_data/train/not-eating/pig/00_pig557.jpg  \n",
            "  inflating: pig_data/train/not-eating/pig/00_pig558.jpg  \n",
            "  inflating: pig_data/train/not-eating/pig/00_pig559.jpg  \n",
            "  inflating: pig_data/train/not-eating/pig/00_pig56.jpg  \n",
            "  inflating: pig_data/train/not-eating/pig/00_pig560.jpg  \n",
            "  inflating: pig_data/train/not-eating/pig/00_pig561.jpg  \n",
            "  inflating: pig_data/train/not-eating/pig/00_pig562.jpg  \n",
            "  inflating: pig_data/train/not-eating/pig/00_pig563.jpg  \n",
            "  inflating: pig_data/train/not-eating/pig/00_pig564.jpg  \n",
            "  inflating: pig_data/train/not-eating/pig/00_pig565.jpg  \n",
            "  inflating: pig_data/train/not-eating/pig/00_pig566.jpg  \n",
            "  inflating: pig_data/train/not-eating/pig/00_pig567.jpg  \n",
            "  inflating: pig_data/train/not-eating/pig/00_pig568.jpg  \n",
            "  inflating: pig_data/train/not-eating/pig/00_pig569.jpg  \n",
            "  inflating: pig_data/train/not-eating/pig/00_pig57.jpg  \n",
            "  inflating: pig_data/train/not-eating/pig/00_pig570.jpg  \n",
            "  inflating: pig_data/train/not-eating/pig/00_pig571.jpg  \n",
            "  inflating: pig_data/train/not-eating/pig/00_pig572.jpg  \n",
            "  inflating: pig_data/train/not-eating/pig/00_pig573.jpg  \n",
            "  inflating: pig_data/train/not-eating/pig/00_pig574.jpg  \n",
            "  inflating: pig_data/train/not-eating/pig/00_pig575.jpg  \n",
            "  inflating: pig_data/train/not-eating/pig/00_pig576.jpg  \n",
            "  inflating: pig_data/train/not-eating/pig/00_pig577.jpg  \n",
            "  inflating: pig_data/train/not-eating/pig/00_pig578.jpg  \n",
            "  inflating: pig_data/train/not-eating/pig/00_pig579.jpg  \n",
            "  inflating: pig_data/train/not-eating/pig/00_pig58.jpg  \n",
            "  inflating: pig_data/train/not-eating/pig/00_pig580.jpg  \n",
            "  inflating: pig_data/train/not-eating/pig/00_pig581.jpg  \n",
            "  inflating: pig_data/train/not-eating/pig/00_pig582.jpg  \n",
            "  inflating: pig_data/train/not-eating/pig/00_pig583.jpg  \n",
            "  inflating: pig_data/train/not-eating/pig/00_pig584.jpg  \n",
            "  inflating: pig_data/train/not-eating/pig/00_pig585.jpg  \n",
            "  inflating: pig_data/train/not-eating/pig/00_pig586.jpg  \n",
            "  inflating: pig_data/train/not-eating/pig/00_pig587.jpg  \n",
            "  inflating: pig_data/train/not-eating/pig/00_pig588.jpg  \n",
            "  inflating: pig_data/train/not-eating/pig/00_pig589.jpg  \n",
            "  inflating: pig_data/train/not-eating/pig/00_pig59.jpg  \n",
            "  inflating: pig_data/train/not-eating/pig/00_pig590.jpg  \n",
            "  inflating: pig_data/train/not-eating/pig/00_pig591.jpg  \n",
            "  inflating: pig_data/train/not-eating/pig/00_pig592.jpg  \n",
            "  inflating: pig_data/train/not-eating/pig/00_pig593.jpg  \n",
            "  inflating: pig_data/train/not-eating/pig/00_pig594.jpg  \n",
            "  inflating: pig_data/train/not-eating/pig/00_pig595.jpg  \n",
            "  inflating: pig_data/train/not-eating/pig/00_pig596.jpg  \n",
            "  inflating: pig_data/train/not-eating/pig/00_pig597.jpg  \n",
            "  inflating: pig_data/train/not-eating/pig/00_pig598.jpg  \n",
            "  inflating: pig_data/train/not-eating/pig/00_pig599.jpg  \n",
            "  inflating: pig_data/train/not-eating/pig/00_pig6.jpg  \n",
            "  inflating: pig_data/train/not-eating/pig/00_pig60.jpg  \n",
            "  inflating: pig_data/train/not-eating/pig/00_pig600.jpg  \n",
            "  inflating: pig_data/train/not-eating/pig/00_pig601.jpg  \n",
            "  inflating: pig_data/train/not-eating/pig/00_pig602.jpg  \n",
            "  inflating: pig_data/train/not-eating/pig/00_pig603.jpg  \n",
            "  inflating: pig_data/train/not-eating/pig/00_pig604.jpg  \n",
            "  inflating: pig_data/train/not-eating/pig/00_pig605.jpg  \n",
            "  inflating: pig_data/train/not-eating/pig/00_pig606.jpg  \n",
            "  inflating: pig_data/train/not-eating/pig/00_pig607.jpg  \n",
            "  inflating: pig_data/train/not-eating/pig/00_pig608.jpg  \n",
            "  inflating: pig_data/train/not-eating/pig/00_pig609.jpg  \n",
            "  inflating: pig_data/train/not-eating/pig/00_pig61.jpg  \n",
            "  inflating: pig_data/train/not-eating/pig/00_pig610.jpg  \n",
            "  inflating: pig_data/train/not-eating/pig/00_pig611.jpg  \n",
            "  inflating: pig_data/train/not-eating/pig/00_pig612.jpg  \n",
            "  inflating: pig_data/train/not-eating/pig/00_pig613.jpg  \n",
            "  inflating: pig_data/train/not-eating/pig/00_pig614.jpg  \n",
            "  inflating: pig_data/train/not-eating/pig/00_pig615.jpg  \n",
            "  inflating: pig_data/train/not-eating/pig/00_pig616.jpg  \n",
            "  inflating: pig_data/train/not-eating/pig/00_pig617.jpg  \n",
            "  inflating: pig_data/train/not-eating/pig/00_pig618.jpg  \n",
            "  inflating: pig_data/train/not-eating/pig/00_pig619.jpg  \n",
            "  inflating: pig_data/train/not-eating/pig/00_pig62.jpg  \n",
            "  inflating: pig_data/train/not-eating/pig/00_pig620.jpg  \n",
            "  inflating: pig_data/train/not-eating/pig/00_pig621.jpg  \n",
            "  inflating: pig_data/train/not-eating/pig/00_pig622.jpg  \n",
            "  inflating: pig_data/train/not-eating/pig/00_pig623.jpg  \n",
            "  inflating: pig_data/train/not-eating/pig/00_pig624.jpg  \n",
            "  inflating: pig_data/train/not-eating/pig/00_pig625.jpg  \n",
            "  inflating: pig_data/train/not-eating/pig/00_pig626.jpg  \n",
            "  inflating: pig_data/train/not-eating/pig/00_pig627.jpg  \n",
            "  inflating: pig_data/train/not-eating/pig/00_pig628.jpg  \n",
            "  inflating: pig_data/train/not-eating/pig/00_pig629.jpg  \n",
            "  inflating: pig_data/train/not-eating/pig/00_pig63.jpg  \n",
            "  inflating: pig_data/train/not-eating/pig/00_pig630.jpg  \n",
            "  inflating: pig_data/train/not-eating/pig/00_pig631.jpg  \n",
            "  inflating: pig_data/train/not-eating/pig/00_pig632.jpg  \n",
            "  inflating: pig_data/train/not-eating/pig/00_pig633.jpg  \n",
            "  inflating: pig_data/train/not-eating/pig/00_pig634.jpg  \n",
            "  inflating: pig_data/train/not-eating/pig/00_pig635.jpg  \n",
            "  inflating: pig_data/train/not-eating/pig/00_pig636.jpg  \n",
            "  inflating: pig_data/train/not-eating/pig/00_pig637.jpg  \n",
            "  inflating: pig_data/train/not-eating/pig/00_pig638.jpg  \n",
            "  inflating: pig_data/train/not-eating/pig/00_pig639.jpg  \n",
            "  inflating: pig_data/train/not-eating/pig/00_pig64.jpg  \n",
            "  inflating: pig_data/train/not-eating/pig/00_pig640.jpg  \n",
            "  inflating: pig_data/train/not-eating/pig/00_pig641.jpg  \n",
            "  inflating: pig_data/train/not-eating/pig/00_pig642.jpg  \n",
            "  inflating: pig_data/train/not-eating/pig/00_pig643.jpg  \n",
            "  inflating: pig_data/train/not-eating/pig/00_pig644.jpg  \n",
            "  inflating: pig_data/train/not-eating/pig/00_pig645.jpg  \n",
            "  inflating: pig_data/train/not-eating/pig/00_pig646.jpg  \n",
            "  inflating: pig_data/train/not-eating/pig/00_pig647.jpg  \n",
            "  inflating: pig_data/train/not-eating/pig/00_pig648.jpg  \n",
            "  inflating: pig_data/train/not-eating/pig/00_pig649.jpg  \n",
            "  inflating: pig_data/train/not-eating/pig/00_pig65.jpg  \n",
            "  inflating: pig_data/train/not-eating/pig/00_pig650.jpg  \n",
            "  inflating: pig_data/train/not-eating/pig/00_pig651.jpg  \n",
            "  inflating: pig_data/train/not-eating/pig/00_pig652.jpg  \n",
            "  inflating: pig_data/train/not-eating/pig/00_pig653.jpg  \n",
            "  inflating: pig_data/train/not-eating/pig/00_pig654.jpg  \n",
            "  inflating: pig_data/train/not-eating/pig/00_pig655.jpg  \n",
            "  inflating: pig_data/train/not-eating/pig/00_pig656.jpg  \n",
            "  inflating: pig_data/train/not-eating/pig/00_pig657.jpg  \n",
            "  inflating: pig_data/train/not-eating/pig/00_pig658.jpg  \n",
            "  inflating: pig_data/train/not-eating/pig/00_pig659.jpg  \n",
            "  inflating: pig_data/train/not-eating/pig/00_pig66.jpg  \n",
            "  inflating: pig_data/train/not-eating/pig/00_pig660.jpg  \n",
            "  inflating: pig_data/train/not-eating/pig/00_pig661.jpg  \n",
            "  inflating: pig_data/train/not-eating/pig/00_pig662.jpg  \n",
            "  inflating: pig_data/train/not-eating/pig/00_pig663.jpg  \n",
            "  inflating: pig_data/train/not-eating/pig/00_pig664.jpg  \n",
            "  inflating: pig_data/train/not-eating/pig/00_pig665.jpg  \n",
            "  inflating: pig_data/train/not-eating/pig/00_pig666.jpg  \n",
            "  inflating: pig_data/train/not-eating/pig/00_pig667.jpg  \n",
            "  inflating: pig_data/train/not-eating/pig/00_pig668.jpg  \n",
            "  inflating: pig_data/train/not-eating/pig/00_pig669.jpg  \n",
            "  inflating: pig_data/train/not-eating/pig/00_pig67.jpg  \n",
            "  inflating: pig_data/train/not-eating/pig/00_pig670.jpg  \n",
            "  inflating: pig_data/train/not-eating/pig/00_pig671.jpg  \n",
            "  inflating: pig_data/train/not-eating/pig/00_pig672.jpg  \n",
            "  inflating: pig_data/train/not-eating/pig/00_pig673.jpg  \n",
            "  inflating: pig_data/train/not-eating/pig/00_pig674.jpg  \n",
            "  inflating: pig_data/train/not-eating/pig/00_pig675.jpg  \n",
            "  inflating: pig_data/train/not-eating/pig/00_pig676.jpg  \n",
            "  inflating: pig_data/train/not-eating/pig/00_pig677.jpg  \n",
            "  inflating: pig_data/train/not-eating/pig/00_pig678.jpg  \n",
            "  inflating: pig_data/train/not-eating/pig/00_pig679.jpg  \n",
            "  inflating: pig_data/train/not-eating/pig/00_pig68.jpg  \n",
            "  inflating: pig_data/train/not-eating/pig/00_pig680.jpg  \n",
            "  inflating: pig_data/train/not-eating/pig/00_pig681.jpg  \n",
            "  inflating: pig_data/train/not-eating/pig/00_pig682.jpg  \n",
            "  inflating: pig_data/train/not-eating/pig/00_pig683.jpg  \n",
            "  inflating: pig_data/train/not-eating/pig/00_pig684.jpg  \n",
            "  inflating: pig_data/train/not-eating/pig/00_pig685.jpg  \n",
            "  inflating: pig_data/train/not-eating/pig/00_pig686.jpg  \n",
            "  inflating: pig_data/train/not-eating/pig/00_pig687.jpg  \n",
            "  inflating: pig_data/train/not-eating/pig/00_pig688.jpg  \n",
            "  inflating: pig_data/train/not-eating/pig/00_pig689.jpg  \n",
            "  inflating: pig_data/train/not-eating/pig/00_pig69.jpg  \n",
            "  inflating: pig_data/train/not-eating/pig/00_pig690.jpg  \n",
            "  inflating: pig_data/train/not-eating/pig/00_pig691.jpg  \n",
            "  inflating: pig_data/train/not-eating/pig/00_pig692.jpg  \n",
            "  inflating: pig_data/train/not-eating/pig/00_pig693.jpg  \n",
            "  inflating: pig_data/train/not-eating/pig/00_pig694.jpg  \n",
            "  inflating: pig_data/train/not-eating/pig/00_pig695.jpg  \n",
            "  inflating: pig_data/train/not-eating/pig/00_pig696.jpg  \n",
            "  inflating: pig_data/train/not-eating/pig/00_pig697.jpg  \n",
            "  inflating: pig_data/train/not-eating/pig/00_pig698.jpg  \n",
            "  inflating: pig_data/train/not-eating/pig/00_pig699.jpg  \n",
            "  inflating: pig_data/train/not-eating/pig/00_pig7.jpg  \n",
            "  inflating: pig_data/train/not-eating/pig/00_pig70.jpg  \n",
            "  inflating: pig_data/train/not-eating/pig/00_pig700.jpg  \n",
            "  inflating: pig_data/train/not-eating/pig/00_pig701.jpg  \n",
            "  inflating: pig_data/train/not-eating/pig/00_pig702.jpg  \n",
            "  inflating: pig_data/train/not-eating/pig/00_pig703.jpg  \n",
            "  inflating: pig_data/train/not-eating/pig/00_pig704.jpg  \n",
            "  inflating: pig_data/train/not-eating/pig/00_pig705.jpg  \n",
            "  inflating: pig_data/train/not-eating/pig/00_pig706.jpg  \n",
            "  inflating: pig_data/train/not-eating/pig/00_pig707.jpg  \n",
            "  inflating: pig_data/train/not-eating/pig/00_pig708.jpg  \n",
            "  inflating: pig_data/train/not-eating/pig/00_pig709.jpg  \n",
            "  inflating: pig_data/train/not-eating/pig/00_pig71.jpg  \n",
            "  inflating: pig_data/train/not-eating/pig/00_pig710.jpg  \n",
            "  inflating: pig_data/train/not-eating/pig/00_pig711.jpg  \n",
            "  inflating: pig_data/train/not-eating/pig/00_pig712.jpg  \n",
            "  inflating: pig_data/train/not-eating/pig/00_pig713.jpg  \n",
            "  inflating: pig_data/train/not-eating/pig/00_pig714.jpg  \n",
            "  inflating: pig_data/train/not-eating/pig/00_pig715.jpg  \n",
            "  inflating: pig_data/train/not-eating/pig/00_pig716.jpg  \n",
            "  inflating: pig_data/train/not-eating/pig/00_pig717.jpg  \n",
            "  inflating: pig_data/train/not-eating/pig/00_pig718.jpg  \n",
            "  inflating: pig_data/train/not-eating/pig/00_pig719.jpg  \n",
            "  inflating: pig_data/train/not-eating/pig/00_pig72.jpg  \n",
            "  inflating: pig_data/train/not-eating/pig/00_pig720.jpg  \n",
            "  inflating: pig_data/train/not-eating/pig/00_pig721.jpg  \n",
            "  inflating: pig_data/train/not-eating/pig/00_pig722.jpg  \n",
            "  inflating: pig_data/train/not-eating/pig/00_pig723.jpg  \n",
            "  inflating: pig_data/train/not-eating/pig/00_pig724.jpg  \n",
            "  inflating: pig_data/train/not-eating/pig/00_pig725.jpg  \n",
            "  inflating: pig_data/train/not-eating/pig/00_pig726.jpg  \n",
            "  inflating: pig_data/train/not-eating/pig/00_pig727.jpg  \n",
            "  inflating: pig_data/train/not-eating/pig/00_pig728.jpg  \n",
            "  inflating: pig_data/train/not-eating/pig/00_pig729.jpg  \n",
            "  inflating: pig_data/train/not-eating/pig/00_pig73.jpg  \n",
            "  inflating: pig_data/train/not-eating/pig/00_pig730.jpg  \n",
            "  inflating: pig_data/train/not-eating/pig/00_pig731.jpg  \n",
            "  inflating: pig_data/train/not-eating/pig/00_pig732.jpg  \n",
            "  inflating: pig_data/train/not-eating/pig/00_pig733.jpg  \n",
            "  inflating: pig_data/train/not-eating/pig/00_pig734.jpg  \n",
            "  inflating: pig_data/train/not-eating/pig/00_pig735.jpg  \n",
            "  inflating: pig_data/train/not-eating/pig/00_pig736.jpg  \n",
            "  inflating: pig_data/train/not-eating/pig/00_pig737.jpg  \n",
            "  inflating: pig_data/train/not-eating/pig/00_pig738.jpg  \n",
            "  inflating: pig_data/train/not-eating/pig/00_pig739.jpg  \n",
            "  inflating: pig_data/train/not-eating/pig/00_pig74.jpg  \n",
            "  inflating: pig_data/train/not-eating/pig/00_pig740.jpg  \n",
            "  inflating: pig_data/train/not-eating/pig/00_pig741.jpg  \n",
            "  inflating: pig_data/train/not-eating/pig/00_pig742.jpg  \n",
            "  inflating: pig_data/train/not-eating/pig/00_pig743.jpg  \n",
            "  inflating: pig_data/train/not-eating/pig/00_pig744.jpg  \n",
            "  inflating: pig_data/train/not-eating/pig/00_pig745.jpg  \n",
            "  inflating: pig_data/train/not-eating/pig/00_pig746.jpg  \n",
            "  inflating: pig_data/train/not-eating/pig/00_pig747.jpg  \n",
            "  inflating: pig_data/train/not-eating/pig/00_pig748.jpg  \n",
            "  inflating: pig_data/train/not-eating/pig/00_pig749.jpg  \n",
            "  inflating: pig_data/train/not-eating/pig/00_pig75.jpg  \n",
            "  inflating: pig_data/train/not-eating/pig/00_pig750.jpg  \n",
            "  inflating: pig_data/train/not-eating/pig/00_pig751.jpg  \n",
            "  inflating: pig_data/train/not-eating/pig/00_pig752.jpg  \n",
            "  inflating: pig_data/train/not-eating/pig/00_pig753.jpg  \n",
            "  inflating: pig_data/train/not-eating/pig/00_pig754.jpg  \n",
            "  inflating: pig_data/train/not-eating/pig/00_pig755.jpg  \n",
            "  inflating: pig_data/train/not-eating/pig/00_pig756.jpg  \n",
            "  inflating: pig_data/train/not-eating/pig/00_pig757.jpg  \n",
            "  inflating: pig_data/train/not-eating/pig/00_pig758.jpg  \n",
            "  inflating: pig_data/train/not-eating/pig/00_pig759.jpg  \n",
            "  inflating: pig_data/train/not-eating/pig/00_pig76.jpg  \n",
            "  inflating: pig_data/train/not-eating/pig/00_pig760.jpg  \n",
            "  inflating: pig_data/train/not-eating/pig/00_pig761.jpg  \n",
            "  inflating: pig_data/train/not-eating/pig/00_pig762.jpg  \n",
            "  inflating: pig_data/train/not-eating/pig/00_pig763.jpg  \n",
            "  inflating: pig_data/train/not-eating/pig/00_pig764.jpg  \n",
            "  inflating: pig_data/train/not-eating/pig/00_pig765.jpg  \n",
            "  inflating: pig_data/train/not-eating/pig/00_pig766.jpg  \n",
            "  inflating: pig_data/train/not-eating/pig/00_pig767.jpg  \n",
            "  inflating: pig_data/train/not-eating/pig/00_pig768.jpg  \n",
            "  inflating: pig_data/train/not-eating/pig/00_pig769.jpg  \n",
            "  inflating: pig_data/train/not-eating/pig/00_pig77.jpg  \n",
            "  inflating: pig_data/train/not-eating/pig/00_pig770.jpg  \n",
            "  inflating: pig_data/train/not-eating/pig/00_pig771.jpg  \n",
            "  inflating: pig_data/train/not-eating/pig/00_pig772.jpg  \n",
            "  inflating: pig_data/train/not-eating/pig/00_pig773.jpg  \n",
            "  inflating: pig_data/train/not-eating/pig/00_pig774.jpg  \n",
            "  inflating: pig_data/train/not-eating/pig/00_pig775.jpg  \n",
            "  inflating: pig_data/train/not-eating/pig/00_pig776.jpg  \n",
            "  inflating: pig_data/train/not-eating/pig/00_pig777.jpg  \n",
            "  inflating: pig_data/train/not-eating/pig/00_pig778.jpg  \n",
            "  inflating: pig_data/train/not-eating/pig/00_pig779.jpg  \n",
            "  inflating: pig_data/train/not-eating/pig/00_pig78.jpg  \n",
            "  inflating: pig_data/train/not-eating/pig/00_pig780.jpg  \n",
            "  inflating: pig_data/train/not-eating/pig/00_pig781.jpg  \n",
            "  inflating: pig_data/train/not-eating/pig/00_pig782.jpg  \n",
            "  inflating: pig_data/train/not-eating/pig/00_pig783.jpg  \n",
            "  inflating: pig_data/train/not-eating/pig/00_pig784.jpg  \n",
            "  inflating: pig_data/train/not-eating/pig/00_pig785.jpg  \n",
            "  inflating: pig_data/train/not-eating/pig/00_pig786.jpg  \n",
            "  inflating: pig_data/train/not-eating/pig/00_pig787.jpg  \n",
            "  inflating: pig_data/train/not-eating/pig/00_pig788.jpg  \n",
            "  inflating: pig_data/train/not-eating/pig/00_pig789.jpg  \n",
            "  inflating: pig_data/train/not-eating/pig/00_pig79.jpg  \n",
            "  inflating: pig_data/train/not-eating/pig/00_pig790.jpg  \n",
            "  inflating: pig_data/train/not-eating/pig/00_pig791.jpg  \n",
            "  inflating: pig_data/train/not-eating/pig/00_pig792.jpg  \n",
            "  inflating: pig_data/train/not-eating/pig/00_pig793.jpg  \n",
            "  inflating: pig_data/train/not-eating/pig/00_pig794.jpg  \n",
            "  inflating: pig_data/train/not-eating/pig/00_pig795.jpg  \n",
            "  inflating: pig_data/train/not-eating/pig/00_pig796.jpg  \n",
            "  inflating: pig_data/train/not-eating/pig/00_pig797.jpg  \n",
            "  inflating: pig_data/train/not-eating/pig/00_pig798.jpg  \n",
            "  inflating: pig_data/train/not-eating/pig/00_pig799.jpg  \n",
            "  inflating: pig_data/train/not-eating/pig/00_pig8.jpg  \n",
            "  inflating: pig_data/train/not-eating/pig/00_pig80.jpg  \n",
            "  inflating: pig_data/train/not-eating/pig/00_pig800.jpg  \n",
            "  inflating: pig_data/train/not-eating/pig/00_pig801.jpg  \n",
            "  inflating: pig_data/train/not-eating/pig/00_pig802.jpg  \n",
            "  inflating: pig_data/train/not-eating/pig/00_pig803.jpg  \n",
            "  inflating: pig_data/train/not-eating/pig/00_pig804.jpg  \n",
            "  inflating: pig_data/train/not-eating/pig/00_pig805.jpg  \n",
            "  inflating: pig_data/train/not-eating/pig/00_pig806.jpg  \n",
            "  inflating: pig_data/train/not-eating/pig/00_pig807.jpg  \n",
            "  inflating: pig_data/train/not-eating/pig/00_pig808.jpg  \n",
            "  inflating: pig_data/train/not-eating/pig/00_pig809.jpg  \n",
            "  inflating: pig_data/train/not-eating/pig/00_pig81.jpg  \n",
            "  inflating: pig_data/train/not-eating/pig/00_pig810.jpg  \n",
            "  inflating: pig_data/train/not-eating/pig/00_pig811.jpg  \n",
            "  inflating: pig_data/train/not-eating/pig/00_pig812.jpg  \n",
            "  inflating: pig_data/train/not-eating/pig/00_pig813.jpg  \n",
            "  inflating: pig_data/train/not-eating/pig/00_pig814.jpg  \n",
            "  inflating: pig_data/train/not-eating/pig/00_pig815.jpg  \n",
            "  inflating: pig_data/train/not-eating/pig/00_pig816.jpg  \n",
            "  inflating: pig_data/train/not-eating/pig/00_pig817.jpg  \n",
            "  inflating: pig_data/train/not-eating/pig/00_pig818.jpg  \n",
            "  inflating: pig_data/train/not-eating/pig/00_pig819.jpg  \n",
            "  inflating: pig_data/train/not-eating/pig/00_pig82.jpg  \n",
            "  inflating: pig_data/train/not-eating/pig/00_pig820.jpg  \n",
            "  inflating: pig_data/train/not-eating/pig/00_pig821.jpg  \n",
            "  inflating: pig_data/train/not-eating/pig/00_pig822.jpg  \n",
            "  inflating: pig_data/train/not-eating/pig/00_pig823.jpg  \n",
            "  inflating: pig_data/train/not-eating/pig/00_pig824.jpg  \n",
            "  inflating: pig_data/train/not-eating/pig/00_pig825.jpg  \n",
            "  inflating: pig_data/train/not-eating/pig/00_pig826.jpg  \n",
            "  inflating: pig_data/train/not-eating/pig/00_pig827.jpg  \n",
            "  inflating: pig_data/train/not-eating/pig/00_pig828.jpg  \n",
            "  inflating: pig_data/train/not-eating/pig/00_pig829.jpg  \n",
            "  inflating: pig_data/train/not-eating/pig/00_pig83.jpg  \n",
            "  inflating: pig_data/train/not-eating/pig/00_pig830.jpg  \n",
            "  inflating: pig_data/train/not-eating/pig/00_pig831.jpg  \n",
            "  inflating: pig_data/train/not-eating/pig/00_pig832.jpg  \n",
            "  inflating: pig_data/train/not-eating/pig/00_pig833.jpg  \n",
            "  inflating: pig_data/train/not-eating/pig/00_pig834.jpg  \n",
            "  inflating: pig_data/train/not-eating/pig/00_pig835.jpg  \n",
            "  inflating: pig_data/train/not-eating/pig/00_pig836.jpg  \n",
            "  inflating: pig_data/train/not-eating/pig/00_pig837.jpg  \n",
            "  inflating: pig_data/train/not-eating/pig/00_pig838.jpg  \n",
            "  inflating: pig_data/train/not-eating/pig/00_pig839.jpg  \n",
            "  inflating: pig_data/train/not-eating/pig/00_pig84.jpg  \n",
            "  inflating: pig_data/train/not-eating/pig/00_pig840.jpg  \n",
            "  inflating: pig_data/train/not-eating/pig/00_pig841.jpg  \n",
            "  inflating: pig_data/train/not-eating/pig/00_pig842.jpg  \n",
            "  inflating: pig_data/train/not-eating/pig/00_pig843.jpg  \n",
            "  inflating: pig_data/train/not-eating/pig/00_pig844.jpg  \n",
            "  inflating: pig_data/train/not-eating/pig/00_pig845.jpg  \n",
            "  inflating: pig_data/train/not-eating/pig/00_pig846.jpg  \n",
            "  inflating: pig_data/train/not-eating/pig/00_pig847.jpg  \n",
            "  inflating: pig_data/train/not-eating/pig/00_pig848.jpg  \n",
            "  inflating: pig_data/train/not-eating/pig/00_pig849.jpg  \n",
            "  inflating: pig_data/train/not-eating/pig/00_pig85.jpg  \n",
            "  inflating: pig_data/train/not-eating/pig/00_pig850.jpg  \n",
            "  inflating: pig_data/train/not-eating/pig/00_pig851.jpg  \n",
            "  inflating: pig_data/train/not-eating/pig/00_pig852.jpg  \n",
            "  inflating: pig_data/train/not-eating/pig/00_pig853.jpg  \n",
            "  inflating: pig_data/train/not-eating/pig/00_pig854.jpg  \n",
            "  inflating: pig_data/train/not-eating/pig/00_pig855.jpg  \n",
            "  inflating: pig_data/train/not-eating/pig/00_pig856.jpg  \n",
            "  inflating: pig_data/train/not-eating/pig/00_pig857.jpg  \n",
            "  inflating: pig_data/train/not-eating/pig/00_pig858.jpg  \n",
            "  inflating: pig_data/train/not-eating/pig/00_pig859.jpg  \n",
            "  inflating: pig_data/train/not-eating/pig/00_pig86.jpg  \n",
            "  inflating: pig_data/train/not-eating/pig/00_pig860.jpg  \n",
            "  inflating: pig_data/train/not-eating/pig/00_pig861.jpg  \n",
            "  inflating: pig_data/train/not-eating/pig/00_pig862.jpg  \n",
            "  inflating: pig_data/train/not-eating/pig/00_pig863.jpg  \n",
            "  inflating: pig_data/train/not-eating/pig/00_pig864.jpg  \n",
            "  inflating: pig_data/train/not-eating/pig/00_pig865.jpg  \n",
            "  inflating: pig_data/train/not-eating/pig/00_pig866.jpg  \n",
            "  inflating: pig_data/train/not-eating/pig/00_pig867.jpg  \n",
            "  inflating: pig_data/train/not-eating/pig/00_pig868.jpg  \n",
            "  inflating: pig_data/train/not-eating/pig/00_pig869.jpg  \n",
            "  inflating: pig_data/train/not-eating/pig/00_pig87.jpg  \n",
            "  inflating: pig_data/train/not-eating/pig/00_pig870.jpg  \n",
            "  inflating: pig_data/train/not-eating/pig/00_pig871.jpg  \n",
            "  inflating: pig_data/train/not-eating/pig/00_pig872.jpg  \n",
            "  inflating: pig_data/train/not-eating/pig/00_pig873.jpg  \n",
            "  inflating: pig_data/train/not-eating/pig/00_pig874.jpg  \n",
            "  inflating: pig_data/train/not-eating/pig/00_pig875.jpg  \n",
            "  inflating: pig_data/train/not-eating/pig/00_pig876.jpg  \n",
            "  inflating: pig_data/train/not-eating/pig/00_pig877.jpg  \n",
            "  inflating: pig_data/train/not-eating/pig/00_pig878.jpg  \n",
            "  inflating: pig_data/train/not-eating/pig/00_pig879.jpg  \n",
            "  inflating: pig_data/train/not-eating/pig/00_pig88.jpg  \n",
            "  inflating: pig_data/train/not-eating/pig/00_pig880.jpg  \n",
            "  inflating: pig_data/train/not-eating/pig/00_pig881.jpg  \n",
            "  inflating: pig_data/train/not-eating/pig/00_pig882.jpg  \n",
            "  inflating: pig_data/train/not-eating/pig/00_pig883.jpg  \n",
            "  inflating: pig_data/train/not-eating/pig/00_pig884.jpg  \n",
            "  inflating: pig_data/train/not-eating/pig/00_pig885.jpg  \n",
            "  inflating: pig_data/train/not-eating/pig/00_pig886.jpg  \n",
            "  inflating: pig_data/train/not-eating/pig/00_pig887.jpg  \n",
            "  inflating: pig_data/train/not-eating/pig/00_pig888.jpg  \n",
            "  inflating: pig_data/train/not-eating/pig/00_pig889.jpg  \n",
            "  inflating: pig_data/train/not-eating/pig/00_pig89.jpg  \n",
            "  inflating: pig_data/train/not-eating/pig/00_pig890.jpg  \n",
            "  inflating: pig_data/train/not-eating/pig/00_pig891.jpg  \n",
            "  inflating: pig_data/train/not-eating/pig/00_pig892.jpg  \n",
            "  inflating: pig_data/train/not-eating/pig/00_pig893.jpg  \n",
            "  inflating: pig_data/train/not-eating/pig/00_pig894.jpg  \n",
            "  inflating: pig_data/train/not-eating/pig/00_pig895.jpg  \n",
            "  inflating: pig_data/train/not-eating/pig/00_pig896.jpg  \n",
            "  inflating: pig_data/train/not-eating/pig/00_pig897.jpg  \n",
            "  inflating: pig_data/train/not-eating/pig/00_pig898.jpg  \n",
            "  inflating: pig_data/train/not-eating/pig/00_pig899.jpg  \n",
            "  inflating: pig_data/train/not-eating/pig/00_pig9.jpg  \n",
            "  inflating: pig_data/train/not-eating/pig/00_pig90.jpg  \n",
            "  inflating: pig_data/train/not-eating/pig/00_pig900.jpg  \n",
            "  inflating: pig_data/train/not-eating/pig/00_pig901.jpg  \n",
            "  inflating: pig_data/train/not-eating/pig/00_pig902.jpg  \n",
            "  inflating: pig_data/train/not-eating/pig/00_pig903.jpg  \n",
            "  inflating: pig_data/train/not-eating/pig/00_pig904.jpg  \n",
            "  inflating: pig_data/train/not-eating/pig/00_pig905.jpg  \n",
            "  inflating: pig_data/train/not-eating/pig/00_pig906.jpg  \n",
            "  inflating: pig_data/train/not-eating/pig/00_pig907.jpg  \n",
            "  inflating: pig_data/train/not-eating/pig/00_pig908.jpg  \n",
            "  inflating: pig_data/train/not-eating/pig/00_pig909.jpg  \n",
            "  inflating: pig_data/train/not-eating/pig/00_pig91.jpg  \n",
            "  inflating: pig_data/train/not-eating/pig/00_pig910.jpg  \n",
            "  inflating: pig_data/train/not-eating/pig/00_pig911.jpg  \n",
            "  inflating: pig_data/train/not-eating/pig/00_pig912.jpg  \n",
            "  inflating: pig_data/train/not-eating/pig/00_pig913.jpg  \n",
            "  inflating: pig_data/train/not-eating/pig/00_pig914.jpg  \n",
            "  inflating: pig_data/train/not-eating/pig/00_pig915.jpg  \n",
            "  inflating: pig_data/train/not-eating/pig/00_pig916.jpg  \n",
            "  inflating: pig_data/train/not-eating/pig/00_pig917.jpg  \n",
            "  inflating: pig_data/train/not-eating/pig/00_pig918.jpg  \n",
            "  inflating: pig_data/train/not-eating/pig/00_pig919.jpg  \n",
            "  inflating: pig_data/train/not-eating/pig/00_pig92.jpg  \n",
            "  inflating: pig_data/train/not-eating/pig/00_pig920.jpg  \n",
            "  inflating: pig_data/train/not-eating/pig/00_pig921.jpg  \n",
            "  inflating: pig_data/train/not-eating/pig/00_pig922.jpg  \n",
            "  inflating: pig_data/train/not-eating/pig/00_pig923.jpg  \n",
            "  inflating: pig_data/train/not-eating/pig/00_pig924.jpg  \n",
            "  inflating: pig_data/train/not-eating/pig/00_pig925.jpg  \n",
            "  inflating: pig_data/train/not-eating/pig/00_pig926.jpg  \n",
            "  inflating: pig_data/train/not-eating/pig/00_pig927.jpg  \n",
            "  inflating: pig_data/train/not-eating/pig/00_pig928.jpg  \n",
            "  inflating: pig_data/train/not-eating/pig/00_pig929.jpg  \n",
            "  inflating: pig_data/train/not-eating/pig/00_pig93.jpg  \n",
            "  inflating: pig_data/train/not-eating/pig/00_pig930.jpg  \n",
            "  inflating: pig_data/train/not-eating/pig/00_pig931.jpg  \n",
            "  inflating: pig_data/train/not-eating/pig/00_pig932.jpg  \n",
            "  inflating: pig_data/train/not-eating/pig/00_pig933.jpg  \n",
            "  inflating: pig_data/train/not-eating/pig/00_pig934.jpg  \n",
            "  inflating: pig_data/train/not-eating/pig/00_pig935.jpg  \n",
            "  inflating: pig_data/train/not-eating/pig/00_pig936.jpg  \n",
            "  inflating: pig_data/train/not-eating/pig/00_pig937.jpg  \n",
            "  inflating: pig_data/train/not-eating/pig/00_pig938.jpg  \n",
            "  inflating: pig_data/train/not-eating/pig/00_pig939.jpg  \n",
            "  inflating: pig_data/train/not-eating/pig/00_pig94.jpg  \n",
            "  inflating: pig_data/train/not-eating/pig/00_pig940.jpg  \n",
            "  inflating: pig_data/train/not-eating/pig/00_pig941.jpg  \n",
            "  inflating: pig_data/train/not-eating/pig/00_pig942.jpg  \n",
            "  inflating: pig_data/train/not-eating/pig/00_pig943.jpg  \n",
            "  inflating: pig_data/train/not-eating/pig/00_pig944.jpg  \n",
            "  inflating: pig_data/train/not-eating/pig/00_pig945.jpg  \n",
            "  inflating: pig_data/train/not-eating/pig/00_pig946.jpg  \n",
            "  inflating: pig_data/train/not-eating/pig/00_pig947.jpg  \n",
            "  inflating: pig_data/train/not-eating/pig/00_pig948.jpg  \n",
            "  inflating: pig_data/train/not-eating/pig/00_pig949.jpg  \n",
            "  inflating: pig_data/train/not-eating/pig/00_pig95.jpg  \n",
            "  inflating: pig_data/train/not-eating/pig/00_pig950.jpg  \n",
            "  inflating: pig_data/train/not-eating/pig/00_pig951.jpg  \n",
            "  inflating: pig_data/train/not-eating/pig/00_pig952.jpg  \n",
            "  inflating: pig_data/train/not-eating/pig/00_pig953.jpg  \n",
            "  inflating: pig_data/train/not-eating/pig/00_pig954.jpg  \n",
            "  inflating: pig_data/train/not-eating/pig/00_pig955.jpg  \n",
            "  inflating: pig_data/train/not-eating/pig/00_pig956.jpg  \n",
            "  inflating: pig_data/train/not-eating/pig/00_pig957.jpg  \n",
            "  inflating: pig_data/train/not-eating/pig/00_pig958.jpg  \n",
            "  inflating: pig_data/train/not-eating/pig/00_pig959.jpg  \n",
            "  inflating: pig_data/train/not-eating/pig/00_pig96.jpg  \n",
            "  inflating: pig_data/train/not-eating/pig/00_pig960.jpg  \n",
            "  inflating: pig_data/train/not-eating/pig/00_pig961.jpg  \n",
            "  inflating: pig_data/train/not-eating/pig/00_pig962.jpg  \n",
            "  inflating: pig_data/train/not-eating/pig/00_pig963.jpg  \n",
            "  inflating: pig_data/train/not-eating/pig/00_pig964.jpg  \n",
            "  inflating: pig_data/train/not-eating/pig/00_pig965.jpg  \n",
            "  inflating: pig_data/train/not-eating/pig/00_pig966.jpg  \n",
            "  inflating: pig_data/train/not-eating/pig/00_pig967.jpg  \n",
            "  inflating: pig_data/train/not-eating/pig/00_pig968.jpg  \n",
            "  inflating: pig_data/train/not-eating/pig/00_pig969.jpg  \n",
            "  inflating: pig_data/train/not-eating/pig/00_pig97.jpg  \n",
            "  inflating: pig_data/train/not-eating/pig/00_pig970.jpg  \n",
            "  inflating: pig_data/train/not-eating/pig/00_pig971.jpg  \n",
            "  inflating: pig_data/train/not-eating/pig/00_pig972.jpg  \n",
            "  inflating: pig_data/train/not-eating/pig/00_pig973.jpg  \n",
            "  inflating: pig_data/train/not-eating/pig/00_pig974.jpg  \n",
            "  inflating: pig_data/train/not-eating/pig/00_pig975.jpg  \n",
            "  inflating: pig_data/train/not-eating/pig/00_pig976.jpg  \n",
            "  inflating: pig_data/train/not-eating/pig/00_pig977.jpg  \n",
            "  inflating: pig_data/train/not-eating/pig/00_pig978.jpg  \n",
            "  inflating: pig_data/train/not-eating/pig/00_pig979.jpg  \n",
            "  inflating: pig_data/train/not-eating/pig/00_pig98.jpg  \n",
            "  inflating: pig_data/train/not-eating/pig/00_pig980.jpg  \n",
            "  inflating: pig_data/train/not-eating/pig/00_pig981.jpg  \n",
            "  inflating: pig_data/train/not-eating/pig/00_pig982.jpg  \n",
            "  inflating: pig_data/train/not-eating/pig/00_pig983.jpg  \n",
            "  inflating: pig_data/train/not-eating/pig/00_pig984.jpg  \n",
            "  inflating: pig_data/train/not-eating/pig/00_pig985.jpg  \n",
            "  inflating: pig_data/train/not-eating/pig/00_pig986.jpg  \n",
            "  inflating: pig_data/train/not-eating/pig/00_pig987.jpg  \n",
            "  inflating: pig_data/train/not-eating/pig/00_pig988.jpg  \n",
            "  inflating: pig_data/train/not-eating/pig/00_pig989.jpg  \n",
            "  inflating: pig_data/train/not-eating/pig/00_pig99.jpg  \n",
            "  inflating: pig_data/train/not-eating/pig/00_pig990.jpg  \n",
            "  inflating: pig_data/train/not-eating/pig/00_pig991.jpg  \n",
            "  inflating: pig_data/train/not-eating/pig/00_pig992.jpg  \n",
            "  inflating: pig_data/train/not-eating/pig/00_pig993.jpg  \n",
            "  inflating: pig_data/train/not-eating/pig/00_pig994.jpg  \n",
            "  inflating: pig_data/train/not-eating/pig/00_pig995.jpg  \n",
            "  inflating: pig_data/train/not-eating/pig/00_pig996.jpg  \n",
            "  inflating: pig_data/train/not-eating/pig/00_pig997.jpg  \n",
            "  inflating: pig_data/train/not-eating/pig/00_pig998.jpg  \n",
            "  inflating: pig_data/train/not-eating/pig/00_pig999.jpg  \n",
            "   creating: pig_data/val/\n",
            "   creating: pig_data/val/eating/\n",
            "   creating: pig_data/val/eating/pig/\n",
            "  inflating: pig_data/val/eating/pig/00_pig0.jpg  \n",
            "  inflating: pig_data/val/eating/pig/00_pig1.jpg  \n",
            "  inflating: pig_data/val/eating/pig/00_pig10.jpg  \n",
            "  inflating: pig_data/val/eating/pig/00_pig100.jpg  \n",
            "  inflating: pig_data/val/eating/pig/00_pig101.jpg  \n",
            "  inflating: pig_data/val/eating/pig/00_pig102.jpg  \n",
            "  inflating: pig_data/val/eating/pig/00_pig103.jpg  \n",
            "  inflating: pig_data/val/eating/pig/00_pig104.jpg  \n",
            "  inflating: pig_data/val/eating/pig/00_pig105.jpg  \n",
            "  inflating: pig_data/val/eating/pig/00_pig106.jpg  \n",
            "  inflating: pig_data/val/eating/pig/00_pig107.jpg  \n",
            "  inflating: pig_data/val/eating/pig/00_pig108.jpg  \n",
            "  inflating: pig_data/val/eating/pig/00_pig109.jpg  \n",
            "  inflating: pig_data/val/eating/pig/00_pig11.jpg  \n",
            "  inflating: pig_data/val/eating/pig/00_pig110.jpg  \n",
            "  inflating: pig_data/val/eating/pig/00_pig111.jpg  \n",
            "  inflating: pig_data/val/eating/pig/00_pig112.jpg  \n",
            "  inflating: pig_data/val/eating/pig/00_pig113.jpg  \n",
            "  inflating: pig_data/val/eating/pig/00_pig114.jpg  \n",
            "  inflating: pig_data/val/eating/pig/00_pig115.jpg  \n",
            "  inflating: pig_data/val/eating/pig/00_pig116.jpg  \n",
            "  inflating: pig_data/val/eating/pig/00_pig117.jpg  \n",
            "  inflating: pig_data/val/eating/pig/00_pig118.jpg  \n",
            "  inflating: pig_data/val/eating/pig/00_pig119.jpg  \n",
            "  inflating: pig_data/val/eating/pig/00_pig12.jpg  \n",
            "  inflating: pig_data/val/eating/pig/00_pig120.jpg  \n",
            "  inflating: pig_data/val/eating/pig/00_pig121.jpg  \n",
            "  inflating: pig_data/val/eating/pig/00_pig122.jpg  \n",
            "  inflating: pig_data/val/eating/pig/00_pig123.jpg  \n",
            "  inflating: pig_data/val/eating/pig/00_pig124.jpg  \n",
            "  inflating: pig_data/val/eating/pig/00_pig125.jpg  \n",
            "  inflating: pig_data/val/eating/pig/00_pig126.jpg  \n",
            "  inflating: pig_data/val/eating/pig/00_pig127.jpg  \n",
            "  inflating: pig_data/val/eating/pig/00_pig128.jpg  \n",
            "  inflating: pig_data/val/eating/pig/00_pig129.jpg  \n",
            "  inflating: pig_data/val/eating/pig/00_pig13.jpg  \n",
            "  inflating: pig_data/val/eating/pig/00_pig130.jpg  \n",
            "  inflating: pig_data/val/eating/pig/00_pig131.jpg  \n",
            "  inflating: pig_data/val/eating/pig/00_pig132.jpg  \n",
            "  inflating: pig_data/val/eating/pig/00_pig133.jpg  \n",
            "  inflating: pig_data/val/eating/pig/00_pig134.jpg  \n",
            "  inflating: pig_data/val/eating/pig/00_pig135.jpg  \n",
            "  inflating: pig_data/val/eating/pig/00_pig136.jpg  \n",
            "  inflating: pig_data/val/eating/pig/00_pig137.jpg  \n",
            "  inflating: pig_data/val/eating/pig/00_pig138.jpg  \n",
            "  inflating: pig_data/val/eating/pig/00_pig139.jpg  \n",
            "  inflating: pig_data/val/eating/pig/00_pig14.jpg  \n",
            "  inflating: pig_data/val/eating/pig/00_pig140.jpg  \n",
            "  inflating: pig_data/val/eating/pig/00_pig141.jpg  \n",
            "  inflating: pig_data/val/eating/pig/00_pig142.jpg  \n",
            "  inflating: pig_data/val/eating/pig/00_pig143.jpg  \n",
            "  inflating: pig_data/val/eating/pig/00_pig144.jpg  \n",
            "  inflating: pig_data/val/eating/pig/00_pig145.jpg  \n",
            "  inflating: pig_data/val/eating/pig/00_pig146.jpg  \n",
            "  inflating: pig_data/val/eating/pig/00_pig147.jpg  \n",
            "  inflating: pig_data/val/eating/pig/00_pig148.jpg  \n",
            "  inflating: pig_data/val/eating/pig/00_pig149.jpg  \n",
            "  inflating: pig_data/val/eating/pig/00_pig15.jpg  \n",
            "  inflating: pig_data/val/eating/pig/00_pig150.jpg  \n",
            "  inflating: pig_data/val/eating/pig/00_pig151.jpg  \n",
            "  inflating: pig_data/val/eating/pig/00_pig152.jpg  \n",
            "  inflating: pig_data/val/eating/pig/00_pig153.jpg  \n",
            "  inflating: pig_data/val/eating/pig/00_pig154.jpg  \n",
            "  inflating: pig_data/val/eating/pig/00_pig155.jpg  \n",
            "  inflating: pig_data/val/eating/pig/00_pig156.jpg  \n",
            "  inflating: pig_data/val/eating/pig/00_pig157.jpg  \n",
            "  inflating: pig_data/val/eating/pig/00_pig158.jpg  \n",
            "  inflating: pig_data/val/eating/pig/00_pig159.jpg  \n",
            "  inflating: pig_data/val/eating/pig/00_pig16.jpg  \n",
            "  inflating: pig_data/val/eating/pig/00_pig160.jpg  \n",
            "  inflating: pig_data/val/eating/pig/00_pig161.jpg  \n",
            "  inflating: pig_data/val/eating/pig/00_pig162.jpg  \n",
            "  inflating: pig_data/val/eating/pig/00_pig163.jpg  \n",
            "  inflating: pig_data/val/eating/pig/00_pig164.jpg  \n",
            "  inflating: pig_data/val/eating/pig/00_pig165.jpg  \n",
            "  inflating: pig_data/val/eating/pig/00_pig166.jpg  \n",
            "  inflating: pig_data/val/eating/pig/00_pig167.jpg  \n",
            "  inflating: pig_data/val/eating/pig/00_pig168.jpg  \n",
            "  inflating: pig_data/val/eating/pig/00_pig169.jpg  \n",
            "  inflating: pig_data/val/eating/pig/00_pig17.jpg  \n",
            "  inflating: pig_data/val/eating/pig/00_pig170.jpg  \n",
            "  inflating: pig_data/val/eating/pig/00_pig171.jpg  \n",
            "  inflating: pig_data/val/eating/pig/00_pig172.jpg  \n",
            "  inflating: pig_data/val/eating/pig/00_pig173.jpg  \n",
            "  inflating: pig_data/val/eating/pig/00_pig174.jpg  \n",
            "  inflating: pig_data/val/eating/pig/00_pig175.jpg  \n",
            "  inflating: pig_data/val/eating/pig/00_pig176.jpg  \n",
            "  inflating: pig_data/val/eating/pig/00_pig177.jpg  \n",
            "  inflating: pig_data/val/eating/pig/00_pig178.jpg  \n",
            "  inflating: pig_data/val/eating/pig/00_pig179.jpg  \n",
            "  inflating: pig_data/val/eating/pig/00_pig18.jpg  \n",
            "  inflating: pig_data/val/eating/pig/00_pig180.jpg  \n",
            "  inflating: pig_data/val/eating/pig/00_pig181.jpg  \n",
            "  inflating: pig_data/val/eating/pig/00_pig182.jpg  \n",
            "  inflating: pig_data/val/eating/pig/00_pig183.jpg  \n",
            "  inflating: pig_data/val/eating/pig/00_pig184.jpg  \n",
            "  inflating: pig_data/val/eating/pig/00_pig185.jpg  \n",
            "  inflating: pig_data/val/eating/pig/00_pig186.jpg  \n",
            "  inflating: pig_data/val/eating/pig/00_pig187.jpg  \n",
            "  inflating: pig_data/val/eating/pig/00_pig188.jpg  \n",
            "  inflating: pig_data/val/eating/pig/00_pig189.jpg  \n",
            "  inflating: pig_data/val/eating/pig/00_pig19.jpg  \n",
            "  inflating: pig_data/val/eating/pig/00_pig190.jpg  \n",
            "  inflating: pig_data/val/eating/pig/00_pig191.jpg  \n",
            "  inflating: pig_data/val/eating/pig/00_pig192.jpg  \n",
            "  inflating: pig_data/val/eating/pig/00_pig193.jpg  \n",
            "  inflating: pig_data/val/eating/pig/00_pig194.jpg  \n",
            "  inflating: pig_data/val/eating/pig/00_pig195.jpg  \n",
            "  inflating: pig_data/val/eating/pig/00_pig196.jpg  \n",
            "  inflating: pig_data/val/eating/pig/00_pig197.jpg  \n",
            "  inflating: pig_data/val/eating/pig/00_pig198.jpg  \n",
            "  inflating: pig_data/val/eating/pig/00_pig199.jpg  \n",
            "  inflating: pig_data/val/eating/pig/00_pig2.jpg  \n",
            "  inflating: pig_data/val/eating/pig/00_pig20.jpg  \n",
            "  inflating: pig_data/val/eating/pig/00_pig200.jpg  \n",
            "  inflating: pig_data/val/eating/pig/00_pig201.jpg  \n",
            "  inflating: pig_data/val/eating/pig/00_pig202.jpg  \n",
            "  inflating: pig_data/val/eating/pig/00_pig203.jpg  \n",
            "  inflating: pig_data/val/eating/pig/00_pig204.jpg  \n",
            "  inflating: pig_data/val/eating/pig/00_pig205.jpg  \n",
            "  inflating: pig_data/val/eating/pig/00_pig206.jpg  \n",
            "  inflating: pig_data/val/eating/pig/00_pig207.jpg  \n",
            "  inflating: pig_data/val/eating/pig/00_pig208.jpg  \n",
            "  inflating: pig_data/val/eating/pig/00_pig209.jpg  \n",
            "  inflating: pig_data/val/eating/pig/00_pig21.jpg  \n",
            "  inflating: pig_data/val/eating/pig/00_pig210.jpg  \n",
            "  inflating: pig_data/val/eating/pig/00_pig211.jpg  \n",
            "  inflating: pig_data/val/eating/pig/00_pig212.jpg  \n",
            "  inflating: pig_data/val/eating/pig/00_pig213.jpg  \n",
            "  inflating: pig_data/val/eating/pig/00_pig214.jpg  \n",
            "  inflating: pig_data/val/eating/pig/00_pig215.jpg  \n",
            "  inflating: pig_data/val/eating/pig/00_pig216.jpg  \n",
            "  inflating: pig_data/val/eating/pig/00_pig217.jpg  \n",
            "  inflating: pig_data/val/eating/pig/00_pig218.jpg  \n",
            "  inflating: pig_data/val/eating/pig/00_pig219.jpg  \n",
            "  inflating: pig_data/val/eating/pig/00_pig22.jpg  \n",
            "  inflating: pig_data/val/eating/pig/00_pig220.jpg  \n",
            "  inflating: pig_data/val/eating/pig/00_pig221.jpg  \n",
            "  inflating: pig_data/val/eating/pig/00_pig222.jpg  \n",
            "  inflating: pig_data/val/eating/pig/00_pig223.jpg  \n",
            "  inflating: pig_data/val/eating/pig/00_pig224.jpg  \n",
            "  inflating: pig_data/val/eating/pig/00_pig225.jpg  \n",
            "  inflating: pig_data/val/eating/pig/00_pig226.jpg  \n",
            "  inflating: pig_data/val/eating/pig/00_pig227.jpg  \n",
            "  inflating: pig_data/val/eating/pig/00_pig228.jpg  \n",
            "  inflating: pig_data/val/eating/pig/00_pig229.jpg  \n",
            "  inflating: pig_data/val/eating/pig/00_pig23.jpg  \n",
            "  inflating: pig_data/val/eating/pig/00_pig230.jpg  \n",
            "  inflating: pig_data/val/eating/pig/00_pig231.jpg  \n",
            "  inflating: pig_data/val/eating/pig/00_pig232.jpg  \n",
            "  inflating: pig_data/val/eating/pig/00_pig233.jpg  \n",
            "  inflating: pig_data/val/eating/pig/00_pig234.jpg  \n",
            "  inflating: pig_data/val/eating/pig/00_pig235.jpg  \n",
            "  inflating: pig_data/val/eating/pig/00_pig236.jpg  \n",
            "  inflating: pig_data/val/eating/pig/00_pig237.jpg  \n",
            "  inflating: pig_data/val/eating/pig/00_pig238.jpg  \n",
            "  inflating: pig_data/val/eating/pig/00_pig239.jpg  \n",
            "  inflating: pig_data/val/eating/pig/00_pig24.jpg  \n",
            "  inflating: pig_data/val/eating/pig/00_pig240.jpg  \n",
            "  inflating: pig_data/val/eating/pig/00_pig241.jpg  \n",
            "  inflating: pig_data/val/eating/pig/00_pig242.jpg  \n",
            "  inflating: pig_data/val/eating/pig/00_pig243.jpg  \n",
            "  inflating: pig_data/val/eating/pig/00_pig244.jpg  \n",
            "  inflating: pig_data/val/eating/pig/00_pig245.jpg  \n",
            "  inflating: pig_data/val/eating/pig/00_pig246.jpg  \n",
            "  inflating: pig_data/val/eating/pig/00_pig247.jpg  \n",
            "  inflating: pig_data/val/eating/pig/00_pig248.jpg  \n",
            "  inflating: pig_data/val/eating/pig/00_pig249.jpg  \n",
            "  inflating: pig_data/val/eating/pig/00_pig25.jpg  \n",
            "  inflating: pig_data/val/eating/pig/00_pig250.jpg  \n",
            "  inflating: pig_data/val/eating/pig/00_pig251.jpg  \n",
            "  inflating: pig_data/val/eating/pig/00_pig252.jpg  \n",
            "  inflating: pig_data/val/eating/pig/00_pig253.jpg  \n",
            "  inflating: pig_data/val/eating/pig/00_pig254.jpg  \n",
            "  inflating: pig_data/val/eating/pig/00_pig255.jpg  \n",
            "  inflating: pig_data/val/eating/pig/00_pig256.jpg  \n",
            "  inflating: pig_data/val/eating/pig/00_pig257.jpg  \n",
            "  inflating: pig_data/val/eating/pig/00_pig258.jpg  \n",
            "  inflating: pig_data/val/eating/pig/00_pig259.jpg  \n",
            "  inflating: pig_data/val/eating/pig/00_pig26.jpg  \n",
            "  inflating: pig_data/val/eating/pig/00_pig260.jpg  \n",
            "  inflating: pig_data/val/eating/pig/00_pig261.jpg  \n",
            "  inflating: pig_data/val/eating/pig/00_pig262.jpg  \n",
            "  inflating: pig_data/val/eating/pig/00_pig263.jpg  \n",
            "  inflating: pig_data/val/eating/pig/00_pig264.jpg  \n",
            "  inflating: pig_data/val/eating/pig/00_pig265.jpg  \n",
            "  inflating: pig_data/val/eating/pig/00_pig266.jpg  \n",
            "  inflating: pig_data/val/eating/pig/00_pig267.jpg  \n",
            "  inflating: pig_data/val/eating/pig/00_pig268.jpg  \n",
            "  inflating: pig_data/val/eating/pig/00_pig269.jpg  \n",
            "  inflating: pig_data/val/eating/pig/00_pig27.jpg  \n",
            "  inflating: pig_data/val/eating/pig/00_pig270.jpg  \n",
            "  inflating: pig_data/val/eating/pig/00_pig271.jpg  \n",
            "  inflating: pig_data/val/eating/pig/00_pig272.jpg  \n",
            "  inflating: pig_data/val/eating/pig/00_pig273.jpg  \n",
            "  inflating: pig_data/val/eating/pig/00_pig274.jpg  \n",
            "  inflating: pig_data/val/eating/pig/00_pig275.jpg  \n",
            "  inflating: pig_data/val/eating/pig/00_pig276.jpg  \n",
            "  inflating: pig_data/val/eating/pig/00_pig277.jpg  \n",
            "  inflating: pig_data/val/eating/pig/00_pig278.jpg  \n",
            "  inflating: pig_data/val/eating/pig/00_pig279.jpg  \n",
            "  inflating: pig_data/val/eating/pig/00_pig28.jpg  \n",
            "  inflating: pig_data/val/eating/pig/00_pig280.jpg  \n",
            "  inflating: pig_data/val/eating/pig/00_pig281.jpg  \n",
            "  inflating: pig_data/val/eating/pig/00_pig282.jpg  \n",
            "  inflating: pig_data/val/eating/pig/00_pig283.jpg  \n",
            "  inflating: pig_data/val/eating/pig/00_pig284.jpg  \n",
            "  inflating: pig_data/val/eating/pig/00_pig285.jpg  \n",
            "  inflating: pig_data/val/eating/pig/00_pig286.jpg  \n",
            "  inflating: pig_data/val/eating/pig/00_pig287.jpg  \n",
            "  inflating: pig_data/val/eating/pig/00_pig288.jpg  \n",
            "  inflating: pig_data/val/eating/pig/00_pig289.jpg  \n",
            "  inflating: pig_data/val/eating/pig/00_pig29.jpg  \n",
            "  inflating: pig_data/val/eating/pig/00_pig290.jpg  \n",
            "  inflating: pig_data/val/eating/pig/00_pig291.jpg  \n",
            "  inflating: pig_data/val/eating/pig/00_pig292.jpg  \n",
            "  inflating: pig_data/val/eating/pig/00_pig293.jpg  \n",
            "  inflating: pig_data/val/eating/pig/00_pig294.jpg  \n",
            "  inflating: pig_data/val/eating/pig/00_pig295.jpg  \n",
            "  inflating: pig_data/val/eating/pig/00_pig296.jpg  \n",
            "  inflating: pig_data/val/eating/pig/00_pig297.jpg  \n",
            "  inflating: pig_data/val/eating/pig/00_pig298.jpg  \n",
            "  inflating: pig_data/val/eating/pig/00_pig299.jpg  \n",
            "  inflating: pig_data/val/eating/pig/00_pig3.jpg  \n",
            "  inflating: pig_data/val/eating/pig/00_pig30.jpg  \n",
            "  inflating: pig_data/val/eating/pig/00_pig300.jpg  \n",
            "  inflating: pig_data/val/eating/pig/00_pig301.jpg  \n",
            "  inflating: pig_data/val/eating/pig/00_pig302.jpg  \n",
            "  inflating: pig_data/val/eating/pig/00_pig303.jpg  \n",
            "  inflating: pig_data/val/eating/pig/00_pig304.jpg  \n",
            "  inflating: pig_data/val/eating/pig/00_pig305.jpg  \n",
            "  inflating: pig_data/val/eating/pig/00_pig306.jpg  \n",
            "  inflating: pig_data/val/eating/pig/00_pig307.jpg  \n",
            "  inflating: pig_data/val/eating/pig/00_pig308.jpg  \n",
            "  inflating: pig_data/val/eating/pig/00_pig309.jpg  \n",
            "  inflating: pig_data/val/eating/pig/00_pig31.jpg  \n",
            "  inflating: pig_data/val/eating/pig/00_pig310.jpg  \n",
            "  inflating: pig_data/val/eating/pig/00_pig311.jpg  \n",
            "  inflating: pig_data/val/eating/pig/00_pig312.jpg  \n",
            "  inflating: pig_data/val/eating/pig/00_pig313.jpg  \n",
            "  inflating: pig_data/val/eating/pig/00_pig314.jpg  \n",
            "  inflating: pig_data/val/eating/pig/00_pig315.jpg  \n",
            "  inflating: pig_data/val/eating/pig/00_pig316.jpg  \n",
            "  inflating: pig_data/val/eating/pig/00_pig317.jpg  \n",
            "  inflating: pig_data/val/eating/pig/00_pig318.jpg  \n",
            "  inflating: pig_data/val/eating/pig/00_pig319.jpg  \n",
            "  inflating: pig_data/val/eating/pig/00_pig32.jpg  \n",
            "  inflating: pig_data/val/eating/pig/00_pig320.jpg  \n",
            "  inflating: pig_data/val/eating/pig/00_pig321.jpg  \n",
            "  inflating: pig_data/val/eating/pig/00_pig322.jpg  \n",
            "  inflating: pig_data/val/eating/pig/00_pig323.jpg  \n",
            "  inflating: pig_data/val/eating/pig/00_pig324.jpg  \n",
            "  inflating: pig_data/val/eating/pig/00_pig325.jpg  \n",
            "  inflating: pig_data/val/eating/pig/00_pig326.jpg  \n",
            "  inflating: pig_data/val/eating/pig/00_pig327.jpg  \n",
            "  inflating: pig_data/val/eating/pig/00_pig328.jpg  \n",
            "  inflating: pig_data/val/eating/pig/00_pig329.jpg  \n",
            "  inflating: pig_data/val/eating/pig/00_pig33.jpg  \n",
            "  inflating: pig_data/val/eating/pig/00_pig330.jpg  \n",
            "  inflating: pig_data/val/eating/pig/00_pig331.jpg  \n",
            "  inflating: pig_data/val/eating/pig/00_pig332.jpg  \n",
            "  inflating: pig_data/val/eating/pig/00_pig333.jpg  \n",
            "  inflating: pig_data/val/eating/pig/00_pig334.jpg  \n",
            "  inflating: pig_data/val/eating/pig/00_pig335.jpg  \n",
            "  inflating: pig_data/val/eating/pig/00_pig336.jpg  \n",
            "  inflating: pig_data/val/eating/pig/00_pig337.jpg  \n",
            "  inflating: pig_data/val/eating/pig/00_pig338.jpg  \n",
            "  inflating: pig_data/val/eating/pig/00_pig339.jpg  \n",
            "  inflating: pig_data/val/eating/pig/00_pig34.jpg  \n",
            "  inflating: pig_data/val/eating/pig/00_pig340.jpg  \n",
            "  inflating: pig_data/val/eating/pig/00_pig341.jpg  \n",
            "  inflating: pig_data/val/eating/pig/00_pig342.jpg  \n",
            "  inflating: pig_data/val/eating/pig/00_pig343.jpg  \n",
            "  inflating: pig_data/val/eating/pig/00_pig344.jpg  \n",
            "  inflating: pig_data/val/eating/pig/00_pig345.jpg  \n",
            "  inflating: pig_data/val/eating/pig/00_pig346.jpg  \n",
            "  inflating: pig_data/val/eating/pig/00_pig347.jpg  \n",
            "  inflating: pig_data/val/eating/pig/00_pig348.jpg  \n",
            "  inflating: pig_data/val/eating/pig/00_pig349.jpg  \n",
            "  inflating: pig_data/val/eating/pig/00_pig35.jpg  \n",
            "  inflating: pig_data/val/eating/pig/00_pig350.jpg  \n",
            "  inflating: pig_data/val/eating/pig/00_pig351.jpg  \n",
            "  inflating: pig_data/val/eating/pig/00_pig352.jpg  \n",
            "  inflating: pig_data/val/eating/pig/00_pig353.jpg  \n",
            "  inflating: pig_data/val/eating/pig/00_pig354.jpg  \n",
            "  inflating: pig_data/val/eating/pig/00_pig355.jpg  \n",
            "  inflating: pig_data/val/eating/pig/00_pig356.jpg  \n",
            "  inflating: pig_data/val/eating/pig/00_pig357.jpg  \n",
            "  inflating: pig_data/val/eating/pig/00_pig358.jpg  \n",
            "  inflating: pig_data/val/eating/pig/00_pig359.jpg  \n",
            "  inflating: pig_data/val/eating/pig/00_pig36.jpg  \n",
            "  inflating: pig_data/val/eating/pig/00_pig360.jpg  \n",
            "  inflating: pig_data/val/eating/pig/00_pig361.jpg  \n",
            "  inflating: pig_data/val/eating/pig/00_pig362.jpg  \n",
            "  inflating: pig_data/val/eating/pig/00_pig363.jpg  \n",
            "  inflating: pig_data/val/eating/pig/00_pig364.jpg  \n",
            "  inflating: pig_data/val/eating/pig/00_pig365.jpg  \n",
            "  inflating: pig_data/val/eating/pig/00_pig366.jpg  \n",
            "  inflating: pig_data/val/eating/pig/00_pig367.jpg  \n",
            "  inflating: pig_data/val/eating/pig/00_pig368.jpg  \n",
            "  inflating: pig_data/val/eating/pig/00_pig369.jpg  \n",
            "  inflating: pig_data/val/eating/pig/00_pig37.jpg  \n",
            "  inflating: pig_data/val/eating/pig/00_pig370.jpg  \n",
            "  inflating: pig_data/val/eating/pig/00_pig371.jpg  \n",
            "  inflating: pig_data/val/eating/pig/00_pig372.jpg  \n",
            "  inflating: pig_data/val/eating/pig/00_pig373.jpg  \n",
            "  inflating: pig_data/val/eating/pig/00_pig374.jpg  \n",
            "  inflating: pig_data/val/eating/pig/00_pig375.jpg  \n",
            "  inflating: pig_data/val/eating/pig/00_pig376.jpg  \n",
            "  inflating: pig_data/val/eating/pig/00_pig377.jpg  \n",
            "  inflating: pig_data/val/eating/pig/00_pig378.jpg  \n",
            "  inflating: pig_data/val/eating/pig/00_pig379.jpg  \n",
            "  inflating: pig_data/val/eating/pig/00_pig38.jpg  \n",
            "  inflating: pig_data/val/eating/pig/00_pig380.jpg  \n",
            "  inflating: pig_data/val/eating/pig/00_pig381.jpg  \n",
            "  inflating: pig_data/val/eating/pig/00_pig382.jpg  \n",
            "  inflating: pig_data/val/eating/pig/00_pig383.jpg  \n",
            "  inflating: pig_data/val/eating/pig/00_pig384.jpg  \n",
            "  inflating: pig_data/val/eating/pig/00_pig385.jpg  \n",
            "  inflating: pig_data/val/eating/pig/00_pig386.jpg  \n",
            "  inflating: pig_data/val/eating/pig/00_pig387.jpg  \n",
            "  inflating: pig_data/val/eating/pig/00_pig388.jpg  \n",
            "  inflating: pig_data/val/eating/pig/00_pig389.jpg  \n",
            "  inflating: pig_data/val/eating/pig/00_pig39.jpg  \n",
            "  inflating: pig_data/val/eating/pig/00_pig390.jpg  \n",
            "  inflating: pig_data/val/eating/pig/00_pig391.jpg  \n",
            "  inflating: pig_data/val/eating/pig/00_pig392.jpg  \n",
            "  inflating: pig_data/val/eating/pig/00_pig393.jpg  \n",
            "  inflating: pig_data/val/eating/pig/00_pig394.jpg  \n",
            "  inflating: pig_data/val/eating/pig/00_pig395.jpg  \n",
            "  inflating: pig_data/val/eating/pig/00_pig396.jpg  \n",
            "  inflating: pig_data/val/eating/pig/00_pig397.jpg  \n",
            "  inflating: pig_data/val/eating/pig/00_pig398.jpg  \n",
            "  inflating: pig_data/val/eating/pig/00_pig399.jpg  \n",
            "  inflating: pig_data/val/eating/pig/00_pig4.jpg  \n",
            "  inflating: pig_data/val/eating/pig/00_pig40.jpg  \n",
            "  inflating: pig_data/val/eating/pig/00_pig400.jpg  \n",
            "  inflating: pig_data/val/eating/pig/00_pig401.jpg  \n",
            "  inflating: pig_data/val/eating/pig/00_pig402.jpg  \n",
            "  inflating: pig_data/val/eating/pig/00_pig403.jpg  \n",
            "  inflating: pig_data/val/eating/pig/00_pig404.jpg  \n",
            "  inflating: pig_data/val/eating/pig/00_pig405.jpg  \n",
            "  inflating: pig_data/val/eating/pig/00_pig406.jpg  \n",
            "  inflating: pig_data/val/eating/pig/00_pig407.jpg  \n",
            "  inflating: pig_data/val/eating/pig/00_pig408.jpg  \n",
            "  inflating: pig_data/val/eating/pig/00_pig409.jpg  \n",
            "  inflating: pig_data/val/eating/pig/00_pig41.jpg  \n",
            "  inflating: pig_data/val/eating/pig/00_pig410.jpg  \n",
            "  inflating: pig_data/val/eating/pig/00_pig411.jpg  \n",
            "  inflating: pig_data/val/eating/pig/00_pig412.jpg  \n",
            "  inflating: pig_data/val/eating/pig/00_pig413.jpg  \n",
            "  inflating: pig_data/val/eating/pig/00_pig414.jpg  \n",
            "  inflating: pig_data/val/eating/pig/00_pig415.jpg  \n",
            "  inflating: pig_data/val/eating/pig/00_pig416.jpg  \n",
            "  inflating: pig_data/val/eating/pig/00_pig417.jpg  \n",
            "  inflating: pig_data/val/eating/pig/00_pig418.jpg  \n",
            "  inflating: pig_data/val/eating/pig/00_pig419.jpg  \n",
            "  inflating: pig_data/val/eating/pig/00_pig42.jpg  \n",
            "  inflating: pig_data/val/eating/pig/00_pig420.jpg  \n",
            "  inflating: pig_data/val/eating/pig/00_pig421.jpg  \n",
            "  inflating: pig_data/val/eating/pig/00_pig422.jpg  \n",
            "  inflating: pig_data/val/eating/pig/00_pig423.jpg  \n",
            "  inflating: pig_data/val/eating/pig/00_pig424.jpg  \n",
            "  inflating: pig_data/val/eating/pig/00_pig425.jpg  \n",
            "  inflating: pig_data/val/eating/pig/00_pig426.jpg  \n",
            "  inflating: pig_data/val/eating/pig/00_pig427.jpg  \n",
            "  inflating: pig_data/val/eating/pig/00_pig428.jpg  \n",
            "  inflating: pig_data/val/eating/pig/00_pig429.jpg  \n",
            "  inflating: pig_data/val/eating/pig/00_pig43.jpg  \n",
            "  inflating: pig_data/val/eating/pig/00_pig430.jpg  \n",
            "  inflating: pig_data/val/eating/pig/00_pig431.jpg  \n",
            "  inflating: pig_data/val/eating/pig/00_pig432.jpg  \n",
            "  inflating: pig_data/val/eating/pig/00_pig433.jpg  \n",
            "  inflating: pig_data/val/eating/pig/00_pig434.jpg  \n",
            "  inflating: pig_data/val/eating/pig/00_pig435.jpg  \n",
            "  inflating: pig_data/val/eating/pig/00_pig436.jpg  \n",
            "  inflating: pig_data/val/eating/pig/00_pig437.jpg  \n",
            "  inflating: pig_data/val/eating/pig/00_pig438.jpg  \n",
            "  inflating: pig_data/val/eating/pig/00_pig439.jpg  \n",
            "  inflating: pig_data/val/eating/pig/00_pig44.jpg  \n",
            "  inflating: pig_data/val/eating/pig/00_pig440.jpg  \n",
            "  inflating: pig_data/val/eating/pig/00_pig441.jpg  \n",
            "  inflating: pig_data/val/eating/pig/00_pig442.jpg  \n",
            "  inflating: pig_data/val/eating/pig/00_pig443.jpg  \n",
            "  inflating: pig_data/val/eating/pig/00_pig444.jpg  \n",
            "  inflating: pig_data/val/eating/pig/00_pig445.jpg  \n",
            "  inflating: pig_data/val/eating/pig/00_pig446.jpg  \n",
            "  inflating: pig_data/val/eating/pig/00_pig447.jpg  \n",
            "  inflating: pig_data/val/eating/pig/00_pig448.jpg  \n",
            "  inflating: pig_data/val/eating/pig/00_pig449.jpg  \n",
            "  inflating: pig_data/val/eating/pig/00_pig45.jpg  \n",
            "  inflating: pig_data/val/eating/pig/00_pig46.jpg  \n",
            "  inflating: pig_data/val/eating/pig/00_pig47.jpg  \n",
            "  inflating: pig_data/val/eating/pig/00_pig48.jpg  \n",
            "  inflating: pig_data/val/eating/pig/00_pig49.jpg  \n",
            "  inflating: pig_data/val/eating/pig/00_pig5.jpg  \n",
            "  inflating: pig_data/val/eating/pig/00_pig50.jpg  \n",
            "  inflating: pig_data/val/eating/pig/00_pig51.jpg  \n",
            "  inflating: pig_data/val/eating/pig/00_pig52.jpg  \n",
            "  inflating: pig_data/val/eating/pig/00_pig53.jpg  \n",
            "  inflating: pig_data/val/eating/pig/00_pig54.jpg  \n",
            "  inflating: pig_data/val/eating/pig/00_pig55.jpg  \n",
            "  inflating: pig_data/val/eating/pig/00_pig56.jpg  \n",
            "  inflating: pig_data/val/eating/pig/00_pig57.jpg  \n",
            "  inflating: pig_data/val/eating/pig/00_pig58.jpg  \n",
            "  inflating: pig_data/val/eating/pig/00_pig59.jpg  \n",
            "  inflating: pig_data/val/eating/pig/00_pig6.jpg  \n",
            "  inflating: pig_data/val/eating/pig/00_pig60.jpg  \n",
            "  inflating: pig_data/val/eating/pig/00_pig61.jpg  \n",
            "  inflating: pig_data/val/eating/pig/00_pig62.jpg  \n",
            "  inflating: pig_data/val/eating/pig/00_pig63.jpg  \n",
            "  inflating: pig_data/val/eating/pig/00_pig64.jpg  \n",
            "  inflating: pig_data/val/eating/pig/00_pig65.jpg  \n",
            "  inflating: pig_data/val/eating/pig/00_pig66.jpg  \n",
            "  inflating: pig_data/val/eating/pig/00_pig67.jpg  \n",
            "  inflating: pig_data/val/eating/pig/00_pig68.jpg  \n",
            "  inflating: pig_data/val/eating/pig/00_pig69.jpg  \n",
            "  inflating: pig_data/val/eating/pig/00_pig7.jpg  \n",
            "  inflating: pig_data/val/eating/pig/00_pig70.jpg  \n",
            "  inflating: pig_data/val/eating/pig/00_pig71.jpg  \n",
            "  inflating: pig_data/val/eating/pig/00_pig72.jpg  \n",
            "  inflating: pig_data/val/eating/pig/00_pig73.jpg  \n",
            "  inflating: pig_data/val/eating/pig/00_pig74.jpg  \n",
            "  inflating: pig_data/val/eating/pig/00_pig75.jpg  \n",
            "  inflating: pig_data/val/eating/pig/00_pig76.jpg  \n",
            "  inflating: pig_data/val/eating/pig/00_pig77.jpg  \n",
            "  inflating: pig_data/val/eating/pig/00_pig78.jpg  \n",
            "  inflating: pig_data/val/eating/pig/00_pig79.jpg  \n",
            "  inflating: pig_data/val/eating/pig/00_pig8.jpg  \n",
            "  inflating: pig_data/val/eating/pig/00_pig80.jpg  \n",
            "  inflating: pig_data/val/eating/pig/00_pig81.jpg  \n",
            "  inflating: pig_data/val/eating/pig/00_pig82.jpg  \n",
            "  inflating: pig_data/val/eating/pig/00_pig83.jpg  \n",
            "  inflating: pig_data/val/eating/pig/00_pig84.jpg  \n",
            "  inflating: pig_data/val/eating/pig/00_pig85.jpg  \n",
            "  inflating: pig_data/val/eating/pig/00_pig86.jpg  \n",
            "  inflating: pig_data/val/eating/pig/00_pig87.jpg  \n",
            "  inflating: pig_data/val/eating/pig/00_pig88.jpg  \n",
            "  inflating: pig_data/val/eating/pig/00_pig89.jpg  \n",
            "  inflating: pig_data/val/eating/pig/00_pig9.jpg  \n",
            "  inflating: pig_data/val/eating/pig/00_pig90.jpg  \n",
            "  inflating: pig_data/val/eating/pig/00_pig91.jpg  \n",
            "  inflating: pig_data/val/eating/pig/00_pig92.jpg  \n",
            "  inflating: pig_data/val/eating/pig/00_pig93.jpg  \n",
            "  inflating: pig_data/val/eating/pig/00_pig94.jpg  \n",
            "  inflating: pig_data/val/eating/pig/00_pig95.jpg  \n",
            "  inflating: pig_data/val/eating/pig/00_pig96.jpg  \n",
            "  inflating: pig_data/val/eating/pig/00_pig97.jpg  \n",
            "  inflating: pig_data/val/eating/pig/00_pig98.jpg  \n",
            "  inflating: pig_data/val/eating/pig/00_pig99.jpg  \n",
            "   creating: pig_data/val/not-eating/\n",
            "   creating: pig_data/val/not-eating/pig/\n",
            "  inflating: pig_data/val/not-eating/pig/00_pig0.jpg  \n",
            "  inflating: pig_data/val/not-eating/pig/00_pig1.jpg  \n",
            "  inflating: pig_data/val/not-eating/pig/00_pig10.jpg  \n",
            "  inflating: pig_data/val/not-eating/pig/00_pig100.jpg  \n",
            "  inflating: pig_data/val/not-eating/pig/00_pig101.jpg  \n",
            "  inflating: pig_data/val/not-eating/pig/00_pig102.jpg  \n",
            "  inflating: pig_data/val/not-eating/pig/00_pig103.jpg  \n",
            "  inflating: pig_data/val/not-eating/pig/00_pig104.jpg  \n",
            "  inflating: pig_data/val/not-eating/pig/00_pig105.jpg  \n",
            "  inflating: pig_data/val/not-eating/pig/00_pig106.jpg  \n",
            "  inflating: pig_data/val/not-eating/pig/00_pig107.jpg  \n",
            "  inflating: pig_data/val/not-eating/pig/00_pig108.jpg  \n",
            "  inflating: pig_data/val/not-eating/pig/00_pig109.jpg  \n",
            "  inflating: pig_data/val/not-eating/pig/00_pig11.jpg  \n",
            "  inflating: pig_data/val/not-eating/pig/00_pig110.jpg  \n",
            "  inflating: pig_data/val/not-eating/pig/00_pig111.jpg  \n",
            "  inflating: pig_data/val/not-eating/pig/00_pig112.jpg  \n",
            "  inflating: pig_data/val/not-eating/pig/00_pig113.jpg  \n",
            "  inflating: pig_data/val/not-eating/pig/00_pig114.jpg  \n",
            "  inflating: pig_data/val/not-eating/pig/00_pig115.jpg  \n",
            "  inflating: pig_data/val/not-eating/pig/00_pig116.jpg  \n",
            "  inflating: pig_data/val/not-eating/pig/00_pig117.jpg  \n",
            "  inflating: pig_data/val/not-eating/pig/00_pig118.jpg  \n",
            "  inflating: pig_data/val/not-eating/pig/00_pig119.jpg  \n",
            "  inflating: pig_data/val/not-eating/pig/00_pig12.jpg  \n",
            "  inflating: pig_data/val/not-eating/pig/00_pig120.jpg  \n",
            "  inflating: pig_data/val/not-eating/pig/00_pig121.jpg  \n",
            "  inflating: pig_data/val/not-eating/pig/00_pig122.jpg  \n",
            "  inflating: pig_data/val/not-eating/pig/00_pig123.jpg  \n",
            "  inflating: pig_data/val/not-eating/pig/00_pig124.jpg  \n",
            "  inflating: pig_data/val/not-eating/pig/00_pig125.jpg  \n",
            "  inflating: pig_data/val/not-eating/pig/00_pig126.jpg  \n",
            "  inflating: pig_data/val/not-eating/pig/00_pig127.jpg  \n",
            "  inflating: pig_data/val/not-eating/pig/00_pig128.jpg  \n",
            "  inflating: pig_data/val/not-eating/pig/00_pig129.jpg  \n",
            "  inflating: pig_data/val/not-eating/pig/00_pig13.jpg  \n",
            "  inflating: pig_data/val/not-eating/pig/00_pig130.jpg  \n",
            "  inflating: pig_data/val/not-eating/pig/00_pig131.jpg  \n",
            "  inflating: pig_data/val/not-eating/pig/00_pig132.jpg  \n",
            "  inflating: pig_data/val/not-eating/pig/00_pig133.jpg  \n",
            "  inflating: pig_data/val/not-eating/pig/00_pig134.jpg  \n",
            "  inflating: pig_data/val/not-eating/pig/00_pig135.jpg  \n",
            "  inflating: pig_data/val/not-eating/pig/00_pig136.jpg  \n",
            "  inflating: pig_data/val/not-eating/pig/00_pig137.jpg  \n",
            "  inflating: pig_data/val/not-eating/pig/00_pig138.jpg  \n",
            "  inflating: pig_data/val/not-eating/pig/00_pig139.jpg  \n",
            "  inflating: pig_data/val/not-eating/pig/00_pig14.jpg  \n",
            "  inflating: pig_data/val/not-eating/pig/00_pig140.jpg  \n",
            "  inflating: pig_data/val/not-eating/pig/00_pig141.jpg  \n",
            "  inflating: pig_data/val/not-eating/pig/00_pig142.jpg  \n",
            "  inflating: pig_data/val/not-eating/pig/00_pig143.jpg  \n",
            "  inflating: pig_data/val/not-eating/pig/00_pig144.jpg  \n",
            "  inflating: pig_data/val/not-eating/pig/00_pig145.jpg  \n",
            "  inflating: pig_data/val/not-eating/pig/00_pig146.jpg  \n",
            "  inflating: pig_data/val/not-eating/pig/00_pig147.jpg  \n",
            "  inflating: pig_data/val/not-eating/pig/00_pig148.jpg  \n",
            "  inflating: pig_data/val/not-eating/pig/00_pig149.jpg  \n",
            "  inflating: pig_data/val/not-eating/pig/00_pig15.jpg  \n",
            "  inflating: pig_data/val/not-eating/pig/00_pig150.jpg  \n",
            "  inflating: pig_data/val/not-eating/pig/00_pig151.jpg  \n",
            "  inflating: pig_data/val/not-eating/pig/00_pig152.jpg  \n",
            "  inflating: pig_data/val/not-eating/pig/00_pig153.jpg  \n",
            "  inflating: pig_data/val/not-eating/pig/00_pig154.jpg  \n",
            "  inflating: pig_data/val/not-eating/pig/00_pig155.jpg  \n",
            "  inflating: pig_data/val/not-eating/pig/00_pig156.jpg  \n",
            "  inflating: pig_data/val/not-eating/pig/00_pig157.jpg  \n",
            "  inflating: pig_data/val/not-eating/pig/00_pig158.jpg  \n",
            "  inflating: pig_data/val/not-eating/pig/00_pig159.jpg  \n",
            "  inflating: pig_data/val/not-eating/pig/00_pig16.jpg  \n",
            "  inflating: pig_data/val/not-eating/pig/00_pig160.jpg  \n",
            "  inflating: pig_data/val/not-eating/pig/00_pig161.jpg  \n",
            "  inflating: pig_data/val/not-eating/pig/00_pig162.jpg  \n",
            "  inflating: pig_data/val/not-eating/pig/00_pig163.jpg  \n",
            "  inflating: pig_data/val/not-eating/pig/00_pig164.jpg  \n",
            "  inflating: pig_data/val/not-eating/pig/00_pig165.jpg  \n",
            "  inflating: pig_data/val/not-eating/pig/00_pig166.jpg  \n",
            "  inflating: pig_data/val/not-eating/pig/00_pig167.jpg  \n",
            "  inflating: pig_data/val/not-eating/pig/00_pig168.jpg  \n",
            "  inflating: pig_data/val/not-eating/pig/00_pig169.jpg  \n",
            "  inflating: pig_data/val/not-eating/pig/00_pig17.jpg  \n",
            "  inflating: pig_data/val/not-eating/pig/00_pig170.jpg  \n",
            "  inflating: pig_data/val/not-eating/pig/00_pig171.jpg  \n",
            "  inflating: pig_data/val/not-eating/pig/00_pig172.jpg  \n",
            "  inflating: pig_data/val/not-eating/pig/00_pig173.jpg  \n",
            "  inflating: pig_data/val/not-eating/pig/00_pig174.jpg  \n",
            "  inflating: pig_data/val/not-eating/pig/00_pig175.jpg  \n",
            "  inflating: pig_data/val/not-eating/pig/00_pig176.jpg  \n",
            "  inflating: pig_data/val/not-eating/pig/00_pig177.jpg  \n",
            "  inflating: pig_data/val/not-eating/pig/00_pig178.jpg  \n",
            "  inflating: pig_data/val/not-eating/pig/00_pig179.jpg  \n",
            "  inflating: pig_data/val/not-eating/pig/00_pig18.jpg  \n",
            "  inflating: pig_data/val/not-eating/pig/00_pig180.jpg  \n",
            "  inflating: pig_data/val/not-eating/pig/00_pig181.jpg  \n",
            "  inflating: pig_data/val/not-eating/pig/00_pig182.jpg  \n",
            "  inflating: pig_data/val/not-eating/pig/00_pig183.jpg  \n",
            "  inflating: pig_data/val/not-eating/pig/00_pig184.jpg  \n",
            "  inflating: pig_data/val/not-eating/pig/00_pig185.jpg  \n",
            "  inflating: pig_data/val/not-eating/pig/00_pig186.jpg  \n",
            "  inflating: pig_data/val/not-eating/pig/00_pig187.jpg  \n",
            "  inflating: pig_data/val/not-eating/pig/00_pig188.jpg  \n",
            "  inflating: pig_data/val/not-eating/pig/00_pig189.jpg  \n",
            "  inflating: pig_data/val/not-eating/pig/00_pig19.jpg  \n",
            "  inflating: pig_data/val/not-eating/pig/00_pig190.jpg  \n",
            "  inflating: pig_data/val/not-eating/pig/00_pig191.jpg  \n",
            "  inflating: pig_data/val/not-eating/pig/00_pig192.jpg  \n",
            "  inflating: pig_data/val/not-eating/pig/00_pig193.jpg  \n",
            "  inflating: pig_data/val/not-eating/pig/00_pig194.jpg  \n",
            "  inflating: pig_data/val/not-eating/pig/00_pig195.jpg  \n",
            "  inflating: pig_data/val/not-eating/pig/00_pig196.jpg  \n",
            "  inflating: pig_data/val/not-eating/pig/00_pig197.jpg  \n",
            "  inflating: pig_data/val/not-eating/pig/00_pig198.jpg  \n",
            "  inflating: pig_data/val/not-eating/pig/00_pig199.jpg  \n",
            "  inflating: pig_data/val/not-eating/pig/00_pig2.jpg  \n",
            "  inflating: pig_data/val/not-eating/pig/00_pig20.jpg  \n",
            "  inflating: pig_data/val/not-eating/pig/00_pig200.jpg  \n",
            "  inflating: pig_data/val/not-eating/pig/00_pig201.jpg  \n",
            "  inflating: pig_data/val/not-eating/pig/00_pig202.jpg  \n",
            "  inflating: pig_data/val/not-eating/pig/00_pig203.jpg  \n",
            "  inflating: pig_data/val/not-eating/pig/00_pig204.jpg  \n",
            "  inflating: pig_data/val/not-eating/pig/00_pig205.jpg  \n",
            "  inflating: pig_data/val/not-eating/pig/00_pig206.jpg  \n",
            "  inflating: pig_data/val/not-eating/pig/00_pig207.jpg  \n",
            "  inflating: pig_data/val/not-eating/pig/00_pig208.jpg  \n",
            "  inflating: pig_data/val/not-eating/pig/00_pig209.jpg  \n",
            "  inflating: pig_data/val/not-eating/pig/00_pig21.jpg  \n",
            "  inflating: pig_data/val/not-eating/pig/00_pig210.jpg  \n",
            "  inflating: pig_data/val/not-eating/pig/00_pig211.jpg  \n",
            "  inflating: pig_data/val/not-eating/pig/00_pig212.jpg  \n",
            "  inflating: pig_data/val/not-eating/pig/00_pig213.jpg  \n",
            "  inflating: pig_data/val/not-eating/pig/00_pig214.jpg  \n",
            "  inflating: pig_data/val/not-eating/pig/00_pig215.jpg  \n",
            "  inflating: pig_data/val/not-eating/pig/00_pig216.jpg  \n",
            "  inflating: pig_data/val/not-eating/pig/00_pig217.jpg  \n",
            "  inflating: pig_data/val/not-eating/pig/00_pig218.jpg  \n",
            "  inflating: pig_data/val/not-eating/pig/00_pig219.jpg  \n",
            "  inflating: pig_data/val/not-eating/pig/00_pig22.jpg  \n",
            "  inflating: pig_data/val/not-eating/pig/00_pig220.jpg  \n",
            "  inflating: pig_data/val/not-eating/pig/00_pig221.jpg  \n",
            "  inflating: pig_data/val/not-eating/pig/00_pig222.jpg  \n",
            "  inflating: pig_data/val/not-eating/pig/00_pig223.jpg  \n",
            "  inflating: pig_data/val/not-eating/pig/00_pig224.jpg  \n",
            "  inflating: pig_data/val/not-eating/pig/00_pig225.jpg  \n",
            "  inflating: pig_data/val/not-eating/pig/00_pig226.jpg  \n",
            "  inflating: pig_data/val/not-eating/pig/00_pig227.jpg  \n",
            "  inflating: pig_data/val/not-eating/pig/00_pig228.jpg  \n",
            "  inflating: pig_data/val/not-eating/pig/00_pig229.jpg  \n",
            "  inflating: pig_data/val/not-eating/pig/00_pig23.jpg  \n",
            "  inflating: pig_data/val/not-eating/pig/00_pig230.jpg  \n",
            "  inflating: pig_data/val/not-eating/pig/00_pig231.jpg  \n",
            "  inflating: pig_data/val/not-eating/pig/00_pig232.jpg  \n",
            "  inflating: pig_data/val/not-eating/pig/00_pig233.jpg  \n",
            "  inflating: pig_data/val/not-eating/pig/00_pig234.jpg  \n",
            "  inflating: pig_data/val/not-eating/pig/00_pig235.jpg  \n",
            "  inflating: pig_data/val/not-eating/pig/00_pig236.jpg  \n",
            "  inflating: pig_data/val/not-eating/pig/00_pig237.jpg  \n",
            "  inflating: pig_data/val/not-eating/pig/00_pig238.jpg  \n",
            "  inflating: pig_data/val/not-eating/pig/00_pig239.jpg  \n",
            "  inflating: pig_data/val/not-eating/pig/00_pig24.jpg  \n",
            "  inflating: pig_data/val/not-eating/pig/00_pig240.jpg  \n",
            "  inflating: pig_data/val/not-eating/pig/00_pig241.jpg  \n",
            "  inflating: pig_data/val/not-eating/pig/00_pig242.jpg  \n",
            "  inflating: pig_data/val/not-eating/pig/00_pig243.jpg  \n",
            "  inflating: pig_data/val/not-eating/pig/00_pig244.jpg  \n",
            "  inflating: pig_data/val/not-eating/pig/00_pig245.jpg  \n",
            "  inflating: pig_data/val/not-eating/pig/00_pig246.jpg  \n",
            "  inflating: pig_data/val/not-eating/pig/00_pig247.jpg  \n",
            "  inflating: pig_data/val/not-eating/pig/00_pig248.jpg  \n",
            "  inflating: pig_data/val/not-eating/pig/00_pig249.jpg  \n",
            "  inflating: pig_data/val/not-eating/pig/00_pig25.jpg  \n",
            "  inflating: pig_data/val/not-eating/pig/00_pig250.jpg  \n",
            "  inflating: pig_data/val/not-eating/pig/00_pig251.jpg  \n",
            "  inflating: pig_data/val/not-eating/pig/00_pig252.jpg  \n",
            "  inflating: pig_data/val/not-eating/pig/00_pig253.jpg  \n",
            "  inflating: pig_data/val/not-eating/pig/00_pig254.jpg  \n",
            "  inflating: pig_data/val/not-eating/pig/00_pig255.jpg  \n",
            "  inflating: pig_data/val/not-eating/pig/00_pig256.jpg  \n",
            "  inflating: pig_data/val/not-eating/pig/00_pig257.jpg  \n",
            "  inflating: pig_data/val/not-eating/pig/00_pig258.jpg  \n",
            "  inflating: pig_data/val/not-eating/pig/00_pig259.jpg  \n",
            "  inflating: pig_data/val/not-eating/pig/00_pig26.jpg  \n",
            "  inflating: pig_data/val/not-eating/pig/00_pig260.jpg  \n",
            "  inflating: pig_data/val/not-eating/pig/00_pig261.jpg  \n",
            "  inflating: pig_data/val/not-eating/pig/00_pig262.jpg  \n",
            "  inflating: pig_data/val/not-eating/pig/00_pig263.jpg  \n",
            "  inflating: pig_data/val/not-eating/pig/00_pig264.jpg  \n",
            "  inflating: pig_data/val/not-eating/pig/00_pig265.jpg  \n",
            "  inflating: pig_data/val/not-eating/pig/00_pig266.jpg  \n",
            "  inflating: pig_data/val/not-eating/pig/00_pig267.jpg  \n",
            "  inflating: pig_data/val/not-eating/pig/00_pig268.jpg  \n",
            "  inflating: pig_data/val/not-eating/pig/00_pig269.jpg  \n",
            "  inflating: pig_data/val/not-eating/pig/00_pig27.jpg  \n",
            "  inflating: pig_data/val/not-eating/pig/00_pig270.jpg  \n",
            "  inflating: pig_data/val/not-eating/pig/00_pig271.jpg  \n",
            "  inflating: pig_data/val/not-eating/pig/00_pig272.jpg  \n",
            "  inflating: pig_data/val/not-eating/pig/00_pig273.jpg  \n",
            "  inflating: pig_data/val/not-eating/pig/00_pig274.jpg  \n",
            "  inflating: pig_data/val/not-eating/pig/00_pig275.jpg  \n",
            "  inflating: pig_data/val/not-eating/pig/00_pig276.jpg  \n",
            "  inflating: pig_data/val/not-eating/pig/00_pig277.jpg  \n",
            "  inflating: pig_data/val/not-eating/pig/00_pig278.jpg  \n",
            "  inflating: pig_data/val/not-eating/pig/00_pig279.jpg  \n",
            "  inflating: pig_data/val/not-eating/pig/00_pig28.jpg  \n",
            "  inflating: pig_data/val/not-eating/pig/00_pig280.jpg  \n",
            "  inflating: pig_data/val/not-eating/pig/00_pig281.jpg  \n",
            "  inflating: pig_data/val/not-eating/pig/00_pig282.jpg  \n",
            "  inflating: pig_data/val/not-eating/pig/00_pig283.jpg  \n",
            "  inflating: pig_data/val/not-eating/pig/00_pig284.jpg  \n",
            "  inflating: pig_data/val/not-eating/pig/00_pig285.jpg  \n",
            "  inflating: pig_data/val/not-eating/pig/00_pig286.jpg  \n",
            "  inflating: pig_data/val/not-eating/pig/00_pig287.jpg  \n",
            "  inflating: pig_data/val/not-eating/pig/00_pig288.jpg  \n",
            "  inflating: pig_data/val/not-eating/pig/00_pig289.jpg  \n",
            "  inflating: pig_data/val/not-eating/pig/00_pig29.jpg  \n",
            "  inflating: pig_data/val/not-eating/pig/00_pig290.jpg  \n",
            "  inflating: pig_data/val/not-eating/pig/00_pig291.jpg  \n",
            "  inflating: pig_data/val/not-eating/pig/00_pig292.jpg  \n",
            "  inflating: pig_data/val/not-eating/pig/00_pig293.jpg  \n",
            "  inflating: pig_data/val/not-eating/pig/00_pig294.jpg  \n",
            "  inflating: pig_data/val/not-eating/pig/00_pig295.jpg  \n",
            "  inflating: pig_data/val/not-eating/pig/00_pig296.jpg  \n",
            "  inflating: pig_data/val/not-eating/pig/00_pig297.jpg  \n",
            "  inflating: pig_data/val/not-eating/pig/00_pig298.jpg  \n",
            "  inflating: pig_data/val/not-eating/pig/00_pig299.jpg  \n",
            "  inflating: pig_data/val/not-eating/pig/00_pig3.jpg  \n",
            "  inflating: pig_data/val/not-eating/pig/00_pig30.jpg  \n",
            "  inflating: pig_data/val/not-eating/pig/00_pig300.jpg  \n",
            "  inflating: pig_data/val/not-eating/pig/00_pig301.jpg  \n",
            "  inflating: pig_data/val/not-eating/pig/00_pig302.jpg  \n",
            "  inflating: pig_data/val/not-eating/pig/00_pig303.jpg  \n",
            "  inflating: pig_data/val/not-eating/pig/00_pig304.jpg  \n",
            "  inflating: pig_data/val/not-eating/pig/00_pig305.jpg  \n",
            "  inflating: pig_data/val/not-eating/pig/00_pig306.jpg  \n",
            "  inflating: pig_data/val/not-eating/pig/00_pig307.jpg  \n",
            "  inflating: pig_data/val/not-eating/pig/00_pig308.jpg  \n",
            "  inflating: pig_data/val/not-eating/pig/00_pig309.jpg  \n",
            "  inflating: pig_data/val/not-eating/pig/00_pig31.jpg  \n",
            "  inflating: pig_data/val/not-eating/pig/00_pig310.jpg  \n",
            "  inflating: pig_data/val/not-eating/pig/00_pig311.jpg  \n",
            "  inflating: pig_data/val/not-eating/pig/00_pig312.jpg  \n",
            "  inflating: pig_data/val/not-eating/pig/00_pig313.jpg  \n",
            "  inflating: pig_data/val/not-eating/pig/00_pig314.jpg  \n",
            "  inflating: pig_data/val/not-eating/pig/00_pig315.jpg  \n",
            "  inflating: pig_data/val/not-eating/pig/00_pig316.jpg  \n",
            "  inflating: pig_data/val/not-eating/pig/00_pig317.jpg  \n",
            "  inflating: pig_data/val/not-eating/pig/00_pig318.jpg  \n",
            "  inflating: pig_data/val/not-eating/pig/00_pig319.jpg  \n",
            "  inflating: pig_data/val/not-eating/pig/00_pig32.jpg  \n",
            "  inflating: pig_data/val/not-eating/pig/00_pig320.jpg  \n",
            "  inflating: pig_data/val/not-eating/pig/00_pig321.jpg  \n",
            "  inflating: pig_data/val/not-eating/pig/00_pig322.jpg  \n",
            "  inflating: pig_data/val/not-eating/pig/00_pig323.jpg  \n",
            "  inflating: pig_data/val/not-eating/pig/00_pig324.jpg  \n",
            "  inflating: pig_data/val/not-eating/pig/00_pig325.jpg  \n",
            "  inflating: pig_data/val/not-eating/pig/00_pig326.jpg  \n",
            "  inflating: pig_data/val/not-eating/pig/00_pig327.jpg  \n",
            "  inflating: pig_data/val/not-eating/pig/00_pig328.jpg  \n",
            "  inflating: pig_data/val/not-eating/pig/00_pig329.jpg  \n",
            "  inflating: pig_data/val/not-eating/pig/00_pig33.jpg  \n",
            "  inflating: pig_data/val/not-eating/pig/00_pig330.jpg  \n",
            "  inflating: pig_data/val/not-eating/pig/00_pig331.jpg  \n",
            "  inflating: pig_data/val/not-eating/pig/00_pig332.jpg  \n",
            "  inflating: pig_data/val/not-eating/pig/00_pig333.jpg  \n",
            "  inflating: pig_data/val/not-eating/pig/00_pig334.jpg  \n",
            "  inflating: pig_data/val/not-eating/pig/00_pig335.jpg  \n",
            "  inflating: pig_data/val/not-eating/pig/00_pig336.jpg  \n",
            "  inflating: pig_data/val/not-eating/pig/00_pig337.jpg  \n",
            "  inflating: pig_data/val/not-eating/pig/00_pig338.jpg  \n",
            "  inflating: pig_data/val/not-eating/pig/00_pig339.jpg  \n",
            "  inflating: pig_data/val/not-eating/pig/00_pig34.jpg  \n",
            "  inflating: pig_data/val/not-eating/pig/00_pig340.jpg  \n",
            "  inflating: pig_data/val/not-eating/pig/00_pig341.jpg  \n",
            "  inflating: pig_data/val/not-eating/pig/00_pig342.jpg  \n",
            "  inflating: pig_data/val/not-eating/pig/00_pig343.jpg  \n",
            "  inflating: pig_data/val/not-eating/pig/00_pig344.jpg  \n",
            "  inflating: pig_data/val/not-eating/pig/00_pig345.jpg  \n",
            "  inflating: pig_data/val/not-eating/pig/00_pig346.jpg  \n",
            "  inflating: pig_data/val/not-eating/pig/00_pig347.jpg  \n",
            "  inflating: pig_data/val/not-eating/pig/00_pig348.jpg  \n",
            "  inflating: pig_data/val/not-eating/pig/00_pig349.jpg  \n",
            "  inflating: pig_data/val/not-eating/pig/00_pig35.jpg  \n",
            "  inflating: pig_data/val/not-eating/pig/00_pig350.jpg  \n",
            "  inflating: pig_data/val/not-eating/pig/00_pig351.jpg  \n",
            "  inflating: pig_data/val/not-eating/pig/00_pig352.jpg  \n",
            "  inflating: pig_data/val/not-eating/pig/00_pig353.jpg  \n",
            "  inflating: pig_data/val/not-eating/pig/00_pig354.jpg  \n",
            "  inflating: pig_data/val/not-eating/pig/00_pig355.jpg  \n",
            "  inflating: pig_data/val/not-eating/pig/00_pig356.jpg  \n",
            "  inflating: pig_data/val/not-eating/pig/00_pig357.jpg  \n",
            "  inflating: pig_data/val/not-eating/pig/00_pig358.jpg  \n",
            "  inflating: pig_data/val/not-eating/pig/00_pig359.jpg  \n",
            "  inflating: pig_data/val/not-eating/pig/00_pig36.jpg  \n",
            "  inflating: pig_data/val/not-eating/pig/00_pig360.jpg  \n",
            "  inflating: pig_data/val/not-eating/pig/00_pig361.jpg  \n",
            "  inflating: pig_data/val/not-eating/pig/00_pig362.jpg  \n",
            "  inflating: pig_data/val/not-eating/pig/00_pig363.jpg  \n",
            "  inflating: pig_data/val/not-eating/pig/00_pig364.jpg  \n",
            "  inflating: pig_data/val/not-eating/pig/00_pig365.jpg  \n",
            "  inflating: pig_data/val/not-eating/pig/00_pig366.jpg  \n",
            "  inflating: pig_data/val/not-eating/pig/00_pig367.jpg  \n",
            "  inflating: pig_data/val/not-eating/pig/00_pig368.jpg  \n",
            "  inflating: pig_data/val/not-eating/pig/00_pig369.jpg  \n",
            "  inflating: pig_data/val/not-eating/pig/00_pig37.jpg  \n",
            "  inflating: pig_data/val/not-eating/pig/00_pig370.jpg  \n",
            "  inflating: pig_data/val/not-eating/pig/00_pig371.jpg  \n",
            "  inflating: pig_data/val/not-eating/pig/00_pig372.jpg  \n",
            "  inflating: pig_data/val/not-eating/pig/00_pig373.jpg  \n",
            "  inflating: pig_data/val/not-eating/pig/00_pig374.jpg  \n",
            "  inflating: pig_data/val/not-eating/pig/00_pig375.jpg  \n",
            "  inflating: pig_data/val/not-eating/pig/00_pig376.jpg  \n",
            "  inflating: pig_data/val/not-eating/pig/00_pig377.jpg  \n",
            "  inflating: pig_data/val/not-eating/pig/00_pig378.jpg  \n",
            "  inflating: pig_data/val/not-eating/pig/00_pig379.jpg  \n",
            "  inflating: pig_data/val/not-eating/pig/00_pig38.jpg  \n",
            "  inflating: pig_data/val/not-eating/pig/00_pig380.jpg  \n",
            "  inflating: pig_data/val/not-eating/pig/00_pig381.jpg  \n",
            "  inflating: pig_data/val/not-eating/pig/00_pig382.jpg  \n",
            "  inflating: pig_data/val/not-eating/pig/00_pig383.jpg  \n",
            "  inflating: pig_data/val/not-eating/pig/00_pig384.jpg  \n",
            "  inflating: pig_data/val/not-eating/pig/00_pig385.jpg  \n",
            "  inflating: pig_data/val/not-eating/pig/00_pig386.jpg  \n",
            "  inflating: pig_data/val/not-eating/pig/00_pig387.jpg  \n",
            "  inflating: pig_data/val/not-eating/pig/00_pig388.jpg  \n",
            "  inflating: pig_data/val/not-eating/pig/00_pig389.jpg  \n",
            "  inflating: pig_data/val/not-eating/pig/00_pig39.jpg  \n",
            "  inflating: pig_data/val/not-eating/pig/00_pig390.jpg  \n",
            "  inflating: pig_data/val/not-eating/pig/00_pig391.jpg  \n",
            "  inflating: pig_data/val/not-eating/pig/00_pig392.jpg  \n",
            "  inflating: pig_data/val/not-eating/pig/00_pig393.jpg  \n",
            "  inflating: pig_data/val/not-eating/pig/00_pig394.jpg  \n",
            "  inflating: pig_data/val/not-eating/pig/00_pig395.jpg  \n",
            "  inflating: pig_data/val/not-eating/pig/00_pig396.jpg  \n",
            "  inflating: pig_data/val/not-eating/pig/00_pig397.jpg  \n",
            "  inflating: pig_data/val/not-eating/pig/00_pig398.jpg  \n",
            "  inflating: pig_data/val/not-eating/pig/00_pig399.jpg  \n",
            "  inflating: pig_data/val/not-eating/pig/00_pig4.jpg  \n",
            "  inflating: pig_data/val/not-eating/pig/00_pig40.jpg  \n",
            "  inflating: pig_data/val/not-eating/pig/00_pig400.jpg  \n",
            "  inflating: pig_data/val/not-eating/pig/00_pig401.jpg  \n",
            "  inflating: pig_data/val/not-eating/pig/00_pig402.jpg  \n",
            "  inflating: pig_data/val/not-eating/pig/00_pig403.jpg  \n",
            "  inflating: pig_data/val/not-eating/pig/00_pig404.jpg  \n",
            "  inflating: pig_data/val/not-eating/pig/00_pig405.jpg  \n",
            "  inflating: pig_data/val/not-eating/pig/00_pig406.jpg  \n",
            "  inflating: pig_data/val/not-eating/pig/00_pig407.jpg  \n",
            "  inflating: pig_data/val/not-eating/pig/00_pig408.jpg  \n",
            "  inflating: pig_data/val/not-eating/pig/00_pig409.jpg  \n",
            "  inflating: pig_data/val/not-eating/pig/00_pig41.jpg  \n",
            "  inflating: pig_data/val/not-eating/pig/00_pig410.jpg  \n",
            "  inflating: pig_data/val/not-eating/pig/00_pig411.jpg  \n",
            "  inflating: pig_data/val/not-eating/pig/00_pig412.jpg  \n",
            "  inflating: pig_data/val/not-eating/pig/00_pig413.jpg  \n",
            "  inflating: pig_data/val/not-eating/pig/00_pig414.jpg  \n",
            "  inflating: pig_data/val/not-eating/pig/00_pig415.jpg  \n",
            "  inflating: pig_data/val/not-eating/pig/00_pig416.jpg  \n",
            "  inflating: pig_data/val/not-eating/pig/00_pig417.jpg  \n",
            "  inflating: pig_data/val/not-eating/pig/00_pig418.jpg  \n",
            "  inflating: pig_data/val/not-eating/pig/00_pig419.jpg  \n",
            "  inflating: pig_data/val/not-eating/pig/00_pig42.jpg  \n",
            "  inflating: pig_data/val/not-eating/pig/00_pig420.jpg  \n",
            "  inflating: pig_data/val/not-eating/pig/00_pig421.jpg  \n",
            "  inflating: pig_data/val/not-eating/pig/00_pig422.jpg  \n",
            "  inflating: pig_data/val/not-eating/pig/00_pig423.jpg  \n",
            "  inflating: pig_data/val/not-eating/pig/00_pig424.jpg  \n",
            "  inflating: pig_data/val/not-eating/pig/00_pig425.jpg  \n",
            "  inflating: pig_data/val/not-eating/pig/00_pig426.jpg  \n",
            "  inflating: pig_data/val/not-eating/pig/00_pig427.jpg  \n",
            "  inflating: pig_data/val/not-eating/pig/00_pig428.jpg  \n",
            "  inflating: pig_data/val/not-eating/pig/00_pig429.jpg  \n",
            "  inflating: pig_data/val/not-eating/pig/00_pig43.jpg  \n",
            "  inflating: pig_data/val/not-eating/pig/00_pig430.jpg  \n",
            "  inflating: pig_data/val/not-eating/pig/00_pig431.jpg  \n",
            "  inflating: pig_data/val/not-eating/pig/00_pig432.jpg  \n",
            "  inflating: pig_data/val/not-eating/pig/00_pig433.jpg  \n",
            "  inflating: pig_data/val/not-eating/pig/00_pig434.jpg  \n",
            "  inflating: pig_data/val/not-eating/pig/00_pig435.jpg  \n",
            "  inflating: pig_data/val/not-eating/pig/00_pig436.jpg  \n",
            "  inflating: pig_data/val/not-eating/pig/00_pig437.jpg  \n",
            "  inflating: pig_data/val/not-eating/pig/00_pig438.jpg  \n",
            "  inflating: pig_data/val/not-eating/pig/00_pig439.jpg  \n",
            "  inflating: pig_data/val/not-eating/pig/00_pig44.jpg  \n",
            "  inflating: pig_data/val/not-eating/pig/00_pig440.jpg  \n",
            "  inflating: pig_data/val/not-eating/pig/00_pig441.jpg  \n",
            "  inflating: pig_data/val/not-eating/pig/00_pig442.jpg  \n",
            "  inflating: pig_data/val/not-eating/pig/00_pig443.jpg  \n",
            "  inflating: pig_data/val/not-eating/pig/00_pig444.jpg  \n",
            "  inflating: pig_data/val/not-eating/pig/00_pig445.jpg  \n",
            "  inflating: pig_data/val/not-eating/pig/00_pig446.jpg  \n",
            "  inflating: pig_data/val/not-eating/pig/00_pig447.jpg  \n",
            "  inflating: pig_data/val/not-eating/pig/00_pig448.jpg  \n",
            "  inflating: pig_data/val/not-eating/pig/00_pig449.jpg  \n",
            "  inflating: pig_data/val/not-eating/pig/00_pig45.jpg  \n",
            "  inflating: pig_data/val/not-eating/pig/00_pig46.jpg  \n",
            "  inflating: pig_data/val/not-eating/pig/00_pig47.jpg  \n",
            "  inflating: pig_data/val/not-eating/pig/00_pig48.jpg  \n",
            "  inflating: pig_data/val/not-eating/pig/00_pig49.jpg  \n",
            "  inflating: pig_data/val/not-eating/pig/00_pig5.jpg  \n",
            "  inflating: pig_data/val/not-eating/pig/00_pig50.jpg  \n",
            "  inflating: pig_data/val/not-eating/pig/00_pig51.jpg  \n",
            "  inflating: pig_data/val/not-eating/pig/00_pig52.jpg  \n",
            "  inflating: pig_data/val/not-eating/pig/00_pig53.jpg  \n",
            "  inflating: pig_data/val/not-eating/pig/00_pig54.jpg  \n",
            "  inflating: pig_data/val/not-eating/pig/00_pig55.jpg  \n",
            "  inflating: pig_data/val/not-eating/pig/00_pig56.jpg  \n",
            "  inflating: pig_data/val/not-eating/pig/00_pig57.jpg  \n",
            "  inflating: pig_data/val/not-eating/pig/00_pig58.jpg  \n",
            "  inflating: pig_data/val/not-eating/pig/00_pig59.jpg  \n",
            "  inflating: pig_data/val/not-eating/pig/00_pig6.jpg  \n",
            "  inflating: pig_data/val/not-eating/pig/00_pig60.jpg  \n",
            "  inflating: pig_data/val/not-eating/pig/00_pig61.jpg  \n",
            "  inflating: pig_data/val/not-eating/pig/00_pig62.jpg  \n",
            "  inflating: pig_data/val/not-eating/pig/00_pig63.jpg  \n",
            "  inflating: pig_data/val/not-eating/pig/00_pig64.jpg  \n",
            "  inflating: pig_data/val/not-eating/pig/00_pig65.jpg  \n",
            "  inflating: pig_data/val/not-eating/pig/00_pig66.jpg  \n",
            "  inflating: pig_data/val/not-eating/pig/00_pig67.jpg  \n",
            "  inflating: pig_data/val/not-eating/pig/00_pig68.jpg  \n",
            "  inflating: pig_data/val/not-eating/pig/00_pig69.jpg  \n",
            "  inflating: pig_data/val/not-eating/pig/00_pig7.jpg  \n",
            "  inflating: pig_data/val/not-eating/pig/00_pig70.jpg  \n",
            "  inflating: pig_data/val/not-eating/pig/00_pig71.jpg  \n",
            "  inflating: pig_data/val/not-eating/pig/00_pig72.jpg  \n",
            "  inflating: pig_data/val/not-eating/pig/00_pig73.jpg  \n",
            "  inflating: pig_data/val/not-eating/pig/00_pig74.jpg  \n",
            "  inflating: pig_data/val/not-eating/pig/00_pig75.jpg  \n",
            "  inflating: pig_data/val/not-eating/pig/00_pig76.jpg  \n",
            "  inflating: pig_data/val/not-eating/pig/00_pig77.jpg  \n",
            "  inflating: pig_data/val/not-eating/pig/00_pig78.jpg  \n",
            "  inflating: pig_data/val/not-eating/pig/00_pig79.jpg  \n",
            "  inflating: pig_data/val/not-eating/pig/00_pig8.jpg  \n",
            "  inflating: pig_data/val/not-eating/pig/00_pig80.jpg  \n",
            "  inflating: pig_data/val/not-eating/pig/00_pig81.jpg  \n",
            "  inflating: pig_data/val/not-eating/pig/00_pig82.jpg  \n",
            "  inflating: pig_data/val/not-eating/pig/00_pig83.jpg  \n",
            "  inflating: pig_data/val/not-eating/pig/00_pig84.jpg  \n",
            "  inflating: pig_data/val/not-eating/pig/00_pig85.jpg  \n",
            "  inflating: pig_data/val/not-eating/pig/00_pig86.jpg  \n",
            "  inflating: pig_data/val/not-eating/pig/00_pig87.jpg  \n",
            "  inflating: pig_data/val/not-eating/pig/00_pig88.jpg  \n",
            "  inflating: pig_data/val/not-eating/pig/00_pig89.jpg  \n",
            "  inflating: pig_data/val/not-eating/pig/00_pig9.jpg  \n",
            "  inflating: pig_data/val/not-eating/pig/00_pig90.jpg  \n",
            "  inflating: pig_data/val/not-eating/pig/00_pig91.jpg  \n",
            "  inflating: pig_data/val/not-eating/pig/00_pig92.jpg  \n",
            "  inflating: pig_data/val/not-eating/pig/00_pig93.jpg  \n",
            "  inflating: pig_data/val/not-eating/pig/00_pig94.jpg  \n",
            "  inflating: pig_data/val/not-eating/pig/00_pig95.jpg  \n",
            "  inflating: pig_data/val/not-eating/pig/00_pig96.jpg  \n",
            "  inflating: pig_data/val/not-eating/pig/00_pig97.jpg  \n",
            "  inflating: pig_data/val/not-eating/pig/00_pig98.jpg  \n",
            "  inflating: pig_data/val/not-eating/pig/00_pig99.jpg  \n"
          ]
        }
      ]
    },
    {
      "cell_type": "code",
      "source": [
        "DATA_DIR = \"/content/pig_data\""
      ],
      "metadata": {
        "id": "fEnIdCNz7cq0"
      },
      "execution_count": 6,
      "outputs": []
    },
    {
      "cell_type": "code",
      "source": [
        "import os\n",
        "from ultralytics import YOLO"
      ],
      "metadata": {
        "id": "nuTYNC3k7cuM"
      },
      "execution_count": 7,
      "outputs": []
    },
    {
      "cell_type": "code",
      "source": [
        "model = YOLO(\"yolov8n-cls.pt\")"
      ],
      "metadata": {
        "id": "d-qdcqnb8fZH",
        "colab": {
          "base_uri": "https://localhost:8080/"
        },
        "outputId": "01fb4987-ca50-46de-9bae-3b84561fd7ef"
      },
      "execution_count": 8,
      "outputs": [
        {
          "output_type": "stream",
          "name": "stdout",
          "text": [
            "Downloading https://github.com/ultralytics/assets/releases/download/v8.2.0/yolov8n-cls.pt to 'yolov8n-cls.pt'...\n"
          ]
        },
        {
          "output_type": "stream",
          "name": "stderr",
          "text": [
            "100%|██████████| 5.30M/5.30M [00:00<00:00, 67.2MB/s]\n"
          ]
        }
      ]
    },
    {
      "cell_type": "code",
      "source": [
        "results = model.train(data=DATA_DIR, epochs=100, imgsz=64)"
      ],
      "metadata": {
        "colab": {
          "base_uri": "https://localhost:8080/"
        },
        "id": "ZSGRAD6o8fbn",
        "outputId": "7619b142-7220-4513-c2b5-963eabaf6397"
      },
      "execution_count": 9,
      "outputs": [
        {
          "output_type": "stream",
          "name": "stdout",
          "text": [
            "Ultralytics YOLOv8.2.7 🚀 Python-3.10.12 torch-2.2.1+cu121 CUDA:0 (Tesla T4, 15102MiB)\n",
            "\u001b[34m\u001b[1mengine/trainer: \u001b[0mtask=classify, mode=train, model=yolov8n-cls.pt, data=/content/pig_data, epochs=100, time=None, patience=100, batch=16, imgsz=64, save=True, save_period=-1, cache=False, device=None, workers=8, project=None, name=train, exist_ok=False, pretrained=True, optimizer=auto, verbose=True, seed=0, deterministic=True, single_cls=False, rect=False, cos_lr=False, close_mosaic=10, resume=False, amp=True, fraction=1.0, profile=False, freeze=None, multi_scale=False, overlap_mask=True, mask_ratio=4, dropout=0.0, val=True, split=val, save_json=False, save_hybrid=False, conf=None, iou=0.7, max_det=300, half=False, dnn=False, plots=True, source=None, vid_stride=1, stream_buffer=False, visualize=False, augment=False, agnostic_nms=False, classes=None, retina_masks=False, embed=None, show=False, save_frames=False, save_txt=False, save_conf=False, save_crop=False, show_labels=True, show_conf=True, show_boxes=True, line_width=None, format=torchscript, keras=False, optimize=False, int8=False, dynamic=False, simplify=False, opset=None, workspace=4, nms=False, lr0=0.01, lrf=0.01, momentum=0.937, weight_decay=0.0005, warmup_epochs=3.0, warmup_momentum=0.8, warmup_bias_lr=0.1, box=7.5, cls=0.5, dfl=1.5, pose=12.0, kobj=1.0, label_smoothing=0.0, nbs=64, hsv_h=0.015, hsv_s=0.7, hsv_v=0.4, degrees=0.0, translate=0.1, scale=0.5, shear=0.0, perspective=0.0, flipud=0.0, fliplr=0.5, bgr=0.0, mosaic=1.0, mixup=0.0, copy_paste=0.0, auto_augment=randaugment, erasing=0.4, crop_fraction=1.0, cfg=None, tracker=botsort.yaml, save_dir=runs/classify/train\n",
            "\u001b[34m\u001b[1mtrain:\u001b[0m /content/pig_data/train... found 4200 images in 2 classes ✅ \n",
            "\u001b[34m\u001b[1mval:\u001b[0m /content/pig_data/val... found 900 images in 2 classes ✅ \n",
            "\u001b[34m\u001b[1mtest:\u001b[0m /content/pig_data/test... found 900 images in 2 classes ✅ \n",
            "Overriding model.yaml nc=1000 with nc=2\n",
            "\n",
            "                   from  n    params  module                                       arguments                     \n",
            "  0                  -1  1       464  ultralytics.nn.modules.conv.Conv             [3, 16, 3, 2]                 \n",
            "  1                  -1  1      4672  ultralytics.nn.modules.conv.Conv             [16, 32, 3, 2]                \n",
            "  2                  -1  1      7360  ultralytics.nn.modules.block.C2f             [32, 32, 1, True]             \n",
            "  3                  -1  1     18560  ultralytics.nn.modules.conv.Conv             [32, 64, 3, 2]                \n",
            "  4                  -1  2     49664  ultralytics.nn.modules.block.C2f             [64, 64, 2, True]             \n",
            "  5                  -1  1     73984  ultralytics.nn.modules.conv.Conv             [64, 128, 3, 2]               \n",
            "  6                  -1  2    197632  ultralytics.nn.modules.block.C2f             [128, 128, 2, True]           \n",
            "  7                  -1  1    295424  ultralytics.nn.modules.conv.Conv             [128, 256, 3, 2]              \n",
            "  8                  -1  1    460288  ultralytics.nn.modules.block.C2f             [256, 256, 1, True]           \n",
            "  9                  -1  1    332802  ultralytics.nn.modules.head.Classify         [256, 2]                      \n",
            "YOLOv8n-cls summary: 99 layers, 1440850 parameters, 1440850 gradients, 3.4 GFLOPs\n",
            "Transferred 156/158 items from pretrained weights\n",
            "\u001b[34m\u001b[1mTensorBoard: \u001b[0mStart with 'tensorboard --logdir runs/classify/train', view at http://localhost:6006/\n",
            "\u001b[34m\u001b[1mAMP: \u001b[0mrunning Automatic Mixed Precision (AMP) checks with YOLOv8n...\n",
            "Downloading https://github.com/ultralytics/assets/releases/download/v8.2.0/yolov8n.pt to 'yolov8n.pt'...\n"
          ]
        },
        {
          "output_type": "stream",
          "name": "stderr",
          "text": [
            "100%|██████████| 6.23M/6.23M [00:00<00:00, 69.7MB/s]\n"
          ]
        },
        {
          "output_type": "stream",
          "name": "stdout",
          "text": [
            "\u001b[34m\u001b[1mAMP: \u001b[0mchecks passed ✅\n"
          ]
        },
        {
          "output_type": "stream",
          "name": "stderr",
          "text": [
            "\u001b[34m\u001b[1mtrain: \u001b[0mScanning /content/pig_data/train... 4200 images, 0 corrupt: 100%|██████████| 4200/4200 [00:00<00:00, 4532.70it/s]"
          ]
        },
        {
          "output_type": "stream",
          "name": "stdout",
          "text": [
            "\u001b[34m\u001b[1mtrain: \u001b[0mNew cache created: /content/pig_data/train.cache\n"
          ]
        },
        {
          "output_type": "stream",
          "name": "stderr",
          "text": [
            "\n",
            "/usr/lib/python3.10/multiprocessing/popen_fork.py:66: RuntimeWarning: os.fork() was called. os.fork() is incompatible with multithreaded code, and JAX is multithreaded, so this will likely lead to a deadlock.\n",
            "  self.pid = os.fork()\n",
            "\u001b[34m\u001b[1mval: \u001b[0mScanning /content/pig_data/val... 900 images, 0 corrupt: 100%|██████████| 900/900 [00:00<00:00, 3950.07it/s]"
          ]
        },
        {
          "output_type": "stream",
          "name": "stdout",
          "text": [
            "\u001b[34m\u001b[1mval: \u001b[0mNew cache created: /content/pig_data/val.cache\n"
          ]
        },
        {
          "output_type": "stream",
          "name": "stderr",
          "text": [
            "\n"
          ]
        },
        {
          "output_type": "stream",
          "name": "stdout",
          "text": [
            "\u001b[34m\u001b[1moptimizer:\u001b[0m 'optimizer=auto' found, ignoring 'lr0=0.01' and 'momentum=0.937' and determining best 'optimizer', 'lr0' and 'momentum' automatically... \n",
            "\u001b[34m\u001b[1moptimizer:\u001b[0m AdamW(lr=0.000714, momentum=0.9) with parameter groups 26 weight(decay=0.0), 27 weight(decay=0.0005), 27 bias(decay=0.0)\n",
            "\u001b[34m\u001b[1mTensorBoard: \u001b[0mmodel graph visualization added ✅\n",
            "Image sizes 64 train, 64 val\n",
            "Using 2 dataloader workers\n",
            "Logging results to \u001b[1mruns/classify/train\u001b[0m\n",
            "Starting training for 100 epochs...\n",
            "\n",
            "      Epoch    GPU_mem       loss  Instances       Size\n"
          ]
        },
        {
          "output_type": "stream",
          "name": "stderr",
          "text": [
            "      1/100     0.394G     0.7084         16         64:   3%|▎         | 9/263 [00:01<00:35,  7.09it/s]"
          ]
        },
        {
          "output_type": "stream",
          "name": "stdout",
          "text": [
            "Downloading https://ultralytics.com/assets/Arial.ttf to '/root/.config/Ultralytics/Arial.ttf'...\n"
          ]
        },
        {
          "output_type": "stream",
          "name": "stderr",
          "text": [
            "      1/100     0.394G     0.6795         16         64:   6%|▋         | 17/263 [00:02<00:33,  7.43it/s]\n",
            "100%|██████████| 755k/755k [00:00<00:00, 14.9MB/s]\n",
            "      1/100     0.394G     0.2517          8         64: 100%|██████████| 263/263 [00:39<00:00,  6.65it/s]\n",
            "               classes   top1_acc   top5_acc: 100%|██████████| 29/29 [00:03<00:00,  7.72it/s]"
          ]
        },
        {
          "output_type": "stream",
          "name": "stdout",
          "text": [
            "                   all          1          1\n"
          ]
        },
        {
          "output_type": "stream",
          "name": "stderr",
          "text": [
            "\n"
          ]
        },
        {
          "output_type": "stream",
          "name": "stdout",
          "text": [
            "\n",
            "      Epoch    GPU_mem       loss  Instances       Size\n"
          ]
        },
        {
          "output_type": "stream",
          "name": "stderr",
          "text": [
            "      2/100     0.363G    0.03691          8         64: 100%|██████████| 263/263 [00:38<00:00,  6.86it/s]\n",
            "               classes   top1_acc   top5_acc: 100%|██████████| 29/29 [00:03<00:00,  7.76it/s]"
          ]
        },
        {
          "output_type": "stream",
          "name": "stdout",
          "text": [
            "                   all          1          1\n"
          ]
        },
        {
          "output_type": "stream",
          "name": "stderr",
          "text": [
            "\n"
          ]
        },
        {
          "output_type": "stream",
          "name": "stdout",
          "text": [
            "\n",
            "      Epoch    GPU_mem       loss  Instances       Size\n"
          ]
        },
        {
          "output_type": "stream",
          "name": "stderr",
          "text": [
            "      3/100     0.363G    0.01937          8         64: 100%|██████████| 263/263 [00:38<00:00,  6.80it/s]\n",
            "               classes   top1_acc   top5_acc: 100%|██████████| 29/29 [00:03<00:00,  7.55it/s]"
          ]
        },
        {
          "output_type": "stream",
          "name": "stdout",
          "text": [
            "                   all          1          1\n"
          ]
        },
        {
          "output_type": "stream",
          "name": "stderr",
          "text": [
            "\n"
          ]
        },
        {
          "output_type": "stream",
          "name": "stdout",
          "text": [
            "\n",
            "      Epoch    GPU_mem       loss  Instances       Size\n"
          ]
        },
        {
          "output_type": "stream",
          "name": "stderr",
          "text": [
            "      4/100     0.363G    0.01086          8         64: 100%|██████████| 263/263 [00:40<00:00,  6.56it/s]\n",
            "               classes   top1_acc   top5_acc: 100%|██████████| 29/29 [00:03<00:00,  7.81it/s]"
          ]
        },
        {
          "output_type": "stream",
          "name": "stdout",
          "text": [
            "                   all          1          1\n"
          ]
        },
        {
          "output_type": "stream",
          "name": "stderr",
          "text": [
            "\n"
          ]
        },
        {
          "output_type": "stream",
          "name": "stdout",
          "text": [
            "\n",
            "      Epoch    GPU_mem       loss  Instances       Size\n"
          ]
        },
        {
          "output_type": "stream",
          "name": "stderr",
          "text": [
            "      5/100     0.363G    0.00648          8         64: 100%|██████████| 263/263 [00:40<00:00,  6.50it/s]\n",
            "               classes   top1_acc   top5_acc: 100%|██████████| 29/29 [00:03<00:00,  7.72it/s]"
          ]
        },
        {
          "output_type": "stream",
          "name": "stdout",
          "text": [
            "                   all          1          1\n"
          ]
        },
        {
          "output_type": "stream",
          "name": "stderr",
          "text": [
            "\n"
          ]
        },
        {
          "output_type": "stream",
          "name": "stdout",
          "text": [
            "\n",
            "      Epoch    GPU_mem       loss  Instances       Size\n"
          ]
        },
        {
          "output_type": "stream",
          "name": "stderr",
          "text": [
            "      6/100     0.363G   0.006713          8         64: 100%|██████████| 263/263 [00:40<00:00,  6.46it/s]\n",
            "               classes   top1_acc   top5_acc: 100%|██████████| 29/29 [00:03<00:00,  7.70it/s]"
          ]
        },
        {
          "output_type": "stream",
          "name": "stdout",
          "text": [
            "                   all          1          1\n"
          ]
        },
        {
          "output_type": "stream",
          "name": "stderr",
          "text": [
            "\n"
          ]
        },
        {
          "output_type": "stream",
          "name": "stdout",
          "text": [
            "\n",
            "      Epoch    GPU_mem       loss  Instances       Size\n"
          ]
        },
        {
          "output_type": "stream",
          "name": "stderr",
          "text": [
            "      7/100     0.363G   0.007115          8         64: 100%|██████████| 263/263 [00:40<00:00,  6.55it/s]\n",
            "               classes   top1_acc   top5_acc: 100%|██████████| 29/29 [00:04<00:00,  7.23it/s]"
          ]
        },
        {
          "output_type": "stream",
          "name": "stdout",
          "text": [
            "                   all          1          1\n"
          ]
        },
        {
          "output_type": "stream",
          "name": "stderr",
          "text": [
            "\n"
          ]
        },
        {
          "output_type": "stream",
          "name": "stdout",
          "text": [
            "\n",
            "      Epoch    GPU_mem       loss  Instances       Size\n"
          ]
        },
        {
          "output_type": "stream",
          "name": "stderr",
          "text": [
            "      8/100     0.363G   0.004533          8         64: 100%|██████████| 263/263 [00:40<00:00,  6.43it/s]\n",
            "               classes   top1_acc   top5_acc: 100%|██████████| 29/29 [00:04<00:00,  6.95it/s]"
          ]
        },
        {
          "output_type": "stream",
          "name": "stdout",
          "text": [
            "                   all          1          1\n"
          ]
        },
        {
          "output_type": "stream",
          "name": "stderr",
          "text": [
            "\n"
          ]
        },
        {
          "output_type": "stream",
          "name": "stdout",
          "text": [
            "\n",
            "      Epoch    GPU_mem       loss  Instances       Size\n"
          ]
        },
        {
          "output_type": "stream",
          "name": "stderr",
          "text": [
            "      9/100     0.363G   0.001163          8         64: 100%|██████████| 263/263 [00:39<00:00,  6.68it/s]\n",
            "               classes   top1_acc   top5_acc: 100%|██████████| 29/29 [00:04<00:00,  5.86it/s]"
          ]
        },
        {
          "output_type": "stream",
          "name": "stdout",
          "text": [
            "                   all          1          1\n"
          ]
        },
        {
          "output_type": "stream",
          "name": "stderr",
          "text": [
            "\n"
          ]
        },
        {
          "output_type": "stream",
          "name": "stdout",
          "text": [
            "\n",
            "      Epoch    GPU_mem       loss  Instances       Size\n"
          ]
        },
        {
          "output_type": "stream",
          "name": "stderr",
          "text": [
            "     10/100     0.363G    0.00396          8         64: 100%|██████████| 263/263 [00:38<00:00,  6.80it/s]\n",
            "               classes   top1_acc   top5_acc: 100%|██████████| 29/29 [00:04<00:00,  6.31it/s]"
          ]
        },
        {
          "output_type": "stream",
          "name": "stdout",
          "text": [
            "                   all      0.997          1\n"
          ]
        },
        {
          "output_type": "stream",
          "name": "stderr",
          "text": [
            "\n"
          ]
        },
        {
          "output_type": "stream",
          "name": "stdout",
          "text": [
            "\n",
            "      Epoch    GPU_mem       loss  Instances       Size\n"
          ]
        },
        {
          "output_type": "stream",
          "name": "stderr",
          "text": [
            "     11/100     0.363G   0.002985          8         64: 100%|██████████| 263/263 [00:39<00:00,  6.71it/s]\n",
            "               classes   top1_acc   top5_acc: 100%|██████████| 29/29 [00:03<00:00,  7.85it/s]"
          ]
        },
        {
          "output_type": "stream",
          "name": "stdout",
          "text": [
            "                   all          1          1\n"
          ]
        },
        {
          "output_type": "stream",
          "name": "stderr",
          "text": [
            "\n"
          ]
        },
        {
          "output_type": "stream",
          "name": "stdout",
          "text": [
            "\n",
            "      Epoch    GPU_mem       loss  Instances       Size\n"
          ]
        },
        {
          "output_type": "stream",
          "name": "stderr",
          "text": [
            "     12/100     0.363G   0.001572          8         64: 100%|██████████| 263/263 [00:40<00:00,  6.45it/s]\n",
            "               classes   top1_acc   top5_acc: 100%|██████████| 29/29 [00:03<00:00,  7.43it/s]"
          ]
        },
        {
          "output_type": "stream",
          "name": "stdout",
          "text": [
            "                   all          1          1\n"
          ]
        },
        {
          "output_type": "stream",
          "name": "stderr",
          "text": [
            "\n"
          ]
        },
        {
          "output_type": "stream",
          "name": "stdout",
          "text": [
            "\n",
            "      Epoch    GPU_mem       loss  Instances       Size\n"
          ]
        },
        {
          "output_type": "stream",
          "name": "stderr",
          "text": [
            "     13/100     0.363G    0.00564          8         64: 100%|██████████| 263/263 [00:40<00:00,  6.44it/s]\n",
            "               classes   top1_acc   top5_acc: 100%|██████████| 29/29 [00:03<00:00,  7.63it/s]"
          ]
        },
        {
          "output_type": "stream",
          "name": "stdout",
          "text": [
            "                   all          1          1\n"
          ]
        },
        {
          "output_type": "stream",
          "name": "stderr",
          "text": [
            "\n"
          ]
        },
        {
          "output_type": "stream",
          "name": "stdout",
          "text": [
            "\n",
            "      Epoch    GPU_mem       loss  Instances       Size\n"
          ]
        },
        {
          "output_type": "stream",
          "name": "stderr",
          "text": [
            "     14/100     0.363G   0.002509          8         64: 100%|██████████| 263/263 [00:40<00:00,  6.51it/s]\n",
            "               classes   top1_acc   top5_acc: 100%|██████████| 29/29 [00:03<00:00,  7.70it/s]"
          ]
        },
        {
          "output_type": "stream",
          "name": "stdout",
          "text": [
            "                   all          1          1\n"
          ]
        },
        {
          "output_type": "stream",
          "name": "stderr",
          "text": [
            "\n"
          ]
        },
        {
          "output_type": "stream",
          "name": "stdout",
          "text": [
            "\n",
            "      Epoch    GPU_mem       loss  Instances       Size\n"
          ]
        },
        {
          "output_type": "stream",
          "name": "stderr",
          "text": [
            "     15/100     0.363G   0.001995          8         64: 100%|██████████| 263/263 [00:40<00:00,  6.51it/s]\n",
            "               classes   top1_acc   top5_acc: 100%|██████████| 29/29 [00:03<00:00,  7.99it/s]"
          ]
        },
        {
          "output_type": "stream",
          "name": "stdout",
          "text": [
            "                   all          1          1\n"
          ]
        },
        {
          "output_type": "stream",
          "name": "stderr",
          "text": [
            "\n"
          ]
        },
        {
          "output_type": "stream",
          "name": "stdout",
          "text": [
            "\n",
            "      Epoch    GPU_mem       loss  Instances       Size\n"
          ]
        },
        {
          "output_type": "stream",
          "name": "stderr",
          "text": [
            "     16/100     0.363G    0.00186          8         64: 100%|██████████| 263/263 [00:40<00:00,  6.46it/s]\n",
            "               classes   top1_acc   top5_acc: 100%|██████████| 29/29 [00:03<00:00,  7.52it/s]"
          ]
        },
        {
          "output_type": "stream",
          "name": "stdout",
          "text": [
            "                   all          1          1\n"
          ]
        },
        {
          "output_type": "stream",
          "name": "stderr",
          "text": [
            "\n"
          ]
        },
        {
          "output_type": "stream",
          "name": "stdout",
          "text": [
            "\n",
            "      Epoch    GPU_mem       loss  Instances       Size\n"
          ]
        },
        {
          "output_type": "stream",
          "name": "stderr",
          "text": [
            "     17/100     0.363G  0.0004305          8         64: 100%|██████████| 263/263 [00:40<00:00,  6.46it/s]\n",
            "               classes   top1_acc   top5_acc: 100%|██████████| 29/29 [00:03<00:00,  7.80it/s]"
          ]
        },
        {
          "output_type": "stream",
          "name": "stdout",
          "text": [
            "                   all          1          1\n"
          ]
        },
        {
          "output_type": "stream",
          "name": "stderr",
          "text": [
            "\n"
          ]
        },
        {
          "output_type": "stream",
          "name": "stdout",
          "text": [
            "\n",
            "      Epoch    GPU_mem       loss  Instances       Size\n"
          ]
        },
        {
          "output_type": "stream",
          "name": "stderr",
          "text": [
            "     18/100     0.363G   0.005488          8         64: 100%|██████████| 263/263 [00:39<00:00,  6.59it/s]\n",
            "               classes   top1_acc   top5_acc: 100%|██████████| 29/29 [00:03<00:00,  7.68it/s]"
          ]
        },
        {
          "output_type": "stream",
          "name": "stdout",
          "text": [
            "                   all          1          1\n"
          ]
        },
        {
          "output_type": "stream",
          "name": "stderr",
          "text": [
            "\n"
          ]
        },
        {
          "output_type": "stream",
          "name": "stdout",
          "text": [
            "\n",
            "      Epoch    GPU_mem       loss  Instances       Size\n"
          ]
        },
        {
          "output_type": "stream",
          "name": "stderr",
          "text": [
            "     19/100     0.363G   0.001323          8         64: 100%|██████████| 263/263 [00:38<00:00,  6.76it/s]\n",
            "               classes   top1_acc   top5_acc: 100%|██████████| 29/29 [00:04<00:00,  6.12it/s]"
          ]
        },
        {
          "output_type": "stream",
          "name": "stdout",
          "text": [
            "                   all          1          1\n"
          ]
        },
        {
          "output_type": "stream",
          "name": "stderr",
          "text": [
            "\n"
          ]
        },
        {
          "output_type": "stream",
          "name": "stdout",
          "text": [
            "\n",
            "      Epoch    GPU_mem       loss  Instances       Size\n"
          ]
        },
        {
          "output_type": "stream",
          "name": "stderr",
          "text": [
            "     20/100     0.363G  0.0002735          8         64: 100%|██████████| 263/263 [00:38<00:00,  6.76it/s]\n",
            "               classes   top1_acc   top5_acc: 100%|██████████| 29/29 [00:05<00:00,  5.33it/s]"
          ]
        },
        {
          "output_type": "stream",
          "name": "stdout",
          "text": [
            "                   all          1          1\n"
          ]
        },
        {
          "output_type": "stream",
          "name": "stderr",
          "text": [
            "\n"
          ]
        },
        {
          "output_type": "stream",
          "name": "stdout",
          "text": [
            "\n",
            "      Epoch    GPU_mem       loss  Instances       Size\n"
          ]
        },
        {
          "output_type": "stream",
          "name": "stderr",
          "text": [
            "     21/100     0.363G   0.001751          8         64: 100%|██████████| 263/263 [00:38<00:00,  6.79it/s]\n",
            "               classes   top1_acc   top5_acc: 100%|██████████| 29/29 [00:04<00:00,  6.22it/s]"
          ]
        },
        {
          "output_type": "stream",
          "name": "stdout",
          "text": [
            "                   all          1          1\n"
          ]
        },
        {
          "output_type": "stream",
          "name": "stderr",
          "text": [
            "\n"
          ]
        },
        {
          "output_type": "stream",
          "name": "stdout",
          "text": [
            "\n",
            "      Epoch    GPU_mem       loss  Instances       Size\n"
          ]
        },
        {
          "output_type": "stream",
          "name": "stderr",
          "text": [
            "     22/100     0.363G    0.00131          8         64: 100%|██████████| 263/263 [00:38<00:00,  6.88it/s]\n",
            "               classes   top1_acc   top5_acc: 100%|██████████| 29/29 [00:03<00:00,  7.68it/s]"
          ]
        },
        {
          "output_type": "stream",
          "name": "stdout",
          "text": [
            "                   all          1          1\n"
          ]
        },
        {
          "output_type": "stream",
          "name": "stderr",
          "text": [
            "\n"
          ]
        },
        {
          "output_type": "stream",
          "name": "stdout",
          "text": [
            "\n",
            "      Epoch    GPU_mem       loss  Instances       Size\n"
          ]
        },
        {
          "output_type": "stream",
          "name": "stderr",
          "text": [
            "     23/100     0.363G   0.003574          8         64: 100%|██████████| 263/263 [00:40<00:00,  6.47it/s]\n",
            "               classes   top1_acc   top5_acc: 100%|██████████| 29/29 [00:03<00:00,  7.71it/s]"
          ]
        },
        {
          "output_type": "stream",
          "name": "stdout",
          "text": [
            "                   all          1          1\n"
          ]
        },
        {
          "output_type": "stream",
          "name": "stderr",
          "text": [
            "\n"
          ]
        },
        {
          "output_type": "stream",
          "name": "stdout",
          "text": [
            "\n",
            "      Epoch    GPU_mem       loss  Instances       Size\n"
          ]
        },
        {
          "output_type": "stream",
          "name": "stderr",
          "text": [
            "     24/100     0.363G     0.0125          8         64: 100%|██████████| 263/263 [00:40<00:00,  6.52it/s]\n",
            "               classes   top1_acc   top5_acc: 100%|██████████| 29/29 [00:03<00:00,  7.65it/s]"
          ]
        },
        {
          "output_type": "stream",
          "name": "stdout",
          "text": [
            "                   all          1          1\n"
          ]
        },
        {
          "output_type": "stream",
          "name": "stderr",
          "text": [
            "\n"
          ]
        },
        {
          "output_type": "stream",
          "name": "stdout",
          "text": [
            "\n",
            "      Epoch    GPU_mem       loss  Instances       Size\n"
          ]
        },
        {
          "output_type": "stream",
          "name": "stderr",
          "text": [
            "     25/100     0.363G  0.0006687          8         64: 100%|██████████| 263/263 [00:40<00:00,  6.50it/s]\n",
            "               classes   top1_acc   top5_acc: 100%|██████████| 29/29 [00:03<00:00,  7.79it/s]"
          ]
        },
        {
          "output_type": "stream",
          "name": "stdout",
          "text": [
            "                   all          1          1\n"
          ]
        },
        {
          "output_type": "stream",
          "name": "stderr",
          "text": [
            "\n"
          ]
        },
        {
          "output_type": "stream",
          "name": "stdout",
          "text": [
            "\n",
            "      Epoch    GPU_mem       loss  Instances       Size\n"
          ]
        },
        {
          "output_type": "stream",
          "name": "stderr",
          "text": [
            "     26/100     0.363G  0.0002143          8         64: 100%|██████████| 263/263 [00:40<00:00,  6.56it/s]\n",
            "               classes   top1_acc   top5_acc: 100%|██████████| 29/29 [00:03<00:00,  7.70it/s]"
          ]
        },
        {
          "output_type": "stream",
          "name": "stdout",
          "text": [
            "                   all          1          1\n"
          ]
        },
        {
          "output_type": "stream",
          "name": "stderr",
          "text": [
            "\n"
          ]
        },
        {
          "output_type": "stream",
          "name": "stdout",
          "text": [
            "\n",
            "      Epoch    GPU_mem       loss  Instances       Size\n"
          ]
        },
        {
          "output_type": "stream",
          "name": "stderr",
          "text": [
            "     27/100     0.363G   0.001116          8         64: 100%|██████████| 263/263 [00:40<00:00,  6.50it/s]\n",
            "               classes   top1_acc   top5_acc: 100%|██████████| 29/29 [00:03<00:00,  7.87it/s]"
          ]
        },
        {
          "output_type": "stream",
          "name": "stdout",
          "text": [
            "                   all          1          1\n"
          ]
        },
        {
          "output_type": "stream",
          "name": "stderr",
          "text": [
            "\n"
          ]
        },
        {
          "output_type": "stream",
          "name": "stdout",
          "text": [
            "\n",
            "      Epoch    GPU_mem       loss  Instances       Size\n"
          ]
        },
        {
          "output_type": "stream",
          "name": "stderr",
          "text": [
            "     28/100     0.363G   0.000426          8         64: 100%|██████████| 263/263 [00:37<00:00,  7.08it/s]\n",
            "               classes   top1_acc   top5_acc: 100%|██████████| 29/29 [00:03<00:00,  7.56it/s]"
          ]
        },
        {
          "output_type": "stream",
          "name": "stdout",
          "text": [
            "                   all          1          1\n"
          ]
        },
        {
          "output_type": "stream",
          "name": "stderr",
          "text": [
            "\n"
          ]
        },
        {
          "output_type": "stream",
          "name": "stdout",
          "text": [
            "\n",
            "      Epoch    GPU_mem       loss  Instances       Size\n"
          ]
        },
        {
          "output_type": "stream",
          "name": "stderr",
          "text": [
            "     29/100     0.363G   0.001066          8         64: 100%|██████████| 263/263 [00:38<00:00,  6.87it/s]\n",
            "               classes   top1_acc   top5_acc: 100%|██████████| 29/29 [00:03<00:00,  7.78it/s]"
          ]
        },
        {
          "output_type": "stream",
          "name": "stdout",
          "text": [
            "                   all          1          1\n"
          ]
        },
        {
          "output_type": "stream",
          "name": "stderr",
          "text": [
            "\n"
          ]
        },
        {
          "output_type": "stream",
          "name": "stdout",
          "text": [
            "\n",
            "      Epoch    GPU_mem       loss  Instances       Size\n"
          ]
        },
        {
          "output_type": "stream",
          "name": "stderr",
          "text": [
            "     30/100     0.363G  0.0006345          8         64: 100%|██████████| 263/263 [00:40<00:00,  6.49it/s]\n",
            "               classes   top1_acc   top5_acc: 100%|██████████| 29/29 [00:03<00:00,  7.54it/s]"
          ]
        },
        {
          "output_type": "stream",
          "name": "stdout",
          "text": [
            "                   all          1          1\n"
          ]
        },
        {
          "output_type": "stream",
          "name": "stderr",
          "text": [
            "\n"
          ]
        },
        {
          "output_type": "stream",
          "name": "stdout",
          "text": [
            "\n",
            "      Epoch    GPU_mem       loss  Instances       Size\n"
          ]
        },
        {
          "output_type": "stream",
          "name": "stderr",
          "text": [
            "     31/100     0.363G     0.0056          8         64: 100%|██████████| 263/263 [00:37<00:00,  7.02it/s]\n",
            "               classes   top1_acc   top5_acc: 100%|██████████| 29/29 [00:03<00:00,  7.68it/s]"
          ]
        },
        {
          "output_type": "stream",
          "name": "stdout",
          "text": [
            "                   all      0.997          1\n"
          ]
        },
        {
          "output_type": "stream",
          "name": "stderr",
          "text": [
            "\n"
          ]
        },
        {
          "output_type": "stream",
          "name": "stdout",
          "text": [
            "\n",
            "      Epoch    GPU_mem       loss  Instances       Size\n"
          ]
        },
        {
          "output_type": "stream",
          "name": "stderr",
          "text": [
            "     32/100     0.363G   0.007417          8         64: 100%|██████████| 263/263 [00:38<00:00,  6.78it/s]\n",
            "               classes   top1_acc   top5_acc: 100%|██████████| 29/29 [00:03<00:00,  7.76it/s]"
          ]
        },
        {
          "output_type": "stream",
          "name": "stdout",
          "text": [
            "                   all          1          1\n"
          ]
        },
        {
          "output_type": "stream",
          "name": "stderr",
          "text": [
            "\n"
          ]
        },
        {
          "output_type": "stream",
          "name": "stdout",
          "text": [
            "\n",
            "      Epoch    GPU_mem       loss  Instances       Size\n"
          ]
        },
        {
          "output_type": "stream",
          "name": "stderr",
          "text": [
            "     33/100     0.363G   0.001245          8         64: 100%|██████████| 263/263 [00:37<00:00,  7.00it/s]\n",
            "               classes   top1_acc   top5_acc: 100%|██████████| 29/29 [00:03<00:00,  7.85it/s]"
          ]
        },
        {
          "output_type": "stream",
          "name": "stdout",
          "text": [
            "                   all          1          1\n"
          ]
        },
        {
          "output_type": "stream",
          "name": "stderr",
          "text": [
            "\n"
          ]
        },
        {
          "output_type": "stream",
          "name": "stdout",
          "text": [
            "\n",
            "      Epoch    GPU_mem       loss  Instances       Size\n"
          ]
        },
        {
          "output_type": "stream",
          "name": "stderr",
          "text": [
            "     34/100     0.363G   0.002062          8         64: 100%|██████████| 263/263 [00:37<00:00,  6.97it/s]\n",
            "               classes   top1_acc   top5_acc: 100%|██████████| 29/29 [00:03<00:00,  7.52it/s]"
          ]
        },
        {
          "output_type": "stream",
          "name": "stdout",
          "text": [
            "                   all          1          1\n"
          ]
        },
        {
          "output_type": "stream",
          "name": "stderr",
          "text": [
            "\n"
          ]
        },
        {
          "output_type": "stream",
          "name": "stdout",
          "text": [
            "\n",
            "      Epoch    GPU_mem       loss  Instances       Size\n"
          ]
        },
        {
          "output_type": "stream",
          "name": "stderr",
          "text": [
            "     35/100     0.363G  0.0006158          8         64: 100%|██████████| 263/263 [00:37<00:00,  6.98it/s]\n",
            "               classes   top1_acc   top5_acc: 100%|██████████| 29/29 [00:03<00:00,  7.77it/s]"
          ]
        },
        {
          "output_type": "stream",
          "name": "stdout",
          "text": [
            "                   all          1          1\n"
          ]
        },
        {
          "output_type": "stream",
          "name": "stderr",
          "text": [
            "\n"
          ]
        },
        {
          "output_type": "stream",
          "name": "stdout",
          "text": [
            "\n",
            "      Epoch    GPU_mem       loss  Instances       Size\n"
          ]
        },
        {
          "output_type": "stream",
          "name": "stderr",
          "text": [
            "     36/100     0.363G  0.0001202          8         64: 100%|██████████| 263/263 [00:37<00:00,  6.98it/s]\n",
            "               classes   top1_acc   top5_acc: 100%|██████████| 29/29 [00:03<00:00,  7.52it/s]"
          ]
        },
        {
          "output_type": "stream",
          "name": "stdout",
          "text": [
            "                   all          1          1\n"
          ]
        },
        {
          "output_type": "stream",
          "name": "stderr",
          "text": [
            "\n"
          ]
        },
        {
          "output_type": "stream",
          "name": "stdout",
          "text": [
            "\n",
            "      Epoch    GPU_mem       loss  Instances       Size\n"
          ]
        },
        {
          "output_type": "stream",
          "name": "stderr",
          "text": [
            "     37/100     0.363G  0.0001751          8         64: 100%|██████████| 263/263 [00:38<00:00,  6.81it/s]\n",
            "               classes   top1_acc   top5_acc: 100%|██████████| 29/29 [00:05<00:00,  5.38it/s]"
          ]
        },
        {
          "output_type": "stream",
          "name": "stdout",
          "text": [
            "                   all          1          1\n"
          ]
        },
        {
          "output_type": "stream",
          "name": "stderr",
          "text": [
            "\n"
          ]
        },
        {
          "output_type": "stream",
          "name": "stdout",
          "text": [
            "\n",
            "      Epoch    GPU_mem       loss  Instances       Size\n"
          ]
        },
        {
          "output_type": "stream",
          "name": "stderr",
          "text": [
            "     38/100     0.363G  0.0009701          8         64: 100%|██████████| 263/263 [00:38<00:00,  6.91it/s]\n",
            "               classes   top1_acc   top5_acc: 100%|██████████| 29/29 [00:03<00:00,  7.66it/s]"
          ]
        },
        {
          "output_type": "stream",
          "name": "stdout",
          "text": [
            "                   all          1          1\n"
          ]
        },
        {
          "output_type": "stream",
          "name": "stderr",
          "text": [
            "\n"
          ]
        },
        {
          "output_type": "stream",
          "name": "stdout",
          "text": [
            "\n",
            "      Epoch    GPU_mem       loss  Instances       Size\n"
          ]
        },
        {
          "output_type": "stream",
          "name": "stderr",
          "text": [
            "     39/100     0.363G  0.0004484          8         64: 100%|██████████| 263/263 [00:37<00:00,  7.00it/s]\n",
            "               classes   top1_acc   top5_acc: 100%|██████████| 29/29 [00:03<00:00,  7.50it/s]"
          ]
        },
        {
          "output_type": "stream",
          "name": "stdout",
          "text": [
            "                   all          1          1\n"
          ]
        },
        {
          "output_type": "stream",
          "name": "stderr",
          "text": [
            "\n"
          ]
        },
        {
          "output_type": "stream",
          "name": "stdout",
          "text": [
            "\n",
            "      Epoch    GPU_mem       loss  Instances       Size\n"
          ]
        },
        {
          "output_type": "stream",
          "name": "stderr",
          "text": [
            "     40/100     0.363G  0.0009627          8         64: 100%|██████████| 263/263 [00:39<00:00,  6.72it/s]\n",
            "               classes   top1_acc   top5_acc: 100%|██████████| 29/29 [00:03<00:00,  7.58it/s]"
          ]
        },
        {
          "output_type": "stream",
          "name": "stdout",
          "text": [
            "                   all          1          1\n"
          ]
        },
        {
          "output_type": "stream",
          "name": "stderr",
          "text": [
            "\n"
          ]
        },
        {
          "output_type": "stream",
          "name": "stdout",
          "text": [
            "\n",
            "      Epoch    GPU_mem       loss  Instances       Size\n"
          ]
        },
        {
          "output_type": "stream",
          "name": "stderr",
          "text": [
            "     41/100     0.363G   0.001467          8         64: 100%|██████████| 263/263 [00:37<00:00,  6.94it/s]\n",
            "               classes   top1_acc   top5_acc: 100%|██████████| 29/29 [00:03<00:00,  7.62it/s]"
          ]
        },
        {
          "output_type": "stream",
          "name": "stdout",
          "text": [
            "                   all          1          1\n"
          ]
        },
        {
          "output_type": "stream",
          "name": "stderr",
          "text": [
            "\n"
          ]
        },
        {
          "output_type": "stream",
          "name": "stdout",
          "text": [
            "\n",
            "      Epoch    GPU_mem       loss  Instances       Size\n"
          ]
        },
        {
          "output_type": "stream",
          "name": "stderr",
          "text": [
            "     42/100     0.363G  0.0007625          8         64: 100%|██████████| 263/263 [00:37<00:00,  6.99it/s]\n",
            "               classes   top1_acc   top5_acc: 100%|██████████| 29/29 [00:03<00:00,  7.65it/s]"
          ]
        },
        {
          "output_type": "stream",
          "name": "stdout",
          "text": [
            "                   all          1          1\n"
          ]
        },
        {
          "output_type": "stream",
          "name": "stderr",
          "text": [
            "\n"
          ]
        },
        {
          "output_type": "stream",
          "name": "stdout",
          "text": [
            "\n",
            "      Epoch    GPU_mem       loss  Instances       Size\n"
          ]
        },
        {
          "output_type": "stream",
          "name": "stderr",
          "text": [
            "     43/100     0.363G   0.002159          8         64: 100%|██████████| 263/263 [00:37<00:00,  7.07it/s]\n",
            "               classes   top1_acc   top5_acc: 100%|██████████| 29/29 [00:03<00:00,  7.61it/s]"
          ]
        },
        {
          "output_type": "stream",
          "name": "stdout",
          "text": [
            "                   all          1          1\n"
          ]
        },
        {
          "output_type": "stream",
          "name": "stderr",
          "text": [
            "\n"
          ]
        },
        {
          "output_type": "stream",
          "name": "stdout",
          "text": [
            "\n",
            "      Epoch    GPU_mem       loss  Instances       Size\n"
          ]
        },
        {
          "output_type": "stream",
          "name": "stderr",
          "text": [
            "     44/100     0.363G   0.001907          8         64: 100%|██████████| 263/263 [00:37<00:00,  7.07it/s]\n",
            "               classes   top1_acc   top5_acc: 100%|██████████| 29/29 [00:03<00:00,  7.77it/s]"
          ]
        },
        {
          "output_type": "stream",
          "name": "stdout",
          "text": [
            "                   all          1          1\n"
          ]
        },
        {
          "output_type": "stream",
          "name": "stderr",
          "text": [
            "\n"
          ]
        },
        {
          "output_type": "stream",
          "name": "stdout",
          "text": [
            "\n",
            "      Epoch    GPU_mem       loss  Instances       Size\n"
          ]
        },
        {
          "output_type": "stream",
          "name": "stderr",
          "text": [
            "     45/100     0.363G  0.0004987          8         64: 100%|██████████| 263/263 [00:38<00:00,  6.77it/s]\n",
            "               classes   top1_acc   top5_acc: 100%|██████████| 29/29 [00:03<00:00,  7.75it/s]"
          ]
        },
        {
          "output_type": "stream",
          "name": "stdout",
          "text": [
            "                   all          1          1\n"
          ]
        },
        {
          "output_type": "stream",
          "name": "stderr",
          "text": [
            "\n"
          ]
        },
        {
          "output_type": "stream",
          "name": "stdout",
          "text": [
            "\n",
            "      Epoch    GPU_mem       loss  Instances       Size\n"
          ]
        },
        {
          "output_type": "stream",
          "name": "stderr",
          "text": [
            "     46/100     0.363G   0.001438          8         64: 100%|██████████| 263/263 [00:37<00:00,  7.10it/s]\n",
            "               classes   top1_acc   top5_acc: 100%|██████████| 29/29 [00:03<00:00,  7.61it/s]"
          ]
        },
        {
          "output_type": "stream",
          "name": "stdout",
          "text": [
            "                   all          1          1\n"
          ]
        },
        {
          "output_type": "stream",
          "name": "stderr",
          "text": [
            "\n"
          ]
        },
        {
          "output_type": "stream",
          "name": "stdout",
          "text": [
            "\n",
            "      Epoch    GPU_mem       loss  Instances       Size\n"
          ]
        },
        {
          "output_type": "stream",
          "name": "stderr",
          "text": [
            "     47/100     0.363G  0.0001735          8         64: 100%|██████████| 263/263 [00:37<00:00,  7.05it/s]\n",
            "               classes   top1_acc   top5_acc: 100%|██████████| 29/29 [00:03<00:00,  7.68it/s]"
          ]
        },
        {
          "output_type": "stream",
          "name": "stdout",
          "text": [
            "                   all          1          1\n"
          ]
        },
        {
          "output_type": "stream",
          "name": "stderr",
          "text": [
            "\n"
          ]
        },
        {
          "output_type": "stream",
          "name": "stdout",
          "text": [
            "\n",
            "      Epoch    GPU_mem       loss  Instances       Size\n"
          ]
        },
        {
          "output_type": "stream",
          "name": "stderr",
          "text": [
            "     48/100     0.363G  0.0001503          8         64: 100%|██████████| 263/263 [00:37<00:00,  7.10it/s]\n",
            "               classes   top1_acc   top5_acc: 100%|██████████| 29/29 [00:03<00:00,  7.43it/s]"
          ]
        },
        {
          "output_type": "stream",
          "name": "stdout",
          "text": [
            "                   all          1          1\n"
          ]
        },
        {
          "output_type": "stream",
          "name": "stderr",
          "text": [
            "\n"
          ]
        },
        {
          "output_type": "stream",
          "name": "stdout",
          "text": [
            "\n",
            "      Epoch    GPU_mem       loss  Instances       Size\n"
          ]
        },
        {
          "output_type": "stream",
          "name": "stderr",
          "text": [
            "     49/100     0.363G  0.0001127          8         64: 100%|██████████| 263/263 [00:36<00:00,  7.19it/s]\n",
            "               classes   top1_acc   top5_acc: 100%|██████████| 29/29 [00:03<00:00,  7.77it/s]"
          ]
        },
        {
          "output_type": "stream",
          "name": "stdout",
          "text": [
            "                   all          1          1\n"
          ]
        },
        {
          "output_type": "stream",
          "name": "stderr",
          "text": [
            "\n"
          ]
        },
        {
          "output_type": "stream",
          "name": "stdout",
          "text": [
            "\n",
            "      Epoch    GPU_mem       loss  Instances       Size\n"
          ]
        },
        {
          "output_type": "stream",
          "name": "stderr",
          "text": [
            "     50/100     0.363G     0.0016          8         64: 100%|██████████| 263/263 [00:37<00:00,  6.99it/s]\n",
            "               classes   top1_acc   top5_acc: 100%|██████████| 29/29 [00:03<00:00,  7.37it/s]"
          ]
        },
        {
          "output_type": "stream",
          "name": "stdout",
          "text": [
            "                   all          1          1\n"
          ]
        },
        {
          "output_type": "stream",
          "name": "stderr",
          "text": [
            "\n"
          ]
        },
        {
          "output_type": "stream",
          "name": "stdout",
          "text": [
            "\n",
            "      Epoch    GPU_mem       loss  Instances       Size\n"
          ]
        },
        {
          "output_type": "stream",
          "name": "stderr",
          "text": [
            "     51/100     0.363G  0.0003305          8         64: 100%|██████████| 263/263 [00:37<00:00,  6.93it/s]\n",
            "               classes   top1_acc   top5_acc: 100%|██████████| 29/29 [00:03<00:00,  7.86it/s]"
          ]
        },
        {
          "output_type": "stream",
          "name": "stdout",
          "text": [
            "                   all          1          1\n"
          ]
        },
        {
          "output_type": "stream",
          "name": "stderr",
          "text": [
            "\n"
          ]
        },
        {
          "output_type": "stream",
          "name": "stdout",
          "text": [
            "\n",
            "      Epoch    GPU_mem       loss  Instances       Size\n"
          ]
        },
        {
          "output_type": "stream",
          "name": "stderr",
          "text": [
            "     52/100     0.363G  0.0002759          8         64: 100%|██████████| 263/263 [00:36<00:00,  7.13it/s]\n",
            "               classes   top1_acc   top5_acc: 100%|██████████| 29/29 [00:03<00:00,  7.48it/s]"
          ]
        },
        {
          "output_type": "stream",
          "name": "stdout",
          "text": [
            "                   all          1          1\n"
          ]
        },
        {
          "output_type": "stream",
          "name": "stderr",
          "text": [
            "\n"
          ]
        },
        {
          "output_type": "stream",
          "name": "stdout",
          "text": [
            "\n",
            "      Epoch    GPU_mem       loss  Instances       Size\n"
          ]
        },
        {
          "output_type": "stream",
          "name": "stderr",
          "text": [
            "     53/100     0.363G  0.0003379          8         64: 100%|██████████| 263/263 [00:36<00:00,  7.19it/s]\n",
            "               classes   top1_acc   top5_acc: 100%|██████████| 29/29 [00:04<00:00,  6.83it/s]"
          ]
        },
        {
          "output_type": "stream",
          "name": "stdout",
          "text": [
            "                   all          1          1\n"
          ]
        },
        {
          "output_type": "stream",
          "name": "stderr",
          "text": [
            "\n"
          ]
        },
        {
          "output_type": "stream",
          "name": "stdout",
          "text": [
            "\n",
            "      Epoch    GPU_mem       loss  Instances       Size\n"
          ]
        },
        {
          "output_type": "stream",
          "name": "stderr",
          "text": [
            "     54/100     0.363G  0.0001863          8         64: 100%|██████████| 263/263 [00:36<00:00,  7.28it/s]\n",
            "               classes   top1_acc   top5_acc: 100%|██████████| 29/29 [00:04<00:00,  6.11it/s]"
          ]
        },
        {
          "output_type": "stream",
          "name": "stdout",
          "text": [
            "                   all          1          1\n"
          ]
        },
        {
          "output_type": "stream",
          "name": "stderr",
          "text": [
            "\n"
          ]
        },
        {
          "output_type": "stream",
          "name": "stdout",
          "text": [
            "\n",
            "      Epoch    GPU_mem       loss  Instances       Size\n"
          ]
        },
        {
          "output_type": "stream",
          "name": "stderr",
          "text": [
            "     55/100     0.363G   0.000112          8         64: 100%|██████████| 263/263 [00:35<00:00,  7.48it/s]\n",
            "               classes   top1_acc   top5_acc: 100%|██████████| 29/29 [00:05<00:00,  5.62it/s]"
          ]
        },
        {
          "output_type": "stream",
          "name": "stdout",
          "text": [
            "                   all          1          1\n"
          ]
        },
        {
          "output_type": "stream",
          "name": "stderr",
          "text": [
            "\n"
          ]
        },
        {
          "output_type": "stream",
          "name": "stdout",
          "text": [
            "\n",
            "      Epoch    GPU_mem       loss  Instances       Size\n"
          ]
        },
        {
          "output_type": "stream",
          "name": "stderr",
          "text": [
            "     56/100     0.363G  0.0002112          8         64: 100%|██████████| 263/263 [00:36<00:00,  7.11it/s]\n",
            "               classes   top1_acc   top5_acc: 100%|██████████| 29/29 [00:05<00:00,  5.62it/s]"
          ]
        },
        {
          "output_type": "stream",
          "name": "stdout",
          "text": [
            "                   all          1          1\n"
          ]
        },
        {
          "output_type": "stream",
          "name": "stderr",
          "text": [
            "\n"
          ]
        },
        {
          "output_type": "stream",
          "name": "stdout",
          "text": [
            "\n",
            "      Epoch    GPU_mem       loss  Instances       Size\n"
          ]
        },
        {
          "output_type": "stream",
          "name": "stderr",
          "text": [
            "     57/100     0.363G  0.0002592          8         64: 100%|██████████| 263/263 [00:37<00:00,  7.04it/s]\n",
            "               classes   top1_acc   top5_acc: 100%|██████████| 29/29 [00:04<00:00,  6.05it/s]"
          ]
        },
        {
          "output_type": "stream",
          "name": "stdout",
          "text": [
            "                   all          1          1\n"
          ]
        },
        {
          "output_type": "stream",
          "name": "stderr",
          "text": [
            "\n"
          ]
        },
        {
          "output_type": "stream",
          "name": "stdout",
          "text": [
            "\n",
            "      Epoch    GPU_mem       loss  Instances       Size\n"
          ]
        },
        {
          "output_type": "stream",
          "name": "stderr",
          "text": [
            "     58/100     0.363G  1.387e-05          8         64: 100%|██████████| 263/263 [00:37<00:00,  7.08it/s]\n",
            "               classes   top1_acc   top5_acc: 100%|██████████| 29/29 [00:05<00:00,  5.65it/s]"
          ]
        },
        {
          "output_type": "stream",
          "name": "stdout",
          "text": [
            "                   all          1          1\n"
          ]
        },
        {
          "output_type": "stream",
          "name": "stderr",
          "text": [
            "\n"
          ]
        },
        {
          "output_type": "stream",
          "name": "stdout",
          "text": [
            "\n",
            "      Epoch    GPU_mem       loss  Instances       Size\n"
          ]
        },
        {
          "output_type": "stream",
          "name": "stderr",
          "text": [
            "     59/100     0.363G  1.504e-05          8         64: 100%|██████████| 263/263 [00:38<00:00,  6.90it/s]\n",
            "               classes   top1_acc   top5_acc: 100%|██████████| 29/29 [00:04<00:00,  7.07it/s]"
          ]
        },
        {
          "output_type": "stream",
          "name": "stdout",
          "text": [
            "                   all          1          1\n"
          ]
        },
        {
          "output_type": "stream",
          "name": "stderr",
          "text": [
            "\n"
          ]
        },
        {
          "output_type": "stream",
          "name": "stdout",
          "text": [
            "\n",
            "      Epoch    GPU_mem       loss  Instances       Size\n"
          ]
        },
        {
          "output_type": "stream",
          "name": "stderr",
          "text": [
            "     60/100     0.363G  0.0001759          8         64: 100%|██████████| 263/263 [00:37<00:00,  7.02it/s]\n",
            "               classes   top1_acc   top5_acc: 100%|██████████| 29/29 [00:04<00:00,  7.04it/s]"
          ]
        },
        {
          "output_type": "stream",
          "name": "stdout",
          "text": [
            "                   all          1          1\n"
          ]
        },
        {
          "output_type": "stream",
          "name": "stderr",
          "text": [
            "\n"
          ]
        },
        {
          "output_type": "stream",
          "name": "stdout",
          "text": [
            "\n",
            "      Epoch    GPU_mem       loss  Instances       Size\n"
          ]
        },
        {
          "output_type": "stream",
          "name": "stderr",
          "text": [
            "     61/100     0.363G   0.001526          8         64: 100%|██████████| 263/263 [00:37<00:00,  7.00it/s]\n",
            "               classes   top1_acc   top5_acc: 100%|██████████| 29/29 [00:04<00:00,  6.62it/s]"
          ]
        },
        {
          "output_type": "stream",
          "name": "stdout",
          "text": [
            "                   all          1          1\n"
          ]
        },
        {
          "output_type": "stream",
          "name": "stderr",
          "text": [
            "\n"
          ]
        },
        {
          "output_type": "stream",
          "name": "stdout",
          "text": [
            "\n",
            "      Epoch    GPU_mem       loss  Instances       Size\n"
          ]
        },
        {
          "output_type": "stream",
          "name": "stderr",
          "text": [
            "     62/100     0.363G  0.0005976          8         64: 100%|██████████| 263/263 [00:37<00:00,  7.07it/s]\n",
            "               classes   top1_acc   top5_acc: 100%|██████████| 29/29 [00:03<00:00,  7.57it/s]"
          ]
        },
        {
          "output_type": "stream",
          "name": "stdout",
          "text": [
            "                   all          1          1\n"
          ]
        },
        {
          "output_type": "stream",
          "name": "stderr",
          "text": [
            "\n"
          ]
        },
        {
          "output_type": "stream",
          "name": "stdout",
          "text": [
            "\n",
            "      Epoch    GPU_mem       loss  Instances       Size\n"
          ]
        },
        {
          "output_type": "stream",
          "name": "stderr",
          "text": [
            "     63/100     0.363G  6.156e-05          8         64: 100%|██████████| 263/263 [00:38<00:00,  6.82it/s]\n",
            "               classes   top1_acc   top5_acc: 100%|██████████| 29/29 [00:03<00:00,  7.96it/s]"
          ]
        },
        {
          "output_type": "stream",
          "name": "stdout",
          "text": [
            "                   all          1          1\n"
          ]
        },
        {
          "output_type": "stream",
          "name": "stderr",
          "text": [
            "\n"
          ]
        },
        {
          "output_type": "stream",
          "name": "stdout",
          "text": [
            "\n",
            "      Epoch    GPU_mem       loss  Instances       Size\n"
          ]
        },
        {
          "output_type": "stream",
          "name": "stderr",
          "text": [
            "     64/100     0.363G  0.0001451          8         64: 100%|██████████| 263/263 [00:38<00:00,  6.79it/s]\n",
            "               classes   top1_acc   top5_acc: 100%|██████████| 29/29 [00:03<00:00,  7.51it/s]"
          ]
        },
        {
          "output_type": "stream",
          "name": "stdout",
          "text": [
            "                   all          1          1\n"
          ]
        },
        {
          "output_type": "stream",
          "name": "stderr",
          "text": [
            "\n"
          ]
        },
        {
          "output_type": "stream",
          "name": "stdout",
          "text": [
            "\n",
            "      Epoch    GPU_mem       loss  Instances       Size\n"
          ]
        },
        {
          "output_type": "stream",
          "name": "stderr",
          "text": [
            "     65/100     0.363G  7.688e-05          8         64: 100%|██████████| 263/263 [00:38<00:00,  6.85it/s]\n",
            "               classes   top1_acc   top5_acc: 100%|██████████| 29/29 [00:03<00:00,  7.85it/s]"
          ]
        },
        {
          "output_type": "stream",
          "name": "stdout",
          "text": [
            "                   all          1          1\n"
          ]
        },
        {
          "output_type": "stream",
          "name": "stderr",
          "text": [
            "\n"
          ]
        },
        {
          "output_type": "stream",
          "name": "stdout",
          "text": [
            "\n",
            "      Epoch    GPU_mem       loss  Instances       Size\n"
          ]
        },
        {
          "output_type": "stream",
          "name": "stderr",
          "text": [
            "     66/100     0.363G   0.003968          8         64: 100%|██████████| 263/263 [00:36<00:00,  7.17it/s]\n",
            "               classes   top1_acc   top5_acc: 100%|██████████| 29/29 [00:03<00:00,  7.76it/s]"
          ]
        },
        {
          "output_type": "stream",
          "name": "stdout",
          "text": [
            "                   all          1          1\n"
          ]
        },
        {
          "output_type": "stream",
          "name": "stderr",
          "text": [
            "\n"
          ]
        },
        {
          "output_type": "stream",
          "name": "stdout",
          "text": [
            "\n",
            "      Epoch    GPU_mem       loss  Instances       Size\n"
          ]
        },
        {
          "output_type": "stream",
          "name": "stderr",
          "text": [
            "     67/100     0.363G   0.004668          8         64: 100%|██████████| 263/263 [00:36<00:00,  7.11it/s]\n",
            "               classes   top1_acc   top5_acc: 100%|██████████| 29/29 [00:03<00:00,  7.70it/s]"
          ]
        },
        {
          "output_type": "stream",
          "name": "stdout",
          "text": [
            "                   all          1          1\n"
          ]
        },
        {
          "output_type": "stream",
          "name": "stderr",
          "text": [
            "\n"
          ]
        },
        {
          "output_type": "stream",
          "name": "stdout",
          "text": [
            "\n",
            "      Epoch    GPU_mem       loss  Instances       Size\n"
          ]
        },
        {
          "output_type": "stream",
          "name": "stderr",
          "text": [
            "     68/100     0.363G  0.0005238          8         64: 100%|██████████| 263/263 [00:37<00:00,  7.10it/s]\n",
            "               classes   top1_acc   top5_acc: 100%|██████████| 29/29 [00:03<00:00,  7.78it/s]"
          ]
        },
        {
          "output_type": "stream",
          "name": "stdout",
          "text": [
            "                   all          1          1\n"
          ]
        },
        {
          "output_type": "stream",
          "name": "stderr",
          "text": [
            "\n"
          ]
        },
        {
          "output_type": "stream",
          "name": "stdout",
          "text": [
            "\n",
            "      Epoch    GPU_mem       loss  Instances       Size\n"
          ]
        },
        {
          "output_type": "stream",
          "name": "stderr",
          "text": [
            "     69/100     0.363G  0.0003547          8         64: 100%|██████████| 263/263 [00:38<00:00,  6.88it/s]\n",
            "               classes   top1_acc   top5_acc: 100%|██████████| 29/29 [00:03<00:00,  7.71it/s]"
          ]
        },
        {
          "output_type": "stream",
          "name": "stdout",
          "text": [
            "                   all          1          1\n"
          ]
        },
        {
          "output_type": "stream",
          "name": "stderr",
          "text": [
            "\n"
          ]
        },
        {
          "output_type": "stream",
          "name": "stdout",
          "text": [
            "\n",
            "      Epoch    GPU_mem       loss  Instances       Size\n"
          ]
        },
        {
          "output_type": "stream",
          "name": "stderr",
          "text": [
            "     70/100     0.363G  0.0002288          8         64: 100%|██████████| 263/263 [00:37<00:00,  7.03it/s]\n",
            "               classes   top1_acc   top5_acc: 100%|██████████| 29/29 [00:03<00:00,  7.82it/s]"
          ]
        },
        {
          "output_type": "stream",
          "name": "stdout",
          "text": [
            "                   all          1          1\n"
          ]
        },
        {
          "output_type": "stream",
          "name": "stderr",
          "text": [
            "\n"
          ]
        },
        {
          "output_type": "stream",
          "name": "stdout",
          "text": [
            "\n",
            "      Epoch    GPU_mem       loss  Instances       Size\n"
          ]
        },
        {
          "output_type": "stream",
          "name": "stderr",
          "text": [
            "     71/100     0.363G  0.0001363          8         64: 100%|██████████| 263/263 [00:37<00:00,  7.01it/s]\n",
            "               classes   top1_acc   top5_acc: 100%|██████████| 29/29 [00:03<00:00,  7.63it/s]"
          ]
        },
        {
          "output_type": "stream",
          "name": "stdout",
          "text": [
            "                   all          1          1\n"
          ]
        },
        {
          "output_type": "stream",
          "name": "stderr",
          "text": [
            "\n"
          ]
        },
        {
          "output_type": "stream",
          "name": "stdout",
          "text": [
            "\n",
            "      Epoch    GPU_mem       loss  Instances       Size\n"
          ]
        },
        {
          "output_type": "stream",
          "name": "stderr",
          "text": [
            "     72/100     0.363G  6.172e-05          8         64: 100%|██████████| 263/263 [00:37<00:00,  7.03it/s]\n",
            "               classes   top1_acc   top5_acc: 100%|██████████| 29/29 [00:03<00:00,  7.51it/s]"
          ]
        },
        {
          "output_type": "stream",
          "name": "stdout",
          "text": [
            "                   all          1          1\n"
          ]
        },
        {
          "output_type": "stream",
          "name": "stderr",
          "text": [
            "\n"
          ]
        },
        {
          "output_type": "stream",
          "name": "stdout",
          "text": [
            "\n",
            "      Epoch    GPU_mem       loss  Instances       Size\n"
          ]
        },
        {
          "output_type": "stream",
          "name": "stderr",
          "text": [
            "     73/100     0.363G  6.752e-05          8         64: 100%|██████████| 263/263 [00:37<00:00,  6.97it/s]\n",
            "               classes   top1_acc   top5_acc: 100%|██████████| 29/29 [00:03<00:00,  7.81it/s]"
          ]
        },
        {
          "output_type": "stream",
          "name": "stdout",
          "text": [
            "                   all          1          1\n"
          ]
        },
        {
          "output_type": "stream",
          "name": "stderr",
          "text": [
            "\n"
          ]
        },
        {
          "output_type": "stream",
          "name": "stdout",
          "text": [
            "\n",
            "      Epoch    GPU_mem       loss  Instances       Size\n"
          ]
        },
        {
          "output_type": "stream",
          "name": "stderr",
          "text": [
            "     74/100     0.363G  0.0004911          8         64: 100%|██████████| 263/263 [00:39<00:00,  6.68it/s]\n",
            "               classes   top1_acc   top5_acc: 100%|██████████| 29/29 [00:03<00:00,  7.83it/s]"
          ]
        },
        {
          "output_type": "stream",
          "name": "stdout",
          "text": [
            "                   all          1          1\n"
          ]
        },
        {
          "output_type": "stream",
          "name": "stderr",
          "text": [
            "\n"
          ]
        },
        {
          "output_type": "stream",
          "name": "stdout",
          "text": [
            "\n",
            "      Epoch    GPU_mem       loss  Instances       Size\n"
          ]
        },
        {
          "output_type": "stream",
          "name": "stderr",
          "text": [
            "     75/100     0.363G  0.0001226          8         64: 100%|██████████| 263/263 [00:37<00:00,  7.05it/s]\n",
            "               classes   top1_acc   top5_acc: 100%|██████████| 29/29 [00:03<00:00,  7.73it/s]"
          ]
        },
        {
          "output_type": "stream",
          "name": "stdout",
          "text": [
            "                   all          1          1\n"
          ]
        },
        {
          "output_type": "stream",
          "name": "stderr",
          "text": [
            "\n"
          ]
        },
        {
          "output_type": "stream",
          "name": "stdout",
          "text": [
            "\n",
            "      Epoch    GPU_mem       loss  Instances       Size\n"
          ]
        },
        {
          "output_type": "stream",
          "name": "stderr",
          "text": [
            "     76/100     0.363G  0.0008511          8         64: 100%|██████████| 263/263 [00:36<00:00,  7.11it/s]\n",
            "               classes   top1_acc   top5_acc: 100%|██████████| 29/29 [00:04<00:00,  7.12it/s]"
          ]
        },
        {
          "output_type": "stream",
          "name": "stdout",
          "text": [
            "                   all          1          1\n"
          ]
        },
        {
          "output_type": "stream",
          "name": "stderr",
          "text": [
            "\n"
          ]
        },
        {
          "output_type": "stream",
          "name": "stdout",
          "text": [
            "\n",
            "      Epoch    GPU_mem       loss  Instances       Size\n"
          ]
        },
        {
          "output_type": "stream",
          "name": "stderr",
          "text": [
            "     77/100     0.363G    0.00142          8         64: 100%|██████████| 263/263 [00:37<00:00,  7.07it/s]\n",
            "               classes   top1_acc   top5_acc: 100%|██████████| 29/29 [00:04<00:00,  7.22it/s]"
          ]
        },
        {
          "output_type": "stream",
          "name": "stdout",
          "text": [
            "                   all          1          1\n"
          ]
        },
        {
          "output_type": "stream",
          "name": "stderr",
          "text": [
            "\n"
          ]
        },
        {
          "output_type": "stream",
          "name": "stdout",
          "text": [
            "\n",
            "      Epoch    GPU_mem       loss  Instances       Size\n"
          ]
        },
        {
          "output_type": "stream",
          "name": "stderr",
          "text": [
            "     78/100     0.363G   0.000612          8         64: 100%|██████████| 263/263 [00:37<00:00,  7.07it/s]\n",
            "               classes   top1_acc   top5_acc: 100%|██████████| 29/29 [00:04<00:00,  6.74it/s]"
          ]
        },
        {
          "output_type": "stream",
          "name": "stdout",
          "text": [
            "                   all          1          1\n"
          ]
        },
        {
          "output_type": "stream",
          "name": "stderr",
          "text": [
            "\n"
          ]
        },
        {
          "output_type": "stream",
          "name": "stdout",
          "text": [
            "\n",
            "      Epoch    GPU_mem       loss  Instances       Size\n"
          ]
        },
        {
          "output_type": "stream",
          "name": "stderr",
          "text": [
            "     79/100     0.363G  0.0009985          8         64: 100%|██████████| 263/263 [00:37<00:00,  7.08it/s]\n",
            "               classes   top1_acc   top5_acc: 100%|██████████| 29/29 [00:04<00:00,  6.57it/s]"
          ]
        },
        {
          "output_type": "stream",
          "name": "stdout",
          "text": [
            "                   all          1          1\n"
          ]
        },
        {
          "output_type": "stream",
          "name": "stderr",
          "text": [
            "\n"
          ]
        },
        {
          "output_type": "stream",
          "name": "stdout",
          "text": [
            "\n",
            "      Epoch    GPU_mem       loss  Instances       Size\n"
          ]
        },
        {
          "output_type": "stream",
          "name": "stderr",
          "text": [
            "     80/100     0.363G  0.0006543          8         64: 100%|██████████| 263/263 [00:39<00:00,  6.70it/s]\n",
            "               classes   top1_acc   top5_acc: 100%|██████████| 29/29 [00:03<00:00,  7.41it/s]"
          ]
        },
        {
          "output_type": "stream",
          "name": "stdout",
          "text": [
            "                   all          1          1\n"
          ]
        },
        {
          "output_type": "stream",
          "name": "stderr",
          "text": [
            "\n"
          ]
        },
        {
          "output_type": "stream",
          "name": "stdout",
          "text": [
            "\n",
            "      Epoch    GPU_mem       loss  Instances       Size\n"
          ]
        },
        {
          "output_type": "stream",
          "name": "stderr",
          "text": [
            "     81/100     0.363G   0.000609          8         64: 100%|██████████| 263/263 [00:37<00:00,  7.04it/s]\n",
            "               classes   top1_acc   top5_acc: 100%|██████████| 29/29 [00:04<00:00,  6.94it/s]"
          ]
        },
        {
          "output_type": "stream",
          "name": "stdout",
          "text": [
            "                   all          1          1\n"
          ]
        },
        {
          "output_type": "stream",
          "name": "stderr",
          "text": [
            "\n"
          ]
        },
        {
          "output_type": "stream",
          "name": "stdout",
          "text": [
            "\n",
            "      Epoch    GPU_mem       loss  Instances       Size\n"
          ]
        },
        {
          "output_type": "stream",
          "name": "stderr",
          "text": [
            "     82/100     0.363G  2.159e-05          8         64: 100%|██████████| 263/263 [00:36<00:00,  7.14it/s]\n",
            "               classes   top1_acc   top5_acc: 100%|██████████| 29/29 [00:04<00:00,  6.58it/s]"
          ]
        },
        {
          "output_type": "stream",
          "name": "stdout",
          "text": [
            "                   all          1          1\n"
          ]
        },
        {
          "output_type": "stream",
          "name": "stderr",
          "text": [
            "\n"
          ]
        },
        {
          "output_type": "stream",
          "name": "stdout",
          "text": [
            "\n",
            "      Epoch    GPU_mem       loss  Instances       Size\n"
          ]
        },
        {
          "output_type": "stream",
          "name": "stderr",
          "text": [
            "     83/100     0.363G  6.281e-05          8         64: 100%|██████████| 263/263 [00:36<00:00,  7.12it/s]\n",
            "               classes   top1_acc   top5_acc: 100%|██████████| 29/29 [00:04<00:00,  6.05it/s]"
          ]
        },
        {
          "output_type": "stream",
          "name": "stdout",
          "text": [
            "                   all          1          1\n"
          ]
        },
        {
          "output_type": "stream",
          "name": "stderr",
          "text": [
            "\n"
          ]
        },
        {
          "output_type": "stream",
          "name": "stdout",
          "text": [
            "\n",
            "      Epoch    GPU_mem       loss  Instances       Size\n"
          ]
        },
        {
          "output_type": "stream",
          "name": "stderr",
          "text": [
            "     84/100     0.363G   0.001905          8         64: 100%|██████████| 263/263 [00:36<00:00,  7.11it/s]\n",
            "               classes   top1_acc   top5_acc: 100%|██████████| 29/29 [00:04<00:00,  6.22it/s]"
          ]
        },
        {
          "output_type": "stream",
          "name": "stdout",
          "text": [
            "                   all          1          1\n"
          ]
        },
        {
          "output_type": "stream",
          "name": "stderr",
          "text": [
            "\n"
          ]
        },
        {
          "output_type": "stream",
          "name": "stdout",
          "text": [
            "\n",
            "      Epoch    GPU_mem       loss  Instances       Size\n"
          ]
        },
        {
          "output_type": "stream",
          "name": "stderr",
          "text": [
            "     85/100     0.363G  0.0002187          8         64: 100%|██████████| 263/263 [00:38<00:00,  6.81it/s]\n",
            "               classes   top1_acc   top5_acc: 100%|██████████| 29/29 [00:04<00:00,  6.75it/s]"
          ]
        },
        {
          "output_type": "stream",
          "name": "stdout",
          "text": [
            "                   all          1          1\n"
          ]
        },
        {
          "output_type": "stream",
          "name": "stderr",
          "text": [
            "\n"
          ]
        },
        {
          "output_type": "stream",
          "name": "stdout",
          "text": [
            "\n",
            "      Epoch    GPU_mem       loss  Instances       Size\n"
          ]
        },
        {
          "output_type": "stream",
          "name": "stderr",
          "text": [
            "     86/100     0.363G  0.0001285          8         64: 100%|██████████| 263/263 [00:36<00:00,  7.12it/s]\n",
            "               classes   top1_acc   top5_acc: 100%|██████████| 29/29 [00:04<00:00,  6.33it/s]"
          ]
        },
        {
          "output_type": "stream",
          "name": "stdout",
          "text": [
            "                   all          1          1\n"
          ]
        },
        {
          "output_type": "stream",
          "name": "stderr",
          "text": [
            "\n"
          ]
        },
        {
          "output_type": "stream",
          "name": "stdout",
          "text": [
            "\n",
            "      Epoch    GPU_mem       loss  Instances       Size\n"
          ]
        },
        {
          "output_type": "stream",
          "name": "stderr",
          "text": [
            "     87/100     0.363G   0.001025          8         64: 100%|██████████| 263/263 [00:37<00:00,  7.10it/s]\n",
            "               classes   top1_acc   top5_acc: 100%|██████████| 29/29 [00:04<00:00,  6.76it/s]"
          ]
        },
        {
          "output_type": "stream",
          "name": "stdout",
          "text": [
            "                   all          1          1\n"
          ]
        },
        {
          "output_type": "stream",
          "name": "stderr",
          "text": [
            "\n"
          ]
        },
        {
          "output_type": "stream",
          "name": "stdout",
          "text": [
            "\n",
            "      Epoch    GPU_mem       loss  Instances       Size\n"
          ]
        },
        {
          "output_type": "stream",
          "name": "stderr",
          "text": [
            "     88/100     0.363G  0.0001173          8         64: 100%|██████████| 263/263 [00:36<00:00,  7.16it/s]\n",
            "               classes   top1_acc   top5_acc: 100%|██████████| 29/29 [00:04<00:00,  5.84it/s]"
          ]
        },
        {
          "output_type": "stream",
          "name": "stdout",
          "text": [
            "                   all          1          1\n"
          ]
        },
        {
          "output_type": "stream",
          "name": "stderr",
          "text": [
            "\n"
          ]
        },
        {
          "output_type": "stream",
          "name": "stdout",
          "text": [
            "\n",
            "      Epoch    GPU_mem       loss  Instances       Size\n"
          ]
        },
        {
          "output_type": "stream",
          "name": "stderr",
          "text": [
            "     89/100     0.363G  0.0004132          8         64: 100%|██████████| 263/263 [00:35<00:00,  7.31it/s]\n",
            "               classes   top1_acc   top5_acc: 100%|██████████| 29/29 [00:05<00:00,  5.59it/s]"
          ]
        },
        {
          "output_type": "stream",
          "name": "stdout",
          "text": [
            "                   all          1          1\n"
          ]
        },
        {
          "output_type": "stream",
          "name": "stderr",
          "text": [
            "\n"
          ]
        },
        {
          "output_type": "stream",
          "name": "stdout",
          "text": [
            "\n",
            "      Epoch    GPU_mem       loss  Instances       Size\n"
          ]
        },
        {
          "output_type": "stream",
          "name": "stderr",
          "text": [
            "     90/100     0.363G   1.95e-05          8         64: 100%|██████████| 263/263 [00:38<00:00,  6.88it/s]\n",
            "               classes   top1_acc   top5_acc: 100%|██████████| 29/29 [00:04<00:00,  6.30it/s]"
          ]
        },
        {
          "output_type": "stream",
          "name": "stdout",
          "text": [
            "                   all          1          1\n"
          ]
        },
        {
          "output_type": "stream",
          "name": "stderr",
          "text": [
            "\n",
            "/usr/lib/python3.10/multiprocessing/popen_fork.py:66: RuntimeWarning: os.fork() was called. os.fork() is incompatible with multithreaded code, and JAX is multithreaded, so this will likely lead to a deadlock.\n",
            "  self.pid = os.fork()\n",
            "/usr/lib/python3.10/multiprocessing/popen_fork.py:66: RuntimeWarning: os.fork() was called. os.fork() is incompatible with multithreaded code, and JAX is multithreaded, so this will likely lead to a deadlock.\n",
            "  self.pid = os.fork()\n"
          ]
        },
        {
          "output_type": "stream",
          "name": "stdout",
          "text": [
            "\n",
            "      Epoch    GPU_mem       loss  Instances       Size\n"
          ]
        },
        {
          "output_type": "stream",
          "name": "stderr",
          "text": [
            "     91/100     0.363G  3.013e-05          8         64: 100%|██████████| 263/263 [00:38<00:00,  6.83it/s]\n",
            "               classes   top1_acc   top5_acc: 100%|██████████| 29/29 [00:04<00:00,  7.15it/s]"
          ]
        },
        {
          "output_type": "stream",
          "name": "stdout",
          "text": [
            "                   all          1          1\n"
          ]
        },
        {
          "output_type": "stream",
          "name": "stderr",
          "text": [
            "\n"
          ]
        },
        {
          "output_type": "stream",
          "name": "stdout",
          "text": [
            "\n",
            "      Epoch    GPU_mem       loss  Instances       Size\n"
          ]
        },
        {
          "output_type": "stream",
          "name": "stderr",
          "text": [
            "     92/100     0.363G   5.16e-05          8         64: 100%|██████████| 263/263 [00:37<00:00,  7.06it/s]\n",
            "               classes   top1_acc   top5_acc: 100%|██████████| 29/29 [00:04<00:00,  6.46it/s]"
          ]
        },
        {
          "output_type": "stream",
          "name": "stdout",
          "text": [
            "                   all          1          1\n"
          ]
        },
        {
          "output_type": "stream",
          "name": "stderr",
          "text": [
            "\n"
          ]
        },
        {
          "output_type": "stream",
          "name": "stdout",
          "text": [
            "\n",
            "      Epoch    GPU_mem       loss  Instances       Size\n"
          ]
        },
        {
          "output_type": "stream",
          "name": "stderr",
          "text": [
            "     93/100     0.363G  0.0009584          8         64: 100%|██████████| 263/263 [00:37<00:00,  7.02it/s]\n",
            "               classes   top1_acc   top5_acc: 100%|██████████| 29/29 [00:04<00:00,  6.93it/s]"
          ]
        },
        {
          "output_type": "stream",
          "name": "stdout",
          "text": [
            "                   all          1          1\n"
          ]
        },
        {
          "output_type": "stream",
          "name": "stderr",
          "text": [
            "\n"
          ]
        },
        {
          "output_type": "stream",
          "name": "stdout",
          "text": [
            "\n",
            "      Epoch    GPU_mem       loss  Instances       Size\n"
          ]
        },
        {
          "output_type": "stream",
          "name": "stderr",
          "text": [
            "     94/100     0.363G  5.843e-05          8         64: 100%|██████████| 263/263 [00:37<00:00,  7.02it/s]\n",
            "               classes   top1_acc   top5_acc: 100%|██████████| 29/29 [00:04<00:00,  7.01it/s]"
          ]
        },
        {
          "output_type": "stream",
          "name": "stdout",
          "text": [
            "                   all          1          1\n"
          ]
        },
        {
          "output_type": "stream",
          "name": "stderr",
          "text": [
            "\n"
          ]
        },
        {
          "output_type": "stream",
          "name": "stdout",
          "text": [
            "\n",
            "      Epoch    GPU_mem       loss  Instances       Size\n"
          ]
        },
        {
          "output_type": "stream",
          "name": "stderr",
          "text": [
            "     95/100     0.363G  0.0001765          8         64: 100%|██████████| 263/263 [00:36<00:00,  7.18it/s]\n",
            "               classes   top1_acc   top5_acc: 100%|██████████| 29/29 [00:04<00:00,  6.17it/s]"
          ]
        },
        {
          "output_type": "stream",
          "name": "stdout",
          "text": [
            "                   all          1          1\n"
          ]
        },
        {
          "output_type": "stream",
          "name": "stderr",
          "text": [
            "\n"
          ]
        },
        {
          "output_type": "stream",
          "name": "stdout",
          "text": [
            "\n",
            "      Epoch    GPU_mem       loss  Instances       Size\n"
          ]
        },
        {
          "output_type": "stream",
          "name": "stderr",
          "text": [
            "     96/100     0.363G  3.786e-05          8         64: 100%|██████████| 263/263 [00:39<00:00,  6.71it/s]\n",
            "               classes   top1_acc   top5_acc: 100%|██████████| 29/29 [00:03<00:00,  7.84it/s]"
          ]
        },
        {
          "output_type": "stream",
          "name": "stdout",
          "text": [
            "                   all          1          1\n"
          ]
        },
        {
          "output_type": "stream",
          "name": "stderr",
          "text": [
            "\n"
          ]
        },
        {
          "output_type": "stream",
          "name": "stdout",
          "text": [
            "\n",
            "      Epoch    GPU_mem       loss  Instances       Size\n"
          ]
        },
        {
          "output_type": "stream",
          "name": "stderr",
          "text": [
            "     97/100     0.363G  0.0003549          8         64: 100%|██████████| 263/263 [00:38<00:00,  6.92it/s]\n",
            "               classes   top1_acc   top5_acc: 100%|██████████| 29/29 [00:03<00:00,  7.79it/s]"
          ]
        },
        {
          "output_type": "stream",
          "name": "stdout",
          "text": [
            "                   all          1          1\n"
          ]
        },
        {
          "output_type": "stream",
          "name": "stderr",
          "text": [
            "\n"
          ]
        },
        {
          "output_type": "stream",
          "name": "stdout",
          "text": [
            "\n",
            "      Epoch    GPU_mem       loss  Instances       Size\n"
          ]
        },
        {
          "output_type": "stream",
          "name": "stderr",
          "text": [
            "     98/100     0.363G  0.0002329          8         64: 100%|██████████| 263/263 [00:37<00:00,  6.95it/s]\n",
            "               classes   top1_acc   top5_acc: 100%|██████████| 29/29 [00:03<00:00,  7.41it/s]"
          ]
        },
        {
          "output_type": "stream",
          "name": "stdout",
          "text": [
            "                   all          1          1\n"
          ]
        },
        {
          "output_type": "stream",
          "name": "stderr",
          "text": [
            "\n"
          ]
        },
        {
          "output_type": "stream",
          "name": "stdout",
          "text": [
            "\n",
            "      Epoch    GPU_mem       loss  Instances       Size\n"
          ]
        },
        {
          "output_type": "stream",
          "name": "stderr",
          "text": [
            "     99/100     0.363G  0.0006697          8         64: 100%|██████████| 263/263 [00:39<00:00,  6.64it/s]\n",
            "               classes   top1_acc   top5_acc: 100%|██████████| 29/29 [00:03<00:00,  7.83it/s]"
          ]
        },
        {
          "output_type": "stream",
          "name": "stdout",
          "text": [
            "                   all          1          1\n"
          ]
        },
        {
          "output_type": "stream",
          "name": "stderr",
          "text": [
            "\n"
          ]
        },
        {
          "output_type": "stream",
          "name": "stdout",
          "text": [
            "\n",
            "      Epoch    GPU_mem       loss  Instances       Size\n"
          ]
        },
        {
          "output_type": "stream",
          "name": "stderr",
          "text": [
            "    100/100     0.363G  0.0001014          8         64: 100%|██████████| 263/263 [00:38<00:00,  6.90it/s]\n",
            "               classes   top1_acc   top5_acc: 100%|██████████| 29/29 [00:04<00:00,  7.20it/s]"
          ]
        },
        {
          "output_type": "stream",
          "name": "stdout",
          "text": [
            "                   all          1          1\n"
          ]
        },
        {
          "output_type": "stream",
          "name": "stderr",
          "text": [
            "\n"
          ]
        },
        {
          "output_type": "stream",
          "name": "stdout",
          "text": [
            "\n",
            "100 epochs completed in 1.195 hours.\n",
            "Optimizer stripped from runs/classify/train/weights/last.pt, 3.0MB\n",
            "Optimizer stripped from runs/classify/train/weights/best.pt, 3.0MB\n",
            "\n",
            "Validating runs/classify/train/weights/best.pt...\n",
            "Ultralytics YOLOv8.2.7 🚀 Python-3.10.12 torch-2.2.1+cu121 CUDA:0 (Tesla T4, 15102MiB)\n",
            "YOLOv8n-cls summary (fused): 73 layers, 1437442 parameters, 0 gradients, 3.3 GFLOPs\n",
            "\u001b[34m\u001b[1mtrain:\u001b[0m /content/pig_data/train... found 4200 images in 2 classes ✅ \n",
            "\u001b[34m\u001b[1mval:\u001b[0m /content/pig_data/val... found 900 images in 2 classes ✅ \n",
            "\u001b[34m\u001b[1mtest:\u001b[0m /content/pig_data/test... found 900 images in 2 classes ✅ \n"
          ]
        },
        {
          "output_type": "stream",
          "name": "stderr",
          "text": [
            "               classes   top1_acc   top5_acc: 100%|██████████| 29/29 [00:03<00:00,  7.63it/s]\n"
          ]
        },
        {
          "output_type": "stream",
          "name": "stdout",
          "text": [
            "                   all          1          1\n",
            "Speed: 0.0ms preprocess, 0.4ms inference, 0.0ms loss, 0.0ms postprocess per image\n",
            "Results saved to \u001b[1mruns/classify/train\u001b[0m\n",
            "Results saved to \u001b[1mruns/classify/train\u001b[0m\n"
          ]
        }
      ]
    },
    {
      "cell_type": "code",
      "source": [
        "!yolo classify predict model= \"/content/runs/classify/train/weights/best.pt\" source=\"/content/istockphoto-1819308690-640_adpp_is.mp4\""
      ],
      "metadata": {
        "id": "3Wmle4wN8feV",
        "colab": {
          "base_uri": "https://localhost:8080/"
        },
        "outputId": "007468fe-3889-4a7e-f62d-8ab47ac65754"
      },
      "execution_count": 12,
      "outputs": [
        {
          "output_type": "stream",
          "name": "stdout",
          "text": [
            "Ultralytics YOLOv8.2.7 🚀 Python-3.10.12 torch-2.2.1+cu121 CUDA:0 (Tesla T4, 15102MiB)\n",
            "YOLOv8n-cls summary (fused): 73 layers, 1437442 parameters, 0 gradients, 3.3 GFLOPs\n",
            "\n",
            "video 1/1 (frame 1/276) /content/istockphoto-1819308690-640_adpp_is.mp4: 64x64 not-eating 0.75, eating 0.25, 4.9ms\n",
            "video 1/1 (frame 2/276) /content/istockphoto-1819308690-640_adpp_is.mp4: 64x64 not-eating 0.67, eating 0.33, 3.6ms\n",
            "video 1/1 (frame 3/276) /content/istockphoto-1819308690-640_adpp_is.mp4: 64x64 not-eating 0.74, eating 0.26, 5.3ms\n",
            "video 1/1 (frame 4/276) /content/istockphoto-1819308690-640_adpp_is.mp4: 64x64 not-eating 0.65, eating 0.35, 3.1ms\n",
            "video 1/1 (frame 5/276) /content/istockphoto-1819308690-640_adpp_is.mp4: 64x64 not-eating 0.78, eating 0.22, 3.6ms\n",
            "video 1/1 (frame 6/276) /content/istockphoto-1819308690-640_adpp_is.mp4: 64x64 not-eating 0.88, eating 0.12, 3.4ms\n",
            "video 1/1 (frame 7/276) /content/istockphoto-1819308690-640_adpp_is.mp4: 64x64 not-eating 0.94, eating 0.06, 3.8ms\n",
            "video 1/1 (frame 8/276) /content/istockphoto-1819308690-640_adpp_is.mp4: 64x64 not-eating 0.87, eating 0.13, 3.0ms\n",
            "video 1/1 (frame 9/276) /content/istockphoto-1819308690-640_adpp_is.mp4: 64x64 not-eating 0.70, eating 0.30, 3.1ms\n",
            "video 1/1 (frame 10/276) /content/istockphoto-1819308690-640_adpp_is.mp4: 64x64 not-eating 0.65, eating 0.35, 3.7ms\n",
            "video 1/1 (frame 11/276) /content/istockphoto-1819308690-640_adpp_is.mp4: 64x64 not-eating 0.58, eating 0.42, 3.2ms\n",
            "video 1/1 (frame 12/276) /content/istockphoto-1819308690-640_adpp_is.mp4: 64x64 not-eating 0.52, eating 0.48, 3.8ms\n",
            "video 1/1 (frame 13/276) /content/istockphoto-1819308690-640_adpp_is.mp4: 64x64 not-eating 0.52, eating 0.48, 4.1ms\n",
            "video 1/1 (frame 14/276) /content/istockphoto-1819308690-640_adpp_is.mp4: 64x64 not-eating 0.56, eating 0.44, 3.4ms\n",
            "video 1/1 (frame 15/276) /content/istockphoto-1819308690-640_adpp_is.mp4: 64x64 not-eating 0.61, eating 0.39, 3.4ms\n",
            "video 1/1 (frame 16/276) /content/istockphoto-1819308690-640_adpp_is.mp4: 64x64 eating 0.52, not-eating 0.48, 3.4ms\n",
            "video 1/1 (frame 17/276) /content/istockphoto-1819308690-640_adpp_is.mp4: 64x64 not-eating 0.83, eating 0.17, 4.2ms\n",
            "video 1/1 (frame 18/276) /content/istockphoto-1819308690-640_adpp_is.mp4: 64x64 not-eating 0.92, eating 0.08, 5.3ms\n",
            "video 1/1 (frame 19/276) /content/istockphoto-1819308690-640_adpp_is.mp4: 64x64 not-eating 0.93, eating 0.07, 3.0ms\n",
            "video 1/1 (frame 20/276) /content/istockphoto-1819308690-640_adpp_is.mp4: 64x64 not-eating 0.97, eating 0.03, 3.3ms\n",
            "video 1/1 (frame 21/276) /content/istockphoto-1819308690-640_adpp_is.mp4: 64x64 not-eating 0.97, eating 0.03, 4.3ms\n",
            "video 1/1 (frame 22/276) /content/istockphoto-1819308690-640_adpp_is.mp4: 64x64 not-eating 0.81, eating 0.19, 3.3ms\n",
            "video 1/1 (frame 23/276) /content/istockphoto-1819308690-640_adpp_is.mp4: 64x64 not-eating 0.78, eating 0.22, 3.2ms\n",
            "video 1/1 (frame 24/276) /content/istockphoto-1819308690-640_adpp_is.mp4: 64x64 not-eating 0.84, eating 0.16, 3.1ms\n",
            "video 1/1 (frame 25/276) /content/istockphoto-1819308690-640_adpp_is.mp4: 64x64 not-eating 0.80, eating 0.20, 4.1ms\n",
            "video 1/1 (frame 26/276) /content/istockphoto-1819308690-640_adpp_is.mp4: 64x64 not-eating 0.74, eating 0.26, 2.9ms\n",
            "video 1/1 (frame 27/276) /content/istockphoto-1819308690-640_adpp_is.mp4: 64x64 not-eating 0.57, eating 0.43, 2.9ms\n",
            "video 1/1 (frame 28/276) /content/istockphoto-1819308690-640_adpp_is.mp4: 64x64 not-eating 0.55, eating 0.45, 3.3ms\n",
            "video 1/1 (frame 29/276) /content/istockphoto-1819308690-640_adpp_is.mp4: 64x64 not-eating 0.69, eating 0.31, 4.0ms\n",
            "video 1/1 (frame 30/276) /content/istockphoto-1819308690-640_adpp_is.mp4: 64x64 not-eating 0.63, eating 0.37, 3.6ms\n",
            "video 1/1 (frame 31/276) /content/istockphoto-1819308690-640_adpp_is.mp4: 64x64 eating 0.52, not-eating 0.48, 3.4ms\n",
            "video 1/1 (frame 32/276) /content/istockphoto-1819308690-640_adpp_is.mp4: 64x64 eating 0.68, not-eating 0.32, 4.6ms\n",
            "video 1/1 (frame 33/276) /content/istockphoto-1819308690-640_adpp_is.mp4: 64x64 eating 0.58, not-eating 0.42, 3.1ms\n",
            "video 1/1 (frame 34/276) /content/istockphoto-1819308690-640_adpp_is.mp4: 64x64 eating 0.56, not-eating 0.44, 3.0ms\n",
            "video 1/1 (frame 35/276) /content/istockphoto-1819308690-640_adpp_is.mp4: 64x64 eating 0.59, not-eating 0.41, 3.1ms\n",
            "video 1/1 (frame 36/276) /content/istockphoto-1819308690-640_adpp_is.mp4: 64x64 not-eating 0.58, eating 0.42, 4.3ms\n",
            "video 1/1 (frame 37/276) /content/istockphoto-1819308690-640_adpp_is.mp4: 64x64 eating 0.60, not-eating 0.40, 5.5ms\n",
            "video 1/1 (frame 38/276) /content/istockphoto-1819308690-640_adpp_is.mp4: 64x64 not-eating 0.58, eating 0.42, 3.0ms\n",
            "video 1/1 (frame 39/276) /content/istockphoto-1819308690-640_adpp_is.mp4: 64x64 not-eating 0.67, eating 0.33, 3.3ms\n",
            "video 1/1 (frame 40/276) /content/istockphoto-1819308690-640_adpp_is.mp4: 64x64 not-eating 0.74, eating 0.26, 4.4ms\n",
            "video 1/1 (frame 41/276) /content/istockphoto-1819308690-640_adpp_is.mp4: 64x64 not-eating 0.77, eating 0.23, 3.0ms\n",
            "video 1/1 (frame 42/276) /content/istockphoto-1819308690-640_adpp_is.mp4: 64x64 not-eating 0.77, eating 0.23, 3.0ms\n",
            "video 1/1 (frame 43/276) /content/istockphoto-1819308690-640_adpp_is.mp4: 64x64 not-eating 0.91, eating 0.09, 3.2ms\n",
            "video 1/1 (frame 44/276) /content/istockphoto-1819308690-640_adpp_is.mp4: 64x64 not-eating 0.84, eating 0.16, 4.4ms\n",
            "video 1/1 (frame 45/276) /content/istockphoto-1819308690-640_adpp_is.mp4: 64x64 not-eating 0.78, eating 0.22, 3.0ms\n",
            "video 1/1 (frame 46/276) /content/istockphoto-1819308690-640_adpp_is.mp4: 64x64 not-eating 0.88, eating 0.12, 3.2ms\n",
            "video 1/1 (frame 47/276) /content/istockphoto-1819308690-640_adpp_is.mp4: 64x64 not-eating 0.95, eating 0.05, 3.3ms\n",
            "video 1/1 (frame 48/276) /content/istockphoto-1819308690-640_adpp_is.mp4: 64x64 not-eating 1.00, eating 0.00, 4.7ms\n",
            "video 1/1 (frame 49/276) /content/istockphoto-1819308690-640_adpp_is.mp4: 64x64 not-eating 1.00, eating 0.00, 3.3ms\n",
            "video 1/1 (frame 50/276) /content/istockphoto-1819308690-640_adpp_is.mp4: 64x64 not-eating 0.65, eating 0.35, 3.3ms\n",
            "video 1/1 (frame 51/276) /content/istockphoto-1819308690-640_adpp_is.mp4: 64x64 not-eating 0.51, eating 0.49, 3.3ms\n",
            "video 1/1 (frame 52/276) /content/istockphoto-1819308690-640_adpp_is.mp4: 64x64 not-eating 0.93, eating 0.07, 4.4ms\n",
            "video 1/1 (frame 53/276) /content/istockphoto-1819308690-640_adpp_is.mp4: 64x64 not-eating 0.89, eating 0.11, 3.2ms\n",
            "video 1/1 (frame 54/276) /content/istockphoto-1819308690-640_adpp_is.mp4: 64x64 not-eating 0.65, eating 0.35, 3.3ms\n",
            "video 1/1 (frame 55/276) /content/istockphoto-1819308690-640_adpp_is.mp4: 64x64 eating 0.54, not-eating 0.46, 3.3ms\n",
            "video 1/1 (frame 56/276) /content/istockphoto-1819308690-640_adpp_is.mp4: 64x64 not-eating 0.69, eating 0.31, 4.3ms\n",
            "video 1/1 (frame 57/276) /content/istockphoto-1819308690-640_adpp_is.mp4: 64x64 not-eating 0.79, eating 0.21, 3.2ms\n",
            "video 1/1 (frame 58/276) /content/istockphoto-1819308690-640_adpp_is.mp4: 64x64 not-eating 0.73, eating 0.27, 3.2ms\n",
            "video 1/1 (frame 59/276) /content/istockphoto-1819308690-640_adpp_is.mp4: 64x64 eating 0.80, not-eating 0.20, 3.3ms\n",
            "video 1/1 (frame 60/276) /content/istockphoto-1819308690-640_adpp_is.mp4: 64x64 eating 0.90, not-eating 0.10, 4.4ms\n",
            "video 1/1 (frame 61/276) /content/istockphoto-1819308690-640_adpp_is.mp4: 64x64 eating 0.92, not-eating 0.08, 5.6ms\n",
            "video 1/1 (frame 62/276) /content/istockphoto-1819308690-640_adpp_is.mp4: 64x64 eating 0.74, not-eating 0.26, 3.4ms\n",
            "video 1/1 (frame 63/276) /content/istockphoto-1819308690-640_adpp_is.mp4: 64x64 eating 0.70, not-eating 0.30, 3.3ms\n",
            "video 1/1 (frame 64/276) /content/istockphoto-1819308690-640_adpp_is.mp4: 64x64 eating 0.83, not-eating 0.17, 4.2ms\n",
            "video 1/1 (frame 65/276) /content/istockphoto-1819308690-640_adpp_is.mp4: 64x64 not-eating 0.90, eating 0.10, 4.0ms\n",
            "video 1/1 (frame 66/276) /content/istockphoto-1819308690-640_adpp_is.mp4: 64x64 not-eating 0.98, eating 0.02, 7.9ms\n",
            "video 1/1 (frame 67/276) /content/istockphoto-1819308690-640_adpp_is.mp4: 64x64 not-eating 1.00, eating 0.00, 3.2ms\n",
            "video 1/1 (frame 68/276) /content/istockphoto-1819308690-640_adpp_is.mp4: 64x64 not-eating 1.00, eating 0.00, 4.1ms\n",
            "video 1/1 (frame 69/276) /content/istockphoto-1819308690-640_adpp_is.mp4: 64x64 not-eating 0.94, eating 0.06, 3.1ms\n",
            "video 1/1 (frame 70/276) /content/istockphoto-1819308690-640_adpp_is.mp4: 64x64 not-eating 0.76, eating 0.24, 2.8ms\n",
            "video 1/1 (frame 71/276) /content/istockphoto-1819308690-640_adpp_is.mp4: 64x64 not-eating 0.94, eating 0.06, 2.9ms\n",
            "video 1/1 (frame 72/276) /content/istockphoto-1819308690-640_adpp_is.mp4: 64x64 not-eating 0.96, eating 0.04, 5.5ms\n",
            "video 1/1 (frame 73/276) /content/istockphoto-1819308690-640_adpp_is.mp4: 64x64 not-eating 0.95, eating 0.05, 3.2ms\n",
            "video 1/1 (frame 74/276) /content/istockphoto-1819308690-640_adpp_is.mp4: 64x64 not-eating 0.93, eating 0.07, 5.1ms\n",
            "video 1/1 (frame 75/276) /content/istockphoto-1819308690-640_adpp_is.mp4: 64x64 not-eating 0.98, eating 0.02, 3.2ms\n",
            "video 1/1 (frame 76/276) /content/istockphoto-1819308690-640_adpp_is.mp4: 64x64 not-eating 0.98, eating 0.02, 4.0ms\n",
            "video 1/1 (frame 77/276) /content/istockphoto-1819308690-640_adpp_is.mp4: 64x64 not-eating 0.99, eating 0.01, 3.2ms\n",
            "video 1/1 (frame 78/276) /content/istockphoto-1819308690-640_adpp_is.mp4: 64x64 not-eating 0.98, eating 0.02, 3.1ms\n",
            "video 1/1 (frame 79/276) /content/istockphoto-1819308690-640_adpp_is.mp4: 64x64 not-eating 0.75, eating 0.25, 3.1ms\n",
            "video 1/1 (frame 80/276) /content/istockphoto-1819308690-640_adpp_is.mp4: 64x64 eating 0.66, not-eating 0.34, 3.9ms\n",
            "video 1/1 (frame 81/276) /content/istockphoto-1819308690-640_adpp_is.mp4: 64x64 eating 0.67, not-eating 0.33, 3.1ms\n",
            "video 1/1 (frame 82/276) /content/istockphoto-1819308690-640_adpp_is.mp4: 64x64 eating 0.69, not-eating 0.31, 3.1ms\n",
            "video 1/1 (frame 83/276) /content/istockphoto-1819308690-640_adpp_is.mp4: 64x64 eating 0.66, not-eating 0.34, 5.9ms\n",
            "video 1/1 (frame 84/276) /content/istockphoto-1819308690-640_adpp_is.mp4: 64x64 not-eating 0.56, eating 0.44, 3.9ms\n",
            "video 1/1 (frame 85/276) /content/istockphoto-1819308690-640_adpp_is.mp4: 64x64 not-eating 0.61, eating 0.39, 2.9ms\n",
            "video 1/1 (frame 86/276) /content/istockphoto-1819308690-640_adpp_is.mp4: 64x64 not-eating 0.67, eating 0.33, 4.3ms\n",
            "video 1/1 (frame 87/276) /content/istockphoto-1819308690-640_adpp_is.mp4: 64x64 not-eating 0.69, eating 0.31, 4.2ms\n",
            "video 1/1 (frame 88/276) /content/istockphoto-1819308690-640_adpp_is.mp4: 64x64 not-eating 0.69, eating 0.31, 3.1ms\n",
            "video 1/1 (frame 89/276) /content/istockphoto-1819308690-640_adpp_is.mp4: 64x64 not-eating 0.91, eating 0.09, 3.3ms\n",
            "video 1/1 (frame 90/276) /content/istockphoto-1819308690-640_adpp_is.mp4: 64x64 not-eating 0.97, eating 0.03, 3.3ms\n",
            "video 1/1 (frame 91/276) /content/istockphoto-1819308690-640_adpp_is.mp4: 64x64 not-eating 0.93, eating 0.07, 4.9ms\n",
            "video 1/1 (frame 92/276) /content/istockphoto-1819308690-640_adpp_is.mp4: 64x64 not-eating 0.85, eating 0.15, 3.4ms\n",
            "video 1/1 (frame 93/276) /content/istockphoto-1819308690-640_adpp_is.mp4: 64x64 not-eating 0.89, eating 0.11, 3.2ms\n",
            "video 1/1 (frame 94/276) /content/istockphoto-1819308690-640_adpp_is.mp4: 64x64 not-eating 0.76, eating 0.24, 3.6ms\n",
            "video 1/1 (frame 95/276) /content/istockphoto-1819308690-640_adpp_is.mp4: 64x64 not-eating 0.87, eating 0.13, 4.1ms\n",
            "video 1/1 (frame 96/276) /content/istockphoto-1819308690-640_adpp_is.mp4: 64x64 not-eating 0.96, eating 0.04, 3.0ms\n",
            "video 1/1 (frame 97/276) /content/istockphoto-1819308690-640_adpp_is.mp4: 64x64 not-eating 0.98, eating 0.02, 3.6ms\n",
            "video 1/1 (frame 98/276) /content/istockphoto-1819308690-640_adpp_is.mp4: 64x64 not-eating 0.99, eating 0.01, 2.8ms\n",
            "video 1/1 (frame 99/276) /content/istockphoto-1819308690-640_adpp_is.mp4: 64x64 not-eating 0.99, eating 0.01, 4.2ms\n",
            "video 1/1 (frame 100/276) /content/istockphoto-1819308690-640_adpp_is.mp4: 64x64 not-eating 1.00, eating 0.00, 3.7ms\n",
            "video 1/1 (frame 101/276) /content/istockphoto-1819308690-640_adpp_is.mp4: 64x64 not-eating 0.96, eating 0.04, 3.1ms\n",
            "video 1/1 (frame 102/276) /content/istockphoto-1819308690-640_adpp_is.mp4: 64x64 not-eating 0.99, eating 0.01, 3.1ms\n",
            "video 1/1 (frame 103/276) /content/istockphoto-1819308690-640_adpp_is.mp4: 64x64 not-eating 0.98, eating 0.02, 5.3ms\n",
            "video 1/1 (frame 104/276) /content/istockphoto-1819308690-640_adpp_is.mp4: 64x64 not-eating 1.00, eating 0.00, 3.2ms\n",
            "video 1/1 (frame 105/276) /content/istockphoto-1819308690-640_adpp_is.mp4: 64x64 not-eating 1.00, eating 0.00, 3.1ms\n",
            "video 1/1 (frame 106/276) /content/istockphoto-1819308690-640_adpp_is.mp4: 64x64 not-eating 1.00, eating 0.00, 2.8ms\n",
            "video 1/1 (frame 107/276) /content/istockphoto-1819308690-640_adpp_is.mp4: 64x64 not-eating 1.00, eating 0.00, 3.9ms\n",
            "video 1/1 (frame 108/276) /content/istockphoto-1819308690-640_adpp_is.mp4: 64x64 not-eating 1.00, eating 0.00, 5.8ms\n",
            "video 1/1 (frame 109/276) /content/istockphoto-1819308690-640_adpp_is.mp4: 64x64 not-eating 1.00, eating 0.00, 2.8ms\n",
            "video 1/1 (frame 110/276) /content/istockphoto-1819308690-640_adpp_is.mp4: 64x64 not-eating 1.00, eating 0.00, 3.3ms\n",
            "video 1/1 (frame 111/276) /content/istockphoto-1819308690-640_adpp_is.mp4: 64x64 not-eating 0.99, eating 0.01, 4.2ms\n",
            "video 1/1 (frame 112/276) /content/istockphoto-1819308690-640_adpp_is.mp4: 64x64 not-eating 1.00, eating 0.00, 3.1ms\n",
            "video 1/1 (frame 113/276) /content/istockphoto-1819308690-640_adpp_is.mp4: 64x64 not-eating 1.00, eating 0.00, 3.3ms\n",
            "video 1/1 (frame 114/276) /content/istockphoto-1819308690-640_adpp_is.mp4: 64x64 not-eating 1.00, eating 0.00, 3.2ms\n",
            "video 1/1 (frame 115/276) /content/istockphoto-1819308690-640_adpp_is.mp4: 64x64 not-eating 1.00, eating 0.00, 4.4ms\n",
            "video 1/1 (frame 116/276) /content/istockphoto-1819308690-640_adpp_is.mp4: 64x64 not-eating 1.00, eating 0.00, 3.1ms\n",
            "video 1/1 (frame 117/276) /content/istockphoto-1819308690-640_adpp_is.mp4: 64x64 not-eating 1.00, eating 0.00, 2.9ms\n",
            "video 1/1 (frame 118/276) /content/istockphoto-1819308690-640_adpp_is.mp4: 64x64 not-eating 1.00, eating 0.00, 3.1ms\n",
            "video 1/1 (frame 119/276) /content/istockphoto-1819308690-640_adpp_is.mp4: 64x64 not-eating 1.00, eating 0.00, 4.2ms\n",
            "video 1/1 (frame 120/276) /content/istockphoto-1819308690-640_adpp_is.mp4: 64x64 not-eating 1.00, eating 0.00, 3.1ms\n",
            "video 1/1 (frame 121/276) /content/istockphoto-1819308690-640_adpp_is.mp4: 64x64 not-eating 1.00, eating 0.00, 3.0ms\n",
            "video 1/1 (frame 122/276) /content/istockphoto-1819308690-640_adpp_is.mp4: 64x64 not-eating 1.00, eating 0.00, 3.1ms\n",
            "video 1/1 (frame 123/276) /content/istockphoto-1819308690-640_adpp_is.mp4: 64x64 not-eating 1.00, eating 0.00, 5.7ms\n",
            "video 1/1 (frame 124/276) /content/istockphoto-1819308690-640_adpp_is.mp4: 64x64 not-eating 1.00, eating 0.00, 3.2ms\n",
            "video 1/1 (frame 125/276) /content/istockphoto-1819308690-640_adpp_is.mp4: 64x64 not-eating 1.00, eating 0.00, 3.2ms\n",
            "video 1/1 (frame 126/276) /content/istockphoto-1819308690-640_adpp_is.mp4: 64x64 not-eating 0.99, eating 0.01, 3.3ms\n",
            "video 1/1 (frame 127/276) /content/istockphoto-1819308690-640_adpp_is.mp4: 64x64 not-eating 1.00, eating 0.00, 4.6ms\n",
            "video 1/1 (frame 128/276) /content/istockphoto-1819308690-640_adpp_is.mp4: 64x64 not-eating 1.00, eating 0.00, 3.2ms\n",
            "video 1/1 (frame 129/276) /content/istockphoto-1819308690-640_adpp_is.mp4: 64x64 not-eating 1.00, eating 0.00, 3.3ms\n",
            "video 1/1 (frame 130/276) /content/istockphoto-1819308690-640_adpp_is.mp4: 64x64 not-eating 1.00, eating 0.00, 3.1ms\n",
            "video 1/1 (frame 131/276) /content/istockphoto-1819308690-640_adpp_is.mp4: 64x64 not-eating 1.00, eating 0.00, 4.2ms\n",
            "video 1/1 (frame 132/276) /content/istockphoto-1819308690-640_adpp_is.mp4: 64x64 not-eating 1.00, eating 0.00, 3.0ms\n",
            "video 1/1 (frame 133/276) /content/istockphoto-1819308690-640_adpp_is.mp4: 64x64 not-eating 1.00, eating 0.00, 2.8ms\n",
            "video 1/1 (frame 134/276) /content/istockphoto-1819308690-640_adpp_is.mp4: 64x64 not-eating 1.00, eating 0.00, 3.0ms\n",
            "video 1/1 (frame 135/276) /content/istockphoto-1819308690-640_adpp_is.mp4: 64x64 not-eating 1.00, eating 0.00, 4.4ms\n",
            "video 1/1 (frame 136/276) /content/istockphoto-1819308690-640_adpp_is.mp4: 64x64 not-eating 1.00, eating 0.00, 3.0ms\n",
            "video 1/1 (frame 137/276) /content/istockphoto-1819308690-640_adpp_is.mp4: 64x64 not-eating 1.00, eating 0.00, 3.0ms\n",
            "video 1/1 (frame 138/276) /content/istockphoto-1819308690-640_adpp_is.mp4: 64x64 not-eating 1.00, eating 0.00, 3.4ms\n",
            "video 1/1 (frame 139/276) /content/istockphoto-1819308690-640_adpp_is.mp4: 64x64 not-eating 1.00, eating 0.00, 4.1ms\n",
            "video 1/1 (frame 140/276) /content/istockphoto-1819308690-640_adpp_is.mp4: 64x64 not-eating 1.00, eating 0.00, 3.1ms\n",
            "video 1/1 (frame 141/276) /content/istockphoto-1819308690-640_adpp_is.mp4: 64x64 not-eating 1.00, eating 0.00, 4.6ms\n",
            "video 1/1 (frame 142/276) /content/istockphoto-1819308690-640_adpp_is.mp4: 64x64 not-eating 1.00, eating 0.00, 3.0ms\n",
            "video 1/1 (frame 143/276) /content/istockphoto-1819308690-640_adpp_is.mp4: 64x64 not-eating 1.00, eating 0.00, 3.9ms\n",
            "video 1/1 (frame 144/276) /content/istockphoto-1819308690-640_adpp_is.mp4: 64x64 not-eating 1.00, eating 0.00, 3.3ms\n",
            "video 1/1 (frame 145/276) /content/istockphoto-1819308690-640_adpp_is.mp4: 64x64 not-eating 1.00, eating 0.00, 3.6ms\n",
            "video 1/1 (frame 146/276) /content/istockphoto-1819308690-640_adpp_is.mp4: 64x64 not-eating 1.00, eating 0.00, 3.9ms\n",
            "video 1/1 (frame 147/276) /content/istockphoto-1819308690-640_adpp_is.mp4: 64x64 not-eating 1.00, eating 0.00, 5.0ms\n",
            "video 1/1 (frame 148/276) /content/istockphoto-1819308690-640_adpp_is.mp4: 64x64 not-eating 1.00, eating 0.00, 3.0ms\n",
            "video 1/1 (frame 149/276) /content/istockphoto-1819308690-640_adpp_is.mp4: 64x64 not-eating 1.00, eating 0.00, 3.2ms\n",
            "video 1/1 (frame 150/276) /content/istockphoto-1819308690-640_adpp_is.mp4: 64x64 not-eating 1.00, eating 0.00, 3.6ms\n",
            "video 1/1 (frame 151/276) /content/istockphoto-1819308690-640_adpp_is.mp4: 64x64 not-eating 1.00, eating 0.00, 2.8ms\n",
            "video 1/1 (frame 152/276) /content/istockphoto-1819308690-640_adpp_is.mp4: 64x64 not-eating 1.00, eating 0.00, 3.0ms\n",
            "video 1/1 (frame 153/276) /content/istockphoto-1819308690-640_adpp_is.mp4: 64x64 not-eating 0.99, eating 0.01, 6.2ms\n",
            "video 1/1 (frame 154/276) /content/istockphoto-1819308690-640_adpp_is.mp4: 64x64 not-eating 1.00, eating 0.00, 3.3ms\n",
            "video 1/1 (frame 155/276) /content/istockphoto-1819308690-640_adpp_is.mp4: 64x64 not-eating 1.00, eating 0.00, 3.3ms\n",
            "video 1/1 (frame 156/276) /content/istockphoto-1819308690-640_adpp_is.mp4: 64x64 not-eating 1.00, eating 0.00, 4.4ms\n",
            "video 1/1 (frame 157/276) /content/istockphoto-1819308690-640_adpp_is.mp4: 64x64 not-eating 1.00, eating 0.00, 3.4ms\n",
            "video 1/1 (frame 158/276) /content/istockphoto-1819308690-640_adpp_is.mp4: 64x64 not-eating 1.00, eating 0.00, 3.3ms\n",
            "video 1/1 (frame 159/276) /content/istockphoto-1819308690-640_adpp_is.mp4: 64x64 not-eating 1.00, eating 0.00, 3.3ms\n",
            "video 1/1 (frame 160/276) /content/istockphoto-1819308690-640_adpp_is.mp4: 64x64 not-eating 1.00, eating 0.00, 4.7ms\n",
            "video 1/1 (frame 161/276) /content/istockphoto-1819308690-640_adpp_is.mp4: 64x64 not-eating 1.00, eating 0.00, 3.1ms\n",
            "video 1/1 (frame 162/276) /content/istockphoto-1819308690-640_adpp_is.mp4: 64x64 not-eating 1.00, eating 0.00, 2.9ms\n",
            "video 1/1 (frame 163/276) /content/istockphoto-1819308690-640_adpp_is.mp4: 64x64 not-eating 1.00, eating 0.00, 3.0ms\n",
            "video 1/1 (frame 164/276) /content/istockphoto-1819308690-640_adpp_is.mp4: 64x64 not-eating 1.00, eating 0.00, 5.3ms\n",
            "video 1/1 (frame 165/276) /content/istockphoto-1819308690-640_adpp_is.mp4: 64x64 not-eating 1.00, eating 0.00, 2.9ms\n",
            "video 1/1 (frame 166/276) /content/istockphoto-1819308690-640_adpp_is.mp4: 64x64 not-eating 1.00, eating 0.00, 3.7ms\n",
            "video 1/1 (frame 167/276) /content/istockphoto-1819308690-640_adpp_is.mp4: 64x64 not-eating 1.00, eating 0.00, 3.6ms\n",
            "video 1/1 (frame 168/276) /content/istockphoto-1819308690-640_adpp_is.mp4: 64x64 not-eating 1.00, eating 0.00, 4.2ms\n",
            "video 1/1 (frame 169/276) /content/istockphoto-1819308690-640_adpp_is.mp4: 64x64 not-eating 1.00, eating 0.00, 3.1ms\n",
            "video 1/1 (frame 170/276) /content/istockphoto-1819308690-640_adpp_is.mp4: 64x64 not-eating 1.00, eating 0.00, 3.4ms\n",
            "video 1/1 (frame 171/276) /content/istockphoto-1819308690-640_adpp_is.mp4: 64x64 not-eating 1.00, eating 0.00, 3.1ms\n",
            "video 1/1 (frame 172/276) /content/istockphoto-1819308690-640_adpp_is.mp4: 64x64 not-eating 1.00, eating 0.00, 3.9ms\n",
            "video 1/1 (frame 173/276) /content/istockphoto-1819308690-640_adpp_is.mp4: 64x64 not-eating 1.00, eating 0.00, 3.0ms\n",
            "video 1/1 (frame 174/276) /content/istockphoto-1819308690-640_adpp_is.mp4: 64x64 not-eating 1.00, eating 0.00, 3.4ms\n",
            "video 1/1 (frame 175/276) /content/istockphoto-1819308690-640_adpp_is.mp4: 64x64 not-eating 1.00, eating 0.00, 5.6ms\n",
            "video 1/1 (frame 176/276) /content/istockphoto-1819308690-640_adpp_is.mp4: 64x64 not-eating 1.00, eating 0.00, 4.2ms\n",
            "video 1/1 (frame 177/276) /content/istockphoto-1819308690-640_adpp_is.mp4: 64x64 not-eating 1.00, eating 0.00, 3.2ms\n",
            "video 1/1 (frame 178/276) /content/istockphoto-1819308690-640_adpp_is.mp4: 64x64 not-eating 1.00, eating 0.00, 3.1ms\n",
            "video 1/1 (frame 179/276) /content/istockphoto-1819308690-640_adpp_is.mp4: 64x64 not-eating 1.00, eating 0.00, 8.5ms\n",
            "video 1/1 (frame 180/276) /content/istockphoto-1819308690-640_adpp_is.mp4: 64x64 not-eating 1.00, eating 0.00, 4.0ms\n",
            "video 1/1 (frame 181/276) /content/istockphoto-1819308690-640_adpp_is.mp4: 64x64 not-eating 1.00, eating 0.00, 3.2ms\n",
            "video 1/1 (frame 182/276) /content/istockphoto-1819308690-640_adpp_is.mp4: 64x64 not-eating 1.00, eating 0.00, 3.3ms\n",
            "video 1/1 (frame 183/276) /content/istockphoto-1819308690-640_adpp_is.mp4: 64x64 not-eating 1.00, eating 0.00, 4.1ms\n",
            "video 1/1 (frame 184/276) /content/istockphoto-1819308690-640_adpp_is.mp4: 64x64 not-eating 1.00, eating 0.00, 2.9ms\n",
            "video 1/1 (frame 185/276) /content/istockphoto-1819308690-640_adpp_is.mp4: 64x64 not-eating 1.00, eating 0.00, 2.9ms\n",
            "video 1/1 (frame 186/276) /content/istockphoto-1819308690-640_adpp_is.mp4: 64x64 not-eating 1.00, eating 0.00, 2.7ms\n",
            "video 1/1 (frame 187/276) /content/istockphoto-1819308690-640_adpp_is.mp4: 64x64 not-eating 1.00, eating 0.00, 4.0ms\n",
            "video 1/1 (frame 188/276) /content/istockphoto-1819308690-640_adpp_is.mp4: 64x64 not-eating 0.98, eating 0.02, 3.3ms\n",
            "video 1/1 (frame 189/276) /content/istockphoto-1819308690-640_adpp_is.mp4: 64x64 not-eating 0.98, eating 0.02, 2.8ms\n",
            "video 1/1 (frame 190/276) /content/istockphoto-1819308690-640_adpp_is.mp4: 64x64 not-eating 0.98, eating 0.02, 3.0ms\n",
            "video 1/1 (frame 191/276) /content/istockphoto-1819308690-640_adpp_is.mp4: 64x64 not-eating 0.97, eating 0.03, 3.5ms\n",
            "video 1/1 (frame 192/276) /content/istockphoto-1819308690-640_adpp_is.mp4: 64x64 not-eating 0.96, eating 0.04, 3.0ms\n",
            "video 1/1 (frame 193/276) /content/istockphoto-1819308690-640_adpp_is.mp4: 64x64 not-eating 0.96, eating 0.04, 4.2ms\n",
            "video 1/1 (frame 194/276) /content/istockphoto-1819308690-640_adpp_is.mp4: 64x64 not-eating 0.97, eating 0.03, 2.9ms\n",
            "video 1/1 (frame 195/276) /content/istockphoto-1819308690-640_adpp_is.mp4: 64x64 not-eating 0.96, eating 0.04, 2.9ms\n",
            "video 1/1 (frame 196/276) /content/istockphoto-1819308690-640_adpp_is.mp4: 64x64 not-eating 0.98, eating 0.02, 3.3ms\n",
            "video 1/1 (frame 197/276) /content/istockphoto-1819308690-640_adpp_is.mp4: 64x64 not-eating 0.99, eating 0.01, 4.1ms\n",
            "video 1/1 (frame 198/276) /content/istockphoto-1819308690-640_adpp_is.mp4: 64x64 not-eating 0.96, eating 0.04, 2.9ms\n",
            "video 1/1 (frame 199/276) /content/istockphoto-1819308690-640_adpp_is.mp4: 64x64 not-eating 0.98, eating 0.02, 3.1ms\n",
            "video 1/1 (frame 200/276) /content/istockphoto-1819308690-640_adpp_is.mp4: 64x64 not-eating 0.97, eating 0.03, 3.4ms\n",
            "video 1/1 (frame 201/276) /content/istockphoto-1819308690-640_adpp_is.mp4: 64x64 not-eating 0.94, eating 0.06, 3.7ms\n",
            "video 1/1 (frame 202/276) /content/istockphoto-1819308690-640_adpp_is.mp4: 64x64 not-eating 0.94, eating 0.06, 3.2ms\n",
            "video 1/1 (frame 203/276) /content/istockphoto-1819308690-640_adpp_is.mp4: 64x64 not-eating 0.96, eating 0.04, 3.8ms\n",
            "video 1/1 (frame 204/276) /content/istockphoto-1819308690-640_adpp_is.mp4: 64x64 not-eating 0.89, eating 0.11, 3.0ms\n",
            "video 1/1 (frame 205/276) /content/istockphoto-1819308690-640_adpp_is.mp4: 64x64 not-eating 0.92, eating 0.08, 3.2ms\n",
            "video 1/1 (frame 206/276) /content/istockphoto-1819308690-640_adpp_is.mp4: 64x64 not-eating 0.90, eating 0.10, 4.1ms\n",
            "video 1/1 (frame 207/276) /content/istockphoto-1819308690-640_adpp_is.mp4: 64x64 not-eating 0.92, eating 0.08, 3.2ms\n",
            "video 1/1 (frame 208/276) /content/istockphoto-1819308690-640_adpp_is.mp4: 64x64 not-eating 0.93, eating 0.07, 3.3ms\n",
            "video 1/1 (frame 209/276) /content/istockphoto-1819308690-640_adpp_is.mp4: 64x64 not-eating 0.90, eating 0.10, 4.1ms\n",
            "video 1/1 (frame 210/276) /content/istockphoto-1819308690-640_adpp_is.mp4: 64x64 not-eating 0.95, eating 0.05, 3.2ms\n",
            "video 1/1 (frame 211/276) /content/istockphoto-1819308690-640_adpp_is.mp4: 64x64 not-eating 0.93, eating 0.07, 3.2ms\n",
            "video 1/1 (frame 212/276) /content/istockphoto-1819308690-640_adpp_is.mp4: 64x64 not-eating 0.97, eating 0.03, 4.5ms\n",
            "video 1/1 (frame 213/276) /content/istockphoto-1819308690-640_adpp_is.mp4: 64x64 not-eating 0.98, eating 0.02, 3.3ms\n",
            "video 1/1 (frame 214/276) /content/istockphoto-1819308690-640_adpp_is.mp4: 64x64 not-eating 0.99, eating 0.01, 3.3ms\n",
            "video 1/1 (frame 215/276) /content/istockphoto-1819308690-640_adpp_is.mp4: 64x64 not-eating 0.98, eating 0.02, 3.3ms\n",
            "video 1/1 (frame 216/276) /content/istockphoto-1819308690-640_adpp_is.mp4: 64x64 not-eating 0.98, eating 0.02, 4.0ms\n",
            "video 1/1 (frame 217/276) /content/istockphoto-1819308690-640_adpp_is.mp4: 64x64 not-eating 0.99, eating 0.01, 5.8ms\n",
            "video 1/1 (frame 218/276) /content/istockphoto-1819308690-640_adpp_is.mp4: 64x64 not-eating 0.99, eating 0.01, 4.1ms\n",
            "video 1/1 (frame 219/276) /content/istockphoto-1819308690-640_adpp_is.mp4: 64x64 not-eating 1.00, eating 0.00, 3.0ms\n",
            "video 1/1 (frame 220/276) /content/istockphoto-1819308690-640_adpp_is.mp4: 64x64 not-eating 1.00, eating 0.00, 3.9ms\n",
            "video 1/1 (frame 221/276) /content/istockphoto-1819308690-640_adpp_is.mp4: 64x64 not-eating 1.00, eating 0.00, 3.2ms\n",
            "video 1/1 (frame 222/276) /content/istockphoto-1819308690-640_adpp_is.mp4: 64x64 not-eating 1.00, eating 0.00, 3.1ms\n",
            "video 1/1 (frame 223/276) /content/istockphoto-1819308690-640_adpp_is.mp4: 64x64 not-eating 1.00, eating 0.00, 3.3ms\n",
            "video 1/1 (frame 224/276) /content/istockphoto-1819308690-640_adpp_is.mp4: 64x64 not-eating 1.00, eating 0.00, 3.8ms\n",
            "video 1/1 (frame 225/276) /content/istockphoto-1819308690-640_adpp_is.mp4: 64x64 not-eating 1.00, eating 0.00, 3.4ms\n",
            "video 1/1 (frame 226/276) /content/istockphoto-1819308690-640_adpp_is.mp4: 64x64 not-eating 1.00, eating 0.00, 3.3ms\n",
            "video 1/1 (frame 227/276) /content/istockphoto-1819308690-640_adpp_is.mp4: 64x64 not-eating 1.00, eating 0.00, 4.0ms\n",
            "video 1/1 (frame 228/276) /content/istockphoto-1819308690-640_adpp_is.mp4: 64x64 not-eating 1.00, eating 0.00, 3.1ms\n",
            "video 1/1 (frame 229/276) /content/istockphoto-1819308690-640_adpp_is.mp4: 64x64 not-eating 1.00, eating 0.00, 2.9ms\n",
            "video 1/1 (frame 230/276) /content/istockphoto-1819308690-640_adpp_is.mp4: 64x64 not-eating 1.00, eating 0.00, 4.0ms\n",
            "video 1/1 (frame 231/276) /content/istockphoto-1819308690-640_adpp_is.mp4: 64x64 not-eating 1.00, eating 0.00, 3.1ms\n",
            "video 1/1 (frame 232/276) /content/istockphoto-1819308690-640_adpp_is.mp4: 64x64 not-eating 0.99, eating 0.01, 3.0ms\n",
            "video 1/1 (frame 233/276) /content/istockphoto-1819308690-640_adpp_is.mp4: 64x64 not-eating 0.92, eating 0.08, 3.1ms\n",
            "video 1/1 (frame 234/276) /content/istockphoto-1819308690-640_adpp_is.mp4: 64x64 not-eating 0.78, eating 0.22, 4.3ms\n",
            "video 1/1 (frame 235/276) /content/istockphoto-1819308690-640_adpp_is.mp4: 64x64 not-eating 0.70, eating 0.30, 2.8ms\n",
            "video 1/1 (frame 236/276) /content/istockphoto-1819308690-640_adpp_is.mp4: 64x64 not-eating 0.81, eating 0.19, 3.0ms\n",
            "video 1/1 (frame 237/276) /content/istockphoto-1819308690-640_adpp_is.mp4: 64x64 not-eating 0.78, eating 0.22, 4.1ms\n",
            "video 1/1 (frame 238/276) /content/istockphoto-1819308690-640_adpp_is.mp4: 64x64 not-eating 0.72, eating 0.28, 4.1ms\n",
            "video 1/1 (frame 239/276) /content/istockphoto-1819308690-640_adpp_is.mp4: 64x64 not-eating 0.84, eating 0.16, 3.1ms\n",
            "video 1/1 (frame 240/276) /content/istockphoto-1819308690-640_adpp_is.mp4: 64x64 not-eating 0.94, eating 0.06, 2.8ms\n",
            "video 1/1 (frame 241/276) /content/istockphoto-1819308690-640_adpp_is.mp4: 64x64 not-eating 0.99, eating 0.01, 3.6ms\n",
            "video 1/1 (frame 242/276) /content/istockphoto-1819308690-640_adpp_is.mp4: 64x64 not-eating 1.00, eating 0.00, 3.2ms\n",
            "video 1/1 (frame 243/276) /content/istockphoto-1819308690-640_adpp_is.mp4: 64x64 not-eating 1.00, eating 0.00, 3.4ms\n",
            "video 1/1 (frame 244/276) /content/istockphoto-1819308690-640_adpp_is.mp4: 64x64 not-eating 1.00, eating 0.00, 3.2ms\n",
            "video 1/1 (frame 245/276) /content/istockphoto-1819308690-640_adpp_is.mp4: 64x64 not-eating 1.00, eating 0.00, 3.0ms\n",
            "video 1/1 (frame 246/276) /content/istockphoto-1819308690-640_adpp_is.mp4: 64x64 not-eating 1.00, eating 0.00, 3.1ms\n",
            "video 1/1 (frame 247/276) /content/istockphoto-1819308690-640_adpp_is.mp4: 64x64 not-eating 1.00, eating 0.00, 3.9ms\n",
            "video 1/1 (frame 248/276) /content/istockphoto-1819308690-640_adpp_is.mp4: 64x64 not-eating 1.00, eating 0.00, 3.8ms\n",
            "video 1/1 (frame 249/276) /content/istockphoto-1819308690-640_adpp_is.mp4: 64x64 not-eating 1.00, eating 0.00, 3.8ms\n",
            "video 1/1 (frame 250/276) /content/istockphoto-1819308690-640_adpp_is.mp4: 64x64 not-eating 1.00, eating 0.00, 3.2ms\n",
            "video 1/1 (frame 251/276) /content/istockphoto-1819308690-640_adpp_is.mp4: 64x64 not-eating 1.00, eating 0.00, 3.1ms\n",
            "video 1/1 (frame 252/276) /content/istockphoto-1819308690-640_adpp_is.mp4: 64x64 not-eating 0.99, eating 0.01, 2.9ms\n",
            "video 1/1 (frame 253/276) /content/istockphoto-1819308690-640_adpp_is.mp4: 64x64 not-eating 0.98, eating 0.02, 4.0ms\n",
            "video 1/1 (frame 254/276) /content/istockphoto-1819308690-640_adpp_is.mp4: 64x64 not-eating 0.97, eating 0.03, 3.2ms\n",
            "video 1/1 (frame 255/276) /content/istockphoto-1819308690-640_adpp_is.mp4: 64x64 not-eating 0.95, eating 0.05, 5.6ms\n",
            "video 1/1 (frame 256/276) /content/istockphoto-1819308690-640_adpp_is.mp4: 64x64 not-eating 0.97, eating 0.03, 3.6ms\n",
            "video 1/1 (frame 257/276) /content/istockphoto-1819308690-640_adpp_is.mp4: 64x64 not-eating 0.99, eating 0.01, 3.3ms\n",
            "video 1/1 (frame 258/276) /content/istockphoto-1819308690-640_adpp_is.mp4: 64x64 not-eating 0.99, eating 0.01, 3.1ms\n",
            "video 1/1 (frame 259/276) /content/istockphoto-1819308690-640_adpp_is.mp4: 64x64 not-eating 0.99, eating 0.01, 3.6ms\n",
            "video 1/1 (frame 260/276) /content/istockphoto-1819308690-640_adpp_is.mp4: 64x64 not-eating 0.99, eating 0.01, 3.0ms\n",
            "video 1/1 (frame 261/276) /content/istockphoto-1819308690-640_adpp_is.mp4: 64x64 not-eating 0.98, eating 0.02, 3.3ms\n",
            "video 1/1 (frame 262/276) /content/istockphoto-1819308690-640_adpp_is.mp4: 64x64 not-eating 0.98, eating 0.02, 3.9ms\n",
            "video 1/1 (frame 263/276) /content/istockphoto-1819308690-640_adpp_is.mp4: 64x64 not-eating 0.98, eating 0.02, 3.4ms\n",
            "video 1/1 (frame 264/276) /content/istockphoto-1819308690-640_adpp_is.mp4: 64x64 not-eating 0.98, eating 0.02, 3.0ms\n",
            "video 1/1 (frame 265/276) /content/istockphoto-1819308690-640_adpp_is.mp4: 64x64 not-eating 0.98, eating 0.02, 3.2ms\n",
            "video 1/1 (frame 266/276) /content/istockphoto-1819308690-640_adpp_is.mp4: 64x64 not-eating 0.98, eating 0.02, 3.6ms\n",
            "video 1/1 (frame 267/276) /content/istockphoto-1819308690-640_adpp_is.mp4: 64x64 not-eating 0.98, eating 0.02, 3.2ms\n",
            "video 1/1 (frame 268/276) /content/istockphoto-1819308690-640_adpp_is.mp4: 64x64 not-eating 0.97, eating 0.03, 3.1ms\n",
            "video 1/1 (frame 269/276) /content/istockphoto-1819308690-640_adpp_is.mp4: 64x64 not-eating 0.97, eating 0.03, 3.2ms\n",
            "video 1/1 (frame 270/276) /content/istockphoto-1819308690-640_adpp_is.mp4: 64x64 not-eating 0.96, eating 0.04, 3.1ms\n",
            "video 1/1 (frame 271/276) /content/istockphoto-1819308690-640_adpp_is.mp4: 64x64 not-eating 0.98, eating 0.02, 3.0ms\n",
            "video 1/1 (frame 272/276) /content/istockphoto-1819308690-640_adpp_is.mp4: 64x64 not-eating 0.98, eating 0.02, 3.0ms\n",
            "video 1/1 (frame 273/276) /content/istockphoto-1819308690-640_adpp_is.mp4: 64x64 not-eating 0.98, eating 0.02, 3.0ms\n",
            "video 1/1 (frame 274/276) /content/istockphoto-1819308690-640_adpp_is.mp4: 64x64 not-eating 0.98, eating 0.02, 3.2ms\n",
            "video 1/1 (frame 275/276) /content/istockphoto-1819308690-640_adpp_is.mp4: 64x64 not-eating 0.98, eating 0.02, 3.3ms\n",
            "video 1/1 (frame 276/276) /content/istockphoto-1819308690-640_adpp_is.mp4: 64x64 not-eating 0.98, eating 0.02, 3.4ms\n",
            "Speed: 4.4ms preprocess, 3.6ms inference, 0.1ms postprocess per image at shape (1, 3, 64, 64)\n",
            "Results saved to \u001b[1mruns/classify/predict2\u001b[0m\n",
            "💡 Learn more at https://docs.ultralytics.com/modes/predict\n"
          ]
        }
      ]
    },
    {
      "cell_type": "code",
      "source": [],
      "metadata": {
        "id": "XvAanhTOQGYW"
      },
      "execution_count": 10,
      "outputs": []
    },
    {
      "cell_type": "code",
      "source": [],
      "metadata": {
        "id": "B5HafkzxQGbv"
      },
      "execution_count": 10,
      "outputs": []
    }
  ]
}